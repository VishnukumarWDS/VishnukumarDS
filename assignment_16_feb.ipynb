{
 "cells": [
  {
   "cell_type": "markdown",
   "id": "7d866e79-5b9b-4eb5-9c47-0426b8d25b01",
   "metadata": {},
   "source": [
    "## Assignment 16 feb"
   ]
  },
  {
   "cell_type": "code",
   "execution_count": null,
   "id": "3dee4199-869b-4f8e-9d76-0ab106a887f0",
   "metadata": {},
   "outputs": [],
   "source": [
    "Q1. What is a database? Differentiate between SQL and NoSQL databases."
   ]
  },
  {
   "cell_type": "markdown",
   "id": "8ab264af-12af-4795-923e-c819732e3612",
   "metadata": {},
   "source": [
    "A database is a collection of organized and structured data that is stored in a computer system. It allows users to easily retrieve, manage, and update data as needed. "
   ]
  },
  {
   "cell_type": "markdown",
   "id": "20edb5ab-34ce-4c44-8e2e-302724bd9136",
   "metadata": {},
   "source": [
    "SQL is an Structured Query language \n",
    "\n",
    "Databases are relational databases that use tables to store and organize data. The data is stored in rows and columns, with each column having a specific data type. SQL databases use a schema to define the structure of the data and enforce relationships between tables. \n",
    "Examples of SQL databases include MySQL, Oracle, and SQL Server. \n",
    "SQL databases are best suited for applications that require complex queries and transactions, such as banking and e-commerce."
   ]
  },
  {
   "cell_type": "markdown",
   "id": "f7eb7020-4588-46aa-b8a4-fa430cbcb44d",
   "metadata": {},
   "source": [
    "NoSQL is an Not Only SQL\n",
    "\n",
    "Databases are non-relational databases that store data in a variety of ways, including document, key-value, and graph models. NoSQL databases do not require a fixed schema, which allows for more flexibility and scalability in storing and retrieving data. Examples of NoSQL databases include MongoDB, Cassandra, and Redis.\n",
    "NoSQL databases are best suited for applications that require high scalability, flexibility, and performance, such as social media and gaming applications."
   ]
  },
  {
   "cell_type": "code",
   "execution_count": null,
   "id": "25fbe820-3c1c-4b77-9d47-68dac5dad1b8",
   "metadata": {},
   "outputs": [],
   "source": [
    "Q2. What is DDL? Explain why CREATE, DROP, ALTER, and TRUNCATE are used with an example."
   ]
  },
  {
   "cell_type": "markdown",
   "id": "8823c048-0f70-420e-b07a-8dd627cb941a",
   "metadata": {},
   "source": [
    "DDL (Data Definition Language) is a subset of SQL (Structured Query Language) that is used to create, modify, and delete database structures such as tables, indexes, and constraints. DDL commands are used to define the structure of a database and its objects."
   ]
  },
  {
   "cell_type": "markdown",
   "id": "dce97876-42c6-4411-abf3-569b5f01851d",
   "metadata": {},
   "source": [
    "1.CREATE: The CREATE command is used to create new database objects, such as tables, views, indexes, and stored procedures. For example, the following SQL statement creates a new table named \"customers\" with three columns: \"id\", \"name\", and \"email\"."
   ]
  },
  {
   "cell_type": "code",
   "execution_count": null,
   "id": "a9a621cf-49fc-4628-ba11-a1045a72eca6",
   "metadata": {},
   "outputs": [],
   "source": [
    "CREATE TABLE customers (id INT PRIMARY KEY,name VARCHAR(50),email VARCHAR(50));\n"
   ]
  },
  {
   "cell_type": "markdown",
   "id": "c100acaf-0381-4d3b-abd2-80d712103d16",
   "metadata": {},
   "source": [
    "2.DROP: The DROP command is used to delete database objects, such as tables, views, indexes, and stored procedures. For example, the following SQL statement drops the \"customers\" table:"
   ]
  },
  {
   "cell_type": "code",
   "execution_count": null,
   "id": "acfb3fe9-8611-43ab-8a32-f5272e9aeb5e",
   "metadata": {},
   "outputs": [],
   "source": [
    " DROP TABLE customers;\n"
   ]
  },
  {
   "cell_type": "markdown",
   "id": "3540afac-7800-429a-a709-9a84fdee4640",
   "metadata": {},
   "source": [
    "3.ALTER: The ALTER command is used to modify the structure of existing database objects, such as tables, views, and indexes. For example, the following SQL statement adds a new column named \"address\" to the \"customers\" table:\n"
   ]
  },
  {
   "cell_type": "code",
   "execution_count": null,
   "id": "95cb0dd1-ae62-4665-bd93-df90780fff4e",
   "metadata": {},
   "outputs": [],
   "source": [
    " ALTER TABLE customers ADD address VARCHAR(100);\n"
   ]
  },
  {
   "cell_type": "markdown",
   "id": "d4141787-e7fb-442b-9671-d3e301b2b57a",
   "metadata": {},
   "source": [
    "4.TRUNCATE: The TRUNCATE command is used to remove all rows from a table, but the table structure remains intact. For example, the following SQL statement removes all rows from the \"customers\" table:"
   ]
  },
  {
   "cell_type": "code",
   "execution_count": null,
   "id": "62f40d36-4ae0-4a84-b7ca-b6e0b0b5bb67",
   "metadata": {},
   "outputs": [],
   "source": [
    " TRUNCATE TABLE customers;"
   ]
  },
  {
   "cell_type": "code",
   "execution_count": null,
   "id": "e6553357-a947-40a4-839c-7157320f00d2",
   "metadata": {},
   "outputs": [],
   "source": [
    "Q3. What is DML? Explain INSERT, UPDATE, and DELETE with an example."
   ]
  },
  {
   "cell_type": "markdown",
   "id": "f93f5f62-dbb0-4f17-a963-0a2de17300f9",
   "metadata": {},
   "source": [
    "DML (Data Manipulation Language) is a subset of SQL (Structured Query Language) that is used to manipulate the data in a database. DML commands are used to insert, update, and delete data in database tables."
   ]
  },
  {
   "cell_type": "markdown",
   "id": "46a61870-1bf3-4d47-ae17-f950ae14543a",
   "metadata": {},
   "source": [
    "1.INSERT: The INSERT command is used to insert new data into a database table. For example, the following SQL statement inserts a new row into the \"customers\" table:"
   ]
  },
  {
   "cell_type": "code",
   "execution_count": null,
   "id": "c3a1580a-e57b-4c97-9d3b-b6014c27c293",
   "metadata": {},
   "outputs": [],
   "source": [
    " INSERT INTO customers (id, name, email) VALUES (1, 'John Doe', 'john.doe@example.com');\n"
   ]
  },
  {
   "cell_type": "markdown",
   "id": "6ceac4b0-5263-4dc3-bb32-e906075bb34e",
   "metadata": {},
   "source": [
    "2.UPDATE: The UPDATE command is used to modify existing data in a database table. For example, the following SQL statement updates the email address of the customer with the ID of 1:"
   ]
  },
  {
   "cell_type": "code",
   "execution_count": null,
   "id": "d2ffc65e-de83-4cef-b5ff-8810b81c4712",
   "metadata": {},
   "outputs": [],
   "source": [
    " UPDATE customers SET email = 'johndoe@example.com' WHERE id = 1;\n"
   ]
  },
  {
   "cell_type": "markdown",
   "id": "8628c4b8-d384-4379-ac5a-9dc348a4a3f4",
   "metadata": {},
   "source": [
    "3.DELETE: The DELETE command is used to remove data from a database table. For example, the following SQL statement removes the row with the ID of 1 from the \"customers\" table:"
   ]
  },
  {
   "cell_type": "code",
   "execution_count": null,
   "id": "7df94bb1-eb3f-4a6a-9975-afcec6f2a452",
   "metadata": {},
   "outputs": [],
   "source": [
    " DELETE FROM customers WHERE id = 1;\n"
   ]
  },
  {
   "cell_type": "code",
   "execution_count": null,
   "id": "65cd8b8e-7143-4254-a260-562ec3ec9057",
   "metadata": {},
   "outputs": [],
   "source": [
    "Q4. What is DQL? Explain SELECT with an example."
   ]
  },
  {
   "cell_type": "markdown",
   "id": "2e5d59fb-f967-46d0-be66-158f9a9a918e",
   "metadata": {},
   "source": [
    "DQL (Data Query Language) is a subset of SQL (Structured Query Language) that is used to retrieve data from a database. DQL commands are used to perform queries on database tables."
   ]
  },
  {
   "cell_type": "markdown",
   "id": "d3ddc7b2-99d8-436e-a587-e582a2793355",
   "metadata": {},
   "source": [
    " SELECT command to retrieve data from a table named \"customers\":"
   ]
  },
  {
   "cell_type": "code",
   "execution_count": null,
   "id": "6243d919-9503-4e4a-a7f9-b59f9df49439",
   "metadata": {},
   "outputs": [],
   "source": [
    "SELECT * FROM customers;\n"
   ]
  },
  {
   "cell_type": "markdown",
   "id": "4eb5ddf8-92f5-40c6-af35-e7cc5e64dbd4",
   "metadata": {},
   "source": [
    "To retrieve specific columns from the \"customers\" table, you can specify the column names in the SELECT statement:"
   ]
  },
  {
   "cell_type": "code",
   "execution_count": null,
   "id": "98fddd37-23ae-4fdb-8588-a68fa0e5a4f8",
   "metadata": {},
   "outputs": [],
   "source": [
    "SELECT * FROM customers WHERE name = 'John Doe';\n"
   ]
  },
  {
   "cell_type": "markdown",
   "id": "ab0aa166-f636-459a-a67c-e2be1d56a6a0",
   "metadata": {},
   "source": [
    "To retrieve only certain rows that meet specific criteria, you can add a WHERE clause to the SELECT statement:"
   ]
  },
  {
   "cell_type": "code",
   "execution_count": null,
   "id": "1b6f41f9-59d4-4c66-ab9a-0fd675685b35",
   "metadata": {},
   "outputs": [],
   "source": [
    "SELECT * FROM customers WHERE name = 'John Doe';\n"
   ]
  },
  {
   "cell_type": "code",
   "execution_count": null,
   "id": "ac6c1b07-7129-43ec-b5f6-81025e481bbe",
   "metadata": {},
   "outputs": [],
   "source": [
    "Q5. Explain Primary Key and Foreign Key."
   ]
  },
  {
   "cell_type": "markdown",
   "id": "86533f4f-7cce-4b2f-b12a-d6c12a4ddee1",
   "metadata": {},
   "source": [
    "Primary key and foreign key are two important concepts in database design that help establish relationships between tables and ensure data integrity.\n",
    "\n",
    "Primary Key: A primary key is a column or set of columns in a table that uniquely identifies each row in that table. Primary keys are used to enforce data integrity by ensuring that each row in a table can be uniquely identified and that no two rows have the same primary key value."
   ]
  },
  {
   "cell_type": "markdown",
   "id": "21fb45ce-9d4c-4d9c-b7d5-03dc8f41a08e",
   "metadata": {},
   "source": [
    "Foreign Key: A foreign key is a column or set of columns in one table that refers to the primary key of another table. Foreign keys are used to establish relationships between tables, allowing data to be linked and retrieved from multiple tables."
   ]
  },
  {
   "cell_type": "code",
   "execution_count": null,
   "id": "28214bf8-6aae-4662-b014-85a24405a679",
   "metadata": {},
   "outputs": [],
   "source": [
    "Q6. Write a python code to connect MySQL to python. Explain the cursor() and execute() method."
   ]
  },
  {
   "cell_type": "code",
   "execution_count": null,
   "id": "3592ac76-8470-427f-9f1b-284d2c226551",
   "metadata": {},
   "outputs": [],
   "source": [
    "\n",
    "import mysql.connector"
   ]
  },
  {
   "cell_type": "code",
   "execution_count": null,
   "id": "5dcb74e8-ea3d-4a12-9b17-d9aa8e53674f",
   "metadata": {},
   "outputs": [],
   "source": [
    "mydb = mysql.connector.connect(\n",
    "    host=\"localhost\",\n",
    "    user=\"username\",\n",
    "    password=\"password\",\n",
    "    database=\"database_name\"\n",
    ")\n",
    "\n",
    "mycursor =mydb.cursor()\n",
    "mycursor.execute(\"SELECT * FROM customers\")\n",
    "\n",
    "myresult = mycursor.fetchall()\n",
    "for row in myresult:\n",
    "    print(row)\n",
    "    "
   ]
  },
  {
   "cell_type": "markdown",
   "id": "5647ea6c-f36e-4f30-b61a-0700d2796945",
   "metadata": {},
   "source": [
    "Explanation:\n",
    "\n",
    "First, we import the mysql.connector library to connect to the MySQL server.\n",
    "\n",
    "Then, we establish a connection to the MySQL server by providing the host name, user name, password, and database name.\n",
    "\n",
    "Next, we create a cursor object using the cursor() method. The cursor is used to execute SQL queries and retrieve the results.\n",
    "\n",
    "We use the execute() method to execute a SQL query. In this example, we select all rows from a table named \"customers\".\n",
    "\n",
    "The fetchall() method retrieves all the rows returned by the SQL query.\n",
    "\n",
    "Finally, we print the results of the query by iterating over the rows returned by fetchall()."
   ]
  },
  {
   "cell_type": "code",
   "execution_count": null,
   "id": "9b91c0db-4cdd-4702-826b-778a3c2256f7",
   "metadata": {},
   "outputs": [],
   "source": [
    "Q7. Give the order of execution of SQL clauses in an SQL query."
   ]
  },
  {
   "cell_type": "markdown",
   "id": "0bc24c7c-d76f-41f3-83f1-8d2f90e3f816",
   "metadata": {},
   "source": [
    "The order of execution of SQL clauses in an SQL query is as follows:\n",
    "\n",
    "FROM clause: This specifies the table or tables from which the data is to be retrieved.\n",
    "\n",
    "JOIN clause: This is used to join multiple tables together based on a specified condition.\n",
    "\n",
    "WHERE clause: This is used to filter the data based on a specified condition.\n",
    "\n",
    "GROUP BY clause: This is used to group the data based on a specified column or columns.\n",
    "\n",
    "HAVING clause: This is used to filter the grouped data based on a specified condition.\n",
    "\n",
    "SELECT clause: This is used to select the columns to be included in the query result.\n",
    "\n",
    "ORDER BY clause: This is used to sort the data based on a specified column or columns.\n",
    "\n",
    "LIMIT clause: This is used to limit the number of rows returned by the query."
   ]
  },
  {
   "cell_type": "code",
   "execution_count": null,
   "id": "95e21313-22e4-4491-9ad1-9d1fb4bc67a1",
   "metadata": {},
   "outputs": [],
   "source": []
  },
  {
   "cell_type": "code",
   "execution_count": null,
   "id": "a0a10cb5-a399-46b9-be89-ad22fbb3620b",
   "metadata": {},
   "outputs": [],
   "source": []
  },
  {
   "cell_type": "code",
   "execution_count": null,
   "id": "4911f804-e8f6-4f57-9b1b-d0fd5527dc94",
   "metadata": {},
   "outputs": [],
   "source": []
  }
 ],
 "metadata": {
  "kernelspec": {
   "display_name": "Python 3 (ipykernel)",
   "language": "python",
   "name": "python3"
  },
  "language_info": {
   "codemirror_mode": {
    "name": "ipython",
    "version": 3
   },
   "file_extension": ".py",
   "mimetype": "text/x-python",
   "name": "python",
   "nbconvert_exporter": "python",
   "pygments_lexer": "ipython3",
   "version": "3.10.8"
  }
 },
 "nbformat": 4,
 "nbformat_minor": 5
}
