{
  "nbformat": 4,
  "nbformat_minor": 0,
  "metadata": {
    "colab": {
      "provenance": []
    },
    "kernelspec": {
      "name": "python3",
      "display_name": "Python 3"
    },
    "language_info": {
      "name": "python"
    }
  },
  "cells": [
    {
      "cell_type": "code",
      "execution_count": null,
      "metadata": {
        "id": "aD0Ap7YnMJF9"
      },
      "outputs": [],
      "source": [
        "Q1. How can you create a Bokeh plot using Python code?"
      ]
    },
    {
      "cell_type": "code",
      "source": [
        "Bokeh is a Python library for creating interactive visualizations for web browsers.\n"
      ],
      "metadata": {
        "id": "C2pDpxp5MLft"
      },
      "execution_count": null,
      "outputs": []
    },
    {
      "cell_type": "code",
      "source": [
        "# Importing necessary modules\n",
        "from bokeh.plotting import figure, output_file, show\n",
        "\n",
        "# Data\n",
        "x = [1, 2, 3, 4, 5]\n",
        "y = [6, 7, 2, 4, 5]\n",
        "\n",
        "# Output file\n",
        "output_file(\"line.html\")\n",
        "\n",
        "# Creating the figure\n",
        "p = figure(title=\"Simple Line Plot\", x_axis_label='x', y_axis_label='y')\n",
        "\n",
        "# Adding a line glyph\n",
        "p.line(x, y, legend_label=\"Line 1\", line_width=2)\n",
        "\n",
        "# Showing the plot\n",
        "show(p)\n"
      ],
      "metadata": {
        "id": "4YV535nhMLZJ"
      },
      "execution_count": 3,
      "outputs": []
    },
    {
      "cell_type": "code",
      "source": [
        "Q2. What are glyphs in Bokeh, and how can you add them to a Bokeh plot? Explain with an example.\n",
        "Glyphs are the basic visual building blocks of Bokeh plots."
      ],
      "metadata": {
        "id": "R28TQZjkPZw6"
      },
      "execution_count": null,
      "outputs": []
    },
    {
      "cell_type": "markdown",
      "source": [
        " They are visual representations of data points in a plot, such as circles, squares, lines, bars, and other shapes. \n",
        "Each glyph is defined by its own set of properties, such as size, color, transparency, and more.\n",
        "To add glyphs to a Bokeh plot, you can use the .circle(), .square(), .line(), and other glyph methods provided by the figure object."
      ],
      "metadata": {
        "id": "rhgfoFOcO1-F"
      }
    },
    {
      "cell_type": "code",
      "source": [
        "# Importing necessary modules\n",
        "from bokeh.plotting import figure, output_file, show\n",
        "\n",
        "# Data\n",
        "x = [1, 2, 3, 4, 5]\n",
        "y = [6, 7, 2, 4, 5]\n",
        "\n",
        "# Output file\n",
        "output_file(\"scatter.html\")\n",
        "\n",
        "# Creating the figure\n",
        "p = figure(title=\"Scatter Plot\", x_axis_label='x', y_axis_label='y')\n",
        "\n",
        "# Adding circle glyphs\n",
        "p.circle(x, y, size=10, color='navy', alpha=0.5)\n",
        "\n",
        "# Showing the plot\n",
        "show(p)\n"
      ],
      "metadata": {
        "id": "LHPuxgVWNAX7"
      },
      "execution_count": 4,
      "outputs": []
    },
    {
      "cell_type": "code",
      "source": [
        "Q3. How can you customize the appearance of a Bokeh plot, including the axes, title, and legend?"
      ],
      "metadata": {
        "id": "C2mkUAh6MLQ2"
      },
      "execution_count": null,
      "outputs": []
    },
    {
      "cell_type": "markdown",
      "source": [
        "Bokeh provides a wide range of customization options to modify the appearance of a plot. Here are some examples of how to customize the appearance of a Bokeh plot:"
      ],
      "metadata": {
        "id": "NEsdHyZ1OvgL"
      }
    },
    {
      "cell_type": "code",
      "source": [
        "# Importing necessary modules\n",
        "from bokeh.plotting import figure, output_file, show\n",
        "\n",
        "# Data\n",
        "x = [1, 2, 3, 4, 5]\n",
        "y = [6, 7, 2, 4, 5]\n",
        "\n",
        "# Output file\n",
        "output_file(\"plot.html\")\n",
        "\n",
        "# Creating the figure\n",
        "p = figure(title=\"Customized Plot\", x_axis_label='X-axis', y_axis_label='Y-axis')\n",
        "\n",
        "# Customize the plot\n",
        "p.title.text_font_size = '18pt'\n",
        "p.title.align = 'center'\n",
        "p.xaxis.axis_label_text_font_size = '14pt'\n",
        "p.yaxis.axis_label_text_font_size = '14pt'\n",
        "p.xaxis.axis_label_text_font_style = 'bold'\n",
        "p.yaxis.axis_label_text_font_style = 'bold'\n",
        "\n",
        "# Adding glyphs\n",
        "p.circle(x, y, size=10, color='navy', alpha=0.5)\n",
        "\n",
        "# Showing the plot\n",
        "show(p)\n"
      ],
      "metadata": {
        "id": "z5Y3PmyZMLFm"
      },
      "execution_count": 5,
      "outputs": []
    },
    {
      "cell_type": "code",
      "source": [
        "## Customize the legend"
      ],
      "metadata": {
        "id": "Brbm0YneNlxR"
      },
      "execution_count": null,
      "outputs": []
    },
    {
      "cell_type": "code",
      "source": [
        "# Importing necessary modules\n",
        "from bokeh.plotting import figure, output_file, show\n",
        "\n",
        "# Data\n",
        "x = [1, 2, 3, 4, 5]\n",
        "y1 = [6, 7, 2, 4, 5]\n",
        "y2 = [2, 3, 1, 5, 8]\n",
        "\n",
        "# Output file\n",
        "output_file(\"plot.html\")\n",
        "\n",
        "# Creating the figure\n",
        "p = figure(title=\"Customized Plot with Legend\", x_axis_label='X-axis', y_axis_label='Y-axis')\n",
        "\n",
        "# Adding glyphs with labels\n",
        "p.circle(x, y1, size=10, color='navy', alpha=0.5, legend_label='Line 1')\n",
        "p.line(x, y2, color='red', line_width=2, alpha=0.8, legend_label='Line 2')\n",
        "\n",
        "# Customize the legend\n",
        "p.legend.location = 'top_left'\n",
        "p.legend.title = 'Legend Title'\n",
        "p.legend.label_text_font_size = '12pt'\n",
        "p.legend.background_fill_alpha = 0.8\n",
        "\n",
        "# Showing the plot\n",
        "show(p)\n"
      ],
      "metadata": {
        "id": "wyyLq93INltG"
      },
      "execution_count": null,
      "outputs": []
    },
    {
      "cell_type": "code",
      "source": [
        "Q4. What is a Bokeh server, and how can you use it to create interactive plots that can be updated in\n",
        "real time?"
      ],
      "metadata": {
        "id": "F_eJdE9uNlmi"
      },
      "execution_count": null,
      "outputs": []
    },
    {
      "cell_type": "markdown",
      "source": [
        "A Bokeh server is a Python process that enables the creation of interactive web applications and dashboards with Bokeh plots. Bokeh server allows users to build custom, interactive visualizations and applications that can be updated in real-time.\n",
        "\n",
        "To use Bokeh server, you need to create a Python script that defines a Server object, and add the necessary components such as the plot and widgets that you want to display. "
      ],
      "metadata": {
        "id": "8OWVGYcXOkFM"
      }
    },
    {
      "cell_type": "code",
      "source": [
        "# Importing necessary modules\n",
        "from bokeh.io import curdoc\n",
        "from bokeh.models import ColumnDataSource\n",
        "from bokeh.plotting import figure\n",
        "from bokeh.layouts import row, widgetbox\n",
        "from bokeh.models.widgets import Slider\n",
        "\n",
        "# Data\n",
        "x = [1, 2, 3, 4, 5]\n",
        "y = [6, 7, 2, 4, 5]\n",
        "\n",
        "# Create a ColumnDataSource object\n",
        "source = ColumnDataSource(data=dict(x=x, y=y))\n",
        "\n",
        "# Create a plot\n",
        "plot = figure(title=\"Bokeh Server Plot\", x_axis_label='X-axis', y_axis_label='Y-axis')\n",
        "plot.circle('x', 'y', source=source, size=10, color='navy', alpha=0.5)\n",
        "\n",
        "# Create a callback function\n",
        "def update_plot(attr, old, new):\n",
        "    # Get the current slider value\n",
        "    factor = slider.value\n",
        "    \n",
        "    # Update the y-values of the data source\n",
        "    new_y = [y_i * factor for y_i in y]\n",
        "    source.data = dict(x=x, y=new_y)\n",
        "\n",
        "# Create a slider widget\n",
        "slider = Slider(title=\"Factor\", value=1, start=0.1, end=2, step=0.1)\n",
        "slider.on_change('value', update_plot)\n",
        "\n",
        "# Combine the plot and slider widget into a layout\n",
        "layout = row(\n",
        "    widgetbox(slider),\n",
        "    plot\n",
        ")\n",
        "\n",
        "# Add the layout to the current document\n",
        "curdoc().add_root(layout)\n"
      ],
      "metadata": {
        "id": "eg04a3KMOMWf"
      },
      "execution_count": null,
      "outputs": []
    },
    {
      "cell_type": "code",
      "source": [
        "Q5. How can you embed a Bokeh plot into a web page or dashboard using Flask or Django?"
      ],
      "metadata": {
        "id": "lSyb9ZKDNlWM"
      },
      "execution_count": null,
      "outputs": []
    },
    {
      "cell_type": "markdown",
      "source": [
        "Bokeh provides several methods for embedding Bokeh plots into web applications built with Flask or Django. Here's how you can embed a Bokeh plot using Flask:\n",
        "\n",
        "Generate the Bokeh plot that you want to embed. For example, you can create a simple scatter plot like this:\n",
        "python"
      ],
      "metadata": {
        "id": "mhic-bntPcyS"
      }
    },
    {
      "cell_type": "code",
      "source": [
        "from bokeh.plotting import figure\n",
        "from bokeh.embed import components\n",
        "\n",
        "plot = figure()\n",
        "plot.circle([1,2,3], [4,5,6])\n",
        "\n",
        "script, div = components(plot)\n"
      ],
      "metadata": {
        "id": "XPgM_hGAOgSF"
      },
      "execution_count": null,
      "outputs": []
    },
    {
      "cell_type": "markdown",
      "source": [
        "In your Flask app, create a route that renders a template containing the script and div generated by Bokeh:"
      ],
      "metadata": {
        "id": "TgWoiFEsPkgk"
      }
    },
    {
      "cell_type": "code",
      "source": [
        "from flask import Flask, render_template\n",
        "\n",
        "app = Flask(__name__)\n",
        "\n",
        "@app.route('/')\n",
        "def index():\n",
        "    return render_template('index.html', script=script, div=div)\n"
      ],
      "metadata": {
        "id": "J9mqaibTPkJB"
      },
      "execution_count": null,
      "outputs": []
    },
    {
      "cell_type": "markdown",
      "source": [
        "Create a template file (e.g., index.html) that contains the placeholders for the script and div:"
      ],
      "metadata": {
        "id": "wfBhdOzYPvRL"
      }
    },
    {
      "cell_type": "code",
      "source": [
        "<!DOCTYPE html>\n",
        "<html>\n",
        "<head>\n",
        "  <title>Bokeh Plot in Flask</title>\n",
        "  {{ script|safe }}\n",
        "</head>\n",
        "<body>\n",
        "  {{ div|safe }}\n",
        "</body>\n",
        "</html>\n"
      ],
      "metadata": {
        "id": "C9Ri-kRoPuR6"
      },
      "execution_count": null,
      "outputs": []
    },
    {
      "cell_type": "markdown",
      "source": [
        "Run your Flask app, and navigate to the route that renders the template (e.g., http://localhost:5000/). You should see your Bokeh plot embedded in the page."
      ],
      "metadata": {
        "id": "ptz_nIoSPuDV"
      }
    },
    {
      "cell_type": "code",
      "source": [],
      "metadata": {
        "id": "0GaytPGyPtxX"
      },
      "execution_count": null,
      "outputs": []
    },
    {
      "cell_type": "markdown",
      "source": [
        "## Here's how you can embed a Bokeh plot using Django:\n",
        "\n",
        "Generate the Bokeh plot that you want to embed. For example, you can create a simple scatter plot like this:"
      ],
      "metadata": {
        "id": "vUBb1hcePtix"
      }
    },
    {
      "cell_type": "code",
      "source": [
        "from bokeh.plotting import figure\n",
        "from bokeh.embed import components\n",
        "\n",
        "plot = figure()\n",
        "plot.circle([1,2,3], [4,5,6])\n",
        "\n",
        "script, div = components(plot)\n"
      ],
      "metadata": {
        "id": "-TF_I6hmQcAk"
      },
      "execution_count": null,
      "outputs": []
    },
    {
      "cell_type": "markdown",
      "source": [
        "In your Django view, pass the script and div to the template context:"
      ],
      "metadata": {
        "id": "l5OGHEp6Qcpw"
      }
    },
    {
      "cell_type": "code",
      "source": [
        "from django.shortcuts import render\n",
        "\n",
        "def index(request):\n",
        "    return render(request, 'index.html', {'script': script, 'div': div})\n"
      ],
      "metadata": {
        "id": "jv7kqsFwPtNK"
      },
      "execution_count": null,
      "outputs": []
    },
    {
      "cell_type": "markdown",
      "source": [
        "Create a template file (e.g., index.html) that contains the placeholders for the script and div:"
      ],
      "metadata": {
        "id": "qj2fDNo-Ps-Y"
      }
    },
    {
      "cell_type": "code",
      "source": [
        "<!DOCTYPE html>\n",
        "<html>\n",
        "<head>\n",
        "  <title>Bokeh Plot in Django</title>\n",
        "  {{ script|safe }}\n",
        "</head>\n",
        "<body>\n",
        "  {{ div|safe }}\n",
        "</body>\n",
        "</html>\n"
      ],
      "metadata": {
        "id": "yKfnVQxzPssn"
      },
      "execution_count": null,
      "outputs": []
    },
    {
      "cell_type": "markdown",
      "source": [
        "Add a URL pattern for your view in your Django app's urls.py file:"
      ],
      "metadata": {
        "id": "zossSc7fQ2OV"
      }
    },
    {
      "cell_type": "code",
      "source": [
        "from django.urls import path\n",
        "from .views import index\n",
        "\n",
        "urlpatterns = [\n",
        "    path('', index, name='index'),\n",
        "]\n"
      ],
      "metadata": {
        "id": "v4hWhLGIQ-CZ"
      },
      "execution_count": null,
      "outputs": []
    },
    {
      "cell_type": "markdown",
      "source": [
        "Run your Django app, and navigate to the URL mapped to your view (e.g., http://localhost:8000/). You should see your Bokeh plot embedded in the page."
      ],
      "metadata": {
        "id": "WUIC2RwhPsae"
      }
    }
  ]
}