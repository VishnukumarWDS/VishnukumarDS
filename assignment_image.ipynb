{
 "cells": [
  {
   "cell_type": "code",
   "execution_count": null,
   "id": "f70f4c1c-265d-49f0-80fd-f43aef3f328c",
   "metadata": {},
   "outputs": [],
   "source": [
    "Go to this given URL and solve the following questions\n",
    "URL: https://www.youtube.com/@PW-Foundation/videos\n",
    "Q1. Write a python program to extract the video URL of the first five videos."
   ]
  },
  {
   "cell_type": "code",
   "execution_count": null,
   "id": "84d94c00-5f11-4445-b8b0-5116f49c3d5d",
   "metadata": {},
   "outputs": [],
   "source": [
    "import requests\n",
    "from bs4 import BeautifulSoup\n",
    "\n",
    "url = \"https://www.youtube.com/@PW-Foundation/videos\"\n",
    "\n",
    "response = requests.get(url)\n",
    "\n",
    "soup = BeautifulSoup(response.content, \"html.parser\")\n",
    "\n",
    "video_links = soup.find_all(\"a\", {\"class\": \"yt-simple-endpoint style-scope ytd-grid-video-renderer\"})\n",
    "\n",
    "for i in range(5):\n",
    "    video_url = \"https://www.youtube.com\" + video_links[i][\"href\"]\n",
    "    print(video_url)\n"
   ]
  },
  {
   "cell_type": "code",
   "execution_count": null,
   "id": "4b48add0-55ba-4517-a24c-b15f9408e3ce",
   "metadata": {},
   "outputs": [],
   "source": [
    "Q2. Write a python program to extract the URL of the video thumbnails of the first five videos."
   ]
  },
  {
   "cell_type": "code",
   "execution_count": null,
   "id": "a50b5c83-eeae-48ed-b49a-7381237cf2b2",
   "metadata": {},
   "outputs": [],
   "source": [
    "import requests\n",
    "from bs4 import BeautifulSoup\n",
    "\n",
    "url = \"https://www.youtube.com/@PW-Foundation/videos\"\n",
    "\n",
    "response = requests.get(url)\n",
    "\n",
    "soup = BeautifulSoup(response.content, \"html.parser\")\n",
    "\n",
    "thumbnails = soup.find_all(\"img\", {\"class\": \"style-scope yt-img-shadow\"})\n",
    "\n",
    "for i in range(5):\n",
    "    thumbnail_url = thumbnails[i][\"src\"]\n",
    "    print(thumbnail_url)\n"
   ]
  },
  {
   "cell_type": "code",
   "execution_count": null,
   "id": "2fa955eb-58ef-4f74-9ec5-e3d5188b0cd4",
   "metadata": {},
   "outputs": [],
   "source": [
    "Q3. Write a python program to extract the title of the first five videos."
   ]
  },
  {
   "cell_type": "code",
   "execution_count": null,
   "id": "b08ae0b8-8b22-4df8-8ffa-43afd43e9f87",
   "metadata": {},
   "outputs": [],
   "source": [
    "import requests\n",
    "from bs4 import BeautifulSoup\n",
    "\n",
    "url = \"https://www.youtube.com/@PW-Foundation/videos\"\n",
    "\n",
    "response = requests.get(url)\n",
    "\n",
    "soup = BeautifulSoup(response.content, \"html.parser\")\n",
    "\n",
    "titles = soup.find_all(\"a\", {\"class\": \"yt-simple-endpoint style-scope ytd-grid-video-renderer\"})\n",
    "\n",
    "for i in range(5):\n",
    "    title = titles[i][\"title\"]\n",
    "    print(title)\n"
   ]
  },
  {
   "cell_type": "code",
   "execution_count": null,
   "id": "f951c4bb-ae8f-469c-b08a-626b27665dc9",
   "metadata": {},
   "outputs": [],
   "source": [
    "Q4. Write a python program to extract the number of views of the first five videos."
   ]
  },
  {
   "cell_type": "code",
   "execution_count": null,
   "id": "90b88c77-9062-4219-8c56-f85d3804a11a",
   "metadata": {},
   "outputs": [],
   "source": [
    "import requests\n",
    "from bs4 import BeautifulSoup\n",
    "\n",
    "url = \"https://www.youtube.com/@PW-Foundation/videos\"\n",
    "\n",
    "response = requests.get(url)\n",
    "\n",
    "soup = BeautifulSoup(response.content, \"html.parser\")\n",
    "\n",
    "views = soup.find_all(\"span\", {\"class\": \"style-scope ytd-grid-video-renderer\"})\n",
    "\n",
    "for i in range(5):\n",
    "    view_count = views[i].get_text().split()[0]\n",
    "    print(view_count)\n"
   ]
  },
  {
   "cell_type": "code",
   "execution_count": null,
   "id": "e441eb3d-79c3-4eca-8c5a-6cc37476dc08",
   "metadata": {},
   "outputs": [],
   "source": [
    "Q5. Write a python program to extract the time of posting of video for the first five videos.\n",
    "Note: Save all the data scraped in the above questions in a CSV file."
   ]
  },
  {
   "cell_type": "code",
   "execution_count": null,
   "id": "e9f4e7ae-17d5-4944-ad6b-90fa04be53ff",
   "metadata": {},
   "outputs": [],
   "source": [
    "import requests\n",
    "from bs4 import BeautifulSoup\n",
    "import csv\n",
    "\n",
    "url = \"https://www.youtube.com/@PW-Foundation/videos\"\n",
    "\n",
    "response = requests.get(url)\n",
    "\n",
    "soup = BeautifulSoup(response.content, \"html.parser\")\n",
    "\n",
    "titles = soup.find_all(\"a\", {\"class\": \"yt-simple-endpoint style-scope ytd-grid-video-renderer\"})\n",
    "thumbnails = soup.find_all(\"img\", {\"class\": \"style-scope yt-img-shadow\"})\n",
    "views = soup.find_all(\"span\", {\"class\": \"style-scope ytd-grid-video-renderer\"})\n",
    "times = soup.find_all(\"span\", {\"class\": \"style-scope ytd-grid-video-renderer\"})\n",
    "\n",
    "data = []\n",
    "\n",
    "for i in range(5):\n",
    "    title = titles[i][\"title\"]\n",
    "    thumbnail_url = thumbnails[i][\"src\"]\n",
    "    view_count = views[i].get_text().split()[0]\n",
    "    time = times[i+4].get_text().strip()\n",
    "    data.append([title, thumbnail_url, view_count, time])\n",
    "\n",
    "# save data to CSV file\n",
    "with open(\"youtube_data.csv\", \"w\", newline=\"\", encoding=\"utf-8\") as file:\n",
    "    writer = csv.writer(file)\n",
    "    writer.writerow([\"Title\", \"Thumbnail URL\", \"View Count\", \"Time of Posting\"])\n",
    "    writer.writerows(data)\n",
    "\n",
    "# print data to console\n",
    "for d in data:\n",
    "    print(d)\n"
   ]
  },
  {
   "cell_type": "code",
   "execution_count": null,
   "id": "50aad90d-adb7-497b-8e40-67c0bbf602d0",
   "metadata": {},
   "outputs": [],
   "source": []
  },
  {
   "cell_type": "code",
   "execution_count": null,
   "id": "9313a482-22dc-456b-937c-4308f5f4efcd",
   "metadata": {},
   "outputs": [],
   "source": []
  }
 ],
 "metadata": {
  "kernelspec": {
   "display_name": "Python 3 (ipykernel)",
   "language": "python",
   "name": "python3"
  },
  "language_info": {
   "codemirror_mode": {
    "name": "ipython",
    "version": 3
   },
   "file_extension": ".py",
   "mimetype": "text/x-python",
   "name": "python",
   "nbconvert_exporter": "python",
   "pygments_lexer": "ipython3",
   "version": "3.10.8"
  }
 },
 "nbformat": 4,
 "nbformat_minor": 5
}
