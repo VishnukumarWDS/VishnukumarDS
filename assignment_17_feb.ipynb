{
 "cells": [
  {
   "cell_type": "code",
   "execution_count": null,
   "id": "175a68a1-1836-441a-a637-165140b2100e",
   "metadata": {},
   "outputs": [],
   "source": [
    "Q1. What is MongoDB? Explain non-relational databases in short. In which scenarios it is preferred to use\n",
    "MongoDB over SQL databases?"
   ]
  },
  {
   "cell_type": "markdown",
   "id": "a660448b-afef-4923-a832-808d93e3a31a",
   "metadata": {},
   "source": [
    "MongoDB is a document-oriented, NoSQL database that uses a flexible, JSON-like format to store and retrieve data. It is designed to scale horizontally across multiple servers and handle large volumes of data with high availability and automatic sharding.\n",
    "\n",
    "Non-relational databases, also known as NoSQL databases, are databases that do not use the traditional relational data model based on tables, rows, and columns. Instead, they use flexible data models that can handle unstructured or semi-structured data, such as documents, key-value pairs, graphs, and columns families. Non-relational databases are designed for high scalability, performance, and agility, and they are often used in modern web applications, big data analytics, and real-time data processing.\n",
    "\n",
    "MongoDB is preferred over SQL databases in scenarios where:\n",
    "\n"
   ]
  },
  {
   "cell_type": "markdown",
   "id": "25e1665a-2b7f-455c-b08d-0713137a47be",
   "metadata": {},
   "source": [
    "1.High scalability and performance are essential: MongoDB can easily scale horizontally by distributing data across multiple servers and adding more nodes as the data grows. It also supports indexing, caching, and aggregation frameworks that can improve query performance.\n",
    "\n",
    "2.Flexible data model is needed: MongoDB's document-based data model allows developers to store and retrieve complex data structures with ease, including nested arrays, sub-documents, and polymorphic data types.\n",
    "\n",
    "3.Agile development and deployment are required: MongoDB's schema-less design allows developers to quickly prototype and evolve their applications without worrying about schema migrations or data normalization. MongoDB also supports a wide range of programming languages and platforms, making it easy to integrate with modern web stacks.\n",
    "\n",
    "4.Real-time analytics and event-driven architectures: MongoDB can handle large volumes of real-time data streams and trigger events based on data changes or time-based rules. This makes it ideal for building event-driven architectures, streaming applications, and real-time analytics platforms."
   ]
  },
  {
   "cell_type": "code",
   "execution_count": null,
   "id": "6877db1f-da56-421a-a020-13e78944d570",
   "metadata": {},
   "outputs": [],
   "source": [
    "Q2. State and Explain the features of MongoDB."
   ]
  },
  {
   "cell_type": "markdown",
   "id": "729651f1-eb77-46dc-bd96-6244a4cfb8f4",
   "metadata": {},
   "source": [
    "MongoDB is a document-oriented, NoSQL database that offers a wide range of features designed to meet the demands of modern web applications and data-driven businesses. Here are some of the key features of MongoDB:\n",
    "\n",
    "1.Flexible data model: MongoDB uses a document-based data model that allows developers to store and retrieve complex data structures with ease. Documents are stored in JSON-like format, and can have different structures and nested sub-documents. This allows for more flexible and dynamic data management, as compared to traditional relational databases.\n",
    "\n",
    "2.High scalability and availability: MongoDB is designed to scale horizontally across multiple servers, allowing for distributed data processing and high availability. MongoDB supports automatic sharding, replication, and failover, ensuring that your data remains available and consistent in the face of hardware or network failures.\n",
    "\n",
    "3.Indexing and querying: MongoDB supports indexing on any field, allowing for fast and efficient queries on large data sets. MongoDB also supports a powerful query language that allows for complex filtering, sorting, aggregation, and projection operations.\n",
    "\n",
    "4.Aggregation framework: MongoDB provides a flexible and powerful aggregation framework that allows for data aggregation and transformation operations, such as grouping, sorting, filtering, and joining data from multiple collections.\n",
    "\n",
    "5.Full-text search: MongoDB supports full-text search on text and string fields, allowing for efficient and accurate text search operations on large data sets.\n",
    "\n",
    "6.Geospatial data support: MongoDB provides support for geospatial data, allowing developers to store and query location-based data with ease. MongoDB supports a wide range of geospatial operators and functions, making it easy to perform spatial queries and analysis.\n",
    "\n",
    "7.ACID transactions: MongoDB supports multi-document ACID transactions, ensuring data consistency and integrity in complex data processing scenarios.\n"
   ]
  },
  {
   "cell_type": "code",
   "execution_count": null,
   "id": "2bfa269d-908b-4f2d-8e38-e62f9c598413",
   "metadata": {},
   "outputs": [],
   "source": [
    "Q3. Write a code to connect MongoDB to Python. Also, create a database and a collection in MongoDB."
   ]
  },
  {
   "cell_type": "code",
   "execution_count": 1,
   "id": "681ff920-bd2c-47c1-b898-d44832f31b26",
   "metadata": {},
   "outputs": [
    {
     "name": "stdout",
     "output_type": "stream",
     "text": [
      "Collecting pymongo\n",
      "  Downloading pymongo-4.3.3-cp310-cp310-manylinux_2_17_x86_64.manylinux2014_x86_64.whl (492 kB)\n",
      "\u001b[2K     \u001b[90m━━━━━━━━━━━━━━━━━━━━━━━━━━━━━━━━━━━━━━━\u001b[0m \u001b[32m492.9/492.9 kB\u001b[0m \u001b[31m5.5 MB/s\u001b[0m eta \u001b[36m0:00:00\u001b[0ma \u001b[36m0:00:01\u001b[0m\n",
      "\u001b[?25hCollecting dnspython<3.0.0,>=1.16.0\n",
      "  Downloading dnspython-2.3.0-py3-none-any.whl (283 kB)\n",
      "\u001b[2K     \u001b[90m━━━━━━━━━━━━━━━━━━━━━━━━━━━━━━━━━━━━━━\u001b[0m \u001b[32m283.7/283.7 kB\u001b[0m \u001b[31m37.1 MB/s\u001b[0m eta \u001b[36m0:00:00\u001b[0m\n",
      "\u001b[?25hInstalling collected packages: dnspython, pymongo\n",
      "Successfully installed dnspython-2.3.0 pymongo-4.3.3\n",
      "Note: you may need to restart the kernel to use updated packages.\n"
     ]
    }
   ],
   "source": [
    "pip install pymongo\n"
   ]
  },
  {
   "cell_type": "markdown",
   "id": "468429f7-0139-4cbc-8c16-c6114ab226f3",
   "metadata": {},
   "source": [
    "import pymongo\n",
    "\n",
    "connection_string = \"mongodb+srv://vishnukumardsvishnu:<password>@cluster0.zvynexn.mongodb.net/?retryWrites=true&w=majority\"\n",
    "\n",
    "client = pymongo.MongoClient(connection_string)\n",
    "\n",
    "print(client.list_database_names())\n"
   ]
  },
  {
   "cell_type": "code",
   "execution_count": null,
   "id": "7b326bd2-76ee-4044-8258-fae628de3a6d",
   "metadata": {},
   "outputs": [],
   "source": [
    "import pymongo\n",
    "\n",
    "connection_string = \"mongodb+srv://vishnukumardsvishnu:<password>@cluster0.zvynexn.mongodb.net/?retryWrites=true&w=majority\"\n",
    "client = pymongo.MongoClient(connection_string)\n",
    "\n",
    "db = client[\"mydatabase\"]\n",
    "collection = db[\"mycollection\"]\n",
    "\n",
    "document = {\"name\": \"John\", \"age\": 30, \"city\": \"New York\"}\n",
    "collection.insert_one(document)\n",
    "\n",
    "for doc in collection.find():\n",
    "    print(doc)\n"
   ]
  },
  {
   "cell_type": "code",
   "execution_count": null,
   "id": "5600563d-b8d9-497d-9f6c-e0d6a8bee203",
   "metadata": {},
   "outputs": [],
   "source": [
    "Q3. Write a code to connect MongoDB to Python. Also, create a database and a collection in MongoDB."
   ]
  },
  {
   "cell_type": "code",
   "execution_count": null,
   "id": "d1e2c2ff-32a2-489d-96e3-245707530640",
   "metadata": {},
   "outputs": [],
   "source": [
    "import pymongo\n",
    "\n",
    "connection_string = \"mongodb+srv://<username>:<password>@<cluster-address>/test?retryWrites=true&w=majority\"\n",
    "\n",
    "client = pymongo.MongoClient(connection_string)\n",
    "\n",
    "\n",
    "print(client.list_database_names())\n"
   ]
  },
  {
   "cell_type": "code",
   "execution_count": null,
   "id": "248b561b-3f05-4004-b789-135b89d80d78",
   "metadata": {},
   "outputs": [],
   "source": [
    "\n",
    "\n",
    "connection_string = \"mongodb+srv://<username>:<password>@<cluster-address>/test?retryWrites=true&w=majority\"\n",
    "\n",
    "\n",
    "client = pymongo.MongoClient(connection_string)\n",
    "\n",
    " \n",
    "db = client[\"mydatabase\"]\n",
    "collection = db[\"mycollection\"]\n",
    "\n",
    "\n",
    "document = {\"name\": \"John\", \"age\": 30, \"city\": \"New York\"}\n",
    "collection.insert_one(document)\n",
    "\n",
    "\n",
    "for doc in collection.find():\n",
    "    print(doc)\n"
   ]
  },
  {
   "cell_type": "code",
   "execution_count": null,
   "id": "e285ebb1-2a6d-443a-92e9-2e37bddd3839",
   "metadata": {},
   "outputs": [],
   "source": [
    "Q4. Using the database and the collection created in question number 3, write a code to insert one record,\n",
    "and insert many records. Use the find() and find_one() methods to print the inserted record."
   ]
  },
  {
   "cell_type": "code",
   "execution_count": null,
   "id": "43c11a0f-13e2-44f6-818f-66bdede9d0f8",
   "metadata": {},
   "outputs": [],
   "source": [
    "import pymongo\n",
    "\n",
    "\n",
    "connection_string = \"mongodb+srv://<username>:<password>@<cluster-address>/test?retryWrites=true&w=majority\"\n",
    "\n",
    "client = pymongo.MongoClient(connection_string)\n",
    "\n",
    "\n",
    "db = client[\"mydatabase\"]\n",
    "collection = db[\"mycollection\"]\n",
    "\n",
    "document_one = {\"name\": \"Sarah\", \"age\": 25, \"city\": \"London\"}\n",
    "insert_one_result = collection.insert_one(document_one)\n",
    "print(\"Inserted ID:\", insert_one_result.inserted_id)\n",
    "\n",
    "documents_many = [\n",
    "    {\"name\": \"Adam\", \"age\": 32, \"city\": \"Paris\"},\n",
    "    {\"name\": \"Emily\", \"age\": 28, \"city\": \"Berlin\"},\n",
    "    {\"name\": \"Tom\", \"age\": 40, \"city\": \"New York\"}\n",
    "]\n",
    "insert_many_result = collection.insert_many(documents_many)\n",
    "print(\"Inserted IDs:\", insert_many_result.inserted_ids)\n",
    "\n",
    "\n",
    "found_document = collection.find_one({\"name\": \"Sarah\"})\n",
    "print(\"Found one document:\", found_document)\n",
    "\n",
    "\n",
    "found_documents = collection.find()\n",
    "for document in found_documents:\n",
    "    print(\"Found document:\", document)\n"
   ]
  },
  {
   "cell_type": "code",
   "execution_count": null,
   "id": "3b22d26b-2229-44f5-a065-216d4e78b241",
   "metadata": {},
   "outputs": [],
   "source": [
    "Q5. Explain how you can use the find() method to query the MongoDB database. Write a simple code to\n",
    "demonstrate this."
   ]
  },
  {
   "cell_type": "code",
   "execution_count": null,
   "id": "728862f0-2c6e-4dd7-8c9b-30cd65c05c93",
   "metadata": {},
   "outputs": [],
   "source": [
    "import pymongo\n",
    "\n",
    "connection_string = \"mongodb+srv://<username>:<password>@<cluster-address>/test?retryWrites=true&w=majority\"\n",
    "\n",
    "client = pymongo.MongoClient(connection_string)\n",
    "\n",
    "\n",
    "db = client[\"mydatabase\"]\n",
    "collection = db[\"mycollection\"]\n",
    "\n",
    "\n",
    "all_documents = collection.find()\n",
    "for document in all_documents:\n",
    "    print(document)\n",
    "\n",
    "    \n",
    "matching_documents = collection.find({\"city\": \"New York\"})\n",
    "for document in matching_documents:\n",
    "    print(document)\n"
   ]
  },
  {
   "cell_type": "code",
   "execution_count": null,
   "id": "c8439d82-d80a-44e8-a529-84441f874df8",
   "metadata": {},
   "outputs": [],
   "source": [
    "Q6. Explain the sort() method. Give an example to demonstrate sorting in MongoDB."
   ]
  },
  {
   "cell_type": "code",
   "execution_count": null,
   "id": "f256a0aa-965c-4e88-82b4-1850a004cb29",
   "metadata": {},
   "outputs": [],
   "source": [
    "import pymongo\n",
    "\n",
    "\n",
    "connection_string = \"mongodb+srv://<username>:<password>@<cluster-address>/test?retryWrites=true&w=majority\"\n",
    "\n",
    "\n",
    "client = pymongo.MongoClient(connection_string)\n",
    "\n",
    "\n",
    "db = client[\"mydatabase\"]\n",
    "collection = db[\"mycollection\"]\n",
    "\n",
    "\n",
    "documents = [\n",
    "    {\"name\": \"Adam\", \"age\": 32, \"city\": \"Paris\"},\n",
    "    {\"name\": \"Emily\", \"age\": 28, \"city\": \"Berlin\"},\n",
    "    {\"name\": \"Tom\", \"age\": 40, \"city\": \"New York\"},\n",
    "    {\"name\": \"Sarah\", \"age\": 25, \"city\": \"London\"}\n",
    "]\n",
    "insert_result = collection.insert_many(documents)\n",
    "\n",
    "\n",
    "ascending_age_documents = collection.find().sort(\"age\", 1)\n",
    "for document in ascending_age_documents:\n",
    "    print(document)\n",
    "\n",
    "descending_name_documents = collection.find().sort(\"name\", -1)\n",
    "for document in descending_name_documents:\n",
    "    print(document)\n"
   ]
  },
  {
   "cell_type": "code",
   "execution_count": null,
   "id": "d9edd86a-a84b-4561-836c-c3a14fbc87d3",
   "metadata": {},
   "outputs": [],
   "source": [
    "Q7. Explain why delete_one(), delete_many(), and drop() is used."
   ]
  },
  {
   "cell_type": "markdown",
   "id": "7fd3e0c3-88ca-44d1-aa69-eeabbb1436af",
   "metadata": {},
   "source": [
    "In MongoDB, delete_one(), delete_many(), and drop() are methods used to remove documents or collections from a database.\n",
    "\n",
    "delete_one(): This method is used to delete a single document that matches the specified filter. If there are multiple documents that match the filter, it will only delete the first one. The method takes a filter object as its argument, which specifies the criteria for the deletion.\n",
    "\n",
    "delete_many(): This method is used to delete all documents that match the specified filter. The method takes a filter object as its argument, which specifies the criteria for the deletion.\n",
    "\n",
    "drop(): This method is used to drop an entire collection from a database. This is a permanent action and will remove all documents in the collection. The method takes no arguments.\n",
    "\n",
    "These methods are important because they allow you to manage the data in your MongoDB database and remove unwanted documents or collections. delete_one() and delete_many() can be used to remove specific documents based on certain criteria, while drop() is used to remove entire collections."
   ]
  },
  {
   "cell_type": "code",
   "execution_count": null,
   "id": "d4e13726-cdf1-4c88-b679-15a6aeb15588",
   "metadata": {},
   "outputs": [],
   "source": []
  }
 ],
 "metadata": {
  "kernelspec": {
   "display_name": "Python 3 (ipykernel)",
   "language": "python",
   "name": "python3"
  },
  "language_info": {
   "codemirror_mode": {
    "name": "ipython",
    "version": 3
   },
   "file_extension": ".py",
   "mimetype": "text/x-python",
   "name": "python",
   "nbconvert_exporter": "python",
   "pygments_lexer": "ipython3",
   "version": "3.10.8"
  }
 },
 "nbformat": 4,
 "nbformat_minor": 5
}
