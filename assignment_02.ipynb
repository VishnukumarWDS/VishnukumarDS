{
 "cells": [
  {
   "cell_type": "markdown",
   "id": "5e6a4959-f702-4bb5-b4f0-aac6a26be0e1",
   "metadata": {},
   "source": [
    "## Assignment-02 feb"
   ]
  },
  {
   "cell_type": "markdown",
   "id": "b5343625-83b7-460c-aa69-33a3a60cc812",
   "metadata": {},
   "source": [
    "### Q1. What are the characteristics of the tuples? Is tuple immutable?"
   ]
  },
  {
   "cell_type": "markdown",
   "id": "208dd38c-3db7-47d2-acc3-24a7e93e1254",
   "metadata": {},
   "source": [
    "#### Ans: The characteristics of tuples items are ordered, unchangeable, and allow duplicate values.Yes,Tuples are immutable\n",
    "#### Tuples are enclosed by ( )"
   ]
  },
  {
   "cell_type": "markdown",
   "id": "01b0ba17-8677-4920-a964-fcb08c2b43b4",
   "metadata": {},
   "source": [
    "### Q2. What are the two tuple methods in python? Give an example of each method. Give a reason why tuples have only two in-built methods as compared to Lists."
   ]
  },
  {
   "cell_type": "markdown",
   "id": "fdb70aa2-d703-4d18-b467-579a8808f5f3",
   "metadata": {},
   "source": [
    "#### Ans: The two tuple methods are count(), index(). Because Tuples are immutable so, value cannot be changed  once it is entered so, tuples has two in-built function\n"
   ]
  },
  {
   "cell_type": "code",
   "execution_count": 2,
   "id": "92d4c560-6db0-4ece-b8a0-b72e58ce5b34",
   "metadata": {},
   "outputs": [
    {
     "data": {
      "text/plain": [
       "2"
      ]
     },
     "execution_count": 2,
     "metadata": {},
     "output_type": "execute_result"
    }
   ],
   "source": [
    "list1 = (1,2,3,3,True,\"World\")\n",
    "list1.count(3)"
   ]
  },
  {
   "cell_type": "code",
   "execution_count": 5,
   "id": "e9016751-6588-48fb-bcfd-bc90c4babb3d",
   "metadata": {},
   "outputs": [
    {
     "data": {
      "text/plain": [
       "2"
      ]
     },
     "execution_count": 5,
     "metadata": {},
     "output_type": "execute_result"
    }
   ],
   "source": [
    "list1.count(1)  # because True is considerd as 1"
   ]
  },
  {
   "cell_type": "code",
   "execution_count": 3,
   "id": "dfccf97d-8e87-4d59-b974-784fdd80ddaa",
   "metadata": {},
   "outputs": [
    {
     "data": {
      "text/plain": [
       "0"
      ]
     },
     "execution_count": 3,
     "metadata": {},
     "output_type": "execute_result"
    }
   ],
   "source": [
    "list1.index(1)"
   ]
  },
  {
   "cell_type": "code",
   "execution_count": 4,
   "id": "27be939d-2b24-4764-8d51-d4a95d7470f4",
   "metadata": {},
   "outputs": [
    {
     "data": {
      "text/plain": [
       "2"
      ]
     },
     "execution_count": 4,
     "metadata": {},
     "output_type": "execute_result"
    }
   ],
   "source": [
    "list1.index(3)"
   ]
  },
  {
   "cell_type": "markdown",
   "id": "fb92bad9-2fe8-4e57-817a-4f73a92fb9fb",
   "metadata": {},
   "source": [
    "### Q3. Which collection datatypes in python do not allow duplicate items? Write a code using a set to remove duplicates from the given list."
   ]
  },
  {
   "cell_type": "markdown",
   "id": "8a3e6dae-077b-4fb9-8a79-b2784950be34",
   "metadata": {},
   "source": [
    "#### Ans: Sets are the collection datatypes in python do not allow duplicate items.when an items are added to set it automatillay delete the duplicate value."
   ]
  },
  {
   "cell_type": "code",
   "execution_count": 21,
   "id": "94911842-6aaf-4d3a-bdf9-b6454d8d8738",
   "metadata": {},
   "outputs": [],
   "source": [
    "List = [1, 1, 1, 2, 1, 3, 1, 4, 2, 1, 2, 2, 2, 3, 2, 4, 3, 1, 3, 2, 3, 3, 3, 4, 4, 1, 4, 2, 4, 3, 4, 4]"
   ]
  },
  {
   "cell_type": "code",
   "execution_count": 28,
   "id": "d21a2dbc-f507-49d4-a291-b2c623d98903",
   "metadata": {},
   "outputs": [
    {
     "data": {
      "text/plain": [
       "list"
      ]
     },
     "execution_count": 28,
     "metadata": {},
     "output_type": "execute_result"
    }
   ],
   "source": [
    "type(List)"
   ]
  },
  {
   "cell_type": "code",
   "execution_count": 30,
   "id": "5a96d20f-0b79-4f69-b2ad-dc510631870e",
   "metadata": {},
   "outputs": [],
   "source": [
    "list1=set(List)"
   ]
  },
  {
   "cell_type": "code",
   "execution_count": 31,
   "id": "1f051479-3a17-42b5-ba67-54133c138a8b",
   "metadata": {},
   "outputs": [],
   "source": [
    "list1 = list(list1)"
   ]
  },
  {
   "cell_type": "code",
   "execution_count": 32,
   "id": "54c754cd-a260-4e47-81e0-c2788ac1dc0f",
   "metadata": {},
   "outputs": [
    {
     "data": {
      "text/plain": [
       "[1, 2, 3, 4]"
      ]
     },
     "execution_count": 32,
     "metadata": {},
     "output_type": "execute_result"
    }
   ],
   "source": [
    "list1"
   ]
  },
  {
   "cell_type": "markdown",
   "id": "23c7f420-6bb7-49d4-a658-d52a73e273f1",
   "metadata": {},
   "source": [
    "### Q4. Explain the difference between the union() and update() methods for a set. Give an example of each method."
   ]
  },
  {
   "cell_type": "markdown",
   "id": "1a42cb79-daff-475e-be18-e3e10f39a964",
   "metadata": {},
   "source": [
    "#### Ans: Union function return the new set that contains all elements of both sets. This method does not modify the original set, it only returns a new set.\n",
    "#### Update function modify the new element with the present element.This method does not modify the original set, it only returns a new set."
   ]
  },
  {
   "cell_type": "code",
   "execution_count": 4,
   "id": "735cdb5f-1698-4b53-825f-3d9da1436c95",
   "metadata": {},
   "outputs": [
    {
     "name": "stdout",
     "output_type": "stream",
     "text": [
      "{1, 2, 3, 4, 5, 6}\n"
     ]
    }
   ],
   "source": [
    "# using union() method\n",
    "set1 = {1, 2, 3}\n",
    "set2 = {4, 5, 6}\n",
    "result = set1.union(set2)\n",
    "print(result)\n"
   ]
  },
  {
   "cell_type": "code",
   "execution_count": 3,
   "id": "34021f76-47a1-43dc-895f-b69a30343d53",
   "metadata": {},
   "outputs": [
    {
     "name": "stdout",
     "output_type": "stream",
     "text": [
      "{1, 2, 3, 4, 5, 6}\n"
     ]
    }
   ],
   "source": [
    "# using update() method\n",
    "set1 = {1, 2, 3}\n",
    "set2 = {4, 5, 6}\n",
    "set1.update(set2)\n",
    "print(set1) \n"
   ]
  },
  {
   "cell_type": "markdown",
   "id": "ecfdb1d7-2307-4fc7-a650-cd613095adf7",
   "metadata": {},
   "source": [
    "### Q5. What is a dictionary? Give an example. Also, state whether a dictionary is ordered or unordered."
   ]
  },
  {
   "cell_type": "markdown",
   "id": "096aa7eb-9d7f-40dc-839e-256e401340fa",
   "metadata": {},
   "source": [
    "#### Ans: Dictionary unorded collections of that contains key and values which are sperated by commas and enclosed by {}."
   ]
  },
  {
   "cell_type": "code",
   "execution_count": 6,
   "id": "673d515a-5be8-4a93-b1a4-1f331dac42b8",
   "metadata": {},
   "outputs": [],
   "source": [
    "dic = {\"name\" : \"vishnu\",\"age\":35,\"job\" : \"Data analytics\"}"
   ]
  },
  {
   "cell_type": "code",
   "execution_count": 7,
   "id": "79e355ea-54aa-460b-a1dc-0e04a22332a0",
   "metadata": {},
   "outputs": [
    {
     "data": {
      "text/plain": [
       "{'name': 'vishnu', 'age': 35, 'job': 'Data analytics'}"
      ]
     },
     "execution_count": 7,
     "metadata": {},
     "output_type": "execute_result"
    }
   ],
   "source": [
    "dic"
   ]
  },
  {
   "cell_type": "markdown",
   "id": "f7b32557-2c7f-442f-b432-6c275f19d127",
   "metadata": {},
   "source": [
    "#### A dictionary is unordered, meaning that the items have no index or sequence and are stored in a hash table, which allows for fast access to values based on their keys. The order of the items may change when a dictionary is modified."
   ]
  },
  {
   "cell_type": "markdown",
   "id": "2046c443-2f61-4bc6-9cc4-4c8f0587c3c1",
   "metadata": {},
   "source": [
    "### Q6. Can we create a nested dictionary? If so, please give an example by creating a simple one-level nested dictionary."
   ]
  },
  {
   "cell_type": "markdown",
   "id": "27032342-b84e-4264-9993-f1dd90c3e3d3",
   "metadata": {},
   "source": [
    "#### yes, we can create nested dictionary.\n",
    "#### Example:"
   ]
  },
  {
   "cell_type": "code",
   "execution_count": 11,
   "id": "e4a3fb86-f93c-4908-a101-a6e9a09dd4d3",
   "metadata": {},
   "outputs": [],
   "source": [
    "dic1 = {\"key\" :{\"single lock\":\"double lock\"},\"chair\":{\"table\":\"plate\"},\"True\":\"False\"}"
   ]
  },
  {
   "cell_type": "code",
   "execution_count": 12,
   "id": "2063282d-4232-47de-9d69-79a572e63f5f",
   "metadata": {},
   "outputs": [
    {
     "data": {
      "text/plain": [
       "{'key': {'single lock': 'double lock'},\n",
       " 'chair': {'table': 'plate'},\n",
       " 'True': 'False'}"
      ]
     },
     "execution_count": 12,
     "metadata": {},
     "output_type": "execute_result"
    }
   ],
   "source": [
    "dic1"
   ]
  },
  {
   "cell_type": "markdown",
   "id": "4e863b98-04f8-4e95-9f54-50d9b802afe8",
   "metadata": {},
   "source": [
    "### Q7. Using setdefault() method, create key named topics in the given dictionary and also add the value of the key as this list ['Python', 'Machine Learning', 'Deep Learning']"
   ]
  },
  {
   "cell_type": "code",
   "execution_count": 43,
   "id": "c5cb8ea4-cdc9-4b6b-aa18-324cf0e00c3f",
   "metadata": {},
   "outputs": [],
   "source": [
    "my_dic = { }  \n",
    "dict1=['Python', 'Machine Learning', 'Deep Learning']"
   ]
  },
  {
   "cell_type": "code",
   "execution_count": 44,
   "id": "f7bd0e55-2f4b-484e-8014-6dacf16d3af7",
   "metadata": {},
   "outputs": [],
   "source": [
    "my_dic.setdefault(\"dict1\",[]).extend(dict1)"
   ]
  },
  {
   "cell_type": "code",
   "execution_count": 45,
   "id": "e5cddad7-1d84-478b-ae64-1ac9cc992345",
   "metadata": {},
   "outputs": [
    {
     "name": "stdout",
     "output_type": "stream",
     "text": [
      "{'dict1': ['Python', 'Machine Learning', 'Deep Learning']}\n"
     ]
    }
   ],
   "source": [
    "print(my_dic)"
   ]
  },
  {
   "cell_type": "markdown",
   "id": "3bbb337b-fcdc-4b1f-b23c-b8076a394bac",
   "metadata": {},
   "source": [
    "### Q8. What are the three view objects in dictionaries? Use the three in-built methods in python to display these three view objects for the given dictionary."
   ]
  },
  {
   "cell_type": "markdown",
   "id": "5141ea1e-f9bd-4a39-a848-73a42a5a824d",
   "metadata": {},
   "source": [
    "#### Ans: The three view object in dictionaries are keys(),value(),items()\n",
    "#### keys()  - it only show the keys in dictionary\n",
    "#### value() - it only show the value in dictionary\n",
    "#### items() - it display all the key and value pair in dictionary"
   ]
  },
  {
   "cell_type": "code",
   "execution_count": 58,
   "id": "aa352924-0ce1-4eae-ace2-17f0b0849546",
   "metadata": {},
   "outputs": [],
   "source": [
    "dict1 = {'Sport': 'Cricket', 'Teams': ['India', 'Australia', 'England', 'South Africa', 'Sri Lanka', 'New Zealand']}"
   ]
  },
  {
   "cell_type": "code",
   "execution_count": 59,
   "id": "6c47463e-8dd1-4a73-99fa-1cd7f0361ec4",
   "metadata": {},
   "outputs": [
    {
     "name": "stdout",
     "output_type": "stream",
     "text": [
      "dict_keys(['Sport', 'Teams'])\n"
     ]
    }
   ],
   "source": [
    "print(dict1.keys())"
   ]
  },
  {
   "cell_type": "code",
   "execution_count": 60,
   "id": "cc8a7e7d-b53e-45a3-879c-eccd72b11b26",
   "metadata": {},
   "outputs": [
    {
     "name": "stdout",
     "output_type": "stream",
     "text": [
      "dict_values(['Cricket', ['India', 'Australia', 'England', 'South Africa', 'Sri Lanka', 'New Zealand']])\n"
     ]
    }
   ],
   "source": [
    "print(dict1.values())"
   ]
  },
  {
   "cell_type": "code",
   "execution_count": 61,
   "id": "a7238c54-3f7a-4231-89a9-cafbb34ff6a9",
   "metadata": {},
   "outputs": [
    {
     "name": "stdout",
     "output_type": "stream",
     "text": [
      "dict_items([('Sport', 'Cricket'), ('Teams', ['India', 'Australia', 'England', 'South Africa', 'Sri Lanka', 'New Zealand'])])\n"
     ]
    }
   ],
   "source": [
    "print(dict1.items())"
   ]
  },
  {
   "cell_type": "code",
   "execution_count": null,
   "id": "b3530a81-c05d-41d1-adc8-fd1c7bb6c837",
   "metadata": {},
   "outputs": [],
   "source": []
  }
 ],
 "metadata": {
  "kernelspec": {
   "display_name": "Python 3 (ipykernel)",
   "language": "python",
   "name": "python3"
  },
  "language_info": {
   "codemirror_mode": {
    "name": "ipython",
    "version": 3
   },
   "file_extension": ".py",
   "mimetype": "text/x-python",
   "name": "python",
   "nbconvert_exporter": "python",
   "pygments_lexer": "ipython3",
   "version": "3.10.8"
  }
 },
 "nbformat": 4,
 "nbformat_minor": 5
}
