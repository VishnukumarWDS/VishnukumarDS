{
 "cells": [
  {
   "cell_type": "code",
   "execution_count": null,
   "id": "3cfb61f7-81a2-466a-bd28-347b0d4c53df",
   "metadata": {},
   "outputs": [],
   "source": [
    "Q1. Calculate the 95% confidence interval for a sample of data with a mean of 50 and a standard deviation\n",
    "of 5 using Python. Interpret the results."
   ]
  },
  {
   "cell_type": "code",
   "execution_count": 2,
   "id": "0be5aab2-857b-4490-b9e1-c10cf797906f",
   "metadata": {},
   "outputs": [
    {
     "name": "stdout",
     "output_type": "stream",
     "text": [
      "95% Confidence Interval: (49.01, 50.99)\n"
     ]
    }
   ],
   "source": [
    "import scipy.stats as stats\n",
    "\n",
    "sample_mean = 50 #point error\n",
    "sample_stddev = 5\n",
    "n = 100 # sample size\n",
    "alpha = 0.05 # significance level\n",
    "\n",
    "# ci = pointerror(mean) +or- margin_errror\n",
    "# margin_errror= (zalpha/2)*alpha/root(n)\n",
    "\n",
    "z= stats.t.ppf(1 - alpha/2, n-1)\n",
    "margin_error = z* sample_stddev / (n ** 0.5)\n",
    "\n",
    "lower_ci = sample_mean - margin_error\n",
    "upper_ci = sample_mean + margin_error\n",
    "\n",
    "print(\"95% Confidence Interval: ({:.2f}, {:.2f})\".format(lower_ci, upper_ci))\n"
   ]
  },
  {
   "cell_type": "code",
   "execution_count": null,
   "id": "5ef2f81a-5eb6-417c-bbec-6372154ec941",
   "metadata": {},
   "outputs": [],
   "source": [
    "Q2. Conduct a chi-square goodness of fit test to determine if the distribution of colors of M&Ms in a bag\n",
    "matches the expected distribution of 20% blue, 20% orange, 20% green, 10% yellow, 10% red, and 20%\n",
    "brown. Use Python to perform the test with a significance level of 0.05."
   ]
  },
  {
   "cell_type": "code",
   "execution_count": null,
   "id": "ef149284-216d-47c8-af81-403784cfc30b",
   "metadata": {},
   "outputs": [],
   "source": [
    "import numpy as np\n",
    "from scipy.stats import chisquare\n",
    "\n",
    "# Define the observed frequencies of each color\n",
    "observed_freq = [13, 18, 9, 9, 12, 19]\n",
    "\n",
    "# Define the expected frequencies of each color based on the given distribution\n",
    "expected_freq = [0.2*len(observed_freq)] * 6\n",
    "\n",
    "# Calculate the chi-square test statistic and p-value\n",
    "chi2, p = chisquare(observed_freq, expected_freq)\n",
    "\n",
    "# Print the results\n",
    "print(\"Chi-square test statistic:\", chi2)\n",
    "print(\"p-value:\", p)\n",
    "\n",
    "# Compare the p-value to the significance level and make a conclusion\n",
    "alpha = 0.05\n",
    "if p < alpha:\n",
    "    print(\"Reject the null hypothesis that the distribution of colors matches the expected distribution.\")\n",
    "else:\n",
    "    print(\"Fail to reject the null hypothesis that the distribution of colors matches the expected distribution.\")\n"
   ]
  },
  {
   "cell_type": "code",
   "execution_count": null,
   "id": "00bfb504-6f7e-47f5-9200-0a515ea32f1f",
   "metadata": {},
   "outputs": [],
   "source": [
    "Q3. Use Python to calculate the chi-square statistic and p-value for a contingency table with the following\n",
    "data:\n",
    "\n",
    "                   Group A     Group B\n",
    "Outcome 1          20             15\n",
    "Outcome 2          10             25\n",
    "Outcome 3          15             20\n",
    "Interpret the results of the test."
   ]
  },
  {
   "cell_type": "code",
   "execution_count": null,
   "id": "90a7176b-bea7-452f-8d7a-2c74398820a0",
   "metadata": {},
   "outputs": [],
   "source": [
    "import numpy as np\n",
    "from scipy.stats import chi2_contingency\n",
    "\n",
    "observed = np.array([[20, 15], [10, 25], [15, 20]])\n",
    "\n",
    "chi2, p, dof, expected = chi2_contingency(observed)\n",
    "\n",
    "print(f\"Chi-square statistic: {chi2:.2f}\")\n",
    "print(f\"P-value: {p:.4f}\")\n"
   ]
  },
  {
   "cell_type": "code",
   "execution_count": null,
   "id": "38451773-8a04-4fd6-9501-15ba4dbce33c",
   "metadata": {},
   "outputs": [],
   "source": [
    "Q4. A study of the prevalence of smoking in a population of 500 individuals found that 60 individuals\n",
    "smoked. Use Python to calculate the 95% confidence interval for the true proportion of individuals in the\n",
    "population who smoke."
   ]
  },
  {
   "cell_type": "code",
   "execution_count": null,
   "id": "64c156ae-664c-4181-91e9-a278f06842d6",
   "metadata": {},
   "outputs": [],
   "source": [
    "import math\n",
    "\n",
    "sample_size = 500\n",
    "sample_proportion = 60 / sample_size\n",
    "confidence_level = 0.95\n",
    "\n",
    "# Calculate the critical value from the standard normal distribution\n",
    "z = 1.96\n",
    "\n",
    "# Calculate the confidence interval\n",
    "margin_of_error = z * math.sqrt(sample_proportion * (1 - sample_proportion) / sample_size)\n",
    "confidence_interval = (sample_proportion - margin_of_error, sample_proportion + margin_of_error)\n",
    "\n",
    "# Print the results\n",
    "print(\"Sample proportion:\", sample_proportion)\n",
    "print(\"Confidence interval: [{:.4f}, {:.4f}]\".format(confidence_interval[0], confidence_interval[1]))\n"
   ]
  },
  {
   "cell_type": "code",
   "execution_count": null,
   "id": "93902f37-5245-4b56-97d8-668b6dd52ed1",
   "metadata": {},
   "outputs": [],
   "source": [
    "Q5. Calculate the 90% confidence interval for a sample of data with a mean of 75 and a standard deviation\n",
    "of 12 using Python. Interpret the results."
   ]
  },
  {
   "cell_type": "code",
   "execution_count": null,
   "id": "b30f4a12-5e29-464e-b2af-c34fb68b65d8",
   "metadata": {},
   "outputs": [],
   "source": [
    "import math\n",
    "\n",
    "sample_mean = 75\n",
    "sample_std = 12\n",
    "sample_size = 100\n",
    "confidence_level = 0.90\n",
    "\n",
    "# Calculate the critical value from the standard normal distribution\n",
    "z = 1.645\n",
    "\n",
    "# Calculate the confidence interval\n",
    "margin_of_error = z * sample_std / math.sqrt(sample_size)\n",
    "confidence_interval = (sample_mean - margin_of_error, sample_mean + margin_of_error)\n",
    "\n",
    "# Print the results\n",
    "print(\"Sample mean:\", sample_mean)\n",
    "print(\"Confidence interval: [{:.4f}, {:.4f}]\".format(confidence_interval[0], confidence_interval[1]))\n"
   ]
  },
  {
   "cell_type": "code",
   "execution_count": null,
   "id": "ed8439a0-03db-47d2-92e5-c580f2153fd1",
   "metadata": {},
   "outputs": [],
   "source": [
    "Q6.Use Python to plot the chi-square distribution with 10 degrees of freedom. Label the axes and shade the\n",
    "area corresponding to a chi-square statistic of 15."
   ]
  },
  {
   "cell_type": "code",
   "execution_count": null,
   "id": "d2979cc7-7555-41b1-b980-b3fbf0209fd4",
   "metadata": {},
   "outputs": [],
   "source": [
    "import numpy as np\n",
    "import matplotlib.pyplot as plt\n",
    "from scipy.stats import chi2\n",
    "\n",
    "# Define the degrees of freedom\n",
    "df = 10\n",
    "\n",
    "# Define the range of the x-axis\n",
    "x = np.linspace(0, 30, 500)\n",
    "\n",
    "# Plot the chi-square distribution\n",
    "plt.plot(x, chi2.pdf(x, df), 'b-', lw=2, label='chi2 pdf')\n",
    "\n",
    "# Shade the area corresponding to a chi-square statistic of 15\n",
    "x_shade = np.linspace(15, 30, 500)\n",
    "plt.fill_between(x_shade, chi2.pdf(x_shade, df), color='gray', alpha=0.5)\n",
    "\n",
    "# Add labels to the plot\n",
    "plt.xlabel('Chi-square statistic')\n",
    "plt.ylabel('Probability density')\n",
    "plt.title('Chi-square distribution with 10 degrees of freedom')\n",
    "\n",
    "# Show the plot\n",
    "plt.show()\n"
   ]
  },
  {
   "cell_type": "code",
   "execution_count": null,
   "id": "4ae42d0a-ebe6-43c2-8a52-9132642f546b",
   "metadata": {},
   "outputs": [],
   "source": [
    "Q7. A random sample of 1000 people was asked if they preferred Coke or Pepsi. Of the sample, 520\n",
    "preferred Coke. Calculate a 99% confidence interval for the true proportion of people in the population who\n",
    "prefer Coke."
   ]
  },
  {
   "cell_type": "code",
   "execution_count": null,
   "id": "83cae51e-cc52-47ac-b07b-47a97bf814d1",
   "metadata": {},
   "outputs": [],
   "source": [
    "import math\n",
    "\n",
    "sample_proportion = 520/1000\n",
    "sample_size = 1000\n",
    "confidence_level = 0.99\n",
    "\n",
    "# Calculate the critical value from the standard normal distribution\n",
    "z = 2.576\n",
    "\n",
    "# Calculate the confidence interval\n",
    "margin_of_error = z * math.sqrt((sample_proportion * (1 - sample_proportion)) / sample_size)\n",
    "confidence_interval = (sample_proportion - margin_of_error, sample_proportion + margin_of_error)\n",
    "\n",
    "# Print the results\n",
    "print(\"Sample proportion:\", sample_proportion)\n",
    "print(\"Confidence interval: [{:.4f}, {:.4f}]\".format(confidence_interval[0], confidence_interval[1]))\n"
   ]
  },
  {
   "cell_type": "code",
   "execution_count": null,
   "id": "c126b3d7-ff8d-42de-8445-6835df3e4f71",
   "metadata": {},
   "outputs": [],
   "source": [
    "Q8. A researcher hypothesizes that a coin is biased towards tails. They flip the coin 100 times and observe\n",
    "45 tails. Conduct a chi-square goodness of fit test to determine if the observed frequencies match the\n",
    "expected frequencies of a fair coin. Use a significance level of 0.05."
   ]
  },
  {
   "cell_type": "code",
   "execution_count": null,
   "id": "e4f1b18c-a9e5-4ed9-8c95-4d0391cf409e",
   "metadata": {},
   "outputs": [],
   "source": [
    "import scipy.stats as stats\n",
    "\n",
    "observed_freq = [55, 45] # tails and heads respectively\n",
    "expected_freq = [50, 50] # expected frequencies for a fair coin\n",
    "\n",
    "# Calculate the chi-square test statistic and p-value\n",
    "chi2, p_value = stats.chisquare(observed_freq, expected_freq)\n",
    "\n",
    "# Print the results\n",
    "print(\"Chi-square test statistic:\", chi2)\n",
    "print(\"p-value:\", p_value)\n",
    "\n",
    "# Check if p-value is less than significance level\n",
    "alpha = 0.05\n",
    "if p_value < alpha:\n",
    "    print(\"Reject null hypothesis: The coin is biased towards tails.\")\n",
    "else:\n",
    "    print(\"Fail to reject null hypothesis: The coin is fair.\")\n"
   ]
  },
  {
   "cell_type": "code",
   "execution_count": null,
   "id": "06a32987-7647-4e4d-870a-516b4b658738",
   "metadata": {},
   "outputs": [],
   "source": [
    "Q9. A study was conducted to determine if there is an association between smoking status (smoker or\n",
    "non-smoker) and lung cancer diagnosis (yes or no). The results are shown in the contingency table below.\n",
    "Conduct a chi-square test for independence to determine if there is a significant association between\n",
    "smoking status and lung cancer diagnosis."
   ]
  },
  {
   "cell_type": "code",
   "execution_count": null,
   "id": "6299148b-c0d1-4c34-86ac-2d6935f5151d",
   "metadata": {},
   "outputs": [],
   "source": [
    "from scipy.stats import chi2_contingency\n",
    "\n",
    "obs = [[60, 140], [30, 170]]\n",
    "stat, p, dof, expected = chi2_contingency(obs)\n",
    "print(\"Chi-square statistic: \", stat)\n",
    "print(\"p-value: \", p)\n"
   ]
  },
  {
   "cell_type": "code",
   "execution_count": null,
   "id": "bd69c946-76e4-4cee-b4c9-bdcaa3d2e889",
   "metadata": {},
   "outputs": [],
   "source": [
    "Q10. A study was conducted to determine if the proportion of people who prefer milk chocolate, dark\n",
    "chocolate, or white chocolate is different in the U.S. versus the U.K. A random sample of 500 people from\n",
    "the U.S. and a random sample of 500 people from the U.K. were surveyed. The results are shown in the\n",
    "contingency table below. Conduct a chi-square test for independence to determine if there is a significant\n",
    "association between chocolate preference and country of origin."
   ]
  },
  {
   "cell_type": "code",
   "execution_count": null,
   "id": "7d98dcbb-53f7-42e8-8119-03043563ea94",
   "metadata": {},
   "outputs": [],
   "source": [
    "from scipy.stats import chi2_contingency\n",
    "\n",
    "obs = [[200, 150, 150], [225, 175, 100]]\n",
    "stat, p, dof, expected = chi2_contingency(obs)\n",
    "print(\"Chi-square statistic: \", stat)\n",
    "print(\"p-value: \", p)\n"
   ]
  },
  {
   "cell_type": "code",
   "execution_count": null,
   "id": "6e8d0177-e6c4-401c-80e3-427540eb0e27",
   "metadata": {},
   "outputs": [],
   "source": [
    "Q11. A random sample of 30 people was selected from a population with an unknown mean and standard\n",
    "deviation. The sample mean was found to be 72 and the sample standard deviation was found to be 10.\n",
    "Conduct a hypothesis test to determine if the population mean is significantly different from 70. Use a\n",
    "significance level of 0.05."
   ]
  },
  {
   "cell_type": "code",
   "execution_count": null,
   "id": "ebcec1a5-0275-4125-ad6c-c3ea98b5e034",
   "metadata": {},
   "outputs": [],
   "source": [
    "from scipy.stats import ttest_1samp\n",
    "\n",
    "sample_mean = 72\n",
    "pop_mean = 70\n",
    "sample_std = 10\n",
    "n = 30\n",
    "significance_level = 0.05\n",
    "\n",
    "t_stat, p_val = ttest_1samp(data, pop_mean)\n",
    "\n",
    "print(\"t-statistic:\", t_stat)\n",
    "print(\"p-value:\", p_val/2) #Divide by 2 for a one-tailed test\n"
   ]
  },
  {
   "cell_type": "code",
   "execution_count": null,
   "id": "8c792d20-9d1f-4358-b627-33e1a8c68e28",
   "metadata": {},
   "outputs": [],
   "source": []
  }
 ],
 "metadata": {
  "kernelspec": {
   "display_name": "Python 3 (ipykernel)",
   "language": "python",
   "name": "python3"
  },
  "language_info": {
   "codemirror_mode": {
    "name": "ipython",
    "version": 3
   },
   "file_extension": ".py",
   "mimetype": "text/x-python",
   "name": "python",
   "nbconvert_exporter": "python",
   "pygments_lexer": "ipython3",
   "version": "3.10.8"
  }
 },
 "nbformat": 4,
 "nbformat_minor": 5
}
