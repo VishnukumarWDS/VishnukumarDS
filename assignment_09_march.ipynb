{
 "cells": [
  {
   "cell_type": "code",
   "execution_count": null,
   "id": "0d3db9a5-30ed-4971-9a7b-156c0b4881c2",
   "metadata": {},
   "outputs": [],
   "source": [
    "Q1: What are the Probability Mass Function (PMF) and Probability Density Function (PDF)? Explain with\n",
    "an example."
   ]
  },
  {
   "cell_type": "markdown",
   "id": "a426a7e5-3447-4d96-b894-0ccb974927f1",
   "metadata": {},
   "source": [
    "Both Probability Mass Function (PMF) and Probability Density Function (PDF) are used to describe the probability distribution of a random variable.\n",
    "\n",
    "The PMF is used for discrete random variables and gives the probability of each possible outcome. In other words, the PMF is a function that maps each possible value of the random variable to its probability. The sum of all the probabilities in the PMF is equal to 1.\n",
    "\n",
    "For example, let's consider a fair six-sided die. The random variable X represents the number shown on the die after it is rolled. The PMF of X is given by:\n",
    "\n",
    "P(X=1) = 1/6\n",
    "P(X=2) = 1/6\n",
    "P(X=3) = 1/6\n",
    "P(X=4) = 1/6\n",
    "P(X=5) = 1/6\n",
    "P(X=6) = 1/6\n",
    "\n",
    "The probability of rolling a 1 on the die is 1/6, the probability of rolling a 2 is 1/6, and so on.\n",
    "\n",
    "The PDF, on the other hand, is used for continuous random variables and gives the relative likelihood of the random variable taking a certain value. The area under the curve of the PDF represents the total probability of all possible outcomes and is equal to 1.\n",
    "\n",
    "For example, let's consider the height of adult males in the United States. The random variable X represents the height of an adult male, which can take on any value within a certain range. The PDF of X would be a curve that shows the relative likelihood of each height. The curve would be highest at the most common height and would taper off as you move away from that height. The total area under the curve would be equal to 1, representing the total probability of all possible heights.\n",
    "\n",
    "\n",
    "\n"
   ]
  },
  {
   "cell_type": "code",
   "execution_count": null,
   "id": "3b87934e-2379-4d21-8130-45d8de231d3f",
   "metadata": {},
   "outputs": [],
   "source": [
    "Q2: What is Cumulative Density Function (CDF)? Explain with an example. Why CDF is used?"
   ]
  },
  {
   "cell_type": "markdown",
   "id": "8ba92175-31ac-400f-937c-4adef2bdb466",
   "metadata": {},
   "source": [
    "The Cumulative Distribution Function (CDF) is a function that gives the probability that a random variable takes on a value less than or equal to a given value. It provides a complete summary of the distribution of a random variable, both for continuous and discrete random variables.\n",
    "\n",
    "For a discrete random variable, the CDF is the sum of the PMF up to a given value. For a continuous random variable, the CDF is the integral of the PDF up to a given value.\n",
    "\n",
    "For example, let's consider the same fair six-sided die as in the previous question. The CDF of X is given by:\n",
    "\n",
    "F(x) = P(X<=x)\n",
    "\n",
    "If we plug in each possible value of X, we get:\n",
    "\n",
    "F(1) = P(X<=1) = 1/6\n",
    "F(2) = P(X<=2) = 2/6 = 1/3\n",
    "\n",
    "\n",
    "The Cumulative Distribution Function (CDF) is used to describe the probability distribution of a random variable, whether it is discrete or continuous.\n",
    "\n",
    "The CDF is defined as the probability that the random variable takes on a value less than or equal to a certain value. In other words, the CDF gives the probability of getting a value up to and including a specific value of the random variable."
   ]
  },
  {
   "cell_type": "code",
   "execution_count": null,
   "id": "70d17275-af41-48b6-a5bc-0321d7ce72ba",
   "metadata": {},
   "outputs": [],
   "source": [
    "Q3: What are some examples of situations where the normal distribution might be used as a model?\n",
    "Explain how the parameters of the normal distribution relate to the shape of the distribution."
   ]
  },
  {
   "cell_type": "markdown",
   "id": "e87f71bb-2f94-4e78-9169-a5d1fd5fafe4",
   "metadata": {},
   "source": [
    "The normal distribution, also known as the Gaussian distribution, is commonly used to model a wide range of real-world phenomena. Examples of situations where the normal distribution might be used as a model include:\n",
    "\n",
    "Height and weight measurements of a large population.\n",
    "The distribution of exam scores in a class.\n",
    "The time taken by a person to complete a task.\n",
    "The distribution of IQ scores.\n",
    "The amount of rainfall in a particular region over a period of time.\n",
    "The parameters of the normal distribution are the mean (µ) and the standard deviation (σ). The mean determines the location of the center of the distribution, while the standard deviation determines the spread or width of the distribution. A higher standard deviation indicates a wider and flatter distribution, while a lower standard deviation indicates a narrower and taller distribution."
   ]
  },
  {
   "cell_type": "code",
   "execution_count": null,
   "id": "a9fa5aa5-2488-41f8-b60a-9b759a0ab781",
   "metadata": {},
   "outputs": [],
   "source": [
    "Q4: Explain the importance of Normal Distribution. Give a few real-life examples of Normal\n",
    "Distribution."
   ]
  },
  {
   "cell_type": "markdown",
   "id": "b7cbf28f-bfab-4e23-96c3-f47f6497d546",
   "metadata": {},
   "source": [
    "The normal distribution is one of the most important and widely used probability distributions in statistics. It has a number of important properties, including that it is symmetric, unimodal, and its shape is determined by just two parameters, the mean and standard deviation. The normal distribution is important because it provides a useful approximation to many real-world phenomena, and it is often used in statistical inference and hypothesis testing.\n",
    "\n",
    "Examples of real-life phenomena that can be modeled using the normal distribution include:\n",
    "\n",
    "The distribution of heights or weights in a population.\n",
    "The distribution of IQ scores.\n",
    "The distribution of blood pressure readings in a population.\n",
    "The distribution of exam scores in a class.\n",
    "The distribution of temperatures in a particular region over a period of time."
   ]
  },
  {
   "cell_type": "code",
   "execution_count": null,
   "id": "93b94fff-ab83-4ea8-9322-9ca8200cfb3f",
   "metadata": {},
   "outputs": [],
   "source": [
    "Q5: What is Bernaulli Distribution? Give an Example. What is the difference between Bernoulli\n",
    "Distribution and Binomial Distribution?"
   ]
  },
  {
   "cell_type": "markdown",
   "id": "95de8697-178b-43e0-91d5-51573ce67e76",
   "metadata": {},
   "source": [
    "The Bernoulli distribution is a probability distribution that describes the outcomes of a single binary experiment, where the outcome can be either success or failure. The distribution is characterized by a single parameter p, which represents the probability of success.\n",
    "\n",
    "An example of the Bernoulli distribution is the outcome of a coin flip, where success could be defined as getting heads and failure as getting tails. If the coin is fair, then p=0.5.\n",
    "\n",
    "The binomial distribution is a probability distribution that describes the number of successes in a fixed number of independent Bernoulli trials, where each trial has the same probability of success. It is characterized by two parameters: n, the number of trials, and p, the probability of success in each trial.\n",
    "\n",
    "The main difference between the Bernoulli distribution and the binomial distribution is that the Bernoulli distribution describes the outcome of a single binary experiment, while the binomial distribution describes the number of successes in a fixed number of independent binary experiments."
   ]
  },
  {
   "cell_type": "code",
   "execution_count": null,
   "id": "c68560a1-7519-459e-8e0c-7c0f0a4d631d",
   "metadata": {},
   "outputs": [],
   "source": [
    "Q6. Consider a dataset with a mean of 50 and a standard deviation of 10. If we assume that the dataset\n",
    "is normally distributed, what is the probability that a randomly selected observation will be greater\n",
    "than 60? Use the appropriate formula and show your calculations."
   ]
  },
  {
   "cell_type": "markdown",
   "id": "3ace0306-5441-4299-b362-4bac88009e48",
   "metadata": {},
   "source": [
    "To calculate the probability that a randomly selected observation will be greater than 60, we need to use the standard normal distribution formula.\n",
    "\n",
    "z = (x - μ) / σ\n",
    "\n",
    "where:\n",
    "x = the value we want to find the probability for (in this case, x = 60)\n",
    "μ = the mean of the dataset (μ = 50)\n",
    "σ = the standard deviation of the dataset (σ = 10)\n",
    "z = the z-score associated with the value x\n",
    "\n",
    "First, we need to calculate the z-score:\n",
    "\n",
    "z = (x - μ) / σ = (60 - 50) / 10 = 1\n",
    "\n",
    "Next, we need to find the area under the standard normal distribution curve to the right of z = 1. We can look this up in a standard normal distribution table or use software such as Excel or Python. Using a table, we find that the area to the right of z = 1 is 0.1587.\n",
    "\n",
    "Therefore, the probability that a randomly selected observation will be greater than 60 is 0.1587 or approximately 16%."
   ]
  },
  {
   "cell_type": "code",
   "execution_count": null,
   "id": "cc17d8df-bffa-461f-8ebb-c6e872281830",
   "metadata": {},
   "outputs": [],
   "source": [
    "Q7: Explain uniform Distribution with an example.\n"
   ]
  },
  {
   "cell_type": "markdown",
   "id": "3cac1ec6-7d5f-4b31-86c2-091bf603f9c8",
   "metadata": {},
   "source": [
    "Uniform Distribution is a probability distribution where the probability of an event occurring is equally likely for all possible values of the random variable within a given interval. For example, consider a roll of a fair six-sided die. Each possible outcome (1, 2, 3, 4, 5, or 6) has an equal chance of occurring. Thus, the probability distribution of the outcomes is uniform."
   ]
  },
  {
   "cell_type": "code",
   "execution_count": null,
   "id": "bc87fc82-3d4b-40f8-a791-d4a0ece6883b",
   "metadata": {},
   "outputs": [],
   "source": [
    "Q8: What is the z score? State the importance of the z score.\n"
   ]
  },
  {
   "cell_type": "markdown",
   "id": "23d8a491-f715-40ef-b2ba-aafb19101d78",
   "metadata": {},
   "source": [
    "The z-score (also called the standard score) is a measure of how many standard deviations an observation or data point is from the population mean. It is calculated by subtracting the population mean from the observation and then dividing by the population standard deviation. The formula for the z-score is:\n",
    "\n",
    "z = (x - μ) / σ\n",
    "\n",
    "where x is the observation, μ is the population mean, and σ is the population standard deviation.\n",
    "\n",
    "The z-score is important because it allows us to compare observations from different datasets that have different scales and units. By standardizing the data to a common scale, we can compare observations and draw meaningful conclusions."
   ]
  },
  {
   "cell_type": "code",
   "execution_count": null,
   "id": "3bef59d3-626b-4326-8eec-e32073f626af",
   "metadata": {},
   "outputs": [],
   "source": [
    "Q9: What is Central Limit Theorem? State the significance of the Central Limit Theorem.\n"
   ]
  },
  {
   "cell_type": "markdown",
   "id": "97e6349b-b8ff-4737-b439-a887b9b245b0",
   "metadata": {},
   "source": [
    "The Central Limit Theorem states that if we take a large enough sample from a population, the sample mean will be normally distributed, regardless of the distribution of the population. Specifically, the theorem states that as the sample size increases, the sample mean will approach a normal distribution with a mean equal to the population mean and a standard deviation equal to the population standard deviation divided by the square root of the sample size."
   ]
  },
  {
   "cell_type": "code",
   "execution_count": null,
   "id": "91e281ef-f495-4bf5-8477-c05382d53240",
   "metadata": {},
   "outputs": [],
   "source": [
    "Q10: State the assumptions of the Central Limit Theorem."
   ]
  },
  {
   "cell_type": "code",
   "execution_count": null,
   "id": "dc503f77-dfdc-4700-b2b9-8b122b368422",
   "metadata": {},
   "outputs": [],
   "source": [
    "The assumptions of the Central Limit Theorem are:\n",
    "\n",
    "The sample is randomly selected from the population.\n",
    "The population is normally distributed or the sample size is large enough (usually at least 30 observations) for the sample mean to be normally distributed by the Central Limit Theorem.\n",
    "The observations in the sample are independent of each other."
   ]
  },
  {
   "cell_type": "code",
   "execution_count": null,
   "id": "ba61fe5a-cc92-4f82-9518-e544fe32b143",
   "metadata": {},
   "outputs": [],
   "source": []
  },
  {
   "cell_type": "code",
   "execution_count": null,
   "id": "a837c4c5-e15c-4f11-942f-b76e2b600eaa",
   "metadata": {},
   "outputs": [],
   "source": []
  }
 ],
 "metadata": {
  "kernelspec": {
   "display_name": "Python 3 (ipykernel)",
   "language": "python",
   "name": "python3"
  },
  "language_info": {
   "codemirror_mode": {
    "name": "ipython",
    "version": 3
   },
   "file_extension": ".py",
   "mimetype": "text/x-python",
   "name": "python",
   "nbconvert_exporter": "python",
   "pygments_lexer": "ipython3",
   "version": "3.10.8"
  }
 },
 "nbformat": 4,
 "nbformat_minor": 5
}
