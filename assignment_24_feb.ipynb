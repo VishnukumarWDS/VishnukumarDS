{
 "cells": [
  {
   "cell_type": "code",
   "execution_count": null,
   "id": "a21f5565-c0f9-44c8-98f9-e3f5e0edcc1a",
   "metadata": {},
   "outputs": [],
   "source": [
    "Q1. List any five functions of the pandas library with execution."
   ]
  },
  {
   "cell_type": "code",
   "execution_count": null,
   "id": "f5d63e25-eaff-42dc-8ebd-5002b509bf8c",
   "metadata": {},
   "outputs": [],
   "source": [
    "1. read_csv() function: This function is used to read data from a CSV file and create a pandas DataFrame.\n"
   ]
  },
  {
   "cell_type": "code",
   "execution_count": null,
   "id": "ab526abc-176e-4254-bbf4-b6868044e484",
   "metadata": {},
   "outputs": [],
   "source": [
    "import pandas as pd\n",
    "\n",
    "data = pd.read_csv('data.csv')\n",
    "print(data)\n"
   ]
  },
  {
   "cell_type": "code",
   "execution_count": null,
   "id": "7e1a98d2-9357-45c7-908e-dc9f04d09247",
   "metadata": {},
   "outputs": [],
   "source": [
    "2.head(): This function is used to display the first few rows of a Pandas DataFrame. Here's an example:"
   ]
  },
  {
   "cell_type": "code",
   "execution_count": null,
   "id": "ed43c3c0-ea8f-4765-833f-caa4d1a0a158",
   "metadata": {},
   "outputs": [],
   "source": [
    "import pandas as pd\n",
    "\n",
    "data = pd.read_csv('data.csv')\n",
    "print(data.head())\n"
   ]
  },
  {
   "cell_type": "code",
   "execution_count": null,
   "id": "0ee885da-3ff3-46ac-b96c-3f276aa8e962",
   "metadata": {},
   "outputs": [],
   "source": [
    "3.info(): This function is used to get information about a Pandas DataFrame, such as the number of rows and columns, column data types, and memory usage. Here's an example:"
   ]
  },
  {
   "cell_type": "code",
   "execution_count": null,
   "id": "b3bbe1da-3d91-4072-8fef-cc05d3ec6136",
   "metadata": {},
   "outputs": [],
   "source": [
    "import pandas as pd\n",
    "\n",
    "data = pd.read_csv('data.csv')\n",
    "print(data.info())\n"
   ]
  },
  {
   "cell_type": "code",
   "execution_count": null,
   "id": "1d24c42a-a603-47ff-8a67-cd85614d1977",
   "metadata": {},
   "outputs": [],
   "source": [
    "4.groupby(): This function is used to group data in a Pandas DataFrame by one or more columns and apply a function to each group. Here's an example:"
   ]
  },
  {
   "cell_type": "code",
   "execution_count": null,
   "id": "ee3b118a-c542-4dfe-97a1-e2ba787ecd25",
   "metadata": {},
   "outputs": [],
   "source": [
    "import pandas as pd\n",
    "\n",
    "data = pd.read_csv('data.csv')\n",
    "grouped_data = data.groupby('category').mean()\n",
    "print(grouped_data)\n"
   ]
  },
  {
   "cell_type": "code",
   "execution_count": null,
   "id": "be196131-d451-4387-a754-4a2efaeeb16c",
   "metadata": {},
   "outputs": [],
   "source": [
    "5.to_csv(): This function is used to write a Pandas DataFrame to a CSV file. Here's an example:"
   ]
  },
  {
   "cell_type": "code",
   "execution_count": null,
   "id": "03812738-dba6-4c4d-8bc1-6423af0759d1",
   "metadata": {},
   "outputs": [],
   "source": [
    "import pandas as pd\n",
    "\n",
    "data = pd.read_csv('data.csv')\n",
    "filtered_data = data[data['sales'] > 100]\n",
    "filtered_data.to_csv('filtered_data.csv', index=False)\n"
   ]
  },
  {
   "cell_type": "code",
   "execution_count": null,
   "id": "c8052d5d-e8c8-4e78-bc77-f55208045049",
   "metadata": {},
   "outputs": [],
   "source": [
    "Q2. Given a Pandas DataFrame df with columns 'A', 'B', and 'C', write a Python function to re-index the\n",
    "DataFrame with a new index that starts from 1 and increments by 2 for each row."
   ]
  },
  {
   "cell_type": "code",
   "execution_count": 7,
   "id": "18f1b599-ae58-4134-8701-f2d7dca94314",
   "metadata": {},
   "outputs": [],
   "source": [
    "import pandas as pd\n",
    "\n",
    "def reindex_df(df):\n",
    "    new_index = pd.RangeIndex(start=1, stop=len(df)*2, step=2)\n",
    "    new_df = df.copy()\n",
    "    new_df.index = new_index\n",
    "    return new_df"
   ]
  },
  {
   "cell_type": "code",
   "execution_count": 8,
   "id": "1f39ab01-7e90-4d51-aa49-76ad07395b39",
   "metadata": {},
   "outputs": [],
   "source": [
    "df = pd.DataFrame({'A': [1, 2, 3], 'B': [4, 5, 6], 'C': [7, 8, 9]})"
   ]
  },
  {
   "cell_type": "code",
   "execution_count": 9,
   "id": "2e63a858-1d4a-4f5f-bcb7-f8ec631226b0",
   "metadata": {},
   "outputs": [],
   "source": [
    "new_df = reindex_df(df)"
   ]
  },
  {
   "cell_type": "code",
   "execution_count": 10,
   "id": "8fa93048-92da-48a7-a413-738969e363d2",
   "metadata": {},
   "outputs": [
    {
     "name": "stdout",
     "output_type": "stream",
     "text": [
      "   A  B  C\n",
      "1  1  4  7\n",
      "3  2  5  8\n",
      "5  3  6  9\n"
     ]
    }
   ],
   "source": [
    "print(new_df)"
   ]
  },
  {
   "cell_type": "code",
   "execution_count": null,
   "id": "5edacd3a-d35b-4346-8cea-07a062eaaee1",
   "metadata": {},
   "outputs": [],
   "source": [
    "Q3. You have a Pandas DataFrame df with a column named 'Values'. Write a Python function that\n",
    "iterates over the DataFrame and calculates the sum of the first three values in the 'Values' column. The\n",
    "function should print the sum to the console."
   ]
  },
  {
   "cell_type": "code",
   "execution_count": 13,
   "id": "8ca08170-9ab8-45cf-a572-33eab287e9be",
   "metadata": {},
   "outputs": [],
   "source": [
    "import pandas as pd\n",
    "\n",
    "def sum_first_three(df):\n",
    "    values = df['Values']\n",
    "    sum_of_first_three = sum(values[:3])\n",
    "    print(sum_of_first_three)\n"
   ]
  },
  {
   "cell_type": "code",
   "execution_count": 14,
   "id": "0d2e6150-37fe-457b-b3be-e2cefa684a6f",
   "metadata": {},
   "outputs": [
    {
     "name": "stdout",
     "output_type": "stream",
     "text": [
      "60\n"
     ]
    }
   ],
   "source": [
    "df = pd.DataFrame({'Values': [10, 20, 30, 40, 50]})\n",
    "sum_first_three(df)\n"
   ]
  },
  {
   "cell_type": "code",
   "execution_count": null,
   "id": "b94c06be-f312-44da-ac2f-f8c2800e77aa",
   "metadata": {},
   "outputs": [],
   "source": [
    "Q4. Given a Pandas DataFrame df with a column 'Text', write a Python function to create a new column\n",
    "'Word_Count' that contains the number of words in each row of the 'Text' column."
   ]
  },
  {
   "cell_type": "code",
   "execution_count": 15,
   "id": "9e573dc3-3322-49e4-b826-7732673cd035",
   "metadata": {},
   "outputs": [],
   "source": [
    "import pandas as pd\n",
    "\n",
    "def count_words(df):\n",
    "    df['Word_Count'] = df['Text'].apply(lambda x: len(str(x).split()))\n",
    "    return df\n",
    "\n"
   ]
  },
  {
   "cell_type": "code",
   "execution_count": 16,
   "id": "8f295c96-c7b9-4651-850a-805bab96f48b",
   "metadata": {},
   "outputs": [
    {
     "name": "stdout",
     "output_type": "stream",
     "text": [
      "                           Text  Word_Count\n",
      "0        This is a sample text.           5\n",
      "1  Here is another sample text.           5\n"
     ]
    }
   ],
   "source": [
    "df = pd.DataFrame({'Text': ['This is a sample text.', 'Here is another sample text.']})\n",
    "df = count_words(df)\n",
    "print(df)\n"
   ]
  },
  {
   "cell_type": "code",
   "execution_count": null,
   "id": "c38f38c3-d48c-4723-a368-296d62d56082",
   "metadata": {},
   "outputs": [],
   "source": [
    "Q5. How are DataFrame.size() and DataFrame.shape() different?"
   ]
  },
  {
   "cell_type": "markdown",
   "id": "5bca126a-228b-4928-a112-5ab6aa5163c2",
   "metadata": {},
   "source": [
    "Both DataFrame.size() and DataFrame.shape() are methods of a Pandas DataFrame that can be used to obtain information about the structure and size of a DataFrame. However, they differ in what information they provide.\n",
    "\n",
    "The DataFrame.size() method returns the total number of elements in the DataFrame, which is equal to the number of rows multiplied by the number of columns. This includes all the elements, whether they are null or not.\n",
    "\n",
    "On the other hand, the DataFrame.shape() method returns a tuple representing the dimensions of the DataFrame. The tuple contains two values, the number of rows and the number of columns. It provides a more concise summary of the DataFrame structure than size().\n",
    "\n",
    "For example, if a DataFrame has 100 rows and 5 columns, size() will return 500 (100 x 5), while shape() will return (100, 5).\n",
    "\n",
    "In summary, size() returns the total number of elements, while shape() returns the dimensions of the DataFrame."
   ]
  },
  {
   "cell_type": "code",
   "execution_count": null,
   "id": "f75ce374-201a-4c77-94af-07995586474b",
   "metadata": {},
   "outputs": [],
   "source": [
    "Q6. Which function of pandas do we use to read an excel file?"
   ]
  },
  {
   "cell_type": "markdown",
   "id": "aa23e2db-b831-42c3-9e4f-47e215653191",
   "metadata": {},
   "source": [
    "To read an Excel file in Pandas, we use the read_excel() function. This function is a part of the Pandas library and allows us to read data from an Excel file into a Pandas DataFrame.\n",
    "\n",
    "The read_excel() function has several parameters that can be used to customize the behavior of the function, such as the sheet name or number, the range of rows and columns to read, the header row, and the data types of the columns."
   ]
  },
  {
   "cell_type": "code",
   "execution_count": null,
   "id": "42df2649-d7c0-48b6-81cb-0b696413f9b2",
   "metadata": {},
   "outputs": [],
   "source": [
    "import pandas as pd\n",
    "\n",
    "df = pd.read_excel('filename.xlsx')\n",
    "\n",
    "print(df.head())\n"
   ]
  },
  {
   "cell_type": "code",
   "execution_count": null,
   "id": "893b0383-d0eb-43c7-bca8-23bf9f0176e0",
   "metadata": {},
   "outputs": [],
   "source": [
    "Q7. You have a Pandas DataFrame df that contains a column named 'Email' that contains email\n",
    "addresses in the format 'username@domain.com'. Write a Python function that creates a new column\n",
    "'Username' in df that contains only the username part of each email address.\n",
    "The username is the part of the email address that appears before the '@' symbol. For example, if the\n",
    "email address is 'john.doe@example.com', the 'Username' column should contain 'john.doe'. Your\n",
    "function should extract the username from each email address and store it in the new 'Username'\n",
    "column."
   ]
  },
  {
   "cell_type": "code",
   "execution_count": null,
   "id": "32b959c8-a853-4473-860e-37b75f7e6564",
   "metadata": {},
   "outputs": [],
   "source": [
    "def extract_username(df):\n",
    "   \n",
    "    df['Username'] = df['Email'].str.split('@').str[0]\n",
    "    \n",
    "    return df\n"
   ]
  },
  {
   "cell_type": "code",
   "execution_count": null,
   "id": "c8554c8c-6646-428d-8766-927ebb62fb4d",
   "metadata": {},
   "outputs": [],
   "source": [
    "df = extract_username(df)\n"
   ]
  },
  {
   "cell_type": "code",
   "execution_count": null,
   "id": "a1683f9d-06da-480f-ae0a-cd7730602cd8",
   "metadata": {},
   "outputs": [],
   "source": [
    "Q8. You have a Pandas DataFrame df with columns 'A', 'B', and 'C'. Write a Python function that selects\n",
    "all rows where the value in column 'A' is greater than 5 and the value in column 'B' is less than 10. The\n",
    "function should return a new DataFrame that contains only the selected rows.\n",
    "For example, if df contains the following values:\n",
    "A B C\n",
    "0 3 5 1\n",
    "1 8 2 7\n",
    "2 6 9 4\n",
    "3 2 3 5\n",
    "4 9 1 2\n",
    "\n",
    "Your function should select the following rows: A B C\n",
    "1 8 2 7\n",
    "4 9 1 2\n",
    "The function should return a new DataFrame that contains only the selected rows."
   ]
  },
  {
   "cell_type": "code",
   "execution_count": 21,
   "id": "e6b0167f-16ce-418e-905c-91e72c9029e4",
   "metadata": {},
   "outputs": [],
   "source": [
    "import pandas as pd\n",
    "\n",
    "def select_rows(df):\n",
    "    selected_rows = df[(df['A'] > 5) & (df['B'] < 10)]\n",
    "    return selected_rows\n"
   ]
  },
  {
   "cell_type": "code",
   "execution_count": 22,
   "id": "88f5ce83-70ec-4193-b33c-85342676c18b",
   "metadata": {},
   "outputs": [
    {
     "name": "stdout",
     "output_type": "stream",
     "text": [
      "   A  B  C\n",
      "1  8  2  7\n",
      "2  6  9  4\n",
      "4  9  1  2\n"
     ]
    }
   ],
   "source": [
    "df = pd.DataFrame({'A': [3, 8, 6, 2, 9], 'B': [5, 2, 9, 3, 1], 'C': [1, 7, 4, 5, 2]})\n",
    "selected_rows = select_rows(df)\n",
    "print(selected_rows)\n"
   ]
  },
  {
   "cell_type": "code",
   "execution_count": null,
   "id": "3624a84e-9a1c-4d3c-8d31-4be752a052a1",
   "metadata": {},
   "outputs": [],
   "source": [
    "Q9. Given a Pandas DataFrame df with a column 'Values', write a Python function to calculate the mean,\n",
    "median, and standard deviation of the values in the 'Values' column."
   ]
  },
  {
   "cell_type": "code",
   "execution_count": 23,
   "id": "f181cd2d-41a9-46fb-ba34-85e1f3ad0acc",
   "metadata": {},
   "outputs": [],
   "source": [
    "\n",
    "def calculate_stats(df):\n",
    "    mean = df['Values'].mean()\n",
    "    median = df['Values'].median()\n",
    "    std_dev = df['Values'].std()\n",
    "    return mean, median, std_dev\n"
   ]
  },
  {
   "cell_type": "code",
   "execution_count": 24,
   "id": "579b0604-d706-4bbe-9582-bd9f61597ff7",
   "metadata": {},
   "outputs": [
    {
     "name": "stdout",
     "output_type": "stream",
     "text": [
      "Mean:  3.0\n",
      "Median:  3.0\n",
      "Standard deviation:  1.5811388300841898\n"
     ]
    }
   ],
   "source": [
    "df = pd.DataFrame({'Values': [1, 2, 3, 4, 5]})\n",
    "mean, median, std_dev = calculate_stats(df)\n",
    "print(\"Mean: \", mean)\n",
    "print(\"Median: \", median)\n",
    "print(\"Standard deviation: \", std_dev)\n"
   ]
  },
  {
   "cell_type": "code",
   "execution_count": null,
   "id": "4075cdac-ca30-4dfe-a435-7f28539c7185",
   "metadata": {},
   "outputs": [],
   "source": [
    "Q10. Given a Pandas DataFrame df with a column 'Sales' and a column 'Date', write a Python function to\n",
    "create a new column 'MovingAverage' that contains the moving average of the sales for the past 7 days\n",
    "for each row in the DataFrame. The moving average should be calculated using a window of size 7 and\n",
    "should include the current day."
   ]
  },
  {
   "cell_type": "code",
   "execution_count": 25,
   "id": "3a170448-70bc-4d58-b6fb-dcc0ecb6ce55",
   "metadata": {},
   "outputs": [],
   "source": [
    "import pandas as pd\n",
    "\n",
    "def add_moving_average(df):\n",
    "    df['MovingAverage'] = df['Sales'].rolling(window=7, min_periods=1).mean()\n",
    "    return df\n"
   ]
  },
  {
   "cell_type": "code",
   "execution_count": 28,
   "id": "cd97d2a9-dffd-421c-82cf-fcc791a0d643",
   "metadata": {},
   "outputs": [],
   "source": [
    "df = add_moving_average(df)\n"
   ]
  },
  {
   "cell_type": "code",
   "execution_count": null,
   "id": "fedab6df-e398-44cd-b37b-2a1ee4cc32fa",
   "metadata": {},
   "outputs": [],
   "source": [
    "Q11. You have a Pandas DataFrame df with a column 'Date'. Write a Python function that creates a new\n",
    "column 'Weekday' in the DataFrame. The 'Weekday' column should contain the weekday name (e.g.\n",
    "Monday, Tuesday) corresponding to each date in the 'Date' column.\n",
    "For example, if df contains the following values:\n",
    "Date\n",
    "0 2023-01-01\n",
    "1 2023-01-02\n",
    "2 2023-01-03\n",
    "3 2023-01-04\n",
    "4 2023-01-05\n",
    "Your function should create the following DataFrame:\n",
    "\n",
    "Date Weekday\n",
    "0 2023-01-01 Sunday\n",
    "1 2023-01-02 Monday\n",
    "2 2023-01-03 Tuesday\n",
    "3 2023-01-04 Wednesday\n",
    "4 2023-01-05 Thursday\n",
    "The function should return the modified DataFrame."
   ]
  },
  {
   "cell_type": "code",
   "execution_count": null,
   "id": "f72f3f46-6b2d-4dc0-93f9-341ef87e6f91",
   "metadata": {},
   "outputs": [],
   "source": [
    "import pandas as pd\n",
    "\n",
    "def add_weekday(df):\n",
    "    df['Weekday'] = df['Date'].dt.strftime('%A')\n",
    "    return df\n"
   ]
  },
  {
   "cell_type": "code",
   "execution_count": null,
   "id": "d2159f36-0ed5-438b-a520-567c404b2439",
   "metadata": {},
   "outputs": [],
   "source": [
    "df = add_weekday(df)"
   ]
  },
  {
   "cell_type": "code",
   "execution_count": null,
   "id": "9849beb9-eea5-4fb6-b83e-78f61066bbfb",
   "metadata": {},
   "outputs": [],
   "source": [
    "df['Date'] = pd.to_datetime(df['Date'])\n"
   ]
  },
  {
   "cell_type": "code",
   "execution_count": null,
   "id": "f90cca79-a1c1-47b9-9df1-d4c98a9106f6",
   "metadata": {},
   "outputs": [],
   "source": [
    "Q12. Given a Pandas DataFrame df with a column 'Date' that contains timestamps, write a Python\n",
    "function to select all rows where the date is between '2023-01-01' and '2023-01-31'."
   ]
  },
  {
   "cell_type": "code",
   "execution_count": null,
   "id": "ce4bc58a-a181-4e2c-b57c-26eba85e07ff",
   "metadata": {},
   "outputs": [],
   "source": [
    "import pandas as pd\n",
    "\n",
    "def select_january(df):\n",
    "    start_date = '2023-01-01'\n",
    "    end_date = '2023-01-31'\n",
    "    mask = (df['Date'] >= start_date) & (df['Date'] <= end_date)\n",
    "    january_df = df.loc[mask]\n",
    "    return january_df\n"
   ]
  },
  {
   "cell_type": "code",
   "execution_count": null,
   "id": "bfd4ac3d-d3b5-4c92-b75f-4fa042f304e9",
   "metadata": {},
   "outputs": [],
   "source": [
    "january_df = select_january(df)\n"
   ]
  },
  {
   "cell_type": "code",
   "execution_count": null,
   "id": "4ac43e35-088f-44b6-9901-db4bd0abe979",
   "metadata": {},
   "outputs": [],
   "source": [
    "df['Date'] = pd.to_datetime(df['Date'])\n"
   ]
  },
  {
   "cell_type": "code",
   "execution_count": null,
   "id": "484feddc-19c0-4157-95e1-9cf51e94ed44",
   "metadata": {},
   "outputs": [],
   "source": [
    "Q13. To use the basic functions of pandas, what is the first and foremost necessary library that needs to\n",
    "be imported?"
   ]
  },
  {
   "cell_type": "markdown",
   "id": "a806c654-5c1a-4645-ba89-018a9d438c13",
   "metadata": {},
   "source": [
    "To use the basic functions of Pandas, the first and foremost necessary library that needs to be imported is Pandas itself.\n",
    "\n",
    "You can import Pandas in your Python script or notebook by using the following statement:\n",
    "\n",
    "import pandas as pd\n",
    "This statement imports the Pandas library and creates an alias 'pd' that you can use to reference the library's functions and objects in your code.\n",
    "\n",
    "Once you have imported Pandas, you can use its functions and methods to create, manipulate, and analyze data in the form of Pandas DataFrames and Series.\n",
    "\n",
    "\n",
    "\n",
    "\n"
   ]
  },
  {
   "cell_type": "code",
   "execution_count": null,
   "id": "b9ceccaf-e7d5-4019-bcf5-5922ffe56948",
   "metadata": {},
   "outputs": [],
   "source": []
  },
  {
   "cell_type": "code",
   "execution_count": null,
   "id": "15dd4a88-ee88-4964-b335-5a3797b3f65b",
   "metadata": {},
   "outputs": [],
   "source": []
  }
 ],
 "metadata": {
  "kernelspec": {
   "display_name": "Python 3 (ipykernel)",
   "language": "python",
   "name": "python3"
  },
  "language_info": {
   "codemirror_mode": {
    "name": "ipython",
    "version": 3
   },
   "file_extension": ".py",
   "mimetype": "text/x-python",
   "name": "python",
   "nbconvert_exporter": "python",
   "pygments_lexer": "ipython3",
   "version": "3.10.8"
  }
 },
 "nbformat": 4,
 "nbformat_minor": 5
}
