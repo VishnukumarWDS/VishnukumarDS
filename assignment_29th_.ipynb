{
 "cells": [
  {
   "cell_type": "raw",
   "id": "2a22fa43-82ce-47dc-b8eb-68fe76b42f5f",
   "metadata": {},
   "source": [
    "1. Who developed Python Programming Language?\n",
    "Ans: Guido van Rossum"
   ]
  },
  {
   "cell_type": "raw",
   "id": "1c5b2412-e4cf-40e0-9c8e-848a6ab40d3e",
   "metadata": {},
   "source": []
  },
  {
   "cell_type": "raw",
   "id": "ab5a7f05-3264-4dc4-8760-cdaf84a4ef9b",
   "metadata": {},
   "source": [
    "2. Which type of Programming does Python support?\n",
    "Ans: It support  Object-oriented programming and structured programming. "
   ]
  },
  {
   "cell_type": "code",
   "execution_count": null,
   "id": "5afeb4c4-ffce-4c95-9312-6ec881a2c3e5",
   "metadata": {},
   "outputs": [],
   "source": []
  },
  {
   "cell_type": "raw",
   "id": "bd64b3bf-6f9c-40d0-ad2e-92fc375aa52d",
   "metadata": {},
   "source": [
    "3. Is Python case sensitive when dealing with identifiers?\n",
    "Ans: It is Sensitive case."
   ]
  },
  {
   "cell_type": "code",
   "execution_count": null,
   "id": "8d30772a-3a31-494e-a6e9-a978e3394bac",
   "metadata": {},
   "outputs": [],
   "source": []
  },
  {
   "cell_type": "raw",
   "id": "b5aef355-51ef-4405-a7d9-22da65d98e12",
   "metadata": {},
   "source": [
    "4. What is the correct extension of the Python file?\n",
    "Ans: Python extension is .py"
   ]
  },
  {
   "cell_type": "code",
   "execution_count": null,
   "id": "9c980e6c-d790-41df-9eea-8f29d21ad65b",
   "metadata": {},
   "outputs": [],
   "source": []
  },
  {
   "cell_type": "raw",
   "id": "8aa2460c-6652-45d7-ab7d-f10a8271de69",
   "metadata": {},
   "source": [
    "5. Is Python code compiled or interpreted?\n",
    "Ans: It is an Interpreter."
   ]
  },
  {
   "cell_type": "code",
   "execution_count": null,
   "id": "1c15ce9c-0af9-40dc-8b8e-3a3edb0a6697",
   "metadata": {},
   "outputs": [],
   "source": []
  },
  {
   "cell_type": "raw",
   "id": "38b56bee-948d-4ca9-bcde-3f30f114d09e",
   "metadata": {},
   "source": [
    "6. Name a few blocks of code used to define in Python language?\n",
    "Ans: It python we use {} for block of code."
   ]
  },
  {
   "cell_type": "code",
   "execution_count": null,
   "id": "539446ee-36a7-4898-9179-d695eaebdb33",
   "metadata": {},
   "outputs": [],
   "source": []
  },
  {
   "cell_type": "raw",
   "id": "b8d5ec47-c82a-4b92-86ff-fd5fa2de86ee",
   "metadata": {},
   "source": [
    "7. State a character used to give single-line comments in Python?\n",
    "Ans: single # comments of line "
   ]
  },
  {
   "cell_type": "code",
   "execution_count": null,
   "id": "21bbb554-5cc0-474d-b699-637e3f614dbf",
   "metadata": {},
   "outputs": [],
   "source": []
  },
  {
   "cell_type": "raw",
   "id": "0a1d6176-6749-4237-8e06-197efe82fc31",
   "metadata": {},
   "source": [
    "8. Mention functions which can help us to find the version of python that we are currently working on?\n",
    "Ans:sys.version"
   ]
  },
  {
   "cell_type": "code",
   "execution_count": null,
   "id": "89479a4e-910d-4b73-a12f-8c4bfd823a51",
   "metadata": {},
   "outputs": [],
   "source": []
  },
  {
   "cell_type": "raw",
   "id": "0e1c06d1-7448-4493-a7c2-827083999c6e",
   "metadata": {},
   "source": [
    "9. Python supports the creation of anonymous functions at runtime, using a construct called\n",
    "Ans: lambda function"
   ]
  },
  {
   "cell_type": "code",
   "execution_count": null,
   "id": "8fdd5d82-ed08-4b85-9ab0-f33a27bdaf47",
   "metadata": {},
   "outputs": [],
   "source": []
  },
  {
   "cell_type": "code",
   "execution_count": null,
   "id": "f4d17afc-8fbd-472a-9d2c-3f3cd9c4f16d",
   "metadata": {},
   "outputs": [],
   "source": [
    "10. What does pip stand for python?\n",
    "Ans: Preferred Installer Program"
   ]
  },
  {
   "cell_type": "code",
   "execution_count": null,
   "id": "54673489-4112-46d7-96b0-f161678a8e35",
   "metadata": {},
   "outputs": [],
   "source": []
  },
  {
   "cell_type": "raw",
   "id": "d215b74b-dd32-4af6-8015-023476baeb99",
   "metadata": {},
   "source": [
    "11. Mention a few built-in functions in python?\n",
    "Ans: print(),input(),upper(),lower(),abs(),max(),min() etc.."
   ]
  },
  {
   "cell_type": "code",
   "execution_count": null,
   "id": "9a3cd41a-4630-47a4-9d9c-e3473f0a9001",
   "metadata": {},
   "outputs": [],
   "source": []
  },
  {
   "cell_type": "raw",
   "id": "a7c99cb0-50ca-479f-a72e-0b0825a74ffe",
   "metadata": {},
   "source": [
    "12. What is the maximum possible length of an identifier in Python?\n",
    "Ans: An identifier can have a maximum length of 79 characters in Python"
   ]
  },
  {
   "cell_type": "code",
   "execution_count": null,
   "id": "98f15a70-a397-428a-9753-b4a041bea52d",
   "metadata": {},
   "outputs": [],
   "source": []
  },
  {
   "cell_type": "raw",
   "id": "8f7b469c-ea4a-4862-95d5-4be62dd1f631",
   "metadata": {},
   "source": [
    "13. What are the benefits of using Python?\n",
    "Ans: It is used in many field like web development,Data science,Gaming,System graphics"
   ]
  },
  {
   "cell_type": "raw",
   "id": "625a98fe-2b2b-499e-b6ef-ff2ece26aafe",
   "metadata": {},
   "source": []
  },
  {
   "cell_type": "raw",
   "id": "b2ed2c94-347a-463b-a044-f9eb1942f302",
   "metadata": {},
   "source": [
    "14. How is memory managed in Python?\n",
    "Ans: Ans: Memory management in Python involves a private heap containing all Python objects and data structures."
   ]
  },
  {
   "cell_type": "code",
   "execution_count": null,
   "id": "a9666012-ec75-4195-9bde-bbe5e90c23e0",
   "metadata": {},
   "outputs": [],
   "source": []
  },
  {
   "cell_type": "raw",
   "id": "8fe29e22-a81e-4ca3-badb-8c31d32d17a1",
   "metadata": {},
   "source": [
    "15. How to install Python on Windows and set path variables?\n",
    "Ans: Go to python.org on google and check for the latest update and download it.\n",
    "To add Path \n",
    "1.Right-clicking This PC and going to Properties.\n",
    "2.Clicking on the Advanced system settings in the menu on the left.\n",
    "3.Clicking on the Environment Variables button on the bottom right.\n",
    "4.In the System variables section, selecting the Path variable and clicking on Edit."
   ]
  },
  {
   "cell_type": "code",
   "execution_count": null,
   "id": "c21a773c-a4de-447b-b061-dbb783007c0e",
   "metadata": {},
   "outputs": [],
   "source": []
  },
  {
   "cell_type": "raw",
   "id": "eb55f456-440b-4893-a4ee-c73938764265",
   "metadata": {},
   "source": [
    "16. Is indentation required in python?\n",
    "Ans: Yes,Indentation is mandatory or else it show errors"
   ]
  }
 ],
 "metadata": {
  "kernelspec": {
   "display_name": "Python 3 (ipykernel)",
   "language": "python",
   "name": "python3"
  },
  "language_info": {
   "codemirror_mode": {
    "name": "ipython",
    "version": 3
   },
   "file_extension": ".py",
   "mimetype": "text/x-python",
   "name": "python",
   "nbconvert_exporter": "python",
   "pygments_lexer": "ipython3",
   "version": "3.10.8"
  }
 },
 "nbformat": 4,
 "nbformat_minor": 5
}
