{
 "cells": [
  {
   "cell_type": "markdown",
   "id": "26129cd8-aab0-4a3f-9d34-47da3a694095",
   "metadata": {},
   "source": [
    "### 1. Who developed Python Programming Language?\n",
    "### Ans: Guido van Rossum"
   ]
  },
  {
   "cell_type": "markdown",
   "id": "8ef29299-4f31-4f18-aeb8-454487b8f362",
   "metadata": {},
   "source": [
    "### 2. Which type of Programming does Python support?\n",
    "### Ans: It support  Object-oriented programming and structured programming. "
   ]
  },
  {
   "cell_type": "markdown",
   "id": "a3e635fc-9c49-4b81-aea0-f5be0e0b1cd6",
   "metadata": {},
   "source": [
    "### 3. Is Python case sensitive when dealing with identifiers?\n",
    "### Ans: It is Sensitive case."
   ]
  },
  {
   "cell_type": "markdown",
   "id": "fbad2223-759d-4dd3-b2f6-709838bfd8ed",
   "metadata": {},
   "source": [
    "### 4. What is the correct extension of the Python file?\n",
    "### Ans: Python extension is .py"
   ]
  },
  {
   "cell_type": "markdown",
   "id": "f8d980c9-ca82-4d6c-a19a-25601ff764f8",
   "metadata": {},
   "source": [
    "### 5. Is Python code compiled or interpreted?\n",
    "### Ans: It is an Interpreter."
   ]
  },
  {
   "cell_type": "markdown",
   "id": "3236179c-816b-4564-a3da-916338edbf99",
   "metadata": {},
   "source": [
    "### 6. Name a few blocks of code used to define in Python language?\n",
    "### Ans: It python we use {} for block of code."
   ]
  },
  {
   "cell_type": "markdown",
   "id": "018a5bcb-4f4d-4394-8d83-8fb529b2102c",
   "metadata": {},
   "source": [
    "### 7. State a character used to give single-line comments in Python?\n",
    "### Ans: single # comments of line "
   ]
  },
  {
   "cell_type": "markdown",
   "id": "788a7a26-0cb8-41b5-8a24-04bec124c65a",
   "metadata": {},
   "source": [
    "### 8. Mention functions which can help us to find the version of python that we are currently working on?\n",
    "### Ans: sys.version"
   ]
  },
  {
   "cell_type": "markdown",
   "id": "4320bc7a-fdca-4037-a7f8-b6a904d5a9b6",
   "metadata": {},
   "source": [
    "### 9. Python supports the creation of anonymous functions at runtime, using a construct called\n",
    "### Ans: lambda function"
   ]
  },
  {
   "cell_type": "markdown",
   "id": "3f0a479e-b969-4e6b-9177-c139d534cd78",
   "metadata": {},
   "source": [
    "### 10. What does pip stand for python?\n",
    "### Ans: Preferred Installer Program"
   ]
  },
  {
   "cell_type": "markdown",
   "id": "8265591f-71ef-4afe-8f87-efd02746045e",
   "metadata": {},
   "source": [
    "### 11. Mention a few built-in functions in python?\n",
    "### Ans: print(),input(),upper(),lower(),abs(),max(),min() etc.."
   ]
  },
  {
   "cell_type": "markdown",
   "id": "95c8b577-317a-413c-85bd-4e12506f5b0c",
   "metadata": {},
   "source": [
    "### 12. What is the maximum possible length of an identifier in Python?\n",
    "### Ans: An identifier can have a maximum length of 79 characters in Python"
   ]
  },
  {
   "cell_type": "markdown",
   "id": "92f7632d-d601-4aaa-8c68-a2a7b93eef7d",
   "metadata": {},
   "source": [
    "### 13. What are the benefits of using Python?\n",
    "### Ans: It is used in many field like web development,Data science,Gaming,System graphics"
   ]
  },
  {
   "cell_type": "markdown",
   "id": "7831e055-c3f8-4778-86f4-b38b7c89036b",
   "metadata": {},
   "source": [
    "### 14. How is memory managed in Python?\n",
    "### Ans: Ans: Memory management in Python involves a private heap containing all Python objects and data structures."
   ]
  },
  {
   "cell_type": "markdown",
   "id": "f1318bb8-c177-4818-94bd-b7b8698b3fc7",
   "metadata": {},
   "source": [
    "### 15. How to install Python on Windows and set path variables?\n",
    "### Ans: Go to python.org on google and check for the latest update and download it.\n",
    "### To add Path \n",
    "### 1.Right-clicking This PC and going to Properties.\n",
    "### 2.Clicking on the Advanced system settings in the menu on the left.\n",
    "### 3.Clicking on the Environment Variables button on the bottom right.\n",
    "### 4.In the System variables section, selecting the Path variable and clicking on Edit."
   ]
  },
  {
   "cell_type": "markdown",
   "id": "b68f87a6-8644-441c-97fe-e06afc2dfd6e",
   "metadata": {},
   "source": [
    "### 16. Is indentation required in python?\n",
    "### Ans: Yes,Indentation is mandatory or else it show errors"
   ]
  },
  {
   "cell_type": "code",
   "execution_count": null,
   "id": "6697dde2-4fe9-48b8-9b27-cf2f13708dee",
   "metadata": {},
   "outputs": [],
   "source": []
  }
 ],
 "metadata": {
  "kernelspec": {
   "display_name": "Python 3 (ipykernel)",
   "language": "python",
   "name": "python3"
  },
  "language_info": {
   "codemirror_mode": {
    "name": "ipython",
    "version": 3
   },
   "file_extension": ".py",
   "mimetype": "text/x-python",
   "name": "python",
   "nbconvert_exporter": "python",
   "pygments_lexer": "ipython3",
   "version": "3.10.8"
  }
 },
 "nbformat": 4,
 "nbformat_minor": 5
}
