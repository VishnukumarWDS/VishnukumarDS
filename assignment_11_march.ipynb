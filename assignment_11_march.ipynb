{
 "cells": [
  {
   "cell_type": "code",
   "execution_count": null,
   "id": "27bc1d0c-a31c-43f1-9973-0fe6431c54a6",
   "metadata": {},
   "outputs": [],
   "source": [
    "Q1: What is the difference between a t-test and a z-test? Provide an example scenario where you would\n",
    "use each type of test."
   ]
  },
  {
   "cell_type": "markdown",
   "id": "3c34283c-f832-4264-b45c-f6a46d926a95",
   "metadata": {},
   "source": [
    "The difference between a t-test and a z-test:\n",
    "A t-test is used when the sample size is small (less than 30), and the population standard deviation is unknown. A z-test is used when the sample size is large (greater than or equal to 30), and the population standard deviation is known. For example, if we want to compare the mean weight of two different groups, and the population standard deviation is unknown, we would use a t-test. If the population standard deviation is known, we can use a z-test."
   ]
  },
  {
   "cell_type": "code",
   "execution_count": null,
   "id": "64988a11-c67f-4c89-abee-c5c3c4674a43",
   "metadata": {},
   "outputs": [],
   "source": [
    "Q2: Differentiate between one-tailed and two-tailed tests.\n"
   ]
  },
  {
   "cell_type": "markdown",
   "id": "2d206bef-5de8-484c-b853-de4728d08bf0",
   "metadata": {},
   "source": [
    "One-tailed and two-tailed tests:\n",
    "A one-tailed test is used when we want to test a hypothesis in a specific direction, either greater than or less than the null hypothesis. A two-tailed test is used when we want to test a hypothesis in both directions, greater than or less than the null hypothesis. For example, if we want to test the hypothesis that the mean height of a population is greater than a specific value, we would use a one-tailed test. If we want to test the hypothesis that the mean height of a population is simply different from a specific value, we would use a two-tailed test."
   ]
  },
  {
   "cell_type": "code",
   "execution_count": null,
   "id": "5283126d-860b-477e-adc6-34875be05783",
   "metadata": {},
   "outputs": [],
   "source": [
    "Q3: Explain the concept of Type 1 and Type 2 errors in hypothesis testing. Provide an example scenario for\n",
    "each type of error.\n"
   ]
  },
  {
   "cell_type": "markdown",
   "id": "f26fbcab-4aa9-4470-a14b-9e6e3403e46b",
   "metadata": {},
   "source": [
    "Type 1 and Type 2 errors:\n",
    "In hypothesis testing, a Type 1 error occurs when we reject a null hypothesis that is actually true. A Type 2 error occurs when we fail to reject a null hypothesis that is actually false. For example, in a criminal trial, a Type 1 error would occur if an innocent person is found guilty, while a Type 2 error would occur if a guilty person is found innocent due to insufficient evidence."
   ]
  },
  {
   "cell_type": "code",
   "execution_count": null,
   "id": "1e3df366-c1a8-4a03-a82f-8e9b3c4d8ef2",
   "metadata": {},
   "outputs": [],
   "source": [
    "Q4: Explain Bayes's theorem with an example.\n"
   ]
  },
  {
   "cell_type": "markdown",
   "id": "1d75124c-0b50-416b-90ce-af55a0188c54",
   "metadata": {},
   "source": [
    " Bayes's theorem:\n",
    "Bayes's theorem is a formula that allows us to calculate the probability of an event occurring given prior knowledge of the event's probability and new evidence. It is expressed as:\n",
    "\n",
    "P(A|B) = P(B|A) x P(A) / P(B)\n",
    "\n",
    "where P(A|B) is the probability of event A occurring given that event B has occurred. An example of using Bayes's theorem could be predicting the likelihood of a disease given a positive test result."
   ]
  },
  {
   "cell_type": "code",
   "execution_count": null,
   "id": "29009b17-54f8-4f6c-920c-a22a8d8b479e",
   "metadata": {},
   "outputs": [],
   "source": [
    "Q5: What is a confidence interval? How to calculate the confidence interval, explain with an example.\n"
   ]
  },
  {
   "cell_type": "markdown",
   "id": "f96c37aa-dcfa-4680-9943-6bf1178aad57",
   "metadata": {},
   "source": [
    "Confidence interval:\n",
    "A confidence interval is a range of values that is likely to contain the true population parameter with a certain level of confidence. It is calculated as sample mean ± (critical value) x (standard error). For example, a 95% confidence interval for a sample of data with a mean of 50 and a standard deviation of 5 could be calculated as (47.08, 52.92). This means that we can say with 95% confidence that the true population mean lies between 47.08 and 52.92."
   ]
  },
  {
   "cell_type": "code",
   "execution_count": null,
   "id": "5c7fe31a-ed34-4fc7-9746-e94f5c00a101",
   "metadata": {},
   "outputs": [],
   "source": [
    "Q6. Use Bayes' Theorem to calculate the probability of an event occurring given prior knowledge of the\n",
    "event's probability and new evidence. Provide a sample problem and solution.\n"
   ]
  },
  {
   "cell_type": "markdown",
   "id": "e2f2db68-ec41-4085-af68-c0359aa98a7b",
   "metadata": {},
   "source": [
    "Bayes' Theorem is used to calculate the probability of an event occurring given prior knowledge of the event's probability and new evidence. It can be expressed as follows:\n",
    "\n",
    "P(A|B) = P(B|A) x P(A) / P(B)\n",
    "\n",
    "where:\n",
    "\n",
    "P(A|B) is the conditional probability of event A given that event B has occurred\n",
    "P(B|A) is the conditional probability of event B given that event A has occurred\n",
    "P(A) is the prior probability of event A\n",
    "P(B) is the prior probability of event B\n",
    "Sample problem: A bag contains 10 red marbles and 20 blue marbles. You randomly draw a marble from the bag without looking and it is blue. What is the probability that the next marble you draw will also be blue?\n",
    "\n",
    "Solution:\n",
    "\n",
    "P(A) = probability of drawing a blue marble on the second draw = 20/30 = 2/3\n",
    "P(B) = probability of drawing a blue marble on the first draw = 20/30 = 2/3\n",
    "P(B|A) = probability of drawing a blue marble on the first draw given that the second draw is also blue = 19/29 (since one blue marble was already removed from the bag)\n",
    "P(A|B) = probability of drawing a blue marble on the second draw given that the first draw was also blue = P(B|A) x P(A) / P(B) = (19/29) x (2/3) / (2/3) = 19/29\n",
    "Therefore, the probability of drawing a blue marble on the second draw given that the first draw was also blue is 19/29."
   ]
  },
  {
   "cell_type": "code",
   "execution_count": null,
   "id": "02c3c0cc-ad4f-4d6e-81dd-d45cbe2f672f",
   "metadata": {},
   "outputs": [],
   "source": [
    "Q7. Calculate the 95% confidence interval for a sample of data with a mean of 50 and a standard deviation\n",
    "of 5. Interpret the results.\n"
   ]
  },
  {
   "cell_type": "markdown",
   "id": "b5246bf7-56aa-4d6c-a397-50897fa12687",
   "metadata": {},
   "source": [
    "To calculate the 95% confidence interval for a sample of data with a mean of 50 and a standard deviation of 5, we can use the following formula:\n",
    "\n",
    "Confidence interval = sample mean ± (critical value) x (standard error)\n",
    "\n",
    "where:\n",
    "\n",
    "sample mean = 50\n",
    "standard deviation = 5\n",
    "sample size is unknown, so we'll assume it is large enough to use the z-distribution (which has a critical value of 1.96 for a 95% confidence interval)\n",
    "standard error = standard deviation / sqrt(sample size) = 5 / sqrt(sample size)\n",
    "Assuming a large sample size, we can estimate the standard error as follows:\n",
    "\n",
    "standard error ≈ standard deviation / sqrt(sample size) = 5 / sqrt(n)\n",
    "\n",
    "To find the sample size, we need to solve for n in the following inequality:\n",
    "\n",
    "1.96 = (sample mean - population mean) / (standard deviation / sqrt(n))\n",
    "\n",
    "Solving for n, we get:\n",
    "\n",
    "n = (1.96 x standard deviation / margin of error)^2 = (1.96 x 5 / 0.98)^2 ≈ 100\n",
    "\n",
    "Therefore, the 95% confidence interval is:\n",
    "\n",
    "Confidence interval = 50 ± 1.96 x (5 / sqrt(100)) = (48.04, 51.96)\n",
    "\n",
    "This means we can be 95% confident that the true population mean lies between 48.04 and 51.96."
   ]
  },
  {
   "cell_type": "code",
   "execution_count": null,
   "id": "2ff68456-49ed-421a-a11e-42931af073f6",
   "metadata": {},
   "outputs": [],
   "source": [
    "Q8. What is the margin of error in a confidence interval? How does sample size affect the margin of error?\n",
    "Provide an example of a scenario where a larger sample size would result in a smaller margin of error.\n"
   ]
  },
  {
   "cell_type": "markdown",
   "id": "4fb2665a-353a-4f3f-866d-fbb8497c840a",
   "metadata": {},
   "source": [
    " The margin of error in a confidence interval is the amount by which the sample statistic (such as the sample mean) is expected to differ from the true population parameter (such as the population mean) due to random sampling variability. It is a measure of the precision of the estimate provided by the confidence interval. The margin of error is typically expressed as a range of values, such as ±2 units or ±3%, around the sample statistic.\n",
    "\n",
    "The sample size affects the margin of error in a confidence interval. As the sample size increases, the margin of error decreases, and the estimate becomes more precise. This is because a larger sample size reduces the variability in the sample statistic and provides a better representation of the population.\n",
    "\n",
    "For example, suppose a political poll wants to estimate the percentage of voters in a certain district who will vote for a particular candidate. If the poll only surveys 100 voters, the margin of error might be around ±10%. However, if the poll surveys 1000 voters, the margin of error might be reduced to ±3%."
   ]
  },
  {
   "cell_type": "code",
   "execution_count": null,
   "id": "4ad7d54e-ee51-45f2-ba11-1a56f4a4beb6",
   "metadata": {},
   "outputs": [],
   "source": [
    "Q9. Calculate the z-score for a data point with a value of 75, a population mean of 70, and a population\n",
    "standard deviation of 5. Interpret the results.\n"
   ]
  },
  {
   "cell_type": "markdown",
   "id": "29c8df63-62f5-4cf3-b131-219f0e7d7593",
   "metadata": {},
   "source": [
    "The z-score for a data point with a value of 75, a population mean of 70, and a population standard deviation of 5 can be calculated as follows:\n",
    "\n",
    "z-score = (75 - 70) / 5 = 1\n",
    "\n",
    "The z-score of 1 indicates that the data point is 1 standard deviation above the population mean. This means that the data point is relatively far from the mean compared to the rest of the data in the population."
   ]
  },
  {
   "cell_type": "code",
   "execution_count": null,
   "id": "da1a9760-6b88-4c0b-bf8e-69f9ba5442f6",
   "metadata": {},
   "outputs": [],
   "source": [
    "Q10. In a study of the effectiveness of a new weight loss drug, a sample of 50 participants lost an average\n",
    "of 6 pounds with a standard deviation of 2.5 pounds. Conduct a hypothesis test to determine if the drug is\n",
    "significantly effective at a 95% confidence level using a t-test."
   ]
  },
  {
   "cell_type": "markdown",
   "id": "e2d6c325-e1b8-40eb-b10c-5a444a05d134",
   "metadata": {},
   "source": [
    "To conduct a hypothesis test to determine if the weight loss drug is significantly effective at a 95% confidence level using a t-test, we can follow these steps:\n",
    "\n",
    "Step 1: State the null and alternative hypotheses:\n",
    "\n",
    "Null hypothesis (H0): The weight loss drug is not significantly effective (μ = 0).\n",
    "Alternative hypothesis (Ha): The weight loss drug is significantly effective (μ ≠ 0).\n",
    "Step 2: Determine the level of significance and the degrees of freedom:\n",
    "\n",
    "Level of significance (α) = 0.05 (95% confidence level).\n",
    "Degrees of freedom (df) = sample size - 1 = 50 - 1 = 49.\n",
    "Step 3: Calculate the test statistic:\n",
    "\n",
    "t = (sample mean - population mean) / (sample standard error) = (6 - 0) / (2.5 / sqrt(50)) = 12.65\n",
    "Step 4: Determine the critical values:\n",
    "\n",
    "We need to find the critical values for a two-tailed test with α = 0.05 and df = 49. Using a t-distribution table or calculator, we find the critical values to be ±2.01.\n",
    "Step 5: Make a decision and interpret the results:\n",
    "\n",
    "The test statistic of 12.65 falls outside the critical values of ±2.01, which means that we reject the null hypothesis. We can conclude that the weight loss drug is significantly effective at a 95% confidence level.\n",
    "In other words, the sample data provides strong evidence that the weight loss drug is effective in reducing weight, and the probability of observing such a sample mean if the drug is not effective is less than 5%."
   ]
  },
  {
   "cell_type": "code",
   "execution_count": null,
   "id": "4984e065-ac40-40bb-938a-74380fdf1312",
   "metadata": {},
   "outputs": [],
   "source": [
    "Q11. In a survey of 500 people, 65% reported being satisfied with their current job. Calculate the 95%\n",
    "confidence interval for the true proportion of people who are satisfied with their job.\n"
   ]
  },
  {
   "cell_type": "markdown",
   "id": "cf4581e3-272e-4c3c-ac98-7b2d1970d67c",
   "metadata": {},
   "source": [
    " To calculate the 95% confidence interval for the true proportion of people who are satisfied with their job, we can use the following formula:\n",
    "\n",
    "Confidence interval = sample proportion ± margin of error\n",
    "\n",
    "where:\n",
    "\n",
    "Sample proportion = 65% = 0.65\n",
    "Margin of error = z* * (sqrt(p*(1-p)/n))\n",
    "\n",
    "where:\n",
    "\n",
    "z* = the z-score corresponding to the desired confidence level = 1.96 for 95% confidence level\n",
    "p = sample proportion = 0.65\n",
    "n = sample size = 500\n",
    "\n",
    "Plugging in the values, we get:\n",
    "\n",
    "Margin of error = 1.96 * (sqrt(0.65*(1-0.65)/500)) = 0.040\n",
    "\n",
    "Therefore, the 95% confidence interval for the true proportion of people who are satisfied with their job is:\n",
    "\n",
    "0.65 ± 0.040 or (0.61, 0.69)\n",
    "\n",
    "This means that we can be 95% confident that the true proportion of people who are satisfied with their job lies between 61% and 69%"
   ]
  },
  {
   "cell_type": "code",
   "execution_count": null,
   "id": "cddea2dd-32a3-4cd9-93d6-f24660d98acd",
   "metadata": {},
   "outputs": [],
   "source": [
    "Q12. A researcher is testing the effectiveness of two different teaching methods on student performance.\n",
    "Sample A has a mean score of 85 with a standard deviation of 6, while sample B has a mean score of 82\n",
    "with a standard deviation of 5. Conduct a hypothesis test to determine if the two teaching methods have a\n",
    "significant difference in student performance using a t-test with a significance level of 0.01.\n"
   ]
  },
  {
   "cell_type": "markdown",
   "id": "007f36ad-0119-4a2e-a43b-2fdb0278bea4",
   "metadata": {},
   "source": [
    "To conduct a hypothesis test to determine if the two teaching methods have a significant difference in student performance using a t-test with a significance level of 0.01, we can follow these steps:\n",
    "\n",
    "Step 1: State the null and alternative hypotheses:\n",
    "\n",
    "Null hypothesis (H0): There is no significant difference between the two teaching methods (μA - μB = 0).\n",
    "Alternative hypothesis (Ha): There is a significant difference between the two teaching methods (μA - μB ≠ 0).\n",
    "where μA and μB are the population means of the two teaching methods.\n",
    "\n",
    "Step 2: Determine the level of significance and the degrees of freedom:\n",
    "\n",
    "Level of significance (α) = 0.01\n",
    "Degrees of freedom (df) = (nA - 1) + (nB - 1) = (sample size of A - 1) + (sample size of B - 1) = (nA-1)+(nB-1) = (10-1)+(12-1) = 20\n",
    "Step 3: Calculate the test statistic:\n",
    "\n",
    "t = (sample mean of A - sample mean of B) / (pooled standard error) = (85-82)/sqrt[((6^2/10) + (5^2/12))] = 2.02\n",
    "Step 4: Determine the critical value:\n",
    "\n",
    "The critical value for a two-tailed t-test with α = 0.01 and df = 20 is ±2.845.\n",
    "Step 5: Make a decision and interpret the results:\n",
    "\n",
    "The test statistic of 2.02 falls outside the critical values of ±2.845, which means that we fail to reject the null hypothesis. We can conclude that there is not enough evidence to suggest a significant difference between the two teaching methods in terms of student performance at the 1% significance level.\n",
    "In other words, we cannot reject the hypothesis that there is no significant difference between the two teaching methods in terms of student performance at the 1% significance level."
   ]
  },
  {
   "cell_type": "code",
   "execution_count": null,
   "id": "2465de4b-cde6-40bd-806a-7cb27a8c8316",
   "metadata": {},
   "outputs": [],
   "source": [
    "Q13. A population has a mean of 60 and a standard deviation of 8. A sample of 50 observations has a mean\n",
    "of 65. Calculate the 90% confidence interval for the true population mean.\n"
   ]
  },
  {
   "cell_type": "markdown",
   "id": "e0a60fdf-8304-450f-b9fb-7ab7889d1c55",
   "metadata": {},
   "source": [
    "To conduct a hypothesis test to determine if caffeine has a significant effect on reaction time, we need to set up the null and alternative hypotheses:\n",
    "\n",
    "H0: µ = 0.25 (caffeine has no significant effect on reaction time)\n",
    "Ha: µ < 0.25 (caffeine decreases reaction time)\n",
    "\n",
    "We use a one-tailed t-test because our alternative hypothesis is directional.\n",
    "\n",
    "The t-statistic can be calculated using the formula:\n",
    "\n",
    "t = (X̄ - µ) / (s/√n)\n",
    "\n",
    "Where:\n",
    "X̄ = sample mean = 0.25\n",
    "µ = hypothesized population mean = 0.25\n",
    "s = sample standard deviation = 0.05\n",
    "n = sample size = 30\n",
    "\n",
    "Plugging in the values, we get:\n",
    "\n",
    "t = (0.25 - 0.25) / (0.05/√30)\n",
    "t = 0 / 0.009146 = 0\n",
    "\n",
    "The degrees of freedom (df) for this test is n - 1 = 29. Using a t-table or calculator, we can find the critical t-value for a one-tailed test with 29 degrees of freedom and a 90% confidence level to be -1.311.\n",
    "\n",
    "Since our calculated t-value of 0 is greater than the critical t-value of -1.311, we fail to reject the null hypothesis. Therefore, we can conclude that there is not enough evidence to suggest that caffeine has a significant effect on reaction time at a 90% confidence level."
   ]
  },
  {
   "cell_type": "code",
   "execution_count": null,
   "id": "4f8aa5da-5c89-449f-8ea0-b33fa9b8487d",
   "metadata": {},
   "outputs": [],
   "source": [
    "Q14. In a study of the effects of caffeine on reaction time, a sample of 30 participants had an average\n",
    "reaction time of 0.25 seconds with a standard deviation of 0.05 seconds. Conduct a hypothesis test to\n",
    "determine if the caffeine has a significant effect on reaction time at a 90% confidence level using a t-test."
   ]
  },
  {
   "cell_type": "code",
   "execution_count": null,
   "id": "498eda2c-9d19-4758-99a8-bbdbafaed03d",
   "metadata": {},
   "outputs": [],
   "source": [
    " To calculate the 90% confidence interval for the true population mean, we can use the formula:\n",
    "\n",
    "CI = X̄ ± Zα/2 * σ/√n\n",
    "\n",
    "Where:\n",
    "X̄ = sample mean = 65\n",
    "Zα/2 = Z-score for 95% confidence level = 1.645\n",
    "σ = population standard deviation = 8\n",
    "n = sample size = 50\n",
    "\n",
    "Plugging in the values, we get:\n",
    "\n",
    "CI = 65 ± 1.645 * 8/√50\n",
    "CI = 65 ± 2.58\n",
    "\n",
    "Therefore, the 90% confidence interval for the true population mean is (62.42, 67.58)."
   ]
  },
  {
   "cell_type": "code",
   "execution_count": null,
   "id": "7d66b92d-cb59-49c0-b734-cdcecad33238",
   "metadata": {},
   "outputs": [],
   "source": []
  }
 ],
 "metadata": {
  "kernelspec": {
   "display_name": "Python 3 (ipykernel)",
   "language": "python",
   "name": "python3"
  },
  "language_info": {
   "codemirror_mode": {
    "name": "ipython",
    "version": 3
   },
   "file_extension": ".py",
   "mimetype": "text/x-python",
   "name": "python",
   "nbconvert_exporter": "python",
   "pygments_lexer": "ipython3",
   "version": "3.10.8"
  }
 },
 "nbformat": 4,
 "nbformat_minor": 5
}
