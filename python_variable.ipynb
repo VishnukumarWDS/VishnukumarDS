{
 "cells": [
  {
   "cell_type": "code",
   "execution_count": 1,
   "id": "e80c6c88-a695-482b-ae0c-5932a1df460d",
   "metadata": {},
   "outputs": [
    {
     "name": "stdout",
     "output_type": "stream",
     "text": [
      "45\n"
     ]
    }
   ],
   "source": [
    "# Python programming\n",
    "# it is an interpreter and interactive high level programming language\n",
    "\n",
    "var = 45\n",
    "print(var)"
   ]
  },
  {
   "cell_type": "code",
   "execution_count": 15,
   "id": "364a92b0-1f4d-40c2-bedc-24a8f9d29c06",
   "metadata": {},
   "outputs": [
    {
     "name": "stdout",
     "output_type": "stream",
     "text": [
      "Hello World\n"
     ]
    }
   ],
   "source": [
    "print(\"Hello World\")"
   ]
  },
  {
   "cell_type": "code",
   "execution_count": 2,
   "id": "156e2eee-e68a-48fd-907f-ad88df0eed33",
   "metadata": {},
   "outputs": [],
   "source": [
    "# variable\n",
    "name=\"Vishnu\""
   ]
  },
  {
   "cell_type": "code",
   "execution_count": 3,
   "id": "b85a73d4-312c-43d1-adeb-68140d9ca7fc",
   "metadata": {},
   "outputs": [
    {
     "data": {
      "text/plain": [
       "'Vishnu'"
      ]
     },
     "execution_count": 3,
     "metadata": {},
     "output_type": "execute_result"
    }
   ],
   "source": [
    "name"
   ]
  },
  {
   "cell_type": "code",
   "execution_count": 4,
   "id": "770d03f6-9fd0-42a5-b833-051d022dd9c6",
   "metadata": {},
   "outputs": [
    {
     "data": {
      "text/plain": [
       "str"
      ]
     },
     "execution_count": 4,
     "metadata": {},
     "output_type": "execute_result"
    }
   ],
   "source": [
    "type(name) #Type is used to know the type of data type"
   ]
  },
  {
   "cell_type": "code",
   "execution_count": 5,
   "id": "697c96aa-badd-4e22-99f2-78b0ad816e3c",
   "metadata": {},
   "outputs": [
    {
     "data": {
      "text/plain": [
       "139984664970224"
      ]
     },
     "execution_count": 5,
     "metadata": {},
     "output_type": "execute_result"
    }
   ],
   "source": [
    "var1= 25   #We can see same memory address due to same element\n",
    "var2= 25\n",
    "id(var1)"
   ]
  },
  {
   "cell_type": "code",
   "execution_count": 6,
   "id": "89c57abb-bbc9-4e23-9cf6-2419aea80f0a",
   "metadata": {},
   "outputs": [
    {
     "data": {
      "text/plain": [
       "139984664970224"
      ]
     },
     "execution_count": 6,
     "metadata": {},
     "output_type": "execute_result"
    }
   ],
   "source": [
    "id(var2)"
   ]
  },
  {
   "cell_type": "code",
   "execution_count": 11,
   "id": "d2c6ea17-4e90-4d72-b2bd-056917280bd0",
   "metadata": {},
   "outputs": [
    {
     "name": "stdout",
     "output_type": "stream",
     "text": [
      "Vishnu\n",
      "Gangleader\n"
     ]
    }
   ],
   "source": [
    "var3=\"Vishnu\"\n",
    "var4=\"Gangleader\"\n",
    "print(var3)\n",
    "print(var4)"
   ]
  },
  {
   "cell_type": "code",
   "execution_count": 12,
   "id": "018b769d-4965-47c2-a218-c7671f4fbaab",
   "metadata": {},
   "outputs": [],
   "source": [
    "var3=var4# we can overwrite"
   ]
  },
  {
   "cell_type": "code",
   "execution_count": 14,
   "id": "0ffbec28-fead-43dc-8afa-4dd64099dad7",
   "metadata": {},
   "outputs": [
    {
     "name": "stdout",
     "output_type": "stream",
     "text": [
      "Gangleader\n",
      "Gangleader\n"
     ]
    }
   ],
   "source": [
    "print(var3)\n",
    "print(var4)"
   ]
  },
  {
   "cell_type": "code",
   "execution_count": 17,
   "id": "3001b04f-76cd-461c-9c1c-6754ed28b644",
   "metadata": {},
   "outputs": [],
   "source": [
    "##  Variable rules\n",
    "\n",
    "# can start with _ \n",
    "# can start with alphabe t(A-Z) ,(a-z)\n",
    "# should not use reserved keyword"
   ]
  },
  {
   "cell_type": "code",
   "execution_count": 18,
   "id": "46bbca50-b51c-4944-940b-d7266b3fd2de",
   "metadata": {},
   "outputs": [
    {
     "name": "stdout",
     "output_type": "stream",
     "text": [
      "Kiran\n"
     ]
    }
   ],
   "source": [
    "name =\"Kiran\"\n",
    "print(name)"
   ]
  },
  {
   "cell_type": "code",
   "execution_count": 20,
   "id": "1c05546f-099c-4b44-a415-863d052d8967",
   "metadata": {},
   "outputs": [
    {
     "name": "stdout",
     "output_type": "stream",
     "text": [
      "My name is Kiran\n"
     ]
    }
   ],
   "source": [
    "print(\"My name is \",name)"
   ]
  },
  {
   "cell_type": "code",
   "execution_count": 24,
   "id": "48b98e00-bc96-45a9-a8ab-38fe3863ecb3",
   "metadata": {},
   "outputs": [
    {
     "name": "stdout",
     "output_type": "stream",
     "text": [
      "My name is Kiran\n"
     ]
    }
   ],
   "source": [
    "# format\n",
    "\n",
    "print(f\"My name is {name}\")"
   ]
  },
  {
   "cell_type": "code",
   "execution_count": 26,
   "id": "0a425496-90bc-4a57-8f41-6656a404a409",
   "metadata": {},
   "outputs": [
    {
     "name": "stdin",
     "output_type": "stream",
     "text": [
      "Enter the age 34\n"
     ]
    },
    {
     "name": "stdout",
     "output_type": "stream",
     "text": [
      "My name is Kiran and iam 34 years old\n"
     ]
    }
   ],
   "source": [
    "age = int(input(\"Enter the age\"))\n",
    "\n",
    "print(f\"My name is {name} and iam {age} years old\")\n"
   ]
  },
  {
   "cell_type": "code",
   "execution_count": 27,
   "id": "abe5c9ac-5dc4-4463-b5a5-923a207dca3e",
   "metadata": {},
   "outputs": [
    {
     "name": "stdout",
     "output_type": "stream",
     "text": [
      "My name is Kiran and iam 34 years old\n"
     ]
    }
   ],
   "source": [
    "print(\"My name is {} and iam {} years old\".format(name,age))"
   ]
  },
  {
   "cell_type": "code",
   "execution_count": 28,
   "id": "0df812a8-56d7-464d-a1ba-5c8ef20f668d",
   "metadata": {},
   "outputs": [
    {
     "name": "stdout",
     "output_type": "stream",
     "text": [
      "My name is Kiran and iam 34 years old\n"
     ]
    }
   ],
   "source": [
    "print(\"My name is {first_name} and iam {man_age} years old\".format(first_name=name,man_age=age))"
   ]
  },
  {
   "cell_type": "code",
   "execution_count": 29,
   "id": "4e4a546d-c088-4c96-b638-26610096725d",
   "metadata": {},
   "outputs": [
    {
     "name": "stdout",
     "output_type": "stream",
     "text": [
      "Happy learning\n"
     ]
    }
   ],
   "source": [
    "print(\"Happy learning!\")"
   ]
  },
  {
   "cell_type": "code",
   "execution_count": null,
   "id": "7eb115ba-bdcf-4668-8cdf-677e73e7b4d5",
   "metadata": {},
   "outputs": [],
   "source": []
  }
 ],
 "metadata": {
  "kernelspec": {
   "display_name": "Python 3 (ipykernel)",
   "language": "python",
   "name": "python3"
  },
  "language_info": {
   "codemirror_mode": {
    "name": "ipython",
    "version": 3
   },
   "file_extension": ".py",
   "mimetype": "text/x-python",
   "name": "python",
   "nbconvert_exporter": "python",
   "pygments_lexer": "ipython3",
   "version": "3.10.8"
  }
 },
 "nbformat": 4,
 "nbformat_minor": 5
}
