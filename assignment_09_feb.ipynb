{
 "cells": [
  {
   "cell_type": "markdown",
   "id": "f9e5e079-1061-421e-9e6e-cb6b32f635cc",
   "metadata": {},
   "source": [
    "## Assignment_09_feb"
   ]
  },
  {
   "cell_type": "code",
   "execution_count": null,
   "id": "4369b4b1-2f13-4b6d-9e24-fad9309e968e",
   "metadata": {},
   "outputs": [],
   "source": [
    "Q1, Create a vehicle class with an init method having instance variables as name_of_vehicle, max_speed\n",
    "and average_of_vehicle."
   ]
  },
  {
   "cell_type": "code",
   "execution_count": 10,
   "id": "2ca7c924-21d7-4bde-86bf-be7da7a88bd6",
   "metadata": {},
   "outputs": [],
   "source": [
    "class Vehicle_info:\n",
    "    def __init__(self,name_of_vehicle, max_speed, average_of_vehicle):\n",
    "        self.name_of_vehicle = name_of_vehicle\n",
    "        self.max_speed = max_speed\n",
    "        self.average_of_vehicle = average_of_vehicle"
   ]
  },
  {
   "cell_type": "code",
   "execution_count": 15,
   "id": "1c498d52-3b70-4fa7-a075-15fbe5369d81",
   "metadata": {},
   "outputs": [
    {
     "name": "stdout",
     "output_type": "stream",
     "text": [
      "100000\n"
     ]
    }
   ],
   "source": [
    "vehical_obj  = Vehicle_info(\"RX100\",120,100000)\n",
    "print(vehical_obj.average_of_vehicle)"
   ]
  },
  {
   "cell_type": "code",
   "execution_count": 16,
   "id": "fb3f8c49-b86e-4fd9-97a4-57733cfaee68",
   "metadata": {},
   "outputs": [
    {
     "name": "stdout",
     "output_type": "stream",
     "text": [
      "RX100\n"
     ]
    }
   ],
   "source": [
    "print(vehical_obj.name_of_vehicle)"
   ]
  },
  {
   "cell_type": "code",
   "execution_count": 17,
   "id": "b474bb4c-9b9f-4ef0-8387-68fe9c16b008",
   "metadata": {},
   "outputs": [
    {
     "name": "stdout",
     "output_type": "stream",
     "text": [
      "120\n"
     ]
    }
   ],
   "source": [
    "print(vehical_obj.max_speed)"
   ]
  },
  {
   "cell_type": "code",
   "execution_count": null,
   "id": "382be0fa-5d5a-4650-8f2a-342366e836e3",
   "metadata": {},
   "outputs": [],
   "source": [
    "Q2. Create a child class car from the vehicle class created in Que 1, which will inherit the vehicle class.\n",
    "Create a method named seating_capacity which takes capacity as an argument and returns the name of\n",
    "the vehicle and its seating capacity."
   ]
  },
  {
   "cell_type": "code",
   "execution_count": 6,
   "id": "88387aa9-b6b1-4018-8b52-718bf3a4882c",
   "metadata": {},
   "outputs": [],
   "source": [
    "class Vehicle:\n",
    "\n",
    "    def __init__(self, name, max_speed, mileage):\n",
    "        self.name = name\n",
    "        self.max_speed = max_speed\n",
    "        self.mileage = mileage"
   ]
  },
  {
   "cell_type": "code",
   "execution_count": 11,
   "id": "1174af51-6c4c-45e4-9671-ee795da3cb52",
   "metadata": {},
   "outputs": [
    {
     "name": "stdout",
     "output_type": "stream",
     "text": [
      "The vehicle name is Sedan and its seating capacity is 5\n"
     ]
    }
   ],
   "source": [
    "class Car(Vehicle):\n",
    "    def seating_capacity(self, capacity):\n",
    "        return f'The vehicle name is {self.name} and its seating capacity is {capacity}'\n",
    "\n",
    "\n",
    "my_car = Car('Sedan', 'Petrol', 4)\n",
    "\n",
    "\n",
    "print(my_car.seating_capacity(5))\n"
   ]
  },
  {
   "cell_type": "code",
   "execution_count": null,
   "id": "88740b7e-69c1-4e3f-ad36-5fa0cf5a3c8c",
   "metadata": {},
   "outputs": [],
   "source": [
    "Q3. What is multiple inheritance? Write a python code to demonstrate multiple inheritance."
   ]
  },
  {
   "cell_type": "markdown",
   "id": "05d51a8d-5438-4cbf-bda4-b9ed9ef7f494",
   "metadata": {},
   "source": [
    "#### Multiple inheritance is a feature of object-oriented programming where a single class can inherit attributes and methods from multiple parent classes. It allows a class to inherit properties from multiple parent classes, creating a hybrid class that has the combined properties of all its parent classes."
   ]
  },
  {
   "cell_type": "code",
   "execution_count": 12,
   "id": "c2ac106b-e778-4f0e-959f-04bb3543d094",
   "metadata": {},
   "outputs": [],
   "source": [
    "# Parent class 1\n",
    "class Parent1:\n",
    "    def __init__(self, attr1):\n",
    "        self.attr1 = attr1\n",
    "\n",
    "    def parent1_method(self):\n",
    "        return f'Parent1 method with attr1 value {self.attr1}'\n",
    "\n",
    "# Parent class 2\n",
    "class Parent2:\n",
    "    def __init__(self, attr2):\n",
    "        self.attr2 = attr2\n",
    "\n",
    "    def parent2_method(self):\n",
    "        return f'Parent2 method with attr2 value {self.attr2}'\n",
    "\n",
    "# Child class\n",
    "class Child(Parent1, Parent2):\n",
    "    def __init__(self, attr1, attr2):\n",
    "        Parent1.__init__(self, attr1)\n",
    "        Parent2.__init__(self, attr2)\n",
    "\n"
   ]
  },
  {
   "cell_type": "code",
   "execution_count": 13,
   "id": "f5a18314-b5b7-43d9-b66a-5e387f02dfb9",
   "metadata": {},
   "outputs": [
    {
     "name": "stdout",
     "output_type": "stream",
     "text": [
      "Parent1 method with attr1 value value1\n",
      "Parent2 method with attr2 value value2\n"
     ]
    }
   ],
   "source": [
    "\n",
    "my_child = Child('value1', 'value2')\n",
    "\n",
    "print(my_child.parent1_method())\n",
    "print(my_child.parent2_method())"
   ]
  },
  {
   "cell_type": "code",
   "execution_count": null,
   "id": "bbfe1762-5703-4633-8abd-92693e721866",
   "metadata": {},
   "outputs": [],
   "source": [
    "Q4. What are getter and setter in python? Create a class and create a getter and a setter method in this\n",
    "class."
   ]
  },
  {
   "cell_type": "markdown",
   "id": "a8095fc1-5cd6-400e-ac55-bd7233586b0e",
   "metadata": {},
   "source": [
    "#### Getters and setters are methods used to access the attributes of a class. The purpose of getters and setters is to provide controlled access to the attributes of a class, so that the attributes can be accessed only in a controlled and secure way. Getters are used to get the value of an attribute and setters are used to set the value of an attribute."
   ]
  },
  {
   "cell_type": "code",
   "execution_count": 15,
   "id": "9c24400e-a62f-41fa-aaa2-13a0cbe359f0",
   "metadata": {},
   "outputs": [],
   "source": [
    "class Person:\n",
    "    def __init__(self, name, age):\n",
    "        self._name = name\n",
    "        self._age = age\n",
    "    \n",
    "    # Getter method\n",
    "    def get_name(self):\n",
    "        return self._name\n",
    "    \n",
    "    # Setter method\n",
    "    def set_name(self, name):\n",
    "        self._name = name\n",
    "\n"
   ]
  },
  {
   "cell_type": "code",
   "execution_count": 16,
   "id": "0fd44068-6327-4464-8669-1b066047ca42",
   "metadata": {},
   "outputs": [],
   "source": [
    "person = Person('John', 30)"
   ]
  },
  {
   "cell_type": "code",
   "execution_count": 17,
   "id": "99dbbffb-7e65-46ed-b62d-0ddacd85464a",
   "metadata": {},
   "outputs": [
    {
     "name": "stdout",
     "output_type": "stream",
     "text": [
      "John\n"
     ]
    }
   ],
   "source": [
    "print(person.get_name())\n",
    "person.set_name('Jane')\n"
   ]
  },
  {
   "cell_type": "code",
   "execution_count": 18,
   "id": "8e803e05-d886-4460-b589-0d27df8918ab",
   "metadata": {},
   "outputs": [
    {
     "name": "stdout",
     "output_type": "stream",
     "text": [
      "Jane\n"
     ]
    }
   ],
   "source": [
    "print(person.get_name())"
   ]
  },
  {
   "cell_type": "code",
   "execution_count": null,
   "id": "351eee55-7fc8-4534-b913-912654a43617",
   "metadata": {},
   "outputs": [],
   "source": [
    "Q5.What is method overriding in python? Write a python code to demonstrate method overriding."
   ]
  },
  {
   "cell_type": "markdown",
   "id": "c9027a6c-6035-4991-a264-3740b7ad561d",
   "metadata": {},
   "source": [
    "#### Method overriding is a feature of object-oriented programming where a subclass provides a different implementation for a method that is already defined in its superclass. Method overriding allows a subclass to provide its own implementation for a method, instead of using the implementation provided by the superclass."
   ]
  },
  {
   "cell_type": "code",
   "execution_count": 19,
   "id": "90fc8b20-6794-443d-89af-5f8bdf376104",
   "metadata": {},
   "outputs": [
    {
     "name": "stdout",
     "output_type": "stream",
     "text": [
      "Bark\n"
     ]
    }
   ],
   "source": [
    "class Animal:\n",
    "    def make_sound(self):\n",
    "        return 'Animal sound'\n",
    "\n",
    "class Dog(Animal):\n",
    "    def make_sound(self):\n",
    "        return 'Bark'\n",
    "\n",
    "dog = Dog()\n",
    "\n",
    "print(dog.make_sound())\n"
   ]
  },
  {
   "cell_type": "code",
   "execution_count": null,
   "id": "86f517b9-f44b-4343-88ac-38cd3564ab0e",
   "metadata": {},
   "outputs": [],
   "source": []
  }
 ],
 "metadata": {
  "kernelspec": {
   "display_name": "Python 3 (ipykernel)",
   "language": "python",
   "name": "python3"
  },
  "language_info": {
   "codemirror_mode": {
    "name": "ipython",
    "version": 3
   },
   "file_extension": ".py",
   "mimetype": "text/x-python",
   "name": "python",
   "nbconvert_exporter": "python",
   "pygments_lexer": "ipython3",
   "version": "3.10.8"
  }
 },
 "nbformat": 4,
 "nbformat_minor": 5
}
