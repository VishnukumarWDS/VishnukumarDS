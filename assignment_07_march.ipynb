{
 "cells": [
  {
   "cell_type": "code",
   "execution_count": null,
   "id": "93b3a764-43a2-495d-9312-5242e81a83ce",
   "metadata": {},
   "outputs": [],
   "source": [
    "Q1. What are the three measures of central tendency?"
   ]
  },
  {
   "cell_type": "code",
   "execution_count": null,
   "id": "2ddbf36e-8947-48d9-a162-b87d44dd7ba2",
   "metadata": {},
   "outputs": [],
   "source": [
    "1.Mean \n",
    "2.Median\n",
    "3.MOde"
   ]
  },
  {
   "cell_type": "code",
   "execution_count": null,
   "id": "d56de4a9-608b-43b1-b24e-2d0cc4aeedea",
   "metadata": {},
   "outputs": [],
   "source": [
    "Q2. What is the difference between the mean, median, and mode? How are they used to measure the\n",
    "central tendency of a dataset?"
   ]
  },
  {
   "cell_type": "markdown",
   "id": "ab38b383-b066-440f-b48e-3f74dd527215",
   "metadata": {},
   "source": [
    "Mean: The mean is the average value of a set of numbers. It is calculated by adding up all the numbers in the set and dividing the total by the number of values in the set. The mean is sensitive to outliers, which means that extreme values can have a significant impact on the value of the mean.\n",
    "\n",
    "Median: The median is the middle value in a dataset. It is calculated by arranging all the values in the set in numerical order and identifying the value that is exactly in the middle. If there are an odd number of values, the median is the middle value. If there are an even number of values, the median is the average of the two middle values. The median is less sensitive to outliers than the mean.\n",
    "\n",
    "Mode: The mode is the value that appears most frequently in a dataset. It is the value that occurs with the highest frequency. If no value appears more than once, the dataset is said to have no mode. The mode is used to describe the most common value in a dataset.\n"
   ]
  },
  {
   "cell_type": "code",
   "execution_count": null,
   "id": "f1079ce5-13b9-4cb5-901a-0f32498197ba",
   "metadata": {},
   "outputs": [],
   "source": [
    "Q3. Measure the three measures of central tendency for the given height data:\n",
    "[178,177,176,177,178.2,178,175,179,180,175,178.9,176.2,177,172.5,178,176.5]"
   ]
  },
  {
   "cell_type": "code",
   "execution_count": 3,
   "id": "a7dd3def-fe7d-4506-aa03-d696d30c8ec8",
   "metadata": {},
   "outputs": [],
   "source": [
    "data = [178,177,176,177,178.2,178,175,179,180,175,178.9,176.2,177,172.5,178,176.5]"
   ]
  },
  {
   "cell_type": "code",
   "execution_count": null,
   "id": "9faf7f46-c68e-4a09-b9a8-d70e5e6bfc12",
   "metadata": {},
   "outputs": [],
   "source": [
    "1.Mean"
   ]
  },
  {
   "cell_type": "code",
   "execution_count": 6,
   "id": "5bb9729c-9268-4850-bb8b-3ced582be7df",
   "metadata": {},
   "outputs": [
    {
     "data": {
      "text/plain": [
       "177.01875"
      ]
     },
     "execution_count": 6,
     "metadata": {},
     "output_type": "execute_result"
    }
   ],
   "source": [
    "import numpy as np\n",
    "\n",
    "mean_data = np.mean(data)\n",
    "mean_data"
   ]
  },
  {
   "cell_type": "code",
   "execution_count": null,
   "id": "0a20d109-8201-49b0-a449-e344ad2bc7b0",
   "metadata": {},
   "outputs": [],
   "source": [
    "2.Median"
   ]
  },
  {
   "cell_type": "code",
   "execution_count": 8,
   "id": "587b0b91-049f-4b3d-bae0-592d3a0296b3",
   "metadata": {},
   "outputs": [],
   "source": [
    "median_data = np.median(data)"
   ]
  },
  {
   "cell_type": "code",
   "execution_count": 9,
   "id": "f3d23feb-a0d7-4a55-9c7f-503a94a38d95",
   "metadata": {},
   "outputs": [
    {
     "data": {
      "text/plain": [
       "177.0"
      ]
     },
     "execution_count": 9,
     "metadata": {},
     "output_type": "execute_result"
    }
   ],
   "source": [
    "median_data"
   ]
  },
  {
   "cell_type": "code",
   "execution_count": null,
   "id": "9e728c0f-4025-452f-9466-3ac8bf30dddd",
   "metadata": {},
   "outputs": [],
   "source": [
    "3.Mode"
   ]
  },
  {
   "cell_type": "code",
   "execution_count": 12,
   "id": "165492c6-7186-42f5-ac5a-05abccd54bd2",
   "metadata": {},
   "outputs": [
    {
     "name": "stderr",
     "output_type": "stream",
     "text": [
      "/tmp/ipykernel_1646/541505813.py:3: FutureWarning: Unlike other reduction functions (e.g. `skew`, `kurtosis`), the default behavior of `mode` typically preserves the axis it acts along. In SciPy 1.11.0, this behavior will change: the default value of `keepdims` will become False, the `axis` over which the statistic is taken will be eliminated, and the value None will no longer be accepted. Set `keepdims` to True or False to avoid this warning.\n",
      "  mode_data = stats.mode(data)\n"
     ]
    },
    {
     "data": {
      "text/plain": [
       "ModeResult(mode=array([177.]), count=array([3]))"
      ]
     },
     "execution_count": 12,
     "metadata": {},
     "output_type": "execute_result"
    }
   ],
   "source": [
    "from scipy import stats\n",
    "\n",
    "mode_data = stats.mode(data)\n",
    "mode_data"
   ]
  },
  {
   "cell_type": "code",
   "execution_count": null,
   "id": "8bee59a3-bbec-4714-99fd-589b027ce9f6",
   "metadata": {},
   "outputs": [],
   "source": [
    "Q4.Find the standard deviation for the given data:\n",
    "[178,177,176,177,178.2,178,175,179,180,175,178.9,176.2,177,172.5,178,176.5]"
   ]
  },
  {
   "cell_type": "code",
   "execution_count": 13,
   "id": "476e31ff-5699-4e43-8195-03a743c005ad",
   "metadata": {},
   "outputs": [],
   "source": [
    "data1 = [178,177,176,177,178.2,178,175,179,180,175,178.9,176.2,177,172.5,178,176.5]"
   ]
  },
  {
   "cell_type": "code",
   "execution_count": 14,
   "id": "083d4a78-c26e-4c26-a014-c5105683beac",
   "metadata": {},
   "outputs": [],
   "source": [
    "std_data = np.std(data1)"
   ]
  },
  {
   "cell_type": "code",
   "execution_count": 15,
   "id": "ddd0bd64-d28b-401d-ac34-60f55075b8ba",
   "metadata": {},
   "outputs": [
    {
     "data": {
      "text/plain": [
       "1.7885814036548633"
      ]
     },
     "execution_count": 15,
     "metadata": {},
     "output_type": "execute_result"
    }
   ],
   "source": [
    "std_data"
   ]
  },
  {
   "cell_type": "code",
   "execution_count": null,
   "id": "9709218f-2f64-473f-b6ec-203f9cb0db1d",
   "metadata": {},
   "outputs": [],
   "source": [
    "Q5. How are measures of dispersion such as range, variance, and standard deviation used to describe\n",
    "the spread of a dataset? Provide an example."
   ]
  },
  {
   "cell_type": "markdown",
   "id": "bf51b809-0ca5-46c8-bbff-a4d8f3e25c95",
   "metadata": {},
   "source": [
    "Range: The range is the difference between the highest and lowest values in a dataset. It is the simplest measure of dispersion and is useful when the dataset is small. However, it is sensitive to outliers and may not provide a good indication of the spread of values if extreme values are present in the dataset.\n",
    "Example: Suppose we have the following dataset: 3, 5, 6, 9, 11. The range of this dataset is 11 - 3 = 8.\n",
    "\n",
    "Variance: The variance is the average of the squared differences between each value in the dataset and the mean of the dataset. It is a more robust measure of dispersion than range because it takes into account all values in the dataset and provides a more accurate description of the spread of values.\n",
    "Example: Let's continue with the same dataset from the previous example. The mean of this dataset is (3+5+6+9+11)/5 = 6.8. The variance is calculated by taking the squared difference between each value and the mean, summing them up, and dividing by the number of values minus 1: ((3-6.8)^2 + (5-6.8)^2 + (6-6.8)^2 + (9-6.8)^2 + (11-6.8)^2)/4 = 10.3.\n",
    "\n",
    "Standard deviation: The standard deviation is the square root of the variance. It provides a measure of how much the values in a dataset deviate from the mean. It is widely used because it is expressed in the same units as the data, making it easier to interpret.\n",
    "Example: Continuing with the same dataset, the standard deviation is calculated by taking the square root of the variance: sqrt(10.3) = 3.2. This means that the values in the dataset deviate from the mean by an average of 3.2 units."
   ]
  },
  {
   "cell_type": "code",
   "execution_count": null,
   "id": "2f1103e2-8833-4641-9305-9f22ac029acb",
   "metadata": {},
   "outputs": [],
   "source": [
    "Q6. What is a Venn diagram?"
   ]
  },
  {
   "cell_type": "markdown",
   "id": "33923506-0b5f-40f5-a023-948cd56fba4e",
   "metadata": {},
   "source": [
    "A Venn diagram is a visual representation of sets or groups, showing the overlap and relationships between them. It consists of one or more circles or other shapes, called \"sets,\" that represent the groups being compared. The circles are usually drawn in such a way that their areas are proportional to the size of the groups they represent."
   ]
  },
  {
   "cell_type": "code",
   "execution_count": null,
   "id": "87b3aad2-7751-42c8-9237-0c2e3e662a0a",
   "metadata": {},
   "outputs": [],
   "source": [
    "Q7. For the two given sets A = (2,3,4,5,6,7) & B = (0,2,6,8,10). Find:\n",
    "(i) A intersection B\n",
    "(ii) A ⋃ B"
   ]
  },
  {
   "cell_type": "code",
   "execution_count": null,
   "id": "ef881e7f-cd7e-4577-bab7-cd9ae8ad8587",
   "metadata": {},
   "outputs": [],
   "source": [
    "A = (2,3,4,5,6,7) \n",
    "B = (0,2,6,8,10)"
   ]
  },
  {
   "cell_type": "code",
   "execution_count": null,
   "id": "756dc684-9cd7-4e80-a285-746be3f1c8d0",
   "metadata": {},
   "outputs": [],
   "source": [
    "(i) A interscetion B = {2,6}"
   ]
  },
  {
   "cell_type": "code",
   "execution_count": null,
   "id": "48b07b07-7717-4f69-8785-277d0af4272b",
   "metadata": {},
   "outputs": [],
   "source": [
    "(ii) A U B   = {0,2,3,4,5,6,7,8,10}"
   ]
  },
  {
   "cell_type": "code",
   "execution_count": null,
   "id": "ccac0a29-a08c-42a9-b6a4-0006c47c7fdc",
   "metadata": {},
   "outputs": [],
   "source": [
    "Q8. What do you understand about skewness in data?"
   ]
  },
  {
   "cell_type": "markdown",
   "id": "578c92ba-9df6-4b07-a181-a57e3d105029",
   "metadata": {},
   "source": [
    "Skewness in data refers to the extent to which the values in a dataset are asymmetrical or skewed towards one side of the mean or median. A dataset with a high degree of skewness is said to be skewed.\n",
    "\n",
    "There are two main types of skewness: positive skewness and negative skewness. Positive skewness occurs when the tail of the distribution is longer on the right side and the majority of the data falls on the left side of the mean or median. Negative skewness occurs when the tail of the distribution is longer on the left side and the majority of the data falls on the right side of the mean or median.\n",
    "\n",
    "Skewness can have a significant impact on statistical analyses and interpretations. For example, the mean is heavily influenced by outliers, so datasets with high skewness may have a mean that is not representative of the typical value in the dataset. In contrast, the median is less affected by skewness and may provide a more accurate measure of central tendency in skewed datasets.\n",
    "\n",
    "Skewness can also affect the shape of statistical distributions, such as the normal distribution. If a dataset is highly skewed, it may not follow a normal distribution and may require different statistical methods for analysis."
   ]
  },
  {
   "cell_type": "code",
   "execution_count": null,
   "id": "fbd609a4-eb75-421f-960f-20fbbc38f0fb",
   "metadata": {},
   "outputs": [],
   "source": [
    "Q9. If a data is right skewed then what will be the position of median with respect to mean?"
   ]
  },
  {
   "cell_type": "markdown",
   "id": "4f467dad-324f-48f5-98c4-850bec80aab2",
   "metadata": {},
   "source": [
    "If a data is right-skewed, the position of the median will typically be lower than the mean. This is because the skewed data will have a long tail towards the higher values, which will pull the mean higher than the median.\n",
    "\n",
    "To illustrate this, consider a dataset with the following values: 1, 2, 3, 4, 5, 6, 7, 8, 9, 20. The mean of this dataset is (1+2+3+4+5+6+7+8+9+20)/10 = 6.5, while the median is the middle value, which is 5.\n",
    "\n",
    "As you can see, the mean is higher than the median in this case, because the large value of 20 is pulling the mean upwards. This is an example of right skewness, where the tail of the distribution is longer on the right side. In general, when a dataset is right-skewed, the mean will be higher than the median"
   ]
  },
  {
   "cell_type": "code",
   "execution_count": null,
   "id": "dac1f59a-14a1-4f59-a81f-9e6db7bd8c97",
   "metadata": {},
   "outputs": [],
   "source": [
    "Q10. Explain the difference between covariance and correlation. How are these measures used in\n",
    "statistical analysis?"
   ]
  },
  {
   "cell_type": "markdown",
   "id": "c21b39fb-c1de-4534-9045-855f59b9d658",
   "metadata": {},
   "source": [
    "Covariance and correlation are both statistical measures that describe the relationship between two variables. However, they differ in several ways.\n",
    "\n",
    "Covariance measures the degree to which two variables vary together. It is calculated as the average of the products of the deviations of each variable from its respective mean. If the covariance is positive, it means that when one variable is above its mean, the other variable tends to be above its mean as well. If the covariance is negative, it means that when one variable is above its mean, the other variable tends to be below its mean. However, the magnitude of the covariance depends on the scale of the variables, so it is difficult to compare covariances across different sets of data.\n",
    "\n",
    "On the other hand, correlation measures the strength and direction of the linear relationship between two variables. It is a standardized measure, meaning it is not affected by the scale of the variables. Correlation ranges between -1 and 1, where -1 indicates a perfect negative correlation, 0 indicates no correlation, and 1 indicates a perfect positive correlation. A positive correlation means that when one variable increases, the other variable tends to increase as well, and vice versa for a negative correlation. The magnitude of the correlation coefficient indicates the strength of the relationship, with higher absolute values indicating stronger relationships."
   ]
  },
  {
   "cell_type": "code",
   "execution_count": null,
   "id": "3c4b1a44-a420-4de9-835e-f13ce5717a4b",
   "metadata": {},
   "outputs": [],
   "source": [
    "Q11. What is the formula for calculating the sample mean? Provide an example calculation for a\n",
    "dataset."
   ]
  },
  {
   "cell_type": "markdown",
   "id": "0a6037bb-bcac-4000-b843-574d81917517",
   "metadata": {},
   "source": [
    "The formula for calculating the sample mean, denoted as x̄ (pronounced \"x bar\"), is:\n",
    "\n",
    "x̄ = (sum of all data points) / (number of data points)\n",
    "\n",
    "In other words, you add up all the values in the dataset and divide by the total number of values to get the average or mean.\n",
    "\n",
    "Here is an example calculation for a dataset:\n",
    "\n",
    "Dataset: 7, 2, 4, 9, 3\n",
    "\n",
    "To find the sample mean:\n",
    "\n",
    "x̄ = (7 + 2 + 4 + 9 + 3) / 5\n",
    "x̄ = 25 / 5\n",
    "x̄ = 5\n",
    "\n",
    "Therefore, the sample mean for this dataset is 5."
   ]
  },
  {
   "cell_type": "code",
   "execution_count": null,
   "id": "bc652505-8ac0-46b9-9acf-c3b0affccc1c",
   "metadata": {},
   "outputs": [],
   "source": [
    "Q12. For a normal distribution data what is the relationship between its measure of central tendency?\n",
    "\n"
   ]
  },
  {
   "cell_type": "markdown",
   "id": "89a87e18-4bdb-4e0c-bfb4-407c34ffdbad",
   "metadata": {},
   "source": [
    "For a normal distribution data, the three measures of central tendency - mean, median, and mode - are equal to each other. This is because the normal distribution is symmetric around the mean, with half of the data points falling to the left of the mean and half falling to the right.\n",
    "\n",
    "The mean is calculated as the sum of all data points divided by the number of data points, while the median is the middle value when the data points are arranged in ascending or descending order. The mode is the value that occurs most frequently in the data.\n",
    "\n",
    "In a normal distribution, the mean, median, and mode are located at the exact same point on the distribution, which is the highest point on the bell curve. This indicates that the data is evenly distributed around the center point and that the measures of central tendency are all representative of the data.\n",
    "\n",
    "It is important to note that for distributions that are not normal, the relationship between the measures of central tendency can differ. For example, in a skewed distribution, the mean can be pulled towards the long tail of the distribution, while the median remains closer to the center of the data"
   ]
  },
  {
   "cell_type": "code",
   "execution_count": null,
   "id": "71afc342-390a-4f05-9be6-dbb168e18e98",
   "metadata": {},
   "outputs": [],
   "source": [
    "Q13. How is covariance different from correlation?"
   ]
  },
  {
   "cell_type": "markdown",
   "id": "bb465fd0-68e4-4337-8f66-8540d276596a",
   "metadata": {},
   "source": [
    "Covariance and correlation are two statistical measures that describe the relationship between two variables, but they differ in several ways:\n",
    "\n",
    "Scale: Covariance is affected by the scale of the variables, whereas correlation is not. This means that covariance can take on large or small values depending on the units of measurement, while correlation always falls between -1 and 1.\n",
    "\n",
    "Interpretation: Covariance can be difficult to interpret because its magnitude is not standardized. In contrast, correlation is a standardized measure, meaning it is easier to interpret and compare across different data sets. A correlation coefficient of 0 means there is no linear relationship between the variables, while a correlation coefficient of 1 or -1 indicates a perfect positive or negative linear relationship, respectively.\n",
    "\n",
    "Directionality: Covariance can be positive or negative, depending on whether the two variables tend to increase or decrease together or in opposite directions. Correlation also indicates the direction of the relationship, but it always ranges from -1 to 1, regardless of the direction of the relationship.\n",
    "\n",
    "Importance in analysis: Correlation is a more commonly used measure than covariance in statistical analysis because it provides more meaningful information about the relationship between variables. Correlation is frequently used in predictive modeling, regression analysis, and other statistical techniques.\n",
    "\n",
    "In summary, covariance and correlation are both measures of the relationship between two variables, but correlation is a more commonly used and interpretable measure because it is standardized, unaffected by scale, and always ranges from -1 to 1.\n"
   ]
  },
  {
   "cell_type": "code",
   "execution_count": null,
   "id": "be9c1651-5aca-443d-ad3c-9f97015c48ad",
   "metadata": {},
   "outputs": [],
   "source": [
    "Q14. How do outliers affect measures of central tendency and dispersion? Provide an example."
   ]
  },
  {
   "cell_type": "markdown",
   "id": "39778713-1d90-4513-b991-b588ed4a2573",
   "metadata": {},
   "source": [
    "Outliers can significantly affect measures of central tendency and dispersion. Central tendency measures like the mean and median are influenced by outliers, which can shift their values significantly. Dispersion measures such as standard deviation or interquartile range can also be impacted by outliers, leading to an overestimation or underestimation of the variability of the data.\n",
    "\n",
    "For example, suppose a class of 30 students takes a math test, and their scores are as follows:\n",
    "\n",
    "87, 85, 81, 82, 83, 90, 89, 91, 84, 86, 88, 85, 81, 95, 94, 92, 84, 83, 85, 84, 85, 87, 81, 82, 83, 80, 85, 84, 89, 86\n",
    "\n",
    "The mean score of the class is (87+85+81+82+83+90+89+91+84+86+88+85+81+95+94+92+84+83+85+84+85+87+81+82+83+80+85+84+89+86) / 30 = 85.5.\n",
    "\n",
    "Now suppose there was an outlier score of 60, which could be due to a student misreading the questions or not taking the test seriously. In that case, the mean score would become (87+85+81+82+83+90+89+91+84+86+88+85+81+95+94+92+84+83+85+84+85+87+81+82+83+80+85+84+89+86+60) / 31 = 83.3.\n",
    "\n",
    "As we can see, the outlier score significantly impacted the mean score of the class. Similarly, if we calculate the standard deviation of the original scores, it would be 4.42, but if we include the outlier score, it would increase to 6.15, indicating a higher variability than the actual data.\n",
    "\n",
    "Therefore, it's important to identify and handle outliers appropriately to avoid skewed results and to obtain accurate insights from the data.\n",
    "\n",
    "\n",
    "\n",
    "\n"
   ]
  },
  {
   "cell_type": "code",
   "execution_count": null,
   "id": "c710d990-837b-4bd3-b3e7-165aca26b68c",
   "metadata": {},
   "outputs": [],
   "source": []
  }
 ],
 "metadata": {
  "kernelspec": {
   "display_name": "Python 3 (ipykernel)",
   "language": "python",
   "name": "python3"
  },
  "language_info": {
   "codemirror_mode": {
    "name": "ipython",
    "version": 3
   },
   "file_extension": ".py",
   "mimetype": "text/x-python",
   "name": "python",
   "nbconvert_exporter": "python",
   "pygments_lexer": "ipython3",
   "version": "3.10.8"
  }
 },
 "nbformat": 4,
 "nbformat_minor": 5
}
