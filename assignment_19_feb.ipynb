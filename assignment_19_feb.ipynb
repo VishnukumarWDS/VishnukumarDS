{
 "cells": [
  {
   "cell_type": "markdown",
   "id": "721c3b64-74b4-42da-81a8-7cc2e5af1d56",
   "metadata": {},
   "source": [
    "## Assignment 19 feb"
   ]
  },
  {
   "cell_type": "code",
   "execution_count": null,
   "id": "16124c04-6d83-4f94-8416-d3071dac7e2d",
   "metadata": {},
   "outputs": [],
   "source": [
    "Q1. What is Flask Framework? What are the advantages of Flask Framework?"
   ]
  },
  {
   "cell_type": "markdown",
   "id": "444c855b-d0ec-421d-9174-2706e3b1d1a4",
   "metadata": {},
   "source": [
    "Flask is a micro web framework written in Python. It is designed to be lightweight, modular, and easy to use, making it an ideal choice for building web applications quickly and efficiently. Flask is based on the WSGI toolkit and Jinja2 template engine and can run on any operating system that supports Python.\n",
    "\n",
    "Advantages of Flask Framework:\n",
    "\n",
    "Lightweight: Flask is a lightweight framework that provides only the basic tools needed to build a web application. This makes it easier to understand and learn, and allows for faster development.\n",
    "\n",
    "Easy to use: Flask has a simple and intuitive interface, making it easy to create web applications with just a few lines of code. It also has excellent documentation and a large community of developers that offer support.\n",
    "\n",
    "Modular: Flask is built to be modular, which means that developers can choose the components they need and leave out the ones they don't. This allows for more flexibility and customization.\n",
    "\n",
    "Flexible: Flask is very flexible and can be used for a variety of web applications, including blogs, e-commerce websites, and social networks.\n",
    "\n",
    "Scalable: Flask is designed to be scalable and can handle large amounts of traffic without sacrificing performance.\n",
    "\n",
    "Testing: Flask provides built-in support for testing, which makes it easy to test your web application and ensure that it works as expected.\n",
    "\n",
    "Large Community: Flask has a large and active community of developers who contribute to the framework and provide support to other users."
   ]
  },
  {
   "cell_type": "code",
   "execution_count": null,
   "id": "bb9d046a-3b8d-41ba-adee-afc15999b21f",
   "metadata": {},
   "outputs": [],
   "source": [
    "Q2. Create a simple Flask application to display ‘Hello World!!’. Attach the screenshot of the output in\n",
    "Jupyter Notebook."
   ]
  },
  {
   "cell_type": "markdown",
   "id": "c8693aba-b902-426d-8b77-ef9ae4395e99",
   "metadata": {},
   "source": [
    "from flask import Flask\n",
    "\n",
    "app = Flask(__name__)\n",
    "\n",
    "@app.route('/')\n",
    "def hello_world():\n",
    "    return 'Hello World!!'\n",
    "\n",
    "if __name__ == '__main__':\n",
    "    app.run()"
   ]
  },
  {
   "cell_type": "code",
   "execution_count": null,
   "id": "cb2e3f22-2e81-4365-b059-3539be78ab66",
   "metadata": {},
   "outputs": [],
   "source": [
    "Q3. What is App routing in Flask? Why do we use app routes?"
   ]
  },
  {
   "cell_type": "markdown",
   "id": "ca02fe43-c9c1-4eb1-b3d3-b6ec733faa9d",
   "metadata": {},
   "source": [
    "In Flask, routing refers to the process of mapping URLs to functions that handle the requests received at those URLs. App routing in Flask is the process of defining these URL routes for your web application using the Flask app.route() decorator."
   ]
  },
  {
   "cell_type": "markdown",
   "id": "bb44336a-f83b-447d-b92c-705e19b4e470",
   "metadata": {},
   "source": [
    "App routing in Flask is important because it allows developers to easily define the URLs that will be handled by their web application. By mapping URLs to functions, Flask provides a simple and flexible way to organize and structure your web application code. This makes it easier to write, test, and maintain your application over time.\n",
    "\n"
   ]
  },
  {
   "cell_type": "code",
   "execution_count": null,
   "id": "bf90568d-303c-478b-8831-bf0d89f1f971",
   "metadata": {},
   "outputs": [],
   "source": [
    "Q4. Create a “/welcome” route to display the welcome message “Welcome to ABC Corporation” and a “/”\n",
    "route to show the following details:\n",
    "Company Name: ABC Corporation\n",
    "Location: India\n",
    "Contact Detail: 999-999-9999"
   ]
  },
  {
   "cell_type": "code",
   "execution_count": 5,
   "id": "59b6af7e-4a54-462e-92bc-383c4181a3ab",
   "metadata": {},
   "outputs": [],
   "source": [
    "\n",
    "from flask import Flask\n",
    "\n",
    "app = Flask(__name__)\n",
    "\n",
    "@app.route('/welcome')\n",
    "def welcome():\n",
    "    return 'Welcome to ABC Corporation'\n",
    "\n",
    "@app.route('/')\n",
    "def details():\n",
    "    return 'Company Name: ABC Corporation<br>Location: India<br>Contact Detail: 999-999-9999'\n",
    "\n"
   ]
  },
  {
   "cell_type": "code",
   "execution_count": null,
   "id": "a14774d5-c3f1-49e2-8946-0ff94634e5a8",
   "metadata": {},
   "outputs": [],
   "source": [
    "from flask import Flask, url_for\n",
    "\n",
    "app = Flask(__name__)\n",
    "\n",
    "@app.route('/')\n",
    "def home():\n",
    "    return 'Welcome to the home page!'\n",
    "\n",
    "@app.route('/user/<username>')\n",
    "def user_profile(username):\n",
    "    return f'Welcome to {username}\\'s profile!'\n",
    "\n",
    "@app.route('/login')\n",
    "def login():\n",
    "    return 'Please login to access the profile page.'\n",
    "\n",
    "if __name__ == '__main__':\n",
    "    with app.test_request_context():\n",
    "        # generate URLs using url_for()\n",
    "        print(url_for('home'))\n",
    "        print(url_for('user_profile', username='john'))\n",
    "        print(url_for('login'))\n",
    "\n"
   ]
  },
  {
   "cell_type": "code",
   "execution_count": null,
   "id": "a6050153-f8eb-4d76-a039-7fde5da9897b",
   "metadata": {},
   "outputs": [],
   "source": [
    "Q5. What function is used in Flask for URL Building? Write a Python code to demonstrate the working of the\n",
    "url_for() function."
   ]
  },
  {
   "cell_type": "code",
   "execution_count": null,
   "id": "39315437-a530-49f5-9ad3-f1d235ceb65a",
   "metadata": {},
   "outputs": [],
   "source": [
    "from flask import Flask, url_for\n",
    "\n",
    "app = Flask(__name__)\n",
    "\n",
    "@app.route('/')\n",
    "def index():\n",
    "    return 'This is the homepage.'\n",
    "\n",
    "@app.route('/profile/<username>')\n",
    "def profile(username):\n",
    "    return f'This is the profile page for {username}.'\n",
    "\n",
    "@app.route('/post/<int:post_id>')\n",
    "def post(post_id):\n",
    "    return f'This is the page for post {post_id}.'\n",
    "\n",
    "@app.route('/blog')\n",
    "def blog():\n",
    "    return 'This is the blog page.'\n",
    "\n",
    "with app.test_request_context():\n",
    "    print(url_for('index')) \n",
    "    print(url_for('profile', username='JohnDoe')) \n",
    "    print(url_for('post', post_id=1)) \n",
    "    print(url_for('blog', _external=True)) \n"
   ]
  }
 ],
 "metadata": {
  "kernelspec": {
   "display_name": "Python 3 (ipykernel)",
   "language": "python",
   "name": "python3"
  },
  "language_info": {
   "codemirror_mode": {
    "name": "ipython",
    "version": 3
   },
   "file_extension": ".py",
   "mimetype": "text/x-python",
   "name": "python",
   "nbconvert_exporter": "python",
   "pygments_lexer": "ipython3",
   "version": "3.10.8"
  }
 },
 "nbformat": 4,
 "nbformat_minor": 5
}
