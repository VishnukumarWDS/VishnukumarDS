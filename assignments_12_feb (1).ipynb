{
 "cells": [
  {
   "cell_type": "code",
   "execution_count": null,
   "id": "4e77cc39-9da2-4055-98bc-a22fb530fda5",
   "metadata": {},
   "outputs": [],
   "source": []
  },
  {
   "cell_type": "code",
   "execution_count": null,
   "id": "ca64dea7-11eb-4ade-80bb-29a11beb49dc",
   "metadata": {},
   "outputs": [],
   "source": [
    "Q1. What is an Exception in python? Write the difference between Exceptions and Syntax errors."
   ]
  },
  {
   "cell_type": "markdown",
   "id": "bda0dbea-db4f-4e06-9575-1eaff899c0e7",
   "metadata": {},
   "source": [
    "An exception is an error that occurs during the execution of a program. When a program encounters an error or exception, it raises an error message and halts the program's execution. Exceptions can occur due to a variety of reasons, such as invalid user input, incorrect file I/O operations, and network errors."
   ]
  },
  {
   "cell_type": "markdown",
   "id": "9cedb3dc-a9db-418c-bada-5fea51e8a51b",
   "metadata": {},
   "source": [
    "In contrast, a syntax error is a type of error that occurs when the program's syntax is incorrect. These errors occur when the interpreter cannot parse the code due to a grammatical or structural error. Examples of syntax errors include missing parentheses, misspelled variable names, and incorrect indentation.\n",
    "\n",
    "The key difference between exceptions and syntax errors is that exceptions occur during the program's runtime, whereas syntax errors occur during the program's parsing or compilation phase. Additionally, syntax errors are typically easy to detect and fix as they are pointed out by the Python interpreter before the program is run. On the other hand, exceptions can be more challenging to identify and handle since they may occur due to unexpected input or external factors.\n",
    "\n",
    "To handle exceptions in Python, you can use a try-except block. The try block contains the code that may raise an exception, and the except block specifies what to do when an exception is raised. By using try-except blocks, you can gracefully handle exceptions and prevent the program from crashing."
   ]
  },
  {
   "cell_type": "code",
   "execution_count": null,
   "id": "67802efd-d493-463b-b0e1-508f1db8ff08",
   "metadata": {},
   "outputs": [],
   "source": [
    "Q2. What happens when an exception is not handled? Explain with an example."
   ]
  },
  {
   "cell_type": "markdown",
   "id": "ab2c3a23-58aa-4b8f-a2cb-ebeb3911c034",
   "metadata": {},
   "source": [
    " an exception is not handled, it will propagate up the call stack until it is caught by an exception handler or until it reaches the top of the call stack. If the exception is not caught and handled, the program will terminate and an error message will be displayed."
   ]
  },
  {
   "cell_type": "code",
   "execution_count": null,
   "id": "4ed3d7a9-8b6b-41ad-8035-38a55aa3a3b9",
   "metadata": {},
   "outputs": [],
   "source": [
    "def divide(x, y):\n",
    "    return x / y\n",
    "\n",
    "def main():\n",
    "    print(\"Enter two numbers to divide.\")\n",
    "    x = int(input(\"Enter the first number: \"))\n",
    "    y = int(input(\"Enter the second number: \"))\n",
    "    result = divide(x, y)\n",
    "    print(\"The result is: \", result)\n",
    "\n",
    "main()\n"
   ]
  },
  {
   "cell_type": "markdown",
   "id": "0cdccbea-1db1-4327-8258-34697db2305c",
   "metadata": {},
   "source": [
    "ZeroDivisionError and provide a more informative error message to the user, the program could have continued to run without terminating."
   ]
  },
  {
   "cell_type": "code",
   "execution_count": null,
   "id": "f124ebbf-f979-4b73-816a-8256cdf311e0",
   "metadata": {},
   "outputs": [],
   "source": [
    "Q3. Which Python statements are used to catch and handle exceptions? Explain with an example."
   ]
  },
  {
   "cell_type": "markdown",
   "id": "d36dc5ff-d5f9-4053-9287-febca9b1d2cf",
   "metadata": {},
   "source": [
    "Python provides the try and except statements to catch and handle exceptions. The try block contains the code that might raise an exception, while the except block contains the code that handles the exception if it is raised. "
   ]
  },
  {
   "cell_type": "code",
   "execution_count": 3,
   "id": "241509a2-6673-4b40-bb13-2f77ef1fd4f7",
   "metadata": {},
   "outputs": [
    {
     "name": "stdout",
     "output_type": "stream",
     "text": [
      "Enter two numbers to divide.\n"
     ]
    },
    {
     "name": "stdin",
     "output_type": "stream",
     "text": [
      "Enter the first number:  10\n",
      "Enter the second number:  0\n"
     ]
    },
    {
     "name": "stdout",
     "output_type": "stream",
     "text": [
      "Cannot divide by zero!\n"
     ]
    }
   ],
   "source": [
    "def divide(x, y):\n",
    "    try:\n",
    "        result = x / y\n",
    "    except ZeroDivisionError:\n",
    "        print(\"Cannot divide by zero!\")\n",
    "        return None\n",
    "    else:\n",
    "        return result\n",
    "\n",
    "def main():\n",
    "    print(\"Enter two numbers to divide.\")\n",
    "    x = int(input(\"Enter the first number: \"))\n",
    "    y = int(input(\"Enter the second number: \"))\n",
    "    result = divide(x, y)\n",
    "    if result is not None:\n",
    "        print(\"The result is: \", result)\n",
    "\n",
    "main()\n"
   ]
  },
  {
   "cell_type": "code",
   "execution_count": null,
   "id": "4532ce34-612b-42d3-a7c6-127aa3b1726a",
   "metadata": {},
   "outputs": [],
   "source": [
    "Q4. Explain with an example:\n",
    "a. try and else\n",
    "b. finally\n",
    "c. raise"
   ]
  },
  {
   "cell_type": "markdown",
   "id": "b9b54f6e-1beb-4f39-8138-ca85cdcc6cd1",
   "metadata": {},
   "source": [
    "a. try and else:\n",
    "\n",
    "The else block in Python's try statement is executed if no exception is raised in the try block."
   ]
  },
  {
   "cell_type": "code",
   "execution_count": 4,
   "id": "4d756b44-a5f0-4ad9-ab0d-897af4c6caea",
   "metadata": {},
   "outputs": [
    {
     "name": "stdout",
     "output_type": "stream",
     "text": [
      "The result is:  5.0\n"
     ]
    }
   ],
   "source": [
    "try:\n",
    "    x = 10\n",
    "    y = 2\n",
    "    result = x / y\n",
    "except ZeroDivisionError:\n",
    "    print(\"Cannot divide by zero!\")\n",
    "else:\n",
    "    print(\"The result is: \", result)\n"
   ]
  },
  {
   "cell_type": "markdown",
   "id": "feb78e8f-a540-453c-8089-f733ad9378c6",
   "metadata": {},
   "source": [
    "b. finally:\n",
    "\n",
    "The finally block in Python's try statement is executed whether or not an exception is raised in the try block. It is used to execute code that must be executed regardless of whether an exception is raised."
   ]
  },
  {
   "cell_type": "code",
   "execution_count": 6,
   "id": "3bb3a47c-f0ec-437f-bb7f-55f2e2e2d721",
   "metadata": {},
   "outputs": [
    {
     "ename": "IndentationError",
     "evalue": "expected an indented block after 'try' statement on line 3 (2905678234.py, line 5)",
     "output_type": "error",
     "traceback": [
      "\u001b[0;36m  Cell \u001b[0;32mIn[6], line 5\u001b[0;36m\u001b[0m\n\u001b[0;31m    finally:\u001b[0m\n\u001b[0m    ^\u001b[0m\n\u001b[0;31mIndentationError\u001b[0m\u001b[0;31m:\u001b[0m expected an indented block after 'try' statement on line 3\n"
     ]
    }
   ],
   "source": [
    "try:\n",
    "    file = open(\"example.txt\", \"r\")\n",
    "    try:\n",
    "        # do some operations with the file\n",
    "    finally:\n",
    "        file.close()\n",
    "except FileNotFoundError:\n",
    "    print(\"The file could not be found!\")\n"
   ]
  },
  {
   "cell_type": "code",
   "execution_count": null,
   "id": "bb7e26a8-13df-4160-a04d-44733eb68965",
   "metadata": {},
   "outputs": [],
   "source": [
    "c. raise:\n",
    "\n",
    "The raise statement in Python is used to raise an exception."
   ]
  },
  {
   "cell_type": "code",
   "execution_count": 14,
   "id": "70349a53-f770-4c5c-83fd-03268d516ad6",
   "metadata": {},
   "outputs": [],
   "source": [
    "def divide(x, y):\n",
    "    if y == 0:\n",
    "        raise ZeroDivisionError(\"Cannot divide by zero!\")\n",
    "    else:\n",
    "        return x / y\n",
    "    result = divide(10, 0)\n"
   ]
  },
  {
   "cell_type": "markdown",
   "id": "fa9abfe6-8381-4e35-9729-d875e344fddf",
   "metadata": {},
   "source": [
    "Q5. What are Custom Exceptions in python? Why do we need Custom Exceptions? Explain with an example."
   ]
  },
  {
   "cell_type": "markdown",
   "id": "0d3a96aa-c1a8-42b8-acbf-fd2a0f1e6ab3",
   "metadata": {},
   "source": [
    "In Python, custom exceptions are user-defined exceptions that can be raised in a program to indicate that a specific error has occurred. These exceptions can be used to provide more information about the error and help to make the program more robust and user-friendly.\n",
    "\n",
    "We need custom exceptions because the built-in exceptions in Python may not always provide enough information about the error that occurred. By creating our own exceptions, we can provide more detailed information about the error, which can make it easier to debug the program and fix the issue."
   ]
  },
  {
   "cell_type": "code",
   "execution_count": 15,
   "id": "204b6b43-1fa9-4613-b722-5f2f9f8cd99a",
   "metadata": {},
   "outputs": [
    {
     "name": "stdout",
     "output_type": "stream",
     "text": [
      "Error: -4 is a negative number\n"
     ]
    }
   ],
   "source": [
    "class NegativeNumberError(Exception):\n",
    "    def __init__(self, value):\n",
    "        self.value = value\n",
    "\n",
    "    def __str__(self):\n",
    "        return f\"Error: {self.value} is a negative number\"\n",
    "\n",
    "def square_root(x):\n",
    "    if x < 0:\n",
    "        raise NegativeNumberError(x)\n",
    "    else:\n",
    "        return x ** 0.5\n",
    "\n",
    "try:\n",
    "    result = square_root(-4)\n",
    "except NegativeNumberError as e:\n",
    "    print(e)\n",
    "else:\n",
    "    print(result)\n"
   ]
  },
  {
   "cell_type": "code",
   "execution_count": null,
   "id": "0c447f3e-d2d2-4546-88d9-f90ead3a1245",
   "metadata": {},
   "outputs": [],
   "source": [
    "Q6. Create a custom exception class. Use this class to handle an exception."
   ]
  },
  {
   "cell_type": "code",
   "execution_count": 16,
   "id": "d4063bdc-74af-44f0-af17-27289abd6abb",
   "metadata": {},
   "outputs": [
    {
     "name": "stdin",
     "output_type": "stream",
     "text": [
      "Enter a positive number:  45\n"
     ]
    },
    {
     "name": "stdout",
     "output_type": "stream",
     "text": [
      "The number is: 45\n"
     ]
    }
   ],
   "source": [
    "class InvalidInputError(Exception):\n",
    "    pass\n",
    "\n",
    "def read_input():\n",
    "    value = input(\"Enter a positive number: \")\n",
    "    if not value.isdigit() or int(value) <= 0:\n",
    "        raise InvalidInputError(\"Input must be a positive integer\")\n",
    "    return int(value)\n",
    "\n",
    "try:\n",
    "    number = read_input()\n",
    "except InvalidInputError as e:\n",
    "    print(\"Error:\", e)\n",
    "    number = 0\n",
    "\n",
    "print(\"The number is:\", number)\n"
   ]
  },
  {
   "cell_type": "code",
   "execution_count": null,
   "id": "bb35d9dc-cd7c-4f1c-9b58-e78f7a623502",
   "metadata": {},
   "outputs": [],
   "source": []
  }
 ],
 "metadata": {
  "kernelspec": {
   "display_name": "Python 3 (ipykernel)",
   "language": "python",
   "name": "python3"
  },
  "language_info": {
   "codemirror_mode": {
    "name": "ipython",
    "version": 3
   },
   "file_extension": ".py",
   "mimetype": "text/x-python",
   "name": "python",
   "nbconvert_exporter": "python",
   "pygments_lexer": "ipython3",
   "version": "3.10.8"
  }
 },
 "nbformat": 4,
 "nbformat_minor": 5
}
