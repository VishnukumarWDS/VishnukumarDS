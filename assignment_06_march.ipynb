{
 "cells": [
  {
   "cell_type": "code",
   "execution_count": null,
   "id": "715aed6b-8509-4d25-a8b3-edf78bce5a94",
   "metadata": {},
   "outputs": [],
   "source": [
    "What is Statistics?"
   ]
  },
  {
   "cell_type": "markdown",
   "id": "3eaf1b52-7285-4534-a6c1-f8727f2cc644",
   "metadata": {},
   "source": [
    "Statistics is the science concerned with developing and studying methods for collecting, analyzing, interpreting and presenting empirical data."
   ]
  },
  {
   "cell_type": "code",
   "execution_count": null,
   "id": "81766886-b060-4f4a-be86-aed0ad47616a",
   "metadata": {},
   "outputs": [],
   "source": [
    "Define the different types of statistics and give an example of when each type might be used."
   ]
  },
  {
   "cell_type": "markdown",
   "id": "1f9fb004-ff29-4bb7-a052-b450dce50927",
   "metadata": {},
   "source": [
    "In Maths, Statistics is a method of interpreting, analysing and summarising the data. Hence, the types of statistics are categorised based on these features: Descriptive and inferential statistics. Based on the representation of data such as using pie charts, bar graphs, or tables, we analyse and interpret it."
   ]
  },
  {
   "cell_type": "markdown",
   "id": "933af59c-386c-4b08-8b4e-9b26dd91e153",
   "metadata": {},
   "source": [
    "Descriptive Statistics:\n",
    "Descriptive statistics are used to describe and summarize data in a meaningful way. This type of statistics includes measures of central tendency (mean, median, and mode), measures of variability (range, variance, and standard deviation), and graphical displays (histograms, boxplots, and scatter plots).\n",
    "Example: If you are analyzing the heights of a group of students, you may use descriptive statistics to calculate the mean, median, and standard deviation of their heights. You can also create a histogram or boxplot to visualize the distribution of their heights.\n",
    "Inferential Statistics:\n",
    "Inferential statistics are used to make predictions or generalizations about a\n",
    "Another example of inferential statistics is conducting a survey to estimate the percentage of a population that supports a particular political candidate. You would collect a sample of responses and use inferential statistics to make an inference about the population's opinions based on the sample's results.\n"
   ]
  },
  {
   "cell_type": "code",
   "execution_count": null,
   "id": "60cc4aac-e475-4be3-b62a-9f3d731106f8",
   "metadata": {},
   "outputs": [],
   "source": [
    "What are the different types of data and how do they differ from each other? Provide an example of\n",
    "each type of data."
   ]
  },
  {
   "cell_type": "markdown",
   "id": "760264bc-2971-4b2e-9e7b-1e46a32afec2",
   "metadata": {},
   "source": [
    "There are four main types of data: nominal, ordinal, interval, and ratio. Each type of data differs based on the level of measurement and the properties of the values that make up the data.\n",
    "Nominal Data:\n",
    "Nominal data are categorical data that cannot be ordered or ranked. The values in nominal data are assigned to categories or labels. Nominal data do not have any inherent numerical meaning or order.\n",
    "Example: Eye color is a type of nominal data. The values are assigned to categories such as blue, brown, green, and hazel. The values\n",
    "network error\n",
    "in this data type do not have any inherent order or numerical meaning.\n",
    "Ordinal Data:\n",
    "Ordinal data are categorical data that can be ordered or ranked. The values in ordinal data have an inherent order, but the differences between the values cannot be determined.\n",
    "Example: Educational level is a type of ordinal data. The values are assigned to categories such as elementary school, high school, college, and graduate school. The values in this data type have an inherent order, but it is not possible to determine the difference between an elementary school education and a high school education.\n",
    "Interval Data:\n",
    "Interval data are numerical data where the differences between the values have a meaningful interpretation. The values in interval data have a fixed interval between them but do not have a true zero point.\n",
    "Example: Temperature is a type of interval data. The values are measured in degrees Celsius or Fahrenheit. The differences between the values have a meaningful interpretation (one degree Celsius is the same as one degree Fahrenheit), but there is no true zero point (zero degrees Celsius does not represent the absence of temperature).\n",
    "Ratio Data:\n",
    "Ratio data are numerical data where the differences between the values have a meaningful interpretation, and there is a true zero point.\n",
    "Example: Height is a type of ratio data. The values are measured in inches or centimeters. The differences between the values have a meaningful interpretation, and there is a true zero point .\n"
   ]
  },
  {
   "cell_type": "code",
   "execution_count": null,
   "id": "302326d1-4b6f-444b-aee6-897e374010bf",
   "metadata": {},
   "outputs": [],
   "source": []
  },
  {
   "cell_type": "code",
   "execution_count": null,
   "id": "60c0a969-9af4-434d-b1c5-5be7fac841b8",
   "metadata": {},
   "outputs": [],
   "source": [
    "Categorise the following datasets with respect to quantitative and qualitative data\n",
    "(i) Grading in exam: A+, A, B+, B, C+, C, D, E (ii) Colour of mangoes: yellow, green, orange, red\n",
    "(iii) Height data of a class: [178.9, 179, 179.5, 176, 177.2, 178.3, 175.8,...]\n",
    "(iv) Number of mangoes exported by a farm: [500, 600, 478, 672,...]"
   ]
  },
  {
   "cell_type": "code",
   "execution_count": null,
   "id": "bce18f24-3658-49e3-9b59-00684bf6103e",
   "metadata": {},
   "outputs": [],
   "source": [
    "(i) Grading in exam: A+, A, B+, B, C+, C, D, E\n",
    "Categorical/Qualitative data\n",
    "(ii) Colour of mangoes: yellow, green, orange, red\n",
    "Categorical/Qualitative data\n",
    "(iii) Height data of a class: [178.9, 179, 179.5, 176, 177.2, 178.3, 175.8,...]\n",
    "Numerical/Quantitative data\n",
    "(iv) Number of mangoes exported by a farm: [500, 600, 478, 672,...]\n",
    "Numerical/Quantitative data"
   ]
  },
  {
   "cell_type": "code",
   "execution_count": null,
   "id": "d5e95520-fd2c-4b4f-998d-d6cd4667c605",
   "metadata": {},
   "outputs": [],
   "source": [
    "Explain the concept of levels of measurement and give an example of a variable for each level."
   ]
  },
  {
   "cell_type": "markdown",
   "id": "7531597e-80b9-4b45-b7d4-0bafedbbec23",
   "metadata": {},
   "source": [
    "Levels of measurement, also known as scales of measurement, refers to the ways in which variables can be measured and categorized. There are four main levels of measurement: nominal, ordinal, interval, and ratio.\n",
    "Nominal level of measurement:\n",
    "This is the lowest level of measurement and is used to classify data into categories without any inherent order or ranking. Nominal data is qualitative in nature, which means that it describes qualities rather than quantities. Examples of nominal variables include gender (male/female), hair color (blonde, brown, black, etc.), and marital status (married, single, divorced, etc.).\n",
    "Ordinal level of measurement:\n",
    "This level of measurement allows us to rank the data in a particular order or sequence, but the difference between the values is not known. Ordinal data is also qualitative in nature, and examples of ordinal variables include education level (elementary, high school, college), military ranks (private, sergeant, lieutenant), and level of satisfaction (very dissatisfied, somewhat dissatisfied, neither satisfied nor dissatisfied, somewhat satisfied, very satisfied).\n",
    "Interval level of measurement:\n",
    "This level of measurement allows us to measure the distance between values or scores, and it also has a meaningful zero point. Interval data is quantitative in nature, which means that it describes quantities rather than qualities. Examples of interval variables include temperature (measured in Celsius or Fahrenheit), time (measured in hours, minutes, seconds), and IQ scores (measured on a scale from 0 to 200).\n",
    "Ratio level of measurement:\n",
    "This is the highest level of measurement, which has all the properties of interval measurement and also has a true zero point. Ratio data is quantitative in nature, and examples of ratio variables include height, weight, distance, and income.\n",
    "Overall, understanding the levels of measurement is important because it determines the type of statistical analysis that can be performed on the data"
   ]
  },
  {
   "cell_type": "code",
   "execution_count": null,
   "id": "4e47e10b-8b91-4e6a-aec6-8558c06c7a9c",
   "metadata": {},
   "outputs": [],
   "source": [
    "Q6. Why is it important to understand the level of measurement when analyzing data? Provide an example to illustrate your answer."
   ]
  },
  {
   "cell_type": "markdown",
   "id": "ed5a432a-c80f-4116-8711-1ad2681a2c1b",
   "metadata": {},
   "source": [
    "It is crucial to understand the level of measurement of data because it determines the types of statistical tests and analyses that can be applied to the data. Different levels of measurement have different properties and requirements for statistical analysis. Failing to understand the level of measurement can lead to inaccurate results, invalid conclusions, and inappropriate actions based on those conclusions.\n",
    "There are four levels of measurement: nominal, ordinal, interval, and ratio. Nominal data are categorical and have no inherent order, while ordinal data have an inherent order but do not have equal intervals between values. Interval data have equal intervals between values but no true zero point, and ratio data have both equal intervals and a true zero point.\n",
    "An example of the importance of understanding the level of measurement is when analyzing data on income levels. If income is measured using a nominal scale with categories such as \"low income,\" \"middle income,\" and \"high income,\" statistical tests such as chi-squared tests or contingency tables can be used to examine the relationship between income and other variables. However, if income is measured using an interval scale with numerical values such as dollars, then different tests such as t-tests or ANOVA must be used. In addition, if income is measured using a ratio scale, such as annual income, additional analyses such as regression can be applied to identify the relationship between income and other variables.\n",
    "In conclusion, understanding the level of measurement is essential when analyzing data because it determines the types of statistical analyses that can be used, and therefore, the accuracy and validity of the conclusions drawn from the data."
   ]
  },
  {
   "cell_type": "code",
   "execution_count": null,
   "id": "c6c3c286-e571-4232-a425-8ab6e7046a62",
   "metadata": {},
   "outputs": [],
   "source": [
    "Q7. How nominal data type is different from ordinal data type."
   ]
  },
  {
   "cell_type": "markdown",
   "id": "9a85c46a-504c-43f7-9d04-3a67899b08fb",
   "metadata": {},
   "source": [
    "Nominal and ordinal data types are two types of categorical data in statistics. While both types of data are non-numeric and qualitative in nature, there are differences between the two.\n",
    "Nominal data is a type of categorical data that is used to label variables without providing any quantitative value or order. Nominal data can only be divided into categories and cannot be ranked in any meaningful way. For example, hair color, ethnicity, or gender are nominal variables. Nominal data can be represented using numbers, letters, or words, but the values do not have any inherent order.\n",
    "Ordinal data, on the other hand, is also a type of categorical data but it has a natural order or ranking between categories. In ordinal data, the categories can be ranked in a meaningful way. For example, the educational degree can be ordered as high school, associate degree, bachelor's degree, master's degree, and doctoral degree. Another example is a rating scale from 1 to 5, where each value represents a higher or lower level of satisfaction or agreement"
   ]
  },
  {
   "cell_type": "code",
   "execution_count": null,
   "id": "e53afb71-8a95-4b54-92a7-28142ae5e3ab",
   "metadata": {},
   "outputs": [],
   "source": [
    "Which type of plot can be used to display data in terms of range?"
   ]
  },
  {
   "cell_type": "markdown",
   "id": "01649dae-c53d-4b11-aedf-add500f68407",
   "metadata": {},
   "source": [
    "A box plot, also known as a box-and-whisker plot, is a type of plot that can be used to display data in terms of range.\n",
    "A box plot shows the distribution of a set of data by indicating the median, quartiles, and outliers of the data. The box represents the interquartile range (IQR), which is the range of the middle 50% of the data. The line inside the box represents the median, or the middle value of the data. The whiskers extend from the box to the smallest and largest observations within 1.5 times the IQR. Any observations outside this range are considered outliers and are plotted as individual points.\n",
    "Box plots are useful for comparing distributions between different groups or variables, and for detecting outliers in data. They can also provide a visual representation of the spread and skewness of the data"
   ]
  },
  {
   "cell_type": "code",
   "execution_count": null,
   "id": "4cc7d920-030a-49db-a985-0e46aa1460a4",
   "metadata": {},
   "outputs": [],
   "source": [
    "Describe the difference between descriptive and inferential statistics. Give an example of each\n",
    "type of statistics and explain how they are used."
   ]
  },
  {
   "cell_type": "markdown",
   "id": "91bf8702-fe38-4f9d-b2b7-26ffc321385d",
   "metadata": {},
   "source": [
    "Descriptive and inferential statistics are two main branches of statistical analysis, both of which are used to analyze and summarize data.\n",
    "Descriptive statistics refer to techniques used to summarize and describe the main features of a dataset, such as measures of central tendency (mean, median, mode), measures of variability (range, standard deviation), and graphical representations (histograms, box plots, scatter plots). These techniques are used to organize and summarize data into meaningful information that can be easily understood and communicated. For example, the average height of students in a class, the range of test scores, and the distribution of ages in a population are all examples of descriptive statistics.\n",
    "Inferential statistics, on the other hand, are used to make inferences about a population based on a sample of data. This involves using probability theory and statistical inference to draw conclusions and make predictions about the population based on the sample. Inferential statistics can be used to test hypotheses, estimate parameters, and make predictions about future outcomes. For example, if a researcher wants to know if there is a significant difference in the average height of males and females in a population, they may collect a sample of data and use inferential statistics to determine if the observed difference in heights is statistically significant or due to chance"
   ]
  },
  {
   "cell_type": "code",
   "execution_count": null,
   "id": "b8ac6957-ea17-4c8d-b4ad-2d87a88a72fe",
   "metadata": {},
   "outputs": [],
   "source": [
    "What are some common measures of central tendency and variability used in statistics? Explain\n",
    "how each measure can be used to describe a dataset."
   ]
  },
  {
   "cell_type": "markdown",
   "id": "cd85aa0d-13cb-405f-a88c-a68860141125",
   "metadata": {},
   "source": [
    "Measures of central tendency and variability are used in statistics to summarize and describe a dataset. Here are some common measures of central tendency and variability:\n",
    "Mean: The mean is the sum of all the values in a dataset divided by the total number of values. It is often used to describe the average value of a dataset. The mean is sensitive to outliers and can be affected by extreme values.\n",
    "Median: The median is the middle value in a dataset when the values are arranged in order. It is often used as a measure of central tendency when there are outliers or the data is not normally distributed.\n",
    "Mode: The mode is the most frequently occurring value in a dataset. It is often used to describe the most common value or category in a dataset.\n",
    "Range: The range is the difference between the maximum and minimum values in a dataset. It is often used to describe the spread or variability of a dataset.\n",
    "Standard deviation: The standard deviation is a measure of the amount of variation or dispersion in a dataset. It is calculated by taking the square root of the variance. The standard deviation is often used to describe how much the values in a dataset differ from the mean.\n",
    "Variance: The variance is the average of the squared differences from the mean. It is often used to describe the spread or variability of a dataset. A higher variance indicates that the values in a dataset are more spread out from the mean"
   ]
  }
 ],
 "metadata": {
  "kernelspec": {
   "display_name": "Python 3 (ipykernel)",
   "language": "python",
   "name": "python3"
  },
  "language_info": {
   "codemirror_mode": {
    "name": "ipython",
    "version": 3
   },
   "file_extension": ".py",
   "mimetype": "text/x-python",
   "name": "python",
   "nbconvert_exporter": "python",
   "pygments_lexer": "ipython3",
   "version": "3.10.8"
  }
 },
 "nbformat": 4,
 "nbformat_minor": 5
}
