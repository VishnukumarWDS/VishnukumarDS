{
 "cells": [
  {
   "cell_type": "markdown",
   "id": "cb8dba24-8d31-4473-9d8d-fe976fa579e1",
   "metadata": {},
   "source": [
    "## Assignment_05_feb"
   ]
  },
  {
   "cell_type": "markdown",
   "id": "a64f51fc-8da9-4fc2-a060-bd8e497a2ef2",
   "metadata": {},
   "source": [
    "### Q1. Explain Class and Object with respect to Object-Oriented Programming. Give a suitable example."
   ]
  },
  {
   "cell_type": "markdown",
   "id": "a5195a99-844f-4bb6-aecd-d3940b4912b8",
   "metadata": {},
   "source": [
    "#### Ans: class is like an  Blueprint for creating a new object.\n",
    "#### An object is anything that you wish to manipulate or change while working through the code."
   ]
  },
  {
   "cell_type": "markdown",
   "id": "0269bb6d-a60a-4333-965e-048bd3f68c0d",
   "metadata": {},
   "source": [
    "#### Example:"
   ]
  },
  {
   "cell_type": "code",
   "execution_count": 6,
   "id": "a9b16963-dd63-4620-9ced-0e5ad09c101a",
   "metadata": {},
   "outputs": [],
   "source": [
    "class ID:\n",
    "    def __init__(self,name,age):\n",
    "        self.name = name\n",
    "        self.age  = age\n",
    "    def return_ID_Details(self):\n",
    "        return self.name ,self.age \n",
    "    "
   ]
  },
  {
   "cell_type": "code",
   "execution_count": 11,
   "id": "6b86155e-aedc-4b0d-bfe6-09a071a536bb",
   "metadata": {},
   "outputs": [],
   "source": [
    "details = ID(\"vishnu\",21)"
   ]
  },
  {
   "cell_type": "code",
   "execution_count": 12,
   "id": "40e98184-1840-43fa-af4a-464196d14f14",
   "metadata": {},
   "outputs": [
    {
     "data": {
      "text/plain": [
       "'vishnu'"
      ]
     },
     "execution_count": 12,
     "metadata": {},
     "output_type": "execute_result"
    }
   ],
   "source": [
    "details.name"
   ]
  },
  {
   "cell_type": "code",
   "execution_count": 13,
   "id": "9e478cbe-666b-439d-93de-9cf7bf856ee1",
   "metadata": {},
   "outputs": [
    {
     "data": {
      "text/plain": [
       "21"
      ]
     },
     "execution_count": 13,
     "metadata": {},
     "output_type": "execute_result"
    }
   ],
   "source": [
    "details.age"
   ]
  },
  {
   "cell_type": "markdown",
   "id": "6c7d34be-fef3-430c-8a35-10e4ba28c92b",
   "metadata": {},
   "source": [
    "### Q2. Name the four pillars of OOPs."
   ]
  },
  {
   "cell_type": "markdown",
   "id": "ab7faf9e-5d7c-4932-bab0-03ce53257eb1",
   "metadata": {},
   "source": [
    "#### Ans: These four pillars are Inheritance, Polymorphism, Encapsulation and Abstraction."
   ]
  },
  {
   "cell_type": "markdown",
   "id": "13e72f8b-f63f-47ad-b78d-2fa92257dbce",
   "metadata": {},
   "source": [
    "### Q3. Explain why the __init__() function is used. Give a suitable example."
   ]
  },
  {
   "cell_type": "markdown",
   "id": "0d706bac-4394-455d-8ec3-4955eed87ce8",
   "metadata": {},
   "source": [
    "#### Ans: The __init__ function, also known as the constructor method, is used to initialize the attributes of an object immediately after the object is created. It is called automatically when an object of the class is created. The __init__ function allows you to specify the values for the attributes of an object when it is created, rather than having to set them later."
   ]
  },
  {
   "cell_type": "markdown",
   "id": "e5baf9ba-bcd4-4a8a-b263-6be9cc376eb0",
   "metadata": {},
   "source": [
    "### Example:"
   ]
  },
  {
   "cell_type": "code",
   "execution_count": 14,
   "id": "41a9aa87-ffcd-4115-b70c-c55c60934296",
   "metadata": {},
   "outputs": [],
   "source": [
    "class Car:\n",
    "    def __init__(self, make, model, year):\n",
    "        self.make = make\n",
    "        self.model = model\n",
    "        self.year = year\n",
    "\n",
    "my_car = Car(\"Toyota\", \"Camry\", 2020)\n"
   ]
  },
  {
   "cell_type": "code",
   "execution_count": 15,
   "id": "5ed4eb26-8f70-4c2f-ad31-630d6d637afc",
   "metadata": {},
   "outputs": [
    {
     "name": "stdout",
     "output_type": "stream",
     "text": [
      "Toyota\n",
      "Camry\n",
      "2020\n"
     ]
    }
   ],
   "source": [
    "print(my_car.make)\n",
    "print(my_car.model)\n",
    "print(my_car.year)"
   ]
  },
  {
   "cell_type": "markdown",
   "id": "7fd64206-eb6b-4faf-966e-8be5312c2841",
   "metadata": {},
   "source": [
    "### Q4. Why self is used in OOPs?"
   ]
  },
  {
   "cell_type": "markdown",
   "id": "d0cd4dd1-9725-464c-aac8-7d7adce19d31",
   "metadata": {},
   "source": [
    "#### Ans: the self keyword is used to refer to the instance of the object that is being created. It is a reference to the instance of the object on which the method was called.\n",
    "#### The self keyword is used to access the attributes and methods of the current object. When a method is called on an object, the object is passed to the method as the first argument, and this argument is typically named self."
   ]
  },
  {
   "cell_type": "markdown",
   "id": "44c3bb53-6770-4795-8ebd-6abe30112832",
   "metadata": {},
   "source": [
    "### Q5. What is inheritance? Give an example for each type of inheritance."
   ]
  },
  {
   "cell_type": "markdown",
   "id": "2cdba2ac-31ee-472e-8f93-1a279c3ce5d1",
   "metadata": {},
   "source": [
    "#### Ans: Inheritance is a feature of object-oriented programming where a new class can be derived from an existing class. The new class is called the subclass, and the existing class is called the superclass. Inheritance allows the subclass to inherit attributes and behaviors from the superclass, which can help to reduce code duplication and improve code reuse.\n",
    "#### There are several types of inheritance in object-oriented programming:\n",
    "#### Single Inheritance: In single inheritance, a subclass is derived from a single superclass. The subclass inherits the attributes and behaviors of the superclass."
   ]
  },
  {
   "cell_type": "code",
   "execution_count": null,
   "id": "06b44e39-eca4-400d-a72e-848b8967d813",
   "metadata": {},
   "outputs": [],
   "source": []
  }
 ],
 "metadata": {
  "kernelspec": {
   "display_name": "Python 3 (ipykernel)",
   "language": "python",
   "name": "python3"
  },
  "language_info": {
   "codemirror_mode": {
    "name": "ipython",
    "version": 3
   },
   "file_extension": ".py",
   "mimetype": "text/x-python",
   "name": "python",
   "nbconvert_exporter": "python",
   "pygments_lexer": "ipython3",
   "version": "3.10.8"
  }
 },
 "nbformat": 4,
 "nbformat_minor": 5
}
