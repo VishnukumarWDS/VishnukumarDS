{
 "cells": [
  {
   "cell_type": "markdown",
   "id": "024c0322-36cc-45bb-ba62-fd9817723d73",
   "metadata": {
    "tags": []
   },
   "source": [
    "## Assignment 15 feb"
   ]
  },
  {
   "cell_type": "code",
   "execution_count": null,
   "id": "02089ecd-302a-4995-acd3-b3991920982a",
   "metadata": {},
   "outputs": [],
   "source": [
    "Q1. What is multiprocessing in python? Why is it useful?"
   ]
  },
  {
   "cell_type": "markdown",
   "id": "c5525516-c9f3-4b3b-9487-a023a1047274",
   "metadata": {},
   "source": [
    "Multiprocessing is a way of achieving parallelism in Python, where multiple processes are created to execute tasks simultaneously on a computer's multiple CPUs or cores. In multiprocessing, each process runs independently and has its memory space, and can communicate with other processes by using interprocess communication (IPC) techniques such as pipes, queues, and shared memory.\n",
    "\n",
    "Multiprocessing is useful because it can significantly speed up the execution of CPU-bound tasks, such as complex mathematical calculations, data processing, and machine learning algorithms. By dividing a large task into smaller sub-tasks and assigning each sub-task to a separate process, multiprocessing can take advantage of the available CPUs/cores, thereby reducing the overall execution time.\n",
    "\n",
    "Multiprocessing is also useful for tasks that involve blocking operations, such as I/O operations or waiting for network requests. By using multiprocessing, you can perform these operations in separate processes without blocking the main process, thereby improving the overall responsiveness of your application.\n",
    "\n",
    "Python provides a multiprocessing module that makes it easy to create and manage processes in Python programs. The module provides various features such as process spawning, process communication, synchronization primitives, and shared memory."
   ]
  },
  {
   "cell_type": "code",
   "execution_count": null,
   "id": "50b630cf-8beb-4dee-9f0a-785d3cc88f90",
   "metadata": {},
   "outputs": [],
   "source": [
    "Q2. What are the differences between multiprocessing and multithreading?"
   ]
  },
  {
   "cell_type": "markdown",
   "id": "1c8bab59-6007-4c88-98db-33a38a51dcac",
   "metadata": {},
   "source": [
    "Multiprocessing and multithreading are both techniques used for achieving parallelism in programming. However, there are some significant differences between the two:\n",
    "\n",
    "Process vs. Thread: In multiprocessing, multiple processes are created to execute tasks, while in multithreading, multiple threads are created within a single process to execute tasks.\n",
    "\n",
    "Memory Space: Each process has its own memory space, while all threads within a process share the same memory space.\n",
    "\n",
    "CPU utilization: Multiprocessing can take advantage of multiple CPUs or cores, while multithreading can only take advantage of a single CPU or core.\n",
    "\n",
    "Overhead: Multiprocessing has a higher overhead than multithreading, as each process requires its own memory space and resources, while threads share resources within a process.\n",
    "\n",
    "Inter-process communication: Processes communicate with each other using IPC mechanisms such as pipes, queues, and shared memory, while threads communicate using shared memory.\n",
    "\n",
    "Error handling: A crash in one process will not affect other processes, while a crash in one thread can affect the entire process.\n",
    "\n",
    "Complexity: Multiprocessing is generally more complex to implement than multithreading, as it involves managing multiple processes and their interactions."
   ]
  },
  {
   "cell_type": "code",
   "execution_count": null,
   "id": "fa6cb459-d09f-46d8-9848-2526504518a2",
   "metadata": {},
   "outputs": [],
   "source": [
    "Q3. Write a python code to create a process using the multiprocessing module."
   ]
  },
  {
   "cell_type": "code",
   "execution_count": 1,
   "id": "c17e586d-d5ce-4b76-83bd-4160d8a5fc78",
   "metadata": {},
   "outputs": [],
   "source": [
    "import multiprocessing"
   ]
  },
  {
   "cell_type": "code",
   "execution_count": 3,
   "id": "9e6bf783-4046-4044-b409-bac84cb643b6",
   "metadata": {},
   "outputs": [
    {
     "name": "stdout",
     "output_type": "stream",
     "text": [
      "worker process started\n",
      "worker process Ended\n"
     ]
    }
   ],
   "source": [
    "def worker():\n",
    "    \"\"\"A Simple worker\"\"\"\n",
    "    print(\"worker process started\")\n",
    "    \n",
    "    print(\"worker process Ended\")\n",
    "    \n",
    "if __name__ == '__main__':\n",
    "    thread = multiprocessing.Process(target=worker)\n",
    "    thread.start()\n",
    "    \n",
    "    thread.join()"
   ]
  },
  {
   "cell_type": "code",
   "execution_count": null,
   "id": "637bdfcb-f936-4ba5-9ead-21c39b8f2fb6",
   "metadata": {},
   "outputs": [],
   "source": [
    "Q4. What is a multiprocessing pool in python? Why is it used?"
   ]
  },
  {
   "cell_type": "markdown",
   "id": "5154b687-e319-44ca-8021-8cfc8bc45aa1",
   "metadata": {},
   "source": [
    " Multiprocessing pool is a built-in module that allows you to execute multiple processes concurrently. It provides a simple way to parallelize the execution of a function across multiple input values, distributing the work across a pool of worker processes.\n",
    " \n",
    " The multiprocessing pool in Python works by creating a pool of worker processes that are available to execute tasks in parallel. The pool object is initialized with a number of processes to use, and you can then submit tasks to the pool using one of several methods, such as map() or apply_async(). These methods take a function and a list of arguments, and return the results of the function applied to each argument in parallel.\n",
    " \n",
    " Multiprocessing pool in Python is that it can significantly speed up the execution of CPU-bound tasks by utilizing multiple CPU cores. By splitting the work across multiple processes, the pool can take advantage of the parallel processing capabilities of modern CPUs and reduce the overall execution time of the program."
   ]
  },
  {
   "cell_type": "code",
   "execution_count": null,
   "id": "ef460dd8-b0ce-4bd4-866a-4a4c3bf3535f",
   "metadata": {},
   "outputs": [],
   "source": [
    "Q5. How can we create a pool of worker processes in python using the multiprocessing module?"
   ]
  },
  {
   "cell_type": "code",
   "execution_count": null,
   "id": "bd616c7e-71e3-434e-a235-3c80298ecc96",
   "metadata": {},
   "outputs": [],
   "source": [
    "1.Import the multiprocessing module:"
   ]
  },
  {
   "cell_type": "code",
   "execution_count": 7,
   "id": "4de508dc-5760-4c88-8fd4-92c4f206ef21",
   "metadata": {},
   "outputs": [],
   "source": [
    "import multiprocessing"
   ]
  },
  {
   "cell_type": "code",
   "execution_count": null,
   "id": "09bf26b6-c2fa-499e-bfc6-6c65580ea2e9",
   "metadata": {},
   "outputs": [],
   "source": [
    "2.Determine the number of processes you want to use in your pool:"
   ]
  },
  {
   "cell_type": "code",
   "execution_count": 8,
   "id": "16a846a9-637b-4aa0-8bee-bd48d753c10f",
   "metadata": {},
   "outputs": [],
   "source": [
    "num_processes = 4 "
   ]
  },
  {
   "cell_type": "code",
   "execution_count": null,
   "id": "c0f2217c-c1e3-4a8a-b7e7-f0b4eed6aae2",
   "metadata": {},
   "outputs": [],
   "source": [
    "3.Create a Pool object and pass in the number of processes you want to use:"
   ]
  },
  {
   "cell_type": "code",
   "execution_count": 9,
   "id": "33551c36-12ee-488a-a565-c3006ed4711a",
   "metadata": {},
   "outputs": [],
   "source": [
    "pool =multiprocessing.Pool(num_processes) "
   ]
  },
  {
   "cell_type": "markdown",
   "id": "f8e4a1cb-a837-4344-8a6e-590dde36e1ed",
   "metadata": {},
   "source": [
    "4.Once you have a Pool object, you can submit tasks to it using one of several methods. For example, you can use the map() method to apply a function to a list of inputs:"
   ]
  },
  {
   "cell_type": "code",
   "execution_count": null,
   "id": "f1267c69-d8c7-4570-ae17-fbbdc6fb254e",
   "metadata": {},
   "outputs": [],
   "source": [
    "inputs = [1, 2, 3, 4, 5]\n",
    "result = pool.map(my_function, inputs)\n"
   ]
  },
  {
   "cell_type": "code",
   "execution_count": null,
   "id": "e90587b9-a85b-4e4f-8e47-7e6bb455a70c",
   "metadata": {},
   "outputs": [],
   "source": [
    "5.Once you're done using the pool, you should close it to release any resources it's holding:"
   ]
  },
  {
   "cell_type": "code",
   "execution_count": null,
   "id": "10b5bffb-adaf-471b-b5af-fe5177353f67",
   "metadata": {},
   "outputs": [],
   "source": [
    "pool.close()\n",
    "pool.join()\n"
   ]
  },
  {
   "cell_type": "code",
   "execution_count": null,
   "id": "b74c5c59-ffe2-4c0b-981d-8fdc09a968d6",
   "metadata": {},
   "outputs": [],
   "source": [
    "Q6. Write a python program to create 4 processes, each process should print a different number using the\n",
    "multiprocessing module in python."
   ]
  },
  {
   "cell_type": "code",
   "execution_count": 11,
   "id": "50898f65-ee4f-4132-90a2-c95fe4895ace",
   "metadata": {},
   "outputs": [],
   "source": [
    "import multiprocessing"
   ]
  },
  {
   "cell_type": "code",
   "execution_count": 13,
   "id": "fdd842d0-b1d7-4d3a-b528-89b8bfd72308",
   "metadata": {},
   "outputs": [
    {
     "name": "stdout",
     "output_type": "stream",
     "text": [
      "Process 1 : 1\n",
      "Process 2 : 2\n",
      "Process 3 : 3\n",
      "Process 4 : 4\n"
     ]
    }
   ],
   "source": [
    "def print_num(num):\n",
    "    print(f\"Process {num} : {num}\")\n",
    "    \n",
    "if __name__ == '__main__':\n",
    "    processes = []\n",
    "    for i in range(1,5):\n",
    "        p =multiprocessing.Process(target = print_num, args = (i,))\n",
    "        processes.append(p)\n",
    "        p.start()\n",
    "        \n",
    "    for p in processes:\n",
    "        p.join()"
   ]
  },
  {
   "cell_type": "code",
   "execution_count": null,
   "id": "690ee179-5151-4106-980c-53bfc1eceb76",
   "metadata": {},
   "outputs": [],
   "source": []
  }
 ],
 "metadata": {
  "kernelspec": {
   "display_name": "Python 3 (ipykernel)",
   "language": "python",
   "name": "python3"
  },
  "language_info": {
   "codemirror_mode": {
    "name": "ipython",
    "version": 3
   },
   "file_extension": ".py",
   "mimetype": "text/x-python",
   "name": "python",
   "nbconvert_exporter": "python",
   "pygments_lexer": "ipython3",
   "version": "3.10.8"
  }
 },
 "nbformat": 4,
 "nbformat_minor": 5
}
