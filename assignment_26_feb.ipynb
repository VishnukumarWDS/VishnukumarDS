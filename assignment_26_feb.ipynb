{
 "cells": [
  {
   "cell_type": "code",
   "execution_count": null,
   "id": "2babf2d9-a6c2-4643-b8a4-cabbc0732517",
   "metadata": {},
   "outputs": [],
   "source": [
    "Q1. Is there any difference in the data type of variables list_ and array_list? If there is then write a code\n",
    "to print the data types of both the variables."
   ]
  },
  {
   "cell_type": "markdown",
   "id": "cce9bbce-b69e-4862-bf58-65a6aa18ee3d",
   "metadata": {},
   "source": [
    "Yes, there is a difference in the data type of variables list_ and array_list.\n",
    "\n",
    "The variable list_ is a Python list, which can hold elements of different data types, including strings, integers, floats, and other objects.\n",
    "\n",
    "On the other hand, the variable array_list is a NumPy array, which can hold elements of a single data type only. In this case, since the input list contains strings, the array_list will also have the data type of string."
   ]
  },
  {
   "cell_type": "code",
   "execution_count": 2,
   "id": "2bda333d-ae65-4f33-b1c8-eaca6d7e4d5b",
   "metadata": {},
   "outputs": [
    {
     "name": "stdout",
     "output_type": "stream",
     "text": [
      "<class 'list'>\n",
      "<class 'numpy.ndarray'>\n"
     ]
    }
   ],
   "source": [
    "import numpy as np\n",
    "\n",
    "list_ = [ '1' , '2' , '3' , '4' , '5' ]\n",
    "array_list = np.array(object = list_)\n",
    "\n",
    "print(type(list_))\n",
    "print(type(array_list))\n"
   ]
  },
  {
   "cell_type": "code",
   "execution_count": null,
   "id": "d91ed396-eb45-4fca-8fba-e72c0f8383ea",
   "metadata": {},
   "outputs": [],
   "source": [
    "Q2. Write a code to print the data type of each and every element of both the variables list_ and\n",
    "arra_list."
   ]
  },
  {
   "cell_type": "markdown",
   "id": "60799b32-cfa5-4b0e-b7b1-74ef99d28875",
   "metadata": {},
   "source": [
    "To print the data type of each and every element of list_ and array_list, you can use a for loop to iterate over each element in the list, and then use the type() function to print the data type of that element. For the array_list, you can use the dtype attribute to get the data type of the array."
   ]
  },
  {
   "cell_type": "code",
   "execution_count": 3,
   "id": "3b070eb4-f79c-4710-a5a2-8e52930cf567",
   "metadata": {},
   "outputs": [
    {
     "name": "stdout",
     "output_type": "stream",
     "text": [
      "<class 'str'>\n",
      "<class 'str'>\n",
      "<class 'str'>\n",
      "<class 'str'>\n",
      "<class 'str'>\n",
      "1 <class 'numpy.str_'>\n",
      "2 <class 'numpy.str_'>\n",
      "3 <class 'numpy.str_'>\n",
      "4 <class 'numpy.str_'>\n",
      "5 <class 'numpy.str_'>\n",
      "<U1\n"
     ]
    }
   ],
   "source": [
    "import numpy as np\n",
    "\n",
    "list_ = [ '1' , '2' , '3' , '4' , '5' ]\n",
    "array_list = np.array(object = list_)\n",
    "\n",
    "\n",
    "for elem in list_:\n",
    "    print(type(elem))\n",
    "\n",
    "for elem in array_list:\n",
    "    print(elem, type(elem))\n",
    "\n",
    "print(array_list.dtype)\n"
   ]
  },
  {
   "cell_type": "markdown",
   "id": "f821bcd4-9912-47cf-aff2-22b8b8665dfb",
   "metadata": {},
   "source": [
    "Yes, there will be a difference in the data type of the elements present in both the variables, list_ and array_list after changing the data type of array_list to int.\n",
    "\n",
    "Before the change, the list_ contains string elements, while the array_list contains numpy string elements. After changing the data type of array_list to int, the elements in array_list will be converted to integer type, while the elements in list_ will still be strings."
   ]
  },
  {
   "cell_type": "code",
   "execution_count": 4,
   "id": "0297ea44-d6af-4ad8-8153-ec203e15b5d6",
   "metadata": {},
   "outputs": [
    {
     "name": "stdout",
     "output_type": "stream",
     "text": [
      "<class 'str'>\n",
      "<class 'str'>\n",
      "<class 'str'>\n",
      "<class 'str'>\n",
      "<class 'str'>\n",
      "<class 'numpy.int64'>\n",
      "<class 'numpy.int64'>\n",
      "<class 'numpy.int64'>\n",
      "<class 'numpy.int64'>\n",
      "<class 'numpy.int64'>\n",
      "int64\n"
     ]
    }
   ],
   "source": [
    "import numpy as np\n",
    "\n",
    "list_ = [ '1' , '2' , '3' , '4' , '5' ]\n",
    "array_list = np.array(object = list_, dtype = int)\n",
    "\n",
    "for elem in list_:\n",
    "    print(type(elem))\n",
    "\n",
    "for elem in array_list:\n",
    "    print(type(elem))\n",
    "\n",
    "print(array_list.dtype)\n"
   ]
  },
  {
   "cell_type": "code",
   "execution_count": null,
   "id": "07c1f43d-238f-4435-a5f3-619d17e2da2a",
   "metadata": {},
   "outputs": [],
   "source": [
    "Q4. Write a code to find the following characteristics of variable, num_array:\n",
    "(i) shape\n",
    "(ii) size"
   ]
  },
  {
   "cell_type": "code",
   "execution_count": 5,
   "id": "b2f4c5ca-c869-4c35-8467-3feebdc949e5",
   "metadata": {},
   "outputs": [
    {
     "name": "stdout",
     "output_type": "stream",
     "text": [
      "(2, 3)\n",
      "6\n"
     ]
    }
   ],
   "source": [
    "import numpy as np\n",
    "\n",
    "num_list = [ [ 1 , 2 , 3 ] , [ 4 , 5 , 6 ] ]\n",
    "num_array = np.array(object = num_list)\n",
    "\n",
    "print(num_array.shape)\n",
    "\n",
    "print(num_array.size)\n"
   ]
  },
  {
   "cell_type": "code",
   "execution_count": null,
   "id": "31bf53ed-a4b3-4a02-945b-c53fa39657e9",
   "metadata": {},
   "outputs": [],
   "source": [
    "Q5. Write a code to create numpy array of 3*3 matrix containing zeros only, using a numpy array\n",
    "creation function."
   ]
  },
  {
   "cell_type": "code",
   "execution_count": 6,
   "id": "488e8766-aa83-4b63-add8-0219d6130976",
   "metadata": {},
   "outputs": [
    {
     "name": "stdout",
     "output_type": "stream",
     "text": [
      "[[0. 0. 0.]\n",
      " [0. 0. 0.]\n",
      " [0. 0. 0.]]\n"
     ]
    }
   ],
   "source": [
    "import numpy as np\n",
    "\n",
    "zero_array = np.zeros((3, 3))\n",
    "\n",
    "print(zero_array)\n"
   ]
  },
  {
   "cell_type": "code",
   "execution_count": null,
   "id": "f7be0eb8-fb36-4e39-aa46-e41fd33bfdb3",
   "metadata": {},
   "outputs": [],
   "source": [
    "Q6. Create an identity matrix of shape (5,5) using numpy functions?"
   ]
  },
  {
   "cell_type": "code",
   "execution_count": 7,
   "id": "c2c95965-ae3a-4e85-969d-db1b488419df",
   "metadata": {},
   "outputs": [
    {
     "name": "stdout",
     "output_type": "stream",
     "text": [
      "[[1. 0. 0. 0. 0.]\n",
      " [0. 1. 0. 0. 0.]\n",
      " [0. 0. 1. 0. 0.]\n",
      " [0. 0. 0. 1. 0.]\n",
      " [0. 0. 0. 0. 1.]]\n"
     ]
    }
   ],
   "source": [
    "import numpy as np\n",
    "\n",
    "identity_matrix = np.identity(5)\n",
    "\n",
    "print(identity_matrix)\n"
   ]
  },
  {
   "cell_type": "code",
   "execution_count": null,
   "id": "4fd1cf02-a82e-4dcf-9381-4a625115cbd4",
   "metadata": {},
   "outputs": [],
   "source": []
  },
  {
   "cell_type": "code",
   "execution_count": null,
   "id": "60912049-771e-4116-b30d-68e2d79f5f8c",
   "metadata": {},
   "outputs": [],
   "source": []
  }
 ],
 "metadata": {
  "kernelspec": {
   "display_name": "Python 3 (ipykernel)",
   "language": "python",
   "name": "python3"
  },
  "language_info": {
   "codemirror_mode": {
    "name": "ipython",
    "version": 3
   },
   "file_extension": ".py",
   "mimetype": "text/x-python",
   "name": "python",
   "nbconvert_exporter": "python",
   "pygments_lexer": "ipython3",
   "version": "3.10.8"
  }
 },
 "nbformat": 4,
 "nbformat_minor": 5
}
