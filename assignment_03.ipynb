{
 "cells": [
  {
   "cell_type": "markdown",
   "id": "2bb09529-4d77-4b41-a45e-a25ca7d6c89f",
   "metadata": {},
   "source": [
    "## Assignment 03-feb"
   ]
  },
  {
   "cell_type": "markdown",
   "id": "4913bd9b-3caa-4148-ae93-32eb2cfe8dce",
   "metadata": {},
   "source": [
    "### Q1. Which keyword is used to create a function? Create a function to return a list of odd numbers in the range of 1 to 25."
   ]
  },
  {
   "cell_type": "markdown",
   "id": "89c06422-d056-485a-a605-244b469bccec",
   "metadata": {},
   "source": [
    "#### Ans: define function is used def to create a function. "
   ]
  },
  {
   "cell_type": "code",
   "execution_count": 34,
   "id": "e2ff04e0-e20d-42cb-8f9b-14750082af44",
   "metadata": {},
   "outputs": [],
   "source": [
    "def test1():\n",
    "    l=[]\n",
    "    for i in range(1,25):\n",
    "        if i%2 != 0:\n",
    "            l.append(i)\n",
    "            \n",
    "    return l"
   ]
  },
  {
   "cell_type": "code",
   "execution_count": 35,
   "id": "7b2c75f7-611f-4daa-ba83-e1977edf3fa5",
   "metadata": {},
   "outputs": [
    {
     "data": {
      "text/plain": [
       "[1, 3, 5, 7, 9, 11, 13, 15, 17, 19, 21, 23]"
      ]
     },
     "execution_count": 35,
     "metadata": {},
     "output_type": "execute_result"
    }
   ],
   "source": [
    "test1()"
   ]
  },
  {
   "cell_type": "markdown",
   "id": "ed68daa3-b888-47ad-84ef-66fc8a90e01a",
   "metadata": {},
   "source": [
    "### Q2. Why *args and **kwargs is used in some functions? Create a function each for *args and **kwargs to demonstrate their use."
   ]
  },
  {
   "cell_type": "markdown",
   "id": "d9d0f0ad-7ab7-4995-812c-004e37df06f8",
   "metadata": {},
   "source": [
    "#### Ans: *args and **kwargs are used to allow a function to accept a variable number of arguments.\n",
    "#### *args allows a function to accept any number of non-keyword arguments. These arguments are passed to the function as a tuple.\n",
    "#### **kwargs allows a function to accept any number of keyword arguments. These arguments are passed to the function as a dictionary."
   ]
  },
  {
   "cell_type": "code",
   "execution_count": 37,
   "id": "68703631-4ac8-40e4-b48f-1f0a22bcd0b9",
   "metadata": {},
   "outputs": [],
   "source": [
    "def test2(*args):\n",
    "    return args\n"
   ]
  },
  {
   "cell_type": "code",
   "execution_count": 39,
   "id": "250e5a62-7ad4-49fb-b32c-f5abdca3c68d",
   "metadata": {},
   "outputs": [
    {
     "data": {
      "text/plain": [
       "(2, 4, 5, 7, 8)"
      ]
     },
     "execution_count": 39,
     "metadata": {},
     "output_type": "execute_result"
    }
   ],
   "source": [
    "test2(2,4,5,7,8)"
   ]
  },
  {
   "cell_type": "code",
   "execution_count": 47,
   "id": "d5c3ef48-edfd-44f7-894e-1b0407a300e7",
   "metadata": {},
   "outputs": [],
   "source": [
    "def test3(**kwargs):\n",
    "    return kwargs"
   ]
  },
  {
   "cell_type": "code",
   "execution_count": 48,
   "id": "61aa8ed3-aedf-46a6-94e2-8e0e3a42dcdb",
   "metadata": {},
   "outputs": [
    {
     "data": {
      "text/plain": [
       "{'a': 34, 'b': 34, 'c': [1, 2, 3]}"
      ]
     },
     "execution_count": 48,
     "metadata": {},
     "output_type": "execute_result"
    }
   ],
   "source": [
    "test3(a=34,b=34,c=[1,2,3])"
   ]
  },
  {
   "cell_type": "markdown",
   "id": "3fbfaff0-01a5-4202-b66a-87e0badc37b0",
   "metadata": {},
   "source": [
    "### Q3. What is an iterator in python? Name the method used to initialise the iterator object and the method used for iteration. Use these methods to print the first five elements of the given list [2, 4, 6, 8, 10, 12, 14, 16,18, 20]."
   ]
  },
  {
   "cell_type": "markdown",
   "id": "72da2ece-3be3-44a6-8296-5c8724c44d2b",
   "metadata": {},
   "source": [
    "#### Ans; An iterator in Python is an object that can be iterated upon, meaning it can be looped over. An object which implements the iterator protocol is called an iterator.The iterator protocol requires the object to have a __iter__() method that returns the iterator object and a __next__() method that returns the next item in the iteration.\n"
   ]
  },
  {
   "cell_type": "code",
   "execution_count": 49,
   "id": "d1963a11-35c0-44c6-adb8-f5e0caacb53f",
   "metadata": {},
   "outputs": [
    {
     "name": "stdout",
     "output_type": "stream",
     "text": [
      "2\n",
      "4\n",
      "6\n",
      "8\n",
      "10\n"
     ]
    }
   ],
   "source": [
    "my_list = [2, 4, 6, 8, 10, 12, 14, 16, 18, 20]\n",
    "my_iterator = iter(my_list)\n",
    "\n",
    "for i in range(5):\n",
    "    print(next(my_iterator))\n"
   ]
  },
  {
   "cell_type": "markdown",
   "id": "ac9112ff-b702-4f2a-a6b5-e0ef4cfe32b2",
   "metadata": {},
   "source": [
    "### Q4. What is a generator function in python? Why yield keyword is used? Give an example of a generator function."
   ]
  },
  {
   "cell_type": "markdown",
   "id": "6d380d2a-294f-4354-a33a-a32287c306cf",
   "metadata": {},
   "source": [
    "#### Ans: A generator function in Python is a special type of function that returns an iterable generator object. The key difference between a generator function and a normal function is that a generator function uses the yield keyword instead of return to return values.\n",
    "\n",
    "#### yield - keyword is used to produce a value and suspend the function's execution. \n",
    "#### return - return is used to return back to given function\n"
   ]
  },
  {
   "cell_type": "code",
   "execution_count": 59,
   "id": "dcc2b332-1195-4985-8646-1c5746aaf27d",
   "metadata": {},
   "outputs": [],
   "source": [
    "def test_fib(n):\n",
    "    a,b = 0,1\n",
    "    for i in range(n):\n",
    "        yield a\n",
    "        a,b = b,a+b"
   ]
  },
  {
   "cell_type": "code",
   "execution_count": 60,
   "id": "7a298919-c513-4e59-a6d2-6c7c59b7e790",
   "metadata": {},
   "outputs": [
    {
     "name": "stdout",
     "output_type": "stream",
     "text": [
      "0\n",
      "1\n",
      "1\n",
      "2\n",
      "3\n",
      "5\n",
      "8\n",
      "13\n",
      "21\n",
      "34\n"
     ]
    }
   ],
   "source": [
    "for i in test_fib(10):\n",
    "    print(i)"
   ]
  },
  {
   "cell_type": "markdown",
   "id": "33a19c5c-28d2-48b6-9aca-c936509918fd",
   "metadata": {
    "tags": []
   },
   "source": [
    "### Q5. Create a generator function for prime numbers less than 1000. Use the next() method to print the first 20 prime numbers."
   ]
  },
  {
   "cell_type": "code",
   "execution_count": null,
   "id": "2d56b95a-3852-4131-852a-1b1aef9b6da7",
   "metadata": {},
   "outputs": [
    {
     "name": "stdout",
     "output_type": "stream",
     "text": [
      "2\n",
      "3\n",
      "5\n",
      "7\n",
      "11\n",
      "13\n",
      "17\n",
      "19\n",
      "23\n",
      "29\n",
      "31\n",
      "37\n",
      "41\n",
      "43\n",
      "47\n",
      "53\n",
      "59\n",
      "61\n",
      "67\n",
      "71\n"
     ]
    }
   ],
   "source": [
    "def prime_numbers():\n",
    "    yield 2\n",
    "    primes = [2]\n",
    "    for i in range(3, 1000):\n",
    "        is_prime = True\n",
    "        for prime in primes:\n",
    "            if i % prime == 0:\n",
    "                is_prime = False\n",
    "                break\n",
    "        if is_prime:\n",
    "            primes.append(i)\n",
    "            yield i\n",
    "\n",
    "primes = prime_numbers()\n",
    "for i in range(20):\n",
    "    print(next(primes))\n"
   ]
  },
  {
   "cell_type": "code",
   "execution_count": null,
   "id": "474dc145-abfd-4738-9553-7e5d23a30a40",
   "metadata": {},
   "outputs": [],
   "source": []
  }
 ],
 "metadata": {
  "kernelspec": {
   "display_name": "Python 3 (ipykernel)",
   "language": "python",
   "name": "python3"
  },
  "language_info": {
   "codemirror_mode": {
    "name": "ipython",
    "version": 3
   },
   "file_extension": ".py",
   "mimetype": "text/x-python",
   "name": "python",
   "nbconvert_exporter": "python",
   "pygments_lexer": "ipython3",
   "version": "3.10.8"
  }
 },
 "nbformat": 4,
 "nbformat_minor": 5
}
