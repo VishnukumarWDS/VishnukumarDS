{
 "cells": [
  {
   "cell_type": "code",
   "execution_count": null,
   "id": "00a70b89-c57d-4b69-9a76-a8bf85a64bec",
   "metadata": {},
   "outputs": [],
   "source": [
    "Q1. Explain the assumptions required to use ANOVA and provide examples of violations that could impact\n",
    "the validity of the results.\n"
   ]
  },
  {
   "cell_type": "code",
   "execution_count": null,
   "id": "c2520996-f084-4e02-b379-c5b0f61392c7",
   "metadata": {},
   "outputs": [],
   "source": [
    " ANOVA (Analysis of Variance) assumes that the data used in the analysis is normally distributed, the variances of the groups are equal, and the observations are independent. Violations of these assumptions can lead to incorrect conclusions from the ANOVA. For example, violations of normality can be caused by outliers or skewed distributions, while violations of equal variances can occur when the groups being compared have different variances. Violations of independence can occur when data points are not truly independent, such as in repeated measures designs or in time series data."
   ]
  },
  {
   "cell_type": "code",
   "execution_count": null,
   "id": "aaea18d5-b514-478d-bc6a-553a7fbbee85",
   "metadata": {},
   "outputs": [],
   "source": [
    "Q2. What are the three types of ANOVA, and in what situations would each be used?\n"
   ]
  },
  {
   "cell_type": "code",
   "execution_count": null,
   "id": "32162ab6-6cde-4ba4-9e46-7bea17375427",
   "metadata": {},
   "outputs": [],
   "source": [
    " The three types of ANOVA are:\n",
    "\n",
    "One-way ANOVA: used to test for differences between two or more groups in a single independent variable.\n",
    "Two-way ANOVA: used to test for differences between two or more groups in two independent variables and their interaction effect.\n",
    "Repeated measures ANOVA: used to test for differences between two or more groups where the same subjects are measured at different times or under different conditions."
   ]
  },
  {
   "cell_type": "code",
   "execution_count": null,
   "id": "6797042e-8db5-4e7d-9be8-4025a90b19db",
   "metadata": {},
   "outputs": [],
   "source": [
    "Q3. What is the partitioning of variance in ANOVA, and why is it important to understand this concept?\n"
   ]
  },
  {
   "cell_type": "code",
   "execution_count": null,
   "id": "8dea751d-1c44-42bb-ae5a-d0650d1fbba3",
   "metadata": {},
   "outputs": [],
   "source": [
    " The partitioning of variance in ANOVA refers to the process of decomposing the total variation in the data into different components, including the variation between groups, the variation within groups, and the random error variation. This is important to understand because it allows us to quantify the amount of variation that can be attributed to different sources and to assess the significance of these sources."
   ]
  },
  {
   "cell_type": "code",
   "execution_count": null,
   "id": "a59003f6-605a-42d6-a5cb-356947b2bc6f",
   "metadata": {},
   "outputs": [],
   "source": [
    "Q4. How would you calculate the total sum of squares (SST), explained sum of squares (SSE), and residual\n",
    "sum of squares (SSR) in a one-way ANOVA using Python?\n"
   ]
  },
  {
   "cell_type": "code",
   "execution_count": null,
   "id": "0eaf5ddc-f862-411b-b9e0-274ac398df82",
   "metadata": {},
   "outputs": [],
   "source": [
    "import pandas as pd\n",
    "import statsmodels.api as sm\n",
    "from statsmodels.formula.api import ols\n",
    "\n",
    "# Load data into a pandas DataFrame\n",
    "data = pd.read_csv('data.csv')\n",
    "\n",
    "# Fit a one-way ANOVA model\n",
    "model = ols('outcome ~ group', data).fit()\n",
    "\n",
    "# Calculate the sum of squares\n",
    "SST = sum((data['outcome'] - data['outcome'].mean()) ** 2)\n",
    "SSE = sum(model.resid ** 2)\n",
    "SSR = SST - SSE\n"
   ]
  },
  {
   "cell_type": "code",
   "execution_count": null,
   "id": "7fe33c77-d888-4e4a-a2dd-b84bac9d982b",
   "metadata": {},
   "outputs": [],
   "source": [
    "Q5. In a two-way ANOVA, how would you calculate the main effects and interaction effects using Python?\n"
   ]
  },
  {
   "cell_type": "code",
   "execution_count": null,
   "id": "f8827012-893b-4fd7-b50c-66a23585d8e5",
   "metadata": {},
   "outputs": [],
   "source": [
    "import pandas as pd\n",
    "import statsmodels.api as sm\n",
    "from statsmodels.formula.api import ols\n",
    "\n",
    "# Load data into a pandas DataFrame\n",
    "data = pd.read_csv('data.csv')\n",
    "\n",
    "# Fit a two-way ANOVA model\n",
    "model = ols('outcome ~ var1 + var2 + var1*var2', data).fit()\n",
    "\n",
    "# Calculate the main effects and interaction effect\n",
    "main_effect_var1 = model.params['var1']\n",
    "main_effect_var2 = model.params['var2']\n",
    "interaction_effect = model.params['var1:var2']\n"
   ]
  },
  {
   "cell_type": "code",
   "execution_count": null,
   "id": "551d5172-b7f5-4af3-81ab-5bed0c9dee45",
   "metadata": {},
   "outputs": [],
   "source": [
    "Q6. Suppose you conducted a one-way ANOVA and obtained an F-statistic of 5.23 and a p-value of 0.02.\n",
    "What can you conclude about the differences between the groups, and how would you interpret these\n",
    "results?"
   ]
  },
  {
   "cell_type": "code",
   "execution_count": null,
   "id": "6beab009-5fb3-4b43-a958-728209189911",
   "metadata": {},
   "outputs": [],
   "source": [
    "If a one-way ANOVA yields an F-statistic of 5.23 and a p-value of 0.02, we can conclude that there is a statistically significant difference between the groups. Specifically, we can reject the null hypothesis that the means of the groups are equal. The F-statistic indicates the ratio of the variation between groups to the variation within groups, and the p-value indicates the probability of observing such a large F-statistic if the null hypothesis were true. A p-value of 0.02 indicates that there is only a 2% chance of observing such a large F-statistic by chance alone, assuming that the null hypothesis is true. Therefore, we can interpret these results."
   ]
  },
  {
   "cell_type": "code",
   "execution_count": null,
   "id": "aa848890-0c17-4d3c-ae5d-a7ab7caef2b4",
   "metadata": {},
   "outputs": [],
   "source": [
    "Q7. In a repeated measures ANOVA, how would you handle missing data, and what are the potential\n",
    "consequences of using different methods to handle missing data?\n"
   ]
  },
  {
   "cell_type": "code",
   "execution_count": null,
   "id": "7676d801-f58c-46c1-80b2-115528cc26d9",
   "metadata": {},
   "outputs": [],
   "source": [
    "In a repeated measures ANOVA, handling missing data can be challenging. One approach is to remove the participant with missing data from the analysis. Another approach is to use imputation methods to fill in the missing values. However, the choice of method can have consequences for the validity of the results. For example, removing participants with missing data can reduce statistical power and introduce bias if the missing data are not missing completely at random. On the other hand, imputation methods can introduce bias if the missing data are not missing completely at random and the imputed values are not accurate representations of the missing data."
   ]
  },
  {
   "cell_type": "code",
   "execution_count": null,
   "id": "ad5b9b63-25a4-48da-88f1-dcb9ff5cf224",
   "metadata": {},
   "outputs": [],
   "source": [
    "Q8. What are some common post-hoc tests used after ANOVA, and when would you use each one? Provide\n",
    "an example of a situation where a post-hoc test might be necessary.\n"
   ]
  },
  {
   "cell_type": "code",
   "execution_count": null,
   "id": "0cdbc231-884d-4736-8754-36eafe7588ae",
   "metadata": {},
   "outputs": [],
   "source": [
    "Some common post-hoc tests used after ANOVA include Tukey's HSD test, Bonferroni correction, and Scheffe's method. Tukey's HSD test is used when the sample sizes are equal and the variances are approximately equal. Bonferroni correction is used when the number of pairwise comparisons is large, and Scheffe's method is used when the sample sizes are unequal or the variances are not equal. A post-hoc test might be necessary when the ANOVA indicates that there is a significant difference between the groups, but it is not clear which groups are different from each other."
   ]
  },
  {
   "cell_type": "code",
   "execution_count": null,
   "id": "76665fc9-8f4c-4ee0-b514-fa9e1bf965a0",
   "metadata": {},
   "outputs": [],
   "source": [
    "Q9. A researcher wants to compare the mean weight loss of three diets: A, B, and C. They collect data from\n",
    "50 participants who were randomly assigned to one of the diets. Conduct a one-way ANOVA using Python\n",
    "to determine if there are any significant differences between the mean weight loss of the three diets.\n",
    "Report the F-statistic and p-value, and interpret the results.\n"
   ]
  },
  {
   "cell_type": "code",
   "execution_count": null,
   "id": "1999e325-cb59-462a-9aae-1493bdba31aa",
   "metadata": {},
   "outputs": [],
   "source": [
    "import pandas as pd\n",
    "from scipy.stats import f_oneway\n",
    "\n",
    "data = pd.read_csv(\"weight_loss_data.csv\")\n",
    "groups = data.groupby(\"diet\")[\"weight_loss\"].apply(list)\n",
    "\n",
    "F, p = f_oneway(*groups)\n",
    "\n",
    "print(\"F-statistic:\", F)\n",
    "print(\"p-value:\", p)\n"
   ]
  },
  {
   "cell_type": "code",
   "execution_count": null,
   "id": "cd801b5b-fa3a-4d7b-9055-cb421fe25e58",
   "metadata": {},
   "outputs": [],
   "source": [
    "Q10. A company wants to know if there are any significant differences in the average time it takes to\n",
    "complete a task using three different software programs: Program A, Program B, and Program C. They\n",
    "randomly assign 30 employees to one of the programs and record the time it takes each employee to\n",
    "complete the task. Conduct a two-way ANOVA using Python to determine if there are any main effects or\n",
    "interaction effects between the software programs and employee experience level (novice vs.\n",
    "experienced). Report the F-statistics and p-values, and interpret the results."
   ]
  },
  {
   "cell_type": "code",
   "execution_count": null,
   "id": "a62c15b9-c959-462b-b24e-9ca5fb719417",
   "metadata": {},
   "outputs": [],
   "source": [
    "import pandas as pd\n",
    "from statsmodels.formula.api import ols\n",
    "from statsmodels.stats.anova import anova_lm\n",
    "\n",
    "data = pd.read_csv(\"software_program_data.csv\")\n",
    "\n",
    "model = ols(\"completion_time ~ software_program * experience_level\", data).fit()\n",
    "table = anova_lm(model, typ=2)\n",
    "\n",
    "print(table)\n"
   ]
  },
  {
   "cell_type": "code",
   "execution_count": null,
   "id": "e2bb0f93-0760-48fa-988f-380309678fb4",
   "metadata": {},
   "outputs": [],
   "source": [
    "Q11. An educational researcher is interested in whether a new teaching method improves student test\n",
    "scores. They randomly assign 100 students to either the control group (traditional teaching method) or the\n",
    "experimental group (new teaching method) and administer a test at the end of the semester. Conduct a\n",
    "two-sample t-test using Python to determine if there are any significant differences in test scores\n",
    "between the two groups. If the results are significant, follow up with a post-hoc test to determine which\n",
    "group(s) differ significantly from each other.\n"
   ]
  },
  {
   "cell_type": "code",
   "execution_count": null,
   "id": "27abb995-9962-46eb-b468-507bf7c8749b",
   "metadata": {},
   "outputs": [],
   "source": [
    "import pandas as pd\n",
    "from scipy.stats import ttest_ind\n",
    "\n",
    "# Load data into a dataframe\n",
    "df = pd.read_csv('test_scores.csv')\n",
    "\n",
    "# Split into control and experimental groups\n",
    "control_group = df[df['teaching_method'] == 'control']['test_score']\n",
    "experimental_group = df[df['teaching_method'] == 'experimental']['test_score']\n",
    "\n",
    "# Perform two-sample t-test\n",
    "t_stat, p_val = ttest_ind(control_group, experimental_group)\n",
    "\n",
    "print('T-statistic:', t_stat)\n",
    "print('P-value:', p_val)\n"
   ]
  },
  {
   "cell_type": "code",
   "execution_count": null,
   "id": "a09cbbbb-37a9-476e-927d-29ceff3508e7",
   "metadata": {},
   "outputs": [],
   "source": [
    "Q12. A researcher wants to know if there are any significant differences in the average daily sales of three\n",
    "retail stores: Store A, Store B, and Store C. They randomly select 30 days and record the sales for each store\n",
    "on those days. Conduct a repeated measures ANOVA using Python to determine if there are any significant differences in sales between the three stores. If the results are significant, follow up with a post-\n",
    "hoc test to determine which store(s) differ significantly from each other."
   ]
  },
  {
   "cell_type": "code",
   "execution_count": null,
   "id": "5b32aa24-b1e1-4d80-8264-ec63050c90b7",
   "metadata": {},
   "outputs": [],
   "source": [
    "import pandas as pd\n",
    "from statsmodels.stats.anova import AnovaRM\n",
    "\n",
    "# Load data into a dataframe\n",
    "df = pd.read_csv('sales_data.csv')\n",
    "\n",
    "# Convert data to long format\n",
    "df_long = pd.melt(df, id_vars='day', value_vars=['store_A_sales', 'store_B_sales', 'store_C_sales'], var_name='store', value_name='sales')\n",
    "\n",
    "# Conduct repeated measures ANOVA\n",
    "aovrm = AnovaRM(df_long, 'sales', 'day', within=['store'], aggregate_func='mean')\n",
    "res = aovrm.fit()\n",
    "\n",
    "print(res.anova_table)\n"
   ]
  },
  {
   "cell_type": "code",
   "execution_count": null,
   "id": "a8332ede-6dee-4988-ab1f-eec86ab50b5f",
   "metadata": {},
   "outputs": [],
   "source": []
  }
 ],
 "metadata": {
  "kernelspec": {
   "display_name": "Python 3 (ipykernel)",
   "language": "python",
   "name": "python3"
  },
  "language_info": {
   "codemirror_mode": {
    "name": "ipython",
    "version": 3
   },
   "file_extension": ".py",
   "mimetype": "text/x-python",
   "name": "python",
   "nbconvert_exporter": "python",
   "pygments_lexer": "ipython3",
   "version": "3.10.8"
  }
 },
 "nbformat": 4,
 "nbformat_minor": 5
}
