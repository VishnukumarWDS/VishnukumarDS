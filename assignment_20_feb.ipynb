{
 "cells": [
  {
   "cell_type": "code",
   "execution_count": null,
   "id": "02fe5eaf-1576-4082-9bcf-1287b8007a73",
   "metadata": {},
   "outputs": [],
   "source": [
    "Q1. Explain GET and POST methods."
   ]
  },
  {
   "cell_type": "markdown",
   "id": "3afc7b84-e52a-4918-abc2-071dc1620441",
   "metadata": {},
   "source": [
    "GET and POST are two of the most commonly used HTTP methods in web development. They are used to retrieve and send data between a client and a server.\n",
    "\n",
    "GET method:\n",
    "The GET method is used to retrieve data from a server. When a client sends a GET request to a server, the server responds by returning the requested data. The data can be sent as part of the URL in the form of query parameters, and the response can be in various formats like HTML, XML, JSON, etc."
   ]
  },
  {
   "cell_type": "code",
   "execution_count": null,
   "id": "c59b83ab-d08c-4b45-b64f-695f8c4e1064",
   "metadata": {},
   "outputs": [],
   "source": [
    "https://www.example.com/search?query=hello+world\n"
   ]
  },
  {
   "cell_type": "markdown",
   "id": "2036f38a-9a83-4f8b-b695-6bd2540651af",
   "metadata": {},
   "source": [
    "POST method:\n",
    "The POST method is used to send data to a server. When a client sends a POST request to a server, the server can receive the data and perform various operations on it, like storing it in a database, updating an existing resource, etc. The data is sent in the body of the request, which can be in various formats like HTML, XML, JSON, etc."
   ]
  },
  {
   "cell_type": "code",
   "execution_count": null,
   "id": "ea2274ec-e42a-4982-84fb-6e2a3dd4bbbc",
   "metadata": {},
   "outputs": [],
   "source": [
    "POST /signup HTTP/1.1\n",
    "Host: www.example.com\n",
    "Content-Type: application/x-www-form-urlencoded\n",
    "\n",
    "username=john&password=secret\n"
   ]
  },
  {
   "cell_type": "code",
   "execution_count": null,
   "id": "71474131-301a-4c22-ad1e-244e2a0c0b95",
   "metadata": {},
   "outputs": [],
   "source": [
    "Q2. Why is request used in Flask?"
   ]
  },
  {
   "cell_type": "markdown",
   "id": "e3c9cda1-c5a1-4d15-b9d7-d90b15769d69",
   "metadata": {},
   "source": [
    "In Flask, the request object is used to handle incoming requests from clients, which could be web browsers, mobile apps, or other web clients. The request object contains all the data related to the client's request, such as headers, form data, query parameters, and more.\n",
    "\n",
    "The request object is a global object that is available throughout the application, and it is created automatically by Flask whenever a client sends a request to the server. By accessing the request object, you can extract information from the client's request, such as the data they submitted in a form or the parameters they passed in the URL.\n",
    "\n",
    "Here are some of the ways in which the request object is commonly used in Flask:\n",
    "\n",
    "Retrieving form data: The request object can be used to extract form data submitted by the client using the POST method.\n",
    "\n",
    "Retrieving query parameters: The request object can be used to extract query parameters from the URL.\n",
    "\n",
    "Retrieving headers: The request object can be used to extract header information sent by the client.\n",
    "\n",
    "Handling file uploads: The request object can be used to handle file uploads submitted by the client."
   ]
  },
  {
   "cell_type": "code",
   "execution_count": null,
   "id": "9f7aeecd-7aa9-4681-9eca-dd59abd048bd",
   "metadata": {},
   "outputs": [],
   "source": [
    "Q3. Why is redirect() used in Flask?"
   ]
  },
  {
   "cell_type": "markdown",
   "id": "5da27550-cd43-490b-a174-7fac264f0a7a",
   "metadata": {},
   "source": [
    "In Flask, the redirect() function is used to redirect a client to a different URL. This is useful in situations where you want to redirect a client to a different page after they have submitted a form or performed some other action on the current page.\n",
    "\n",
    "The redirect() function creates a new response object with the specified URL and a 302 status code, which tells the client's browser to make a new request to the specified URL. Here's an example:"
   ]
  },
  {
   "cell_type": "code",
   "execution_count": null,
   "id": "c72b09df-beb4-4f77-a8f6-503fe21ae1d7",
   "metadata": {},
   "outputs": [],
   "source": [
    "from flask import Flask, redirect, url_for\n",
    "\n",
    "app = Flask(__name__)\n",
    "\n",
    "@app.route('/')\n",
    "def index():\n",
    "    return 'Hello, World!'\n",
    "\n",
    "@app.route('/login')\n",
    "def login():\n",
    "    # do some authentication\n",
    "    return redirect(url_for('dashboard'))\n",
    "\n",
    "@app.route('/dashboard')\n",
    "def dashboard():\n",
    "    return 'Welcome to your dashboard!'\n",
    "\n",
    "if __name__ == '__main__':\n",
    "    app.run()\n"
   ]
  },
  {
   "cell_type": "code",
   "execution_count": null,
   "id": "735d5961-4e5d-4cd5-a971-679617ba60a7",
   "metadata": {},
   "outputs": [],
   "source": [
    "Q4. What are templates in Flask? Why is the render_template() function used?"
   ]
  },
  {
   "cell_type": "markdown",
   "id": "3ca577ec-3a90-4dd3-86c1-6f6e706f4069",
   "metadata": {},
   "source": [
    "Templates in Flask are files that contain HTML, CSS, and other relevant data that can be dynamically rendered by a Flask application. Flask uses a templating engine called Jinja2, which allows developers to write templates that include placeholders for dynamic data, control structures such as loops and conditionals, and other advanced features.\n",
    "\n",
    "The render_template() function is a built-in Flask function that is used to render a template and return the resulting HTML content as a response to a client request. It takes the name of a template file as its first argument, along with any additional keyword arguments that should be passed to the template."
   ]
  },
  {
   "cell_type": "code",
   "execution_count": null,
   "id": "91854799-c84d-4b96-b315-bf4ad4318e9c",
   "metadata": {},
   "outputs": [],
   "source": [
    "from flask import Flask, render_template\n",
    "\n",
    "app = Flask(__name__)\n",
    "\n",
    "@app.route('/')\n",
    "def home():\n",
    "    title = 'Welcome to my website'\n",
    "    message = 'Thanks for visiting!'\n",
    "    return render_template('home.html', title=title, message=message)\n"
   ]
  },
  {
   "cell_type": "code",
   "execution_count": null,
   "id": "8d87aa4d-deb6-49a2-856b-f3c01c13085b",
   "metadata": {},
   "outputs": [],
   "source": [
    "Q5. Create a simple API. Use Postman to test it. Attach the screenshot of the output in the Jupyter Notebook."
   ]
  },
  {
   "cell_type": "code",
   "execution_count": null,
   "id": "4a2a10d1-9bc9-4c73-b74f-16496268355f",
   "metadata": {},
   "outputs": [],
   "source": [
    "from flask import Flask, jsonify\n",
    "\n",
    "app = Flask(__name__)\n",
    "\n",
    "@app.route('/api/hello', methods=['GET'])\n",
    "def hello():\n",
    "    response = {'message': 'Hello, world!'}\n",
    "    return jsonify(response)\n",
    "\n",
    "if __name__ == '__main__':\n",
    "    app.run()\n"
   ]
  },
  {
   "cell_type": "markdown",
   "id": "f958cd08-adf9-4c5d-8ba3-9054e38f0245",
   "metadata": {},
   "source": [
    "To test this API using Postman, you can follow these steps:\n",
    "\n",
    "Open Postman and create a new request.\n",
    "Set the request method to GET.\n",
    "Enter the URL http://localhost:5000/api/hello (or whatever URL you've defined for your API).\n",
    "Click the Send button.\n",
    "The JSON response will be displayed in the response body section of Postman."
   ]
  },
  {
   "cell_type": "code",
   "execution_count": null,
   "id": "ea0f9cb8-09f9-402a-aa47-582eabaafe4a",
   "metadata": {},
   "outputs": [],
   "source": []
  },
  {
   "cell_type": "code",
   "execution_count": null,
   "id": "34ff03f7-b958-4b2c-b3a5-d7891247531e",
   "metadata": {},
   "outputs": [],
   "source": []
  },
  {
   "cell_type": "code",
   "execution_count": null,
   "id": "edca1da2-a660-47a1-9ad5-5390b4b75122",
   "metadata": {},
   "outputs": [],
   "source": []
  }
 ],
 "metadata": {
  "kernelspec": {
   "display_name": "Python 3 (ipykernel)",
   "language": "python",
   "name": "python3"
  },
  "language_info": {
   "codemirror_mode": {
    "name": "ipython",
    "version": 3
   },
   "file_extension": ".py",
   "mimetype": "text/x-python",
   "name": "python",
   "nbconvert_exporter": "python",
   "pygments_lexer": "ipython3",
   "version": "3.10.8"
  }
 },
 "nbformat": 4,
 "nbformat_minor": 5
}
