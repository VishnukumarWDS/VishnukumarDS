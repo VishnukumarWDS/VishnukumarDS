{
 "cells": [
  {
   "cell_type": "markdown",
   "id": "8f1c2494-7501-44b5-bcf5-70c4e37ac54b",
   "metadata": {},
   "source": [
    "### Assignments 10_feb"
   ]
  },
  {
   "cell_type": "markdown",
   "id": "25d79bc8-f203-4b01-a58b-583fcc1bb633",
   "metadata": {},
   "source": [
    "### Q1. Which function is used to open a file? What are the different modes of opening a file? Explain each mode of file opening."
   ]
  },
  {
   "cell_type": "markdown",
   "id": "146dcd2d-b684-4637-a3d4-85551b1699ee",
   "metadata": {},
   "source": [
    "#### In Python, the built-in open() function is used to open a file. \n",
    "#### syntax:\n",
    "        file_object = open(\"filename\", \"mode\")"
   ]
  },
  {
   "cell_type": "markdown",
   "id": "343511dd-b6a3-44da-b69a-bd92f10f15aa",
   "metadata": {},
   "source": [
    "#### There are several modes for opening a file in Python:\n",
    "\n",
    "\"r\" - Read mode: This mode is used when you want to read the contents of a file. The file must already exist, and you cannot write to it. If the file does not exist, an error will be raised.\n",
    "\n",
    "\"w\" - Write mode: This mode is used when you want to write to a file. If the file already exists, its contents will be overwritten. If the file does not exist, a new file will be created.\n",
    "\n",
    "\"a\" - Append mode: This mode is used when you want to add data to an existing file. If the file does not exist, a new file will be created. The new data will be appended to the end of the file, rather than overwriting its contents.\n",
    "\n",
    "\"x\" - Exclusive creation mode: This mode is used when you want to create a new file and fail if the file already exists.\n",
    "\n",
    "\"b\" - Binary mode: This mode is used when you are working with binary files, such as images or audio files. The data is read and written as raw binary data, rather than as text.\n",
    "\n",
    "\"+\" - Update mode: This mode is used when you want to open a file for both reading and writing. The file must already exist. If the file does not exist, an error will be raised."
   ]
  },
  {
   "cell_type": "markdown",
   "id": "301bd82d-0c83-4129-a819-2eb28d386cde",
   "metadata": {},
   "source": [
    "### Q2. Why close() function is used? Why is it important to close a file?"
   ]
  },
  {
   "cell_type": "markdown",
   "id": "43fbe009-9730-4440-8ce9-ea3da2cb402b",
   "metadata": {},
   "source": [
    "#### The close() function is used to close a file that has been opened in Python. It is important to close a file after you are done with it for several reasons:\n",
    "\n",
    "Resource Management: When a file is opened, resources on the system are allocated to manage it, such as memory and file descriptors. Failing to close a file can result in a resource leak, where these resources are not freed even after the file is no longer in use. Over time, this can lead to performance issues and even cause the system to crash.\n",
    "\n",
    "Data Integrity: When you open a file in write mode, changes are made to the file immediately, but they may not be saved to disk until the file is closed. If your program terminates unexpectedly or crashes, the changes may not be saved. Closing the file ensures that the changes are saved to disk and that the data is properly stored.\n",
    "\n",
    "File Locking: Some file systems lock files when they are opened in certain modes, such as write mode. This ensures that no other process can modify the file while you are working with it. Failing to close a file can prevent other processes from accessing it, which can cause problems with data integrity and resource management.\n",
    "\n",
    "File Descriptor Limits: Most operating systems have limits on the number of open file descriptors that a single process can have at one time. Closing a file frees up a file descriptor, allowing you to open other files. If you do not close files that you no longer need, you may reach the limit and be unable to open any more files.\n"
   ]
  },
  {
   "cell_type": "markdown",
   "id": "117a57d9-cfc1-40fd-8507-4ff1b0f10fc2",
   "metadata": {},
   "source": [
    "### Q3. Write a python program to create a text file. Write ‘I want to become a Data Scientist’ in that file. Then close the file. Open this file and read the content of the file."
   ]
  },
  {
   "cell_type": "code",
   "execution_count": 2,
   "id": "231a4e08-8448-4f17-82a2-c6aac764311a",
   "metadata": {},
   "outputs": [],
   "source": [
    "file = open(\"textfile.txt\", \"w\")\n",
    "file.write(\"I want to become a Data Scientist\")\n",
    "file.close()"
   ]
  },
  {
   "cell_type": "code",
   "execution_count": 3,
   "id": "1f1483c0-bfd8-4cf4-a864-bc334993da37",
   "metadata": {},
   "outputs": [
    {
     "name": "stdout",
     "output_type": "stream",
     "text": [
      "I want to become a Data Scientist\n"
     ]
    }
   ],
   "source": [
    "file = open(\"textfile.txt\", \"r\")\n",
    "content = file.read()\n",
    "print(content)\n",
    "file.close()"
   ]
  },
  {
   "cell_type": "markdown",
   "id": "ff36aa2a-379f-403b-b35f-0cc80c64d4b0",
   "metadata": {},
   "source": [
    "### Q4. Explain the following with python code: read(), readline() and readlines()."
   ]
  },
  {
   "cell_type": "markdown",
   "id": "6c3543c4-3ce2-4de7-8fcb-3160ed95e143",
   "metadata": {},
   "source": [
    "In Python, the read(), readline(), and readlines() methods are used to read the contents of a text file. Here's a brief explanation of each method:"
   ]
  },
  {
   "cell_type": "markdown",
   "id": "235834d1-a5d5-4a0d-af0b-703609931476",
   "metadata": {},
   "source": [
    "1.read() - This method reads the entire contents of the file and returns it as a string. If the file is large, this can use a lot of memory."
   ]
  },
  {
   "cell_type": "code",
   "execution_count": 5,
   "id": "715fb531-d0df-4ce9-a268-a6584e6e80cc",
   "metadata": {},
   "outputs": [
    {
     "name": "stdout",
     "output_type": "stream",
     "text": [
      "I want to become a Data Scientist\n"
     ]
    }
   ],
   "source": [
    "file = open(\"textfile.txt\", \"r\")\n",
    "content = file.read()\n",
    "print(content)\n",
    "file.close()\n"
   ]
  },
  {
   "cell_type": "markdown",
   "id": "250b795e-7cd7-45fd-a0d7-6f66c0cbc8f3",
   "metadata": {},
   "source": [
    "2.readline() - This method reads one line of the file at a time and returns it as a string. This can be useful for reading large files line by line, to avoid using too much memory.\n"
   ]
  },
  {
   "cell_type": "code",
   "execution_count": 6,
   "id": "ff69edce-0f8d-4922-973f-d9a325308a5d",
   "metadata": {},
   "outputs": [
    {
     "name": "stdout",
     "output_type": "stream",
     "text": [
      "I want to become a Data Scientist\n"
     ]
    }
   ],
   "source": [
    "file = open(\"textfile.txt\", \"r\")\n",
    "line = file.readline()\n",
    "while line:\n",
    "    print(line)\n",
    "    line = file.readline()\n",
    "file.close()\n"
   ]
  },
  {
   "cell_type": "markdown",
   "id": "0b6c1691-dab7-4718-ab5f-14604ec4ba74",
   "metadata": {},
   "source": [
    "3.readlines() - This method reads all the lines of the file and returns them as a list of strings, where each string is one line of the file."
   ]
  },
  {
   "cell_type": "code",
   "execution_count": 7,
   "id": "b011506e-a581-40e2-9009-cf67d8d23e06",
   "metadata": {},
   "outputs": [
    {
     "name": "stdout",
     "output_type": "stream",
     "text": [
      "I want to become a Data Scientist\n"
     ]
    }
   ],
   "source": [
    "file = open(\"textfile.txt\", \"r\")\n",
    "lines = file.readlines()\n",
    "for line in lines:\n",
    "    print(line)\n",
    "file.close()\n"
   ]
  },
  {
   "cell_type": "markdown",
   "id": "7f1eec5c-21d7-4e32-bc87-0213eba04550",
   "metadata": {},
   "source": [
    "### Q5. Explain why with statement is used with open(). What is the advantage of using with statement and open() together?"
   ]
  },
  {
   "cell_type": "markdown",
   "id": "ee195c45-8aa9-485e-9b4f-bf2fd93f4941",
   "metadata": {},
   "source": [
    "The with statement is often used with open() to ensure that a file is properly closed after it has been used. The advantage of using with and open() together is that it eliminates the need for manual file close operations and ensures that the file will be closed properly, even if an exception is raised during the execution of the code within the block.\n",
    "\n",
    "When using with and open() together, the open() function returns a file object, which is automatically closed after the code block within the with statement has been executed. This eliminates the need for a file.close() statement, which can be forgotten or skipped, resulting in an open file that can cause resource leaks.\n",
    "Here is an example of using with and open() together to read the contents of a file:\n"
   ]
  },
  {
   "cell_type": "markdown",
   "id": "c75d8237-ac01-4f6e-90b2-dabe4cfa73f0",
   "metadata": {},
   "source": [
    "with open('file.txt', 'r') as file:\n",
    "  contents = file.read()\n",
    "    print(contents)"
   ]
  },
  {
   "cell_type": "markdown",
   "id": "0303c47f-ad46-4799-89d9-d75ea1c9ad1f",
   "metadata": {},
   "source": [
    "### Q6. Explain the write() and writelines() functions. Give a suitable example."
   ]
  },
  {
   "cell_type": "markdown",
   "id": "44149b93-f388-4b21-a7c8-adf50eabb696",
   "metadata": {},
   "source": [
    "The write() function is used to write a string to a text file. The string can be specified as a parameter to the write() function. For example:"
   ]
  },
  {
   "cell_type": "code",
   "execution_count": 9,
   "id": "d35bc0f3-a0ad-4779-9c4e-d8b2e0c67561",
   "metadata": {},
   "outputs": [],
   "source": [
    "file = open(\"sample.txt\", \"w\")\n",
    "file.write(\"Hello World!\")\n",
    "file.close()\n"
   ]
  },
  {
   "cell_type": "markdown",
   "id": "d7b4a0e0-8c8b-4a30-a8f7-0afc930aea13",
   "metadata": {},
   "source": [
    "The writelines() function is used to write a list of strings to a text file. The list can be specified as a parameter to the writelines() function. For example:"
   ]
  },
  {
   "cell_type": "code",
   "execution_count": 10,
   "id": "c4e7d133-2a22-4cfc-86c5-8870efd1b3e4",
   "metadata": {},
   "outputs": [],
   "source": [
    "file = open(\"sample.txt\", \"w\")\n",
    "lines = [\"Hello World!\", \"How are you today?\"]\n",
    "file.writelines(lines)\n",
    "file.close()\n"
   ]
  },
  {
   "cell_type": "code",
   "execution_count": null,
   "id": "20dc88d5-9bfe-40d6-87e4-1f399ca1be55",
   "metadata": {},
   "outputs": [],
   "source": []
  }
 ],
 "metadata": {
  "kernelspec": {
   "display_name": "Python 3 (ipykernel)",
   "language": "python",
   "name": "python3"
  },
  "language_info": {
   "codemirror_mode": {
    "name": "ipython",
    "version": 3
   },
   "file_extension": ".py",
   "mimetype": "text/x-python",
   "name": "python",
   "nbconvert_exporter": "python",
   "pygments_lexer": "ipython3",
   "version": "3.10.8"
  }
 },
 "nbformat": 4,
 "nbformat_minor": 5
}
