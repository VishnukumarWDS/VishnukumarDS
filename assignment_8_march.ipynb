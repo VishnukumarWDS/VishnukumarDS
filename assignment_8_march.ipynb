{
 "cells": [
  {
   "cell_type": "code",
   "execution_count": null,
   "id": "f6c3d2d1-c9ea-43d9-9231-51b291c546fd",
   "metadata": {},
   "outputs": [],
   "source": [
    "Q1. What is the Probability density function?"
   ]
  },
  {
   "cell_type": "markdown",
   "id": "a759dca4-e275-412e-9467-0a8a00005e5a",
   "metadata": {},
   "source": [
    "The Probability Density Function (PDF) is a function that describes the relative likelihood of different values of a continuous random variable. Specifically, the PDF gives the probability that the variable takes a particular value or falls within a certain range of values.\n",
    "\n",
    "The PDF is defined such that the area under the curve of the PDF over a given interval gives the probability of the variable falling within that interval. It is important to note that for a continuous random variable, the probability of it taking on any specific value is zero, since there are infinitely many possible values. Instead, the PDF gives the probability density, which can be thought of as the probability per unit of the variable.\n",
    "\n",
    "Mathematically, the PDF of a continuous random variable X is denoted as f(x) and is defined as:\n",
    "\n",
    "P(a < X < b) = ∫[a, b] f(x) dx\n",
    "\n",
    "where P(a < X < b) is the probability that X falls between a and b, and the integral of f(x) over the interval [a, b] gives the probability of X falling within that interval."
   ]
  },
  {
   "cell_type": "code",
   "execution_count": null,
   "id": "634ef175-b913-47d0-9a65-a107add3e181",
   "metadata": {},
   "outputs": [],
   "source": [
    "Q2. What are the types of Probability distribution?"
   ]
  },
  {
   "cell_type": "markdown",
   "id": "8c3f77d7-c75e-4867-9687-ab0d0e2da462",
   "metadata": {},
   "source": [
    "Normal Distribution: Also known as the Gaussian distribution, this is a continuous probability distribution that is symmetric and bell-shaped. Many natural phenomena, such as human height or measurement errors, are often modeled using the normal distribution.\n",
    "\n",
    "Binomial Distribution: This is a discrete probability distribution that models the probability of a certain number of successes in a fixed number of independent trials. The binomial distribution is commonly used in statistics and can be used to model the probability of success or failure in experiments such as coin tosses or product defects.\n",
    "\n",
    "Poisson Distribution: This is a discrete probability distribution that models the probability of a certain number of events occurring within a fixed interval of time or space. The Poisson distribution is often used in studies of rare events, such as accidents or equipment failures.\n",
    "\n",
    "Exponential Distribution: This is a continuous probability distribution that models the time between events in a Poisson process. It is often used to model the waiting time for a rare event to occur.\n",
    "\n",
    "Uniform Distribution: This is a continuous probability distribution that models the probability of a random variable taking on any value within a fixed range. The uniform distribution is often used in simulations and optimization problems.\n",
    "\n",
    "These are just a few examples of the many probability distributions that exist, and different distributions are used to model different types of data and phenomena.\n",
    "\n",
    "\n",
    "\n",
    "\n",
    "\n"
   ]
  },
  {
   "cell_type": "code",
   "execution_count": null,
   "id": "d7f3fd35-3ac4-4742-acce-9d59f4dffadd",
   "metadata": {},
   "outputs": [],
   "source": [
    "\n",
    "Q3. Write a Python function to calculate the probability density function of a normal distribution with\n",
    "given mean and standard deviation at a given point."
   ]
  },
  {
   "cell_type": "markdown",
   "id": "59c9a5df-16be-4976-b5a1-43e37c720e04",
   "metadata": {},
   "source": [
    "Python function that calculates the probability density function (PDF) of a normal distribution with a given mean and standard deviation at a given point:"
   ]
  },
  {
   "cell_type": "code",
   "execution_count": 1,
   "id": "3c03c997-5a84-48d6-8cdd-f0cc7456d3b3",
   "metadata": {},
   "outputs": [],
   "source": [
    "import math\n",
    "\n",
    "def normal_pdf(x, mu, sigma):\n",
    "    \"\"\"\n",
    "    Calculates the probability density function of a normal distribution with a given mean and standard deviation at a given point.\n",
    "\n",
    "    Args:\n",
    "        x (float): The point at which to calculate the PDF.\n",
    "        mu (float): The mean of the normal distribution.\n",
    "        sigma (float): The standard deviation of the normal distribution.\n",
    "\n",
    "    Returns:\n",
    "        float: The value of the PDF at the given point.\n",
    "    \"\"\"\n",
    "    exponent = -((x - mu)**2) / (2 * sigma**2)\n",
    "    coefficient = 1 / (sigma * math.sqrt(2 * math.pi))\n",
    "    return coefficient * math.exp(exponent)\n"
   ]
  },
  {
   "cell_type": "markdown",
   "id": "72cc119c-efdf-477a-a614-ba25bfacbe28",
   "metadata": {},
   "source": [
    "This function takes three arguments:\n",
    "\n",
    "x: The point at which to calculate the PDF.\n",
    "mu: The mean of the normal distribution.\n",
    "sigma: The standard deviation of the normal distribution.\n",
    "It returns the value of the PDF at the given point.\n",
    "\n",
    "The formula for the PDF of a normal distribution with mean mu and standard deviation sigma is:"
   ]
  },
  {
   "cell_type": "code",
   "execution_count": null,
   "id": "1da26b69-f5e3-4e80-8a80-d48c1fb35239",
   "metadata": {},
   "outputs": [],
   "source": [
    "f(x) = (1 / (sigma * sqrt(2 * pi))) * exp(-((x - mu)**2) / (2 * sigma**2))"
   ]
  },
  {
   "cell_type": "code",
   "execution_count": null,
   "id": "fece8484-48d9-4d63-96ce-4062675b03d5",
   "metadata": {},
   "outputs": [],
   "source": [
    "Q4. What are the properties of Binomial distribution? Give two examples of events where binomial\n",
    "distribution can be applied."
   ]
  },
  {
   "cell_type": "markdown",
   "id": "d99522c4-1dba-42ba-89d7-2bea54d19dc8",
   "metadata": {},
   "source": [
    "The Binomial distribution is a probability distribution that describes the number of successes in a fixed number of independent trials, each with the same probability of success, denoted by p.\n",
    "\n",
    "The properties of Binomial distribution are:\n",
    "\n",
    "The experiment consists of n identical and independent trials.\n",
    "Each trial has only two possible outcomes, a success or a failure.\n",
    "The probability of success in each trial is p, and the probability of failure is 1-p.\n",
    "The number of successes in n trials follows a Binomial distribution, denoted by B(n,p).\n",
    "The mean of the Binomial distribution is mu = np.\n",
    "The variance of the Binomial distribution is sigma^2 = np(1-p).\n",
    "The distribution is discrete, i.e., the number of successes can only be a non-negative integer."
   ]
  },
  {
   "cell_type": "markdown",
   "id": "c2077dd2-39d7-4659-a326-7d481bfd9412",
   "metadata": {},
   "source": [
    "EXAMPLES:\n",
    "\n",
    "Flipping a coin n times: Suppose you flip a coin n times and want to know the probability of getting k heads. Here, each flip of the coin is an independent trial, and each trial has only two possible outcomes, a head or a tail. The probability of getting a head in each trial is p = 0.5 (assuming a fair coin). Therefore, the number of heads in n flips follows a Binomial distribution, denoted by B(n,0.5).\n",
    "\n",
    "Manufacturing defects: Suppose a factory produces n items, and each item has a probability p of being defective. You want to know the probability of k defective items in the batch. Here, each item is an independent trial, and each trial has only two possible outcomes, a defective or a non-defective item. The probability of an item being defective in each trial is p. Therefore, the number of defective items in the batch follows a Binomial distribution, denoted by B(n,p)."
   ]
  },
  {
   "cell_type": "code",
   "execution_count": null,
   "id": "246d03cb-3970-4479-997a-ab7928d53b93",
   "metadata": {},
   "outputs": [],
   "source": [
    "Q5. Generate a random sample of size 1000 from a binomial distribution with probability of success 0.4\n",
    "and plot a histogram of the results using matplotlib."
   ]
  },
  {
   "cell_type": "code",
   "execution_count": 3,
   "id": "7da0b1e8-2ad2-40ec-9821-5160745d4447",
   "metadata": {},
   "outputs": [
    {
     "data": {
      "image/png": "[encoded data removed]",
      "text/plain": [
       "<Figure size 640x480 with 1 Axes>"
      ]
     },
     "metadata": {},
     "output_type": "display_data"
    }
   ],
   "source": [
    "import numpy as np\n",
    "import matplotlib.pyplot as plt\n",
    "\n",
    "# Set the random seed for reproducibility\n",
    "np.random.seed(123)\n",
    "\n",
    "# Generate a random sample of size 1000 from a binomial distribution with p=0.4\n",
    "sample = np.random.binomial(n=1, p=0.4, size=1000)\n",
    "\n",
    "# Plot a histogram of the sample using matplotlib\n",
    "plt.hist(sample, bins=2, edgecolor='black')\n",
    "plt.xlabel('Success (1) or Failure (0)')\n",
    "plt.ylabel('Frequency')\n",
    "plt.title('Histogram of Binomial Distribution (n=1, p=0.4)')\n",
    "plt.show()\n"
   ]
  },
  {
   "cell_type": "code",
   "execution_count": null,
   "id": "fe191fae-4245-4aac-bb5f-b4e5701d0e2e",
   "metadata": {},
   "outputs": [],
   "source": [
    "Q6. Write a Python function to calculate the cumulative distribution function of a Poisson distribution\n",
    "with given mean at a given point."
   ]
  },
  {
   "cell_type": "code",
   "execution_count": null,
   "id": "f108ea55-2d88-42d6-9c52-0e4e133b63fd",
   "metadata": {},
   "outputs": [],
   "source": [
    "import math\n",
    "\n",
    "def poisson_cdf(x, mu):\n",
    "    \"\"\"\n",
    "    Calculates the cumulative distribution function of a Poisson distribution with a given mean at a given point.\n",
    "\n",
    "    Args:\n",
    "        x (int): The point at which to calculate the CDF.\n",
    "        mu (float): The mean of the Poisson distribution.\n",
    "\n",
    "    Returns:\n",
    "        float: The value of the CDF at the given point.\n",
    "    \"\"\"\n",
    "    cdf = 0\n",
    "    for i in range(x+1):\n",
    "        cdf += ((mu**i) * math.exp(-mu)) / math.factorial(i)\n",
    "    return cdf\n"
   ]
  },
  {
   "cell_type": "code",
   "execution_count": null,
   "id": "c61d3c13-5319-443c-9665-c553172fe49d",
   "metadata": {},
   "outputs": [],
   "source": [
    "F(x) = sum(i=0 to x)[(mu^i * exp(-mu)) / i!]\n"
   ]
  },
  {
   "cell_type": "code",
   "execution_count": null,
   "id": "4f91a42b-0ed3-4369-a52a-38652545160f",
   "metadata": {},
   "outputs": [],
   "source": [
    "Q7. How Binomial distribution different from Poisson distribution?\n"
   ]
  },
  {
   "cell_type": "markdown",
   "id": "87e4c7fa-4ca0-4acd-9234-7a015e4cc94d",
   "metadata": {},
   "source": [
    "The Binomial distribution is used to model the number of successes in a fixed number of independent trials, where each trial has a constant probability of success. The Poisson distribution is used to model the number of rare events that occur in a fixed interval of time or space, where the events occur independently and at a constant rate.\n",
    "The Binomial distribution has two parameters: n, the number of trials, and p, the probability of success. The Poisson distribution has one parameter: mu, the mean number of events.\n",
    "The values of the Binomial distribution are integers from 0 to n, while the values of the Poisson distribution are non-negative integers.\n",
    "The Binomial distribution has a finite range, while the Poisson distribution has an infinite range.\n",
    "The variance of the Binomial distribution is np(1-p), while the variance of the Poisson distribution is mu."
   ]
  },
  {
   "cell_type": "code",
   "execution_count": null,
   "id": "6f46528b-2e52-44bd-ae95-cdb53feac177",
   "metadata": {},
   "outputs": [],
   "source": [
    "Q8. Generate a random sample of size 1000 from a Poisson distribution with mean 5 and calculate the\n",
    "sample mean and variance.\n"
   ]
  },
  {
   "cell_type": "code",
   "execution_count": null,
   "id": "81e58e5c-5f61-42e4-b12d-97feab0370c3",
   "metadata": {},
   "outputs": [],
   "source": [
    "import numpy as np\n",
    "\n",
    "# Set the random seed for reproducibility\n",
    "np.random.seed(123)\n",
    "\n",
    "# Generate a random sample of size 1000 from a Poisson distribution with mean 5\n",
    "sample = np.random.poisson(lam=5, size=1000)\n",
    "\n",
    "# Calculate the sample mean and variance\n",
    "sample_mean = np.mean(sample)\n",
    "sample_var = np.var(sample)\n",
    "\n",
    "# Print the sample mean and variance\n",
    "print(\"Sample mean:\", sample_mean)\n",
    "print(\"Sample variance:\", sample_var)\n"
   ]
  },
  {
   "cell_type": "code",
   "execution_count": null,
   "id": "9b4fa545-0b5d-44ba-a10b-0f73cffeb20f",
   "metadata": {},
   "outputs": [],
   "source": [
    "Q9. How mean and variance are related in Binomial distribution and Poisson distribution?\n"
   ]
  },
  {
   "cell_type": "markdown",
   "id": "69dd1f46-8a35-4ce7-8cfd-8864021c6871",
   "metadata": {},
   "source": [
    "For the Binomial distribution with n trials and probability of success p, the mean is mu = np and the variance is sigma^2 = np(1-p).\n",
    "For the Poisson distribution with mean mu, the mean and variance are both equal to mu.\n",
    "In other words, for the Binomial distribution, the variance depends on both the number of trials and the probability of success, while for the Poisson distribution, the variance depends only on the mean."
   ]
  },
  {
   "cell_type": "code",
   "execution_count": null,
   "id": "5cfa8022-3214-40e3-8784-24621bae718d",
   "metadata": {},
   "outputs": [],
   "source": [
    "Q10. In normal distribution with respect to mean position, where does the least frequent data appear?"
   ]
  },
  {
   "cell_type": "markdown",
   "id": "d84e05c3-184a-490b-ae05-81a9d9fa7463",
   "metadata": {},
   "source": [
    "In a normal distribution, the least frequent data appears at the tails, far away from the mean position. The normal distribution is a symmetric distribution, which means that the data is equally likely to occur on either side of the mean. The probability density function of the normal distribution is highest at the mean and decreases as we move away from the mean in either direction. As we move farther away from the mean, the probability density becomes increasingly lower, and the data becomes increasingly less likely to occur. The tails of the normal distribution contain the least frequent data."
   ]
  },
  {
   "cell_type": "code",
   "execution_count": null,
   "id": "f0539ecd-3d35-450a-87e6-4ebfd13de88e",
   "metadata": {},
   "outputs": [],
   "source": []
  }
 ],
 "metadata": {
  "kernelspec": {
   "display_name": "Python 3 (ipykernel)",
   "language": "python",
   "name": "python3"
  },
  "language_info": {
   "codemirror_mode": {
    "name": "ipython",
    "version": 3
   },
   "file_extension": ".py",
   "mimetype": "text/x-python",
   "name": "python",
   "nbconvert_exporter": "python",
   "pygments_lexer": "ipython3",
   "version": "3.10.8"
  }
 },
 "nbformat": 4,
 "nbformat_minor": 5
}
