{
 "cells": [
  {
   "cell_type": "markdown",
   "id": "1cf463d7-65aa-42f0-97f2-07a0ccad5512",
   "metadata": {},
   "source": [
    "#### Assignment feb-04"
   ]
  },
  {
   "cell_type": "markdown",
   "id": "1b632889-7285-4dc1-aff0-388045d123af",
   "metadata": {},
   "source": [
    "### Q1. Create a python program to sort the given list of tuples based on integer value using a lambda function.\n",
    "##### [('Sachin Tendulkar', 34357), ('Ricky Ponting', 27483), ('Jack Kallis', 25534), ('Virat Kohli', 24936)]"
   ]
  },
  {
   "cell_type": "markdown",
   "id": "3a1ea45e-2f02-4da6-816f-ccb065a566d0",
   "metadata": {},
   "source": [
    "#### Ans:"
   ]
  },
  {
   "cell_type": "code",
   "execution_count": 9,
   "id": "e4e81727-08bf-4e4c-8c01-36ace5a2f04f",
   "metadata": {},
   "outputs": [],
   "source": [
    "a=[('Sachin Tendulkar', 34357), ('Ricky Ponting', 27483), ('Jack Kallis', 25534), ('Virat Kohli', 24936)]"
   ]
  },
  {
   "cell_type": "code",
   "execution_count": 10,
   "id": "ac9f8c9a-213e-41c0-9c70-8821690d705d",
   "metadata": {},
   "outputs": [
    {
     "name": "stdout",
     "output_type": "stream",
     "text": [
      "Sorted list:  [('Sachin Tendulkar', 34357), ('Ricky Ponting', 27483), ('Jack Kallis', 25534), ('Virat Kohli', 24936)]\n"
     ]
    }
   ],
   "source": [
    "\n",
    "sorted_list = sorted(a, key=lambda x: x[1], reverse=True)\n",
    "\n",
    "print(\"Sorted list: \", sorted_list)\n"
   ]
  },
  {
   "cell_type": "markdown",
   "id": "1e546f75-1fde-4e46-a27e-277f7f2f3b5c",
   "metadata": {},
   "source": [
    "### Q2. Write a Python Program to find the squares of all the numbers in the given list of integers usinglambda and map functions.\n",
    "[1, 2, 3, 4, 5, 6, 7, 8, 9, 10]"
   ]
  },
  {
   "cell_type": "markdown",
   "id": "b788c316-4aaf-4883-8ced-37e25ead33d9",
   "metadata": {},
   "source": [
    "#### Ans:"
   ]
  },
  {
   "cell_type": "code",
   "execution_count": 14,
   "id": "089b97f1-9b62-4a4b-bb21-e00cbe6270d3",
   "metadata": {},
   "outputs": [],
   "source": [
    "l=[1, 2, 3, 4, 5, 6, 7, 8, 9, 10]"
   ]
  },
  {
   "cell_type": "code",
   "execution_count": 15,
   "id": "3d8ad400-9656-4845-ae93-e08b28a93bf9",
   "metadata": {},
   "outputs": [
    {
     "data": {
      "text/plain": [
       "[1, 4, 9, 16, 25, 36, 49, 64, 81, 100]"
      ]
     },
     "execution_count": 15,
     "metadata": {},
     "output_type": "execute_result"
    }
   ],
   "source": [
    "list(map(lambda x : x**2 ,l))"
   ]
  },
  {
   "cell_type": "markdown",
   "id": "1067dc75-580d-4c93-a67d-41942a15d8c3",
   "metadata": {},
   "source": [
    "### Q3. Write a python program to convert the given list of integers into a tuple of strings. Use map and lambda functions\n",
    "#### Given String: [1, 2, 3, 4, 5, 6, 7, 8, 9, 10]\n",
    "#### Expected output: ('1', '2', '3', '4', '5', '6', '7', '8', '9', '10')"
   ]
  },
  {
   "cell_type": "markdown",
   "id": "7103e7e5-6e68-40ec-877c-94b4c2d0c005",
   "metadata": {},
   "source": [
    "#### Ans:"
   ]
  },
  {
   "cell_type": "code",
   "execution_count": 19,
   "id": "7c1596e6-7809-4f91-a132-d30040f11305",
   "metadata": {},
   "outputs": [],
   "source": [
    "l1=[1, 2, 3, 4, 5, 6, 7, 8, 9, 10]"
   ]
  },
  {
   "cell_type": "code",
   "execution_count": 21,
   "id": "978d5f2d-71ad-4e1d-9eba-1f1cac5971c4",
   "metadata": {},
   "outputs": [
    {
     "data": {
      "text/plain": [
       "('1', '2', '3', '4', '5', '6', '7', '8', '9', '10')"
      ]
     },
     "execution_count": 21,
     "metadata": {},
     "output_type": "execute_result"
    }
   ],
   "source": [
    "tuple(map(lambda x : str(x) ,l1 ))"
   ]
  },
  {
   "cell_type": "markdown",
   "id": "d7a98d48-76bf-46b1-a49a-a26da7535a9f",
   "metadata": {},
   "source": [
    "### Q4. Write a python program using reduce function to compute the product of a list containing numbers from 1 to 25."
   ]
  },
  {
   "cell_type": "markdown",
   "id": "1ad26214-3794-4956-a669-a5574ed9d853",
   "metadata": {},
   "source": [
    "#### Ans:"
   ]
  },
  {
   "cell_type": "code",
   "execution_count": 30,
   "id": "af04deaa-883e-4efb-a150-64ac5a369e8c",
   "metadata": {},
   "outputs": [],
   "source": [
    "l2=range(1,25)"
   ]
  },
  {
   "cell_type": "code",
   "execution_count": 31,
   "id": "74743fd9-c030-4c87-b187-e80cae388005",
   "metadata": {},
   "outputs": [],
   "source": [
    "from functools import reduce"
   ]
  },
  {
   "cell_type": "code",
   "execution_count": 34,
   "id": "45f5d1bd-043c-41bb-b84a-d403776a746b",
   "metadata": {},
   "outputs": [],
   "source": [
    "product =reduce(lambda x,y : x*y ,l2)"
   ]
  },
  {
   "cell_type": "code",
   "execution_count": 35,
   "id": "66f19d01-a5f3-46a5-8b0f-37fcaa1f7b83",
   "metadata": {},
   "outputs": [
    {
     "data": {
      "text/plain": [
       "620448401733239439360000"
      ]
     },
     "execution_count": 35,
     "metadata": {},
     "output_type": "execute_result"
    }
   ],
   "source": [
    "product"
   ]
  },
  {
   "cell_type": "markdown",
   "id": "c4597201-9c43-40a9-9fdf-5508630bc906",
   "metadata": {},
   "source": [
    "### Q5. Write a python program to filter the numbers in a given list that are divisible by 2 and 3 using the filter function.\n",
    "[2, 3, 6, 9, 27, 60, 90, 120, 55, 46]"
   ]
  },
  {
   "cell_type": "markdown",
   "id": "ba5f23fa-170b-4e82-8f29-771d8c1e9cad",
   "metadata": {},
   "source": [
    "#### Ans:"
   ]
  },
  {
   "cell_type": "code",
   "execution_count": 36,
   "id": "a2ae0aa7-1dfd-4234-94f7-6618589d5274",
   "metadata": {},
   "outputs": [],
   "source": [
    "filter_num = [2, 3, 6, 9, 27, 60, 90, 120, 55, 46]"
   ]
  },
  {
   "cell_type": "code",
   "execution_count": 37,
   "id": "1aab9c5a-8572-4be6-ab1b-0bdbe7f69fcb",
   "metadata": {},
   "outputs": [],
   "source": [
    "filtered = list(filter(lambda x: x%2==0 and x%3==0 ,filter_num))"
   ]
  },
  {
   "cell_type": "code",
   "execution_count": 38,
   "id": "2b3cfb24-9ddd-4d31-81bc-fffb10fc6301",
   "metadata": {},
   "outputs": [
    {
     "data": {
      "text/plain": [
       "[6, 60, 90, 120]"
      ]
     },
     "execution_count": 38,
     "metadata": {},
     "output_type": "execute_result"
    }
   ],
   "source": [
    "filtered\n"
   ]
  },
  {
   "cell_type": "markdown",
   "id": "b51f869f-fde3-4631-9c9b-46b7ff52e8b1",
   "metadata": {},
   "source": [
    "### Q6. Write a python program to find palindromes in the given list of strings using lambda and filter function.\n",
    "['python', 'php', 'aba', 'radar', 'level']"
   ]
  },
  {
   "cell_type": "markdown",
   "id": "390528a2-d4e0-4ec2-a0e9-053818d3f27a",
   "metadata": {},
   "source": [
    "#### Ans:"
   ]
  },
  {
   "cell_type": "code",
   "execution_count": 40,
   "id": "9765e5d7-e83c-401c-ab28-f26bf79641c2",
   "metadata": {},
   "outputs": [],
   "source": [
    "l3 = ['python', 'php', 'aba', 'radar', 'level']\n"
   ]
  },
  {
   "cell_type": "code",
   "execution_count": 41,
   "id": "862fb9fa-7335-49bd-aec8-804194a41978",
   "metadata": {},
   "outputs": [
    {
     "data": {
      "text/plain": [
       "['php', 'aba', 'radar', 'level']"
      ]
     },
     "execution_count": 41,
     "metadata": {},
     "output_type": "execute_result"
    }
   ],
   "source": [
    "list(filter(lambda x : x[::-1] == x , l3))"
   ]
  },
  {
   "cell_type": "code",
   "execution_count": null,
   "id": "0806fdb1-2674-488e-8abc-244d6accaf7d",
   "metadata": {},
   "outputs": [],
   "source": []
  },
  {
   "cell_type": "code",
   "execution_count": null,
   "id": "e6bca4fd-8ad7-4892-9ab5-02513908c2e0",
   "metadata": {},
   "outputs": [],
   "source": []
  }
 ],
 "metadata": {
  "kernelspec": {
   "display_name": "Python 3 (ipykernel)",
   "language": "python",
   "name": "python3"
  },
  "language_info": {
   "codemirror_mode": {
    "name": "ipython",
    "version": 3
   },
   "file_extension": ".py",
   "mimetype": "text/x-python",
   "name": "python",
   "nbconvert_exporter": "python",
   "pygments_lexer": "ipython3",
   "version": "3.10.8"
  }
 },
 "nbformat": 4,
 "nbformat_minor": 5
}
