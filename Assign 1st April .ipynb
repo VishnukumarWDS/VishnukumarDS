{
 "cells": [
  {
   "cell_type": "code",
   "execution_count": null,
   "id": "739f35a8",
   "metadata": {},
   "outputs": [],
   "source": [
    "# Assignment 1st April"
   ]
  },
  {
   "cell_type": "markdown",
   "id": "44a7ec21",
   "metadata": {},
   "source": [
    "Q1. Difference between linear regression and logistic regression:\n",
    "Linear Regression: It's used for predicting continuous values based on independent variables. The output is a continuous value, typically representing a quantity like sales, price, etc.\n",
    "Logistic Regression: It's used for binary classification problems, where the output is a probability score indicating the likelihood of an instance belonging to a particular class (e.g., yes/no, spam/not spam). It models the probability that an instance belongs to a particular category.\n",
    "Example scenario: Suppose you want to predict whether a student passes or fails an exam based on study hours. Since passing or failing is a binary outcome, logistic regression would be more appropriate.\n",
    "\n",
    "Q2. Cost function and optimization:\n",
    "Cost function: In logistic regression, the typical cost function is the logistic loss or cross-entropy loss function.\n",
    "Optimization: The parameters (weights) of the logistic regression model are optimized using iterative optimization algorithms like gradient descent to minimize the cost function.\n",
    "\n",
    "Q3. Regularization in logistic regression:\n",
    "Concept: Regularization involves adding a penalty term to the cost function to prevent overfitting.\n",
    "Preventing overfitting: It helps prevent overfitting by discouraging overly complex models (those with large parameter values) during training.\n",
    "\n",
    "Q4. ROC curve and performance evaluation:\n",
    "ROC curve: Receiver Operating Characteristic (ROC) curve is a graphical plot that illustrates the diagnostic ability of a binary classifier system as its discrimination threshold is varied.\n",
    "Evaluation: It's used to evaluate the performance of the logistic regression model by plotting the true positive rate against the false positive rate for different threshold values.\n",
    "\n",
    "Q5. Feature selection techniques:\n",
    "Forward selection: Start with an empty set of features and add them one by one based on their contribution to the model's performance.\n",
    "Backward elimination: Start with all features and remove them one by one based on their contribution to the model's performance.\n",
    "Regularization: Techniques like Lasso (L1 regularization) or Ridge (L2 regularization) can automatically perform feature selection by shrinking less important feature coefficients towards zero.\n",
    "\n",
    "Q6. Handling imbalanced datasets:\n",
    "Techniques:\n",
    "Resampling: Oversampling the minority class or undersampling the majority class.\n",
    "Algorithmic techniques: Using algorithms specifically designed to handle class imbalance, such as SMOTE (Synthetic Minority Over-sampling Technique).\n",
    "Class weights: Adjusting class weights during model training to penalize misclassifications of the minority class more heavily.\n",
    "\n",
    "Q7. Common issues and challenges:\n",
    "Multicollinearity: When independent variables are highly correlated, it can cause issues with coefficient estimation. Techniques like using regularization or removing correlated variables can address this.\n",
    "Model complexity: Logistic regression assumes a linear relationship between the independent variables and the log-odds of the dependent variable. If this assumption is violated, model performance may suffer.\n",
    "Outliers: Outliers can disproportionately influence the parameter estimates in logistic regression. Robust techniques like robust standard errors or using robust regression methods can help mitigate their impact."
   ]
  }
 ],
 "metadata": {
  "kernelspec": {
   "display_name": "Python 3 (ipykernel)",
   "language": "python",
   "name": "python3"
  },
  "language_info": {
   "codemirror_mode": {
    "name": "ipython",
    "version": 3
   },
   "file_extension": ".py",
   "mimetype": "text/x-python",
   "name": "python",
   "nbconvert_exporter": "python",
   "pygments_lexer": "ipython3",
   "version": "3.11.3"
  }
 },
 "nbformat": 4,
 "nbformat_minor": 5
}
