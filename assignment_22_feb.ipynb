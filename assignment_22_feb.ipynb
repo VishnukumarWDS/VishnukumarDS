{
 "cells": [
  {
   "cell_type": "code",
   "execution_count": null,
   "id": "d46bc681-2571-4ade-8a11-2c12be2ddd89",
   "metadata": {},
   "outputs": [],
   "source": [
    "Q1. Create a Pandas Series that contains the following data: 4, 8, 15, 16, 23, and 42. Then, print the series."
   ]
  },
  {
   "cell_type": "code",
   "execution_count": 1,
   "id": "3a45505c-4da0-4e0e-85d3-9b182ed57df5",
   "metadata": {},
   "outputs": [],
   "source": [
    "import pandas as pd"
   ]
  },
  {
   "cell_type": "code",
   "execution_count": 2,
   "id": "5d0ef96f-086e-4ee8-b642-93333c4fc671",
   "metadata": {},
   "outputs": [],
   "source": [
    "l = [4,8,15,16,23,42]"
   ]
  },
  {
   "cell_type": "code",
   "execution_count": 26,
   "id": "244b2fe2-f122-4db2-99b1-b171231123e4",
   "metadata": {},
   "outputs": [],
   "source": [
    "ser = pd.Series(l)"
   ]
  },
  {
   "cell_type": "code",
   "execution_count": 27,
   "id": "552c2670-3b7e-4002-8869-ad3c17ac5b2d",
   "metadata": {},
   "outputs": [
    {
     "data": {
      "text/plain": [
       "0     4\n",
       "1     8\n",
       "2    15\n",
       "3    16\n",
       "4    23\n",
       "5    42\n",
       "dtype: int64"
      ]
     },
     "execution_count": 27,
     "metadata": {},
     "output_type": "execute_result"
    }
   ],
   "source": [
    "ser"
   ]
  },
  {
   "cell_type": "code",
   "execution_count": 29,
   "id": "48a539d6-b015-4de7-a389-52a2f69f2952",
   "metadata": {},
   "outputs": [
    {
     "data": {
      "text/plain": [
       "dtype('int64')"
      ]
     },
     "execution_count": 29,
     "metadata": {},
     "output_type": "execute_result"
    }
   ],
   "source": [
    "ser.dtypes"
   ]
  },
  {
   "cell_type": "code",
   "execution_count": null,
   "id": "dbbaa16e-bdb0-459e-a526-2a80deb26779",
   "metadata": {},
   "outputs": [],
   "source": [
    "Q2. Create a variable of list type containing 10 elements in it, and apply pandas.Series function on the\n",
    "variable print it."
   ]
  },
  {
   "cell_type": "code",
   "execution_count": 30,
   "id": "9475420b-ab5d-43c1-aa80-cc5fa0b14bdd",
   "metadata": {},
   "outputs": [],
   "source": [
    "var = [1, 2, 3, 4, 5, 6, 7, 8, 9, 10]"
   ]
  },
  {
   "cell_type": "code",
   "execution_count": 31,
   "id": "d4af6dcd-2fe6-48d1-9d94-cd86e591ad04",
   "metadata": {},
   "outputs": [],
   "source": [
    "variable = pd.Series(var)"
   ]
  },
  {
   "cell_type": "code",
   "execution_count": 32,
   "id": "4ebb070a-07c8-47e4-b4d6-084d3302fa99",
   "metadata": {},
   "outputs": [
    {
     "data": {
      "text/plain": [
       "0     1\n",
       "1     2\n",
       "2     3\n",
       "3     4\n",
       "4     5\n",
       "5     6\n",
       "6     7\n",
       "7     8\n",
       "8     9\n",
       "9    10\n",
       "dtype: int64"
      ]
     },
     "execution_count": 32,
     "metadata": {},
     "output_type": "execute_result"
    }
   ],
   "source": [
    "variable"
   ]
  },
  {
   "cell_type": "code",
   "execution_count": null,
   "id": "25267c77-3b01-46ab-9a3b-88506c60af9b",
   "metadata": {},
   "outputs": [],
   "source": [
    "Q3. Create a Pandas DataFrame that contains the following data\n",
    "\n",
    "Name       Age    Gender\n",
    "Alice      25     Female\n",
    "Bob        30     Male\n",
    "Claire     27     Female\n",
    "\n",
    "\n",
    "\n",
    "Then, print the DataFrame."
   ]
  },
  {
   "cell_type": "code",
   "execution_count": 39,
   "id": "cd347a86-82f6-411c-9644-bf24376a03fb",
   "metadata": {},
   "outputs": [],
   "source": [
    "data = pd.DataFrame({'Name' : ['Alice' , 'Bob' , 'Clarie'], 'Age' : [ 25, 30, 27], 'Gender' : [\"Female\", \"Male\", \"Female\"]})"
   ]
  },
  {
   "cell_type": "code",
   "execution_count": 40,
   "id": "a25154cc-4670-4891-b98d-057096975e90",
   "metadata": {},
   "outputs": [
    {
     "data": {
      "text/html": [
       "<div>\n",
       "<style scoped>\n",
       "    .dataframe tbody tr th:only-of-type {\n",
       "        vertical-align: middle;\n",
       "    }\n",
       "\n",
       "    .dataframe tbody tr th {\n",
       "        vertical-align: top;\n",
       "    }\n",
       "\n",
       "    .dataframe thead th {\n",
       "        text-align: right;\n",
       "    }\n",
       "</style>\n",
       "<table border=\"1\" class=\"dataframe\">\n",
       "  <thead>\n",
       "    <tr style=\"text-align: right;\">\n",
       "      <th></th>\n",
       "      <th>Name</th>\n",
       "      <th>Age</th>\n",
       "      <th>Gender</th>\n",
       "    </tr>\n",
       "  </thead>\n",
       "  <tbody>\n",
       "    <tr>\n",
       "      <th>0</th>\n",
       "      <td>Alice</td>\n",
       "      <td>25</td>\n",
       "      <td>Female</td>\n",
       "    </tr>\n",
       "    <tr>\n",
       "      <th>1</th>\n",
       "      <td>Bob</td>\n",
       "      <td>30</td>\n",
       "      <td>Male</td>\n",
       "    </tr>\n",
       "    <tr>\n",
       "      <th>2</th>\n",
       "      <td>Clarie</td>\n",
       "      <td>27</td>\n",
       "      <td>Female</td>\n",
       "    </tr>\n",
       "  </tbody>\n",
       "</table>\n",
       "</div>"
      ],
      "text/plain": [
       "     Name  Age  Gender\n",
       "0   Alice   25  Female\n",
       "1     Bob   30    Male\n",
       "2  Clarie   27  Female"
      ]
     },
     "execution_count": 40,
     "metadata": {},
     "output_type": "execute_result"
    }
   ],
   "source": [
    "data"
   ]
  },
  {
   "cell_type": "code",
   "execution_count": null,
   "id": "17421a05-fab7-4e06-ab26-0746783c9196",
   "metadata": {},
   "outputs": [],
   "source": [
    "Q4. What is ‘DataFrame’ in pandas and how is it different from pandas.series? Explain with an example."
   ]
  },
  {
   "cell_type": "markdown",
   "id": "f17e1e9d-1421-4431-bfad-2a8cc7786dfc",
   "metadata": {},
   "source": [
    "DataFrame is a 2-dimensional labeled data structure with columns of potentially different types. It can be thought of as a spreadsheet or a SQL table. Each column of a DataFrame is a pandas Series\n",
    "\n",
    "A pandas Series is a one-dimensional labeled array capable of holding data of any type.\n",
    "\n",
    "The main difference between a DataFrame and a Series is that a Series represents a single column of data, while a DataFrame is a table-like structure with rows and columns. A DataFrame can be thought of as a collection of Series objects, where each column is a Series."
   ]
  },
  {
   "cell_type": "code",
   "execution_count": null,
   "id": "1cc3c162-68c0-40dd-af01-4b4dcff0df36",
   "metadata": {},
   "outputs": [],
   "source": [
    "Examples are:"
   ]
  },
  {
   "cell_type": "code",
   "execution_count": 41,
   "id": "bd3951e2-8c67-41b6-ba91-4ae7c9931e0b",
   "metadata": {},
   "outputs": [],
   "source": [
    "series = pd.Series([1,2,3,4,5], name= \"my column\")"
   ]
  },
  {
   "cell_type": "code",
   "execution_count": 42,
   "id": "671be7b0-fd8f-46fa-94ad-d23af958a074",
   "metadata": {},
   "outputs": [
    {
     "data": {
      "text/plain": [
       "0    1\n",
       "1    2\n",
       "2    3\n",
       "3    4\n",
       "4    5\n",
       "Name: my column, dtype: int64"
      ]
     },
     "execution_count": 42,
     "metadata": {},
     "output_type": "execute_result"
    }
   ],
   "source": [
    "series"
   ]
  },
  {
   "cell_type": "code",
   "execution_count": 43,
   "id": "8bc8ffc4-608a-4e22-9a0d-9290d8827bbc",
   "metadata": {},
   "outputs": [],
   "source": [
    "dataframe = pd.DataFrame({\"name\":[\"raj\",\"vikas\",\"vikram\"],\"age\":[34, 56, 19]})"
   ]
  },
  {
   "cell_type": "code",
   "execution_count": 44,
   "id": "7bb34921-37e4-43b1-9c36-5a4f7f562c79",
   "metadata": {},
   "outputs": [
    {
     "data": {
      "text/html": [
       "<div>\n",
       "<style scoped>\n",
       "    .dataframe tbody tr th:only-of-type {\n",
       "        vertical-align: middle;\n",
       "    }\n",
       "\n",
       "    .dataframe tbody tr th {\n",
       "        vertical-align: top;\n",
       "    }\n",
       "\n",
       "    .dataframe thead th {\n",
       "        text-align: right;\n",
       "    }\n",
       "</style>\n",
       "<table border=\"1\" class=\"dataframe\">\n",
       "  <thead>\n",
       "    <tr style=\"text-align: right;\">\n",
       "      <th></th>\n",
       "      <th>name</th>\n",
       "      <th>age</th>\n",
       "    </tr>\n",
       "  </thead>\n",
       "  <tbody>\n",
       "    <tr>\n",
       "      <th>0</th>\n",
       "      <td>raj</td>\n",
       "      <td>34</td>\n",
       "    </tr>\n",
       "    <tr>\n",
       "      <th>1</th>\n",
       "      <td>vikas</td>\n",
       "      <td>56</td>\n",
       "    </tr>\n",
       "    <tr>\n",
       "      <th>2</th>\n",
       "      <td>vikram</td>\n",
       "      <td>19</td>\n",
       "    </tr>\n",
       "  </tbody>\n",
       "</table>\n",
       "</div>"
      ],
      "text/plain": [
       "     name  age\n",
       "0     raj   34\n",
       "1   vikas   56\n",
       "2  vikram   19"
      ]
     },
     "execution_count": 44,
     "metadata": {},
     "output_type": "execute_result"
    }
   ],
   "source": [
    "dataframe"
   ]
  },
  {
   "cell_type": "code",
   "execution_count": null,
   "id": "439b44d8-1101-420c-bc91-9054e20be363",
   "metadata": {},
   "outputs": [],
   "source": [
    "Q5. What are some common functions you can use to manipulate data in a Pandas DataFrame? Can you give an example of when you might use one of these functions?"
   ]
  },
  {
   "cell_type": "markdown",
   "id": "8af8f075-c1c3-4203-a992-a49b30bf476f",
   "metadata": {},
   "source": [
    "There are many functions available in Pandas that can be used to manipulate data in a DataFrame. Here are some common ones:\n",
    "\n",
    "head() and tail(): These functions are used to display the first or last n rows of the DataFrame, respectively. They are useful for quickly inspecting the data.\n",
    "\n",
    "describe(): This function generates descriptive statistics of the DataFrame, such as count, mean, standard deviation, minimum and maximum values, and quartiles. It is useful for getting a quick overview of the data.\n",
    "\n",
    "loc[] and iloc[]: These are indexing functions used to select rows and columns of the DataFrame based on their labels or integer positions, respectively. They can be used to filter or slice the data.\n",
    "\n",
    "groupby(): This function is used to group the data by one or more columns and apply a function to each group. It is useful for aggregating or summarizing the data.\n",
    "\n",
    "fillna(): This function is used to fill missing values in the DataFrame with a specified value or a method such as forward or backward filling. It is useful for handling missing data.\n",
    "\n",
    "drop(): This function is used to drop rows or columns from the DataFrame based on their labels or integer positions, respectively. It is useful for removing unnecessary data.\n",
    "\n",
    "apply(): This function is used to apply a function to each element or row of the DataFrame. It is useful for transforming or processing the data."
   ]
  },
  {
   "cell_type": "code",
   "execution_count": null,
   "id": "5629ecf2-efef-4830-893f-7d705add2848",
   "metadata": {},
   "outputs": [],
   "source": [
    "import pandas as pd\n",
    "\n",
    "# create sample DataFrame\n",
    "\n",
    "df = pd.DataFrame(data)\n",
    "\n",
    "# group by region and calculate total sales\n",
    "sales_by_region = df.groupby('region')['sales'].sum()\n",
    "\n",
    "# display the result\n",
    "print(sales_by_region)\n"
   ]
  },
  {
   "cell_type": "code",
   "execution_count": 45,
   "id": "1ea82087-d62a-4c3c-97fd-ed589bce53e9",
   "metadata": {},
   "outputs": [],
   "source": [
    "data = {'product': ['A', 'B', 'C', 'D', 'E', 'F'],\n",
    "        'region': ['East', 'West', 'East', 'West', 'North', 'South'],\n",
    "        'sales': [100, 200, 150, 250, 180, 300]}"
   ]
  },
  {
   "cell_type": "code",
   "execution_count": 46,
   "id": "bba393ee-8c3c-4e16-985c-401fdbafb9bf",
   "metadata": {},
   "outputs": [],
   "source": [
    "data1 = pd.DataFrame(data)"
   ]
  },
  {
   "cell_type": "code",
   "execution_count": 48,
   "id": "021e7941-b278-4657-b966-40924451449f",
   "metadata": {},
   "outputs": [
    {
     "data": {
      "text/html": [
       "<div>\n",
       "<style scoped>\n",
       "    .dataframe tbody tr th:only-of-type {\n",
       "        vertical-align: middle;\n",
       "    }\n",
       "\n",
       "    .dataframe tbody tr th {\n",
       "        vertical-align: top;\n",
       "    }\n",
       "\n",
       "    .dataframe thead th {\n",
       "        text-align: right;\n",
       "    }\n",
       "</style>\n",
       "<table border=\"1\" class=\"dataframe\">\n",
       "  <thead>\n",
       "    <tr style=\"text-align: right;\">\n",
       "      <th></th>\n",
       "      <th>product</th>\n",
       "      <th>region</th>\n",
       "      <th>sales</th>\n",
       "    </tr>\n",
       "  </thead>\n",
       "  <tbody>\n",
       "    <tr>\n",
       "      <th>0</th>\n",
       "      <td>A</td>\n",
       "      <td>East</td>\n",
       "      <td>100</td>\n",
       "    </tr>\n",
       "    <tr>\n",
       "      <th>1</th>\n",
       "      <td>B</td>\n",
       "      <td>West</td>\n",
       "      <td>200</td>\n",
       "    </tr>\n",
       "    <tr>\n",
       "      <th>2</th>\n",
       "      <td>C</td>\n",
       "      <td>East</td>\n",
       "      <td>150</td>\n",
       "    </tr>\n",
       "    <tr>\n",
       "      <th>3</th>\n",
       "      <td>D</td>\n",
       "      <td>West</td>\n",
       "      <td>250</td>\n",
       "    </tr>\n",
       "    <tr>\n",
       "      <th>4</th>\n",
       "      <td>E</td>\n",
       "      <td>North</td>\n",
       "      <td>180</td>\n",
       "    </tr>\n",
       "    <tr>\n",
       "      <th>5</th>\n",
       "      <td>F</td>\n",
       "      <td>South</td>\n",
       "      <td>300</td>\n",
       "    </tr>\n",
       "  </tbody>\n",
       "</table>\n",
       "</div>"
      ],
      "text/plain": [
       "  product region  sales\n",
       "0       A   East    100\n",
       "1       B   West    200\n",
       "2       C   East    150\n",
       "3       D   West    250\n",
       "4       E  North    180\n",
       "5       F  South    300"
      ]
     },
     "execution_count": 48,
     "metadata": {},
     "output_type": "execute_result"
    }
   ],
   "source": [
    "data1"
   ]
  },
  {
   "cell_type": "code",
   "execution_count": 47,
   "id": "a5b332ca-4cc3-4ea3-af17-0a42520c3862",
   "metadata": {},
   "outputs": [
    {
     "data": {
      "text/html": [
       "<div>\n",
       "<style scoped>\n",
       "    .dataframe tbody tr th:only-of-type {\n",
       "        vertical-align: middle;\n",
       "    }\n",
       "\n",
       "    .dataframe tbody tr th {\n",
       "        vertical-align: top;\n",
       "    }\n",
       "\n",
       "    .dataframe thead th {\n",
       "        text-align: right;\n",
       "    }\n",
       "</style>\n",
       "<table border=\"1\" class=\"dataframe\">\n",
       "  <thead>\n",
       "    <tr style=\"text-align: right;\">\n",
       "      <th></th>\n",
       "      <th>product</th>\n",
       "      <th>region</th>\n",
       "      <th>sales</th>\n",
       "    </tr>\n",
       "  </thead>\n",
       "  <tbody>\n",
       "    <tr>\n",
       "      <th>0</th>\n",
       "      <td>A</td>\n",
       "      <td>East</td>\n",
       "      <td>100</td>\n",
       "    </tr>\n",
       "    <tr>\n",
       "      <th>1</th>\n",
       "      <td>B</td>\n",
       "      <td>West</td>\n",
       "      <td>200</td>\n",
       "    </tr>\n",
       "    <tr>\n",
       "      <th>2</th>\n",
       "      <td>C</td>\n",
       "      <td>East</td>\n",
       "      <td>150</td>\n",
       "    </tr>\n",
       "    <tr>\n",
       "      <th>3</th>\n",
       "      <td>D</td>\n",
       "      <td>West</td>\n",
       "      <td>250</td>\n",
       "    </tr>\n",
       "    <tr>\n",
       "      <th>4</th>\n",
       "      <td>E</td>\n",
       "      <td>North</td>\n",
       "      <td>180</td>\n",
       "    </tr>\n",
       "  </tbody>\n",
       "</table>\n",
       "</div>"
      ],
      "text/plain": [
       "  product region  sales\n",
       "0       A   East    100\n",
       "1       B   West    200\n",
       "2       C   East    150\n",
       "3       D   West    250\n",
       "4       E  North    180"
      ]
     },
     "execution_count": 47,
     "metadata": {},
     "output_type": "execute_result"
    }
   ],
   "source": [
    "data1.head()"
   ]
  },
  {
   "cell_type": "code",
   "execution_count": 49,
   "id": "ed7cda7c-862a-4756-9005-be42e408e482",
   "metadata": {},
   "outputs": [
    {
     "data": {
      "text/html": [
       "<div>\n",
       "<style scoped>\n",
       "    .dataframe tbody tr th:only-of-type {\n",
       "        vertical-align: middle;\n",
       "    }\n",
       "\n",
       "    .dataframe tbody tr th {\n",
       "        vertical-align: top;\n",
       "    }\n",
       "\n",
       "    .dataframe thead th {\n",
       "        text-align: right;\n",
       "    }\n",
       "</style>\n",
       "<table border=\"1\" class=\"dataframe\">\n",
       "  <thead>\n",
       "    <tr style=\"text-align: right;\">\n",
       "      <th></th>\n",
       "      <th>product</th>\n",
       "      <th>region</th>\n",
       "      <th>sales</th>\n",
       "    </tr>\n",
       "  </thead>\n",
       "  <tbody>\n",
       "    <tr>\n",
       "      <th>1</th>\n",
       "      <td>B</td>\n",
       "      <td>West</td>\n",
       "      <td>200</td>\n",
       "    </tr>\n",
       "    <tr>\n",
       "      <th>2</th>\n",
       "      <td>C</td>\n",
       "      <td>East</td>\n",
       "      <td>150</td>\n",
       "    </tr>\n",
       "    <tr>\n",
       "      <th>3</th>\n",
       "      <td>D</td>\n",
       "      <td>West</td>\n",
       "      <td>250</td>\n",
       "    </tr>\n",
       "    <tr>\n",
       "      <th>4</th>\n",
       "      <td>E</td>\n",
       "      <td>North</td>\n",
       "      <td>180</td>\n",
       "    </tr>\n",
       "    <tr>\n",
       "      <th>5</th>\n",
       "      <td>F</td>\n",
       "      <td>South</td>\n",
       "      <td>300</td>\n",
       "    </tr>\n",
       "  </tbody>\n",
       "</table>\n",
       "</div>"
      ],
      "text/plain": [
       "  product region  sales\n",
       "1       B   West    200\n",
       "2       C   East    150\n",
       "3       D   West    250\n",
       "4       E  North    180\n",
       "5       F  South    300"
      ]
     },
     "execution_count": 49,
     "metadata": {},
     "output_type": "execute_result"
    }
   ],
   "source": [
    "data1.tail()"
   ]
  },
  {
   "cell_type": "code",
   "execution_count": 50,
   "id": "168f646f-83d9-42db-b8cc-ef6124ee0200",
   "metadata": {},
   "outputs": [
    {
     "data": {
      "text/html": [
       "<div>\n",
       "<style scoped>\n",
       "    .dataframe tbody tr th:only-of-type {\n",
       "        vertical-align: middle;\n",
       "    }\n",
       "\n",
       "    .dataframe tbody tr th {\n",
       "        vertical-align: top;\n",
       "    }\n",
       "\n",
       "    .dataframe thead th {\n",
       "        text-align: right;\n",
       "    }\n",
       "</style>\n",
       "<table border=\"1\" class=\"dataframe\">\n",
       "  <thead>\n",
       "    <tr style=\"text-align: right;\">\n",
       "      <th></th>\n",
       "      <th>sales</th>\n",
       "    </tr>\n",
       "  </thead>\n",
       "  <tbody>\n",
       "    <tr>\n",
       "      <th>count</th>\n",
       "      <td>6.000000</td>\n",
       "    </tr>\n",
       "    <tr>\n",
       "      <th>mean</th>\n",
       "      <td>196.666667</td>\n",
       "    </tr>\n",
       "    <tr>\n",
       "      <th>std</th>\n",
       "      <td>71.180522</td>\n",
       "    </tr>\n",
       "    <tr>\n",
       "      <th>min</th>\n",
       "      <td>100.000000</td>\n",
       "    </tr>\n",
       "    <tr>\n",
       "      <th>25%</th>\n",
       "      <td>157.500000</td>\n",
       "    </tr>\n",
       "    <tr>\n",
       "      <th>50%</th>\n",
       "      <td>190.000000</td>\n",
       "    </tr>\n",
       "    <tr>\n",
       "      <th>75%</th>\n",
       "      <td>237.500000</td>\n",
       "    </tr>\n",
       "    <tr>\n",
       "      <th>max</th>\n",
       "      <td>300.000000</td>\n",
       "    </tr>\n",
       "  </tbody>\n",
       "</table>\n",
       "</div>"
      ],
      "text/plain": [
       "            sales\n",
       "count    6.000000\n",
       "mean   196.666667\n",
       "std     71.180522\n",
       "min    100.000000\n",
       "25%    157.500000\n",
       "50%    190.000000\n",
       "75%    237.500000\n",
       "max    300.000000"
      ]
     },
     "execution_count": 50,
     "metadata": {},
     "output_type": "execute_result"
    }
   ],
   "source": [
    "data1.describe()"
   ]
  },
  {
   "cell_type": "code",
   "execution_count": 58,
   "id": "27f2c599-adac-4e0f-a6ea-ac79210869b0",
   "metadata": {},
   "outputs": [
    {
     "data": {
      "text/plain": [
       "product       B\n",
       "region     West\n",
       "sales       200\n",
       "Name: 1, dtype: object"
      ]
     },
     "execution_count": 58,
     "metadata": {},
     "output_type": "execute_result"
    }
   ],
   "source": [
    "data1.loc[1]"
   ]
  },
  {
   "cell_type": "code",
   "execution_count": 52,
   "id": "523752f6-3103-45ee-a958-7fa5eeaa8f14",
   "metadata": {},
   "outputs": [
    {
     "data": {
      "text/plain": [
       "product       A\n",
       "region     East\n",
       "sales       100\n",
       "Name: 0, dtype: object"
      ]
     },
     "execution_count": 52,
     "metadata": {},
     "output_type": "execute_result"
    }
   ],
   "source": [
    "data1.iloc[0]"
   ]
  },
  {
   "cell_type": "code",
   "execution_count": 60,
   "id": "1c0a5273-7dec-4790-9cfc-dcd03bb10322",
   "metadata": {},
   "outputs": [
    {
     "data": {
      "text/html": [
       "<div>\n",
       "<style scoped>\n",
       "    .dataframe tbody tr th:only-of-type {\n",
       "        vertical-align: middle;\n",
       "    }\n",
       "\n",
       "    .dataframe tbody tr th {\n",
       "        vertical-align: top;\n",
       "    }\n",
       "\n",
       "    .dataframe thead th {\n",
       "        text-align: right;\n",
       "    }\n",
       "</style>\n",
       "<table border=\"1\" class=\"dataframe\">\n",
       "  <thead>\n",
       "    <tr style=\"text-align: right;\">\n",
       "      <th></th>\n",
       "      <th>product</th>\n",
       "      <th>region</th>\n",
       "      <th>sales</th>\n",
       "    </tr>\n",
       "  </thead>\n",
       "  <tbody>\n",
       "    <tr>\n",
       "      <th>0</th>\n",
       "      <td>A</td>\n",
       "      <td>East</td>\n",
       "      <td>100</td>\n",
       "    </tr>\n",
       "    <tr>\n",
       "      <th>1</th>\n",
       "      <td>B</td>\n",
       "      <td>West</td>\n",
       "      <td>200</td>\n",
       "    </tr>\n",
       "    <tr>\n",
       "      <th>2</th>\n",
       "      <td>C</td>\n",
       "      <td>East</td>\n",
       "      <td>150</td>\n",
       "    </tr>\n",
       "    <tr>\n",
       "      <th>3</th>\n",
       "      <td>D</td>\n",
       "      <td>West</td>\n",
       "      <td>250</td>\n",
       "    </tr>\n",
       "    <tr>\n",
       "      <th>4</th>\n",
       "      <td>E</td>\n",
       "      <td>North</td>\n",
       "      <td>180</td>\n",
       "    </tr>\n",
       "    <tr>\n",
       "      <th>5</th>\n",
       "      <td>F</td>\n",
       "      <td>South</td>\n",
       "      <td>300</td>\n",
       "    </tr>\n",
       "  </tbody>\n",
       "</table>\n",
       "</div>"
      ],
      "text/plain": [
       "  product region  sales\n",
       "0       A   East    100\n",
       "1       B   West    200\n",
       "2       C   East    150\n",
       "3       D   West    250\n",
       "4       E  North    180\n",
       "5       F  South    300"
      ]
     },
     "execution_count": 60,
     "metadata": {},
     "output_type": "execute_result"
    }
   ],
   "source": [
    "data1"
   ]
  },
  {
   "cell_type": "code",
   "execution_count": 62,
   "id": "91f65f45-7908-4d10-a9e8-ff1c43bb30fe",
   "metadata": {},
   "outputs": [],
   "source": [
    "sales_by_region = data1.groupby('region')['sales'].sum()"
   ]
  },
  {
   "cell_type": "code",
   "execution_count": 63,
   "id": "627d802b-a8fb-423e-83bb-c8e17561ae17",
   "metadata": {},
   "outputs": [
    {
     "data": {
      "text/plain": [
       "region\n",
       "East     250\n",
       "North    180\n",
       "South    300\n",
       "West     450\n",
       "Name: sales, dtype: int64"
      ]
     },
     "execution_count": 63,
     "metadata": {},
     "output_type": "execute_result"
    }
   ],
   "source": [
    "sales_by_region"
   ]
  },
  {
   "cell_type": "code",
   "execution_count": null,
   "id": "c8cad25e-e328-4330-b84e-e7d8fd26cb75",
   "metadata": {},
   "outputs": [],
   "source": [
    "Q6. Which of the following is mutable in nature Series, DataFrame, Panel?"
   ]
  },
  {
   "cell_type": "markdown",
   "id": "7fd32415-bb37-4ba7-96e3-3875e8cc980d",
   "metadata": {},
   "source": [
    "In Pandas, both Series and DataFrame are mutable in nature.\n",
    "\n",
    "Series can be modified by assigning new values to the index labels, and DataFrame can be modified by adding, removing, or updating rows and columns.\n",
    "\n",
    "Panel, on the other hand, is a 3-dimensional data structure that is now deprecated in favor of multi-indexed DataFrames. It was mutable in nature and could be modified by adding, removing or updating items in the underlying data."
   ]
  },
  {
   "cell_type": "code",
   "execution_count": null,
   "id": "7d7f0186-0ac5-446a-9135-8780d2fac29e",
   "metadata": {},
   "outputs": [],
   "source": [
    "Q7. Create a DataFrame using multiple Series. Explain with an example."
   ]
  },
  {
   "cell_type": "markdown",
   "id": "19120635-1a92-48f0-9b88-2710a705eaa0",
   "metadata": {},
   "source": [
    "A DataFrame can be created using multiple Series by passing a dictionary of Series to the DataFrame constructor. Each Series will become a column of the DataFrame, and the keys of the dictionary will become the column names. "
   ]
  },
  {
   "cell_type": "code",
   "execution_count": 65,
   "id": "f7c72ead-551c-4705-8445-ffa7026eda52",
   "metadata": {},
   "outputs": [],
   "source": [
    "name = pd.Series([\"raj kumar\" , \"vikram\" , \"ganesh\" , \"vikas\"])\n",
    "age = pd.Series([ 19, 18, 24, 34])\n",
    "gender = pd.Series([\"Male\", \"Male\",  \"Male\",  \"Male\"])"
   ]
  },
  {
   "cell_type": "code",
   "execution_count": 68,
   "id": "c7d07dea-8199-4ce5-b2ce-db564f2e0851",
   "metadata": {},
   "outputs": [],
   "source": [
    "details = pd.DataFrame({'Name' : name ,'Age':age , \"Gender\":gender})"
   ]
  },
  {
   "cell_type": "code",
   "execution_count": 69,
   "id": "520ca09a-5e2d-4710-9ae9-46ed4189ae65",
   "metadata": {},
   "outputs": [
    {
     "data": {
      "text/html": [
       "<div>\n",
       "<style scoped>\n",
       "    .dataframe tbody tr th:only-of-type {\n",
       "        vertical-align: middle;\n",
       "    }\n",
       "\n",
       "    .dataframe tbody tr th {\n",
       "        vertical-align: top;\n",
       "    }\n",
       "\n",
       "    .dataframe thead th {\n",
       "        text-align: right;\n",
       "    }\n",
       "</style>\n",
       "<table border=\"1\" class=\"dataframe\">\n",
       "  <thead>\n",
       "    <tr style=\"text-align: right;\">\n",
       "      <th></th>\n",
       "      <th>Name</th>\n",
       "      <th>Age</th>\n",
       "      <th>Gender</th>\n",
       "    </tr>\n",
       "  </thead>\n",
       "  <tbody>\n",
       "    <tr>\n",
       "      <th>0</th>\n",
       "      <td>raj kumar</td>\n",
       "      <td>19</td>\n",
       "      <td>Male</td>\n",
       "    </tr>\n",
       "    <tr>\n",
       "      <th>1</th>\n",
       "      <td>vikram</td>\n",
       "      <td>18</td>\n",
       "      <td>Male</td>\n",
       "    </tr>\n",
       "    <tr>\n",
       "      <th>2</th>\n",
       "      <td>ganesh</td>\n",
       "      <td>24</td>\n",
       "      <td>Male</td>\n",
       "    </tr>\n",
       "    <tr>\n",
       "      <th>3</th>\n",
       "      <td>vikas</td>\n",
       "      <td>34</td>\n",
       "      <td>Male</td>\n",
       "    </tr>\n",
       "  </tbody>\n",
       "</table>\n",
       "</div>"
      ],
      "text/plain": [
       "        Name  Age Gender\n",
       "0  raj kumar   19   Male\n",
       "1     vikram   18   Male\n",
       "2     ganesh   24   Male\n",
       "3      vikas   34   Male"
      ]
     },
     "execution_count": 69,
     "metadata": {},
     "output_type": "execute_result"
    }
   ],
   "source": [
    "details"
   ]
  },
  {
   "cell_type": "code",
   "execution_count": null,
   "id": "9dd3be46-9586-4f35-8238-02c1f7c417a4",
   "metadata": {},
   "outputs": [],
   "source": []
  }
 ],
 "metadata": {
  "kernelspec": {
   "display_name": "Python 3 (ipykernel)",
   "language": "python",
   "name": "python3"
  },
  "language_info": {
   "codemirror_mode": {
    "name": "ipython",
    "version": 3
   },
   "file_extension": ".py",
   "mimetype": "text/x-python",
   "name": "python",
   "nbconvert_exporter": "python",
   "pygments_lexer": "ipython3",
   "version": "3.10.8"
  }
 },
 "nbformat": 4,
 "nbformat_minor": 5
}
