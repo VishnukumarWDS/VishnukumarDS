{
 "cells": [
  {
   "cell_type": "code",
   "execution_count": null,
   "id": "df5963c8-b4d6-40b7-8d69-87ae53bb7631",
   "metadata": {},
   "outputs": [],
   "source": [
    "Q1: What is Estimation Statistics? Explain point estimate and interval estimate."
   ]
  },
  {
   "cell_type": "markdown",
   "id": "d20088eb-08c8-40cf-874e-3a92057acd36",
   "metadata": {},
   "source": [
    "Estimation statistics is a branch of statistics that involves using sample data to make inferences about unknown population parameters. The goal of estimation statistics is to estimate the value of a population parameter, such as the mean or standard deviation, based on a sample of observations.\n",
    "\n",
    "A point estimate is a single value that is used to estimate the value of a population parameter. For example, the sample mean is a point estimate of the population mean.\n",
    "\n",
    "An interval estimate, on the other hand, is a range of values that is likely to contain the true value of the population parameter. An interval estimate is usually expressed as a confidence interval, which is a range of values that is likely to contain the true value of the population parameter with a certain level of confidence, typically 95% or 99%. The confidence interval is calculated using the sample data and the standard error of the estimate."
   ]
  },
  {
   "cell_type": "code",
   "execution_count": null,
   "id": "c06138ea-c085-4520-9252-7d53c9602dc1",
   "metadata": {},
   "outputs": [],
   "source": [
    "Q2. Write a Python function to estimate the population mean using a sample mean and standard\n",
    "deviation."
   ]
  },
  {
   "cell_type": "code",
   "execution_count": 1,
   "id": "1796e5c5-dc16-4d10-8fae-6af7527b4ba0",
   "metadata": {},
   "outputs": [],
   "source": [
    "def population_mean(sample_mean, sample_std, sample_size):\n",
    "    \"\"\"\n",
    "    Calculates the estimated population mean based on a sample mean, sample standard deviation, and sample size.\n",
    "    \"\"\"\n",
    "    import math\n",
    "    # Calculate the standard error of the estimate\n",
    "    std_error = sample_std / math.sqrt(sample_size)\n",
    "    # Calculate the lower and upper bounds of the 95% confidence interval\n",
    "    lower_bound = sample_mean - 1.96 * std_error\n",
    "    upper_bound = sample_mean + 1.96 * std_error\n",
    "    # Return the estimated population mean\n",
    "    return sample_mean, lower_bound, upper_bound\n"
   ]
  },
  {
   "cell_type": "markdown",
   "id": "561fc03b-b034-4508-87cf-6f9a04e6949a",
   "metadata": {},
   "source": [
    "Q3: What is Hypothesis testing? Why is it used? State the importance of Hypothesis testing.\n",
    "\n",
    "Hypothesis testing is a statistical technique used to determine whether a hypothesis about a population parameter is supported by the sample data. In hypothesis testing, a null hypothesis is tested against an alternative hypothesis. The null hypothesis is usually a statement of no effect or no difference, while the alternative hypothesis is a statement that there is an effect or difference.\n",
    "\n",
    "The goal of hypothesis testing is to make a decision about the null hypothesis based on the sample data. The decision is made by calculating a test statistic and comparing it to a critical value or p-value. If the test statistic is greater than the critical value or the p-value is less than the significance level, then the null hypothesis is rejected in favor of the alternative hypothesis.\n",
    "\n",
    "Hypothesis testing is used in many fields, including medicine, engineering, and social sciences, to test theories and make decisions based on data. The importance of hypothesis testing lies in its ability to provide a systematic and objective way to test hypotheses and make decisions based on data, rather than relying on intuition or guesswork."
   ]
  },
  {
   "cell_type": "markdown",
   "id": "b50f71c1-6b4c-43a7-99a9-840b5b8310c8",
   "metadata": {},
   "source": [
    "Q4. Create a hypothesis that states whether the average weight of male college students is greater than the average weight of female college students.\n",
    "\n",
    "The null hypothesis for this hypothesis test would be that the average weight of male college students is equal to the average weight of female college students. The alternative hypothesis would be that the average weight of male college students is greater than the average weight of female college students.\n",
    "\n",
    "H0: μm = μf\n",
    "Ha: μm > μf\n",
    "\n",
    "where H0 is the null hypothesis, Ha is the alternative hypothesis, μ\n",
    "Hypothesis: The average weight of male college students is greater than the average weight of female college students."
   ]
  },
  {
   "cell_type": "code",
   "execution_count": null,
   "id": "f92865d6-d551-49fd-b412-216aea0c553c",
   "metadata": {},
   "outputs": [],
   "source": [
    "Q5. Write a Python script to conduct a hypothesis test on the difference between two population means,\n",
    "given a sample from each population."
   ]
  },
  {
   "cell_type": "code",
   "execution_count": null,
   "id": "126d0973-0c14-4cc5-9e1e-fef0292281b9",
   "metadata": {},
   "outputs": [],
   "source": [
    "import numpy as np\n",
    "from scipy.stats import ttest_ind\n",
    "\n",
    "# sample data for male and female college students\n",
    "male_weights = np.array([165, 180, 175, 185, 195, 200, 190, 185, 175, 170])\n",
    "female_weights = np.array([120, 135, 130, 115, 140, 125, 130, 140, 135, 125])\n",
    "\n",
    "# compute the means and standard deviations of the two samples\n",
    "male_mean = np.mean(male_weights)\n",
    "male_std = np.std(male_weights, ddof=1)\n",
    "female_mean = np.mean(female_weights)\n",
    "female_std = np.std(female_weights, ddof=1)\n",
    "\n",
    "# conduct a two-sample t-test assuming unequal variances\n",
    "t_stat, p_value = ttest_ind(male_weights, female_weights, equal_var=False)\n",
    "\n",
    "# output the results\n",
    "print(\"Male Mean:\", male_mean)\n",
    "print(\"Male Standard Deviation:\", male_std)\n",
    "print(\"Female Mean:\", female_mean)\n",
    "print(\"Female Standard Deviation:\", female_std)\n",
    "print(\"t-statistic:\", t_stat)\n",
    "print(\"p-value:\", p_value)\n"
   ]
  },
  {
   "cell_type": "markdown",
   "id": "aa000cd6-ae0d-4ca2-abdf-969fead8bd4a",
   "metadata": {},
   "source": [
    "Q6: What is a null and alternative hypothesis? Give some examples.\n",
    "In hypothesis testing, a null hypothesis is a statement that assumes that there is no significant difference between two groups or variables. An alternative hypothesis, on the other hand, is a statement that assumes that there is a significant difference between the two groups or variables being compared. The null hypothesis is typically denoted by H0, while the alternative hypothesis is denoted by H1 or Ha.\n",
    "\n",
    "Example of a null hypothesis: The mean height of men and women is the same.\n",
    "\n",
    "Example of an alternative hypothesis: The mean height of men is greater than the mean height of women."
   ]
  },
  {
   "cell_type": "code",
   "execution_count": null,
   "id": "268bf1e7-f148-409b-8ceb-f326ec828284",
   "metadata": {},
   "outputs": [],
   "source": [
    "Q7: Write down the steps involved in hypothesis testing.\n",
    "\n",
    "The steps involved in hypothesis testing are as follows:\n",
    "\n",
    "State the null and alternative hypotheses.\n",
    "\n",
    "Set the level of significance (alpha) that will be used to test the hypotheses.\n",
    "\n",
    "Collect the data and calculate the test statistic.\n",
    "\n",
    "Determine the p-value.\n",
    "\n",
    "Make a decision about the null hypothesis based on the p-value and the level of significance.\n",
    "\n",
    "Interpret the results and draw conclusions."
   ]
  },
  {
   "cell_type": "markdown",
   "id": "6f7093bd-174e-4221-bed4-92351f65ce9f",
   "metadata": {},
   "source": [
    "Q8. Define p-value and explain its significance in hypothesis testing.\n",
    "The p-value is the probability of obtaining a test statistic as extreme or more extreme than the one observed, assuming that the null hypothesis is true. It is a measure of the strength of evidence against the null hypothesis. The smaller the p-value, the stronger the evidence against the null hypothesis.\n",
    "\n",
    "If the p-value is less than or equal to the level of significance (alpha), then the null hypothesis is rejected, and the alternative hypothesis is accepted. If the p-value is greater than the level of significance, then the null hypothesis is not rejected, and the alternative hypothesis is rejected."
   ]
  },
  {
   "cell_type": "code",
   "execution_count": null,
   "id": "1e57564b-16f1-4d7e-8aa5-6cad260191b8",
   "metadata": {},
   "outputs": [],
   "source": [
    "Q9. Generate a Student's t-distribution plot using Python's matplotlib library, with the degrees of freedom\n",
    "parameter set to 10."
   ]
  },
  {
   "cell_type": "code",
   "execution_count": null,
   "id": "8de913c9-58d5-4556-b4af-a43fa78233a5",
   "metadata": {},
   "outputs": [],
   "source": [
    "import numpy as np\n",
    "import matplotlib.pyplot as plt\n",
    "\n",
    "df = 10\n",
    "x = np.linspace(-4, 4, 1000)\n",
    "y = stats.t.pdf(x, df)\n",
    "\n",
    "plt.plot(x, y)\n",
    "plt.title(\"Student's t-Distribution (df=10)\")\n",
    "plt.xlabel('x')\n",
    "plt.ylabel('Probability density')\n",
    "plt.show()\n"
   ]
  },
  {
   "cell_type": "code",
   "execution_count": null,
   "id": "2549f783-bc83-4370-9d4d-4637c342b580",
   "metadata": {},
   "outputs": [],
   "source": [
    "Q10. Write a Python program to calculate the two-sample t-test for independent samples, given two\n",
    "random samples of equal size and a null hypothesis that the population means are equal."
   ]
  },
  {
   "cell_type": "code",
   "execution_count": null,
   "id": "ccba571a-9f9e-49a2-8737-cf8bd974828f",
   "metadata": {},
   "outputs": [],
   "source": [
    "import numpy as np\n",
    "from scipy.stats import ttest_ind\n",
    "\n",
    "# Create two random samples of equal size\n",
    "sample1 = np.random.normal(loc=5, scale=2, size=100)\n",
    "sample2 = np.random.normal(loc=4.5, scale=2, size=100)\n",
    "\n",
    "# Calculate the t-statistic and p-value using ttest_ind\n",
    "t_stat, p_value = ttest_ind(sample1, sample2)\n",
    "\n",
    "# Print the results\n",
    "print(\"t-statistic:\", t_stat)\n",
    "print(\"p-value:\", p_value)\n"
   ]
  },
  {
   "cell_type": "code",
   "execution_count": null,
   "id": "8f9f4641-9535-4258-b44c-f621834729bc",
   "metadata": {},
   "outputs": [],
   "source": [
    "Q11: What is Student’s t distribution? When to use the t-Distribution.\n"
   ]
  },
  {
   "cell_type": "markdown",
   "id": "d6ca6385-892b-46b3-a4c6-950553687b0f",
   "metadata": {},
   "source": [
    "Student's t-distribution is a probability distribution that is used to estimate population parameters when the sample size is small (typically less than 30) and/or when the population variance is unknown. It is a family of distributions that is similar to the standard normal distribution, but with more spread due to the additional uncertainty introduced by the small sample size. The t-distribution has a bell-shaped curve and is centered around 0, with the spread depending on the degrees of freedom.\n",
    "\n",
    "The t-distribution is used in hypothesis testing when the population variance is unknown, and the sample size is small. The t-distribution is also used in the calculation of confidence intervals for the population mean when the sample size is small."
   ]
  },
  {
   "cell_type": "code",
   "execution_count": null,
   "id": "d415a8a8-729e-4ab0-b9cd-41ff4cf2b3b4",
   "metadata": {},
   "outputs": [],
   "source": [
    "Q12: What is t-statistic? State the formula for t-statistic."
   ]
  },
  {
   "cell_type": "markdown",
   "id": "db086442-c83f-4a4f-960a-9578e568dc07",
   "metadata": {},
   "source": [
    "The t-statistic is a measure of the difference between the sample mean and the population mean, normalized by the standard error of the mean. It is used in hypothesis testing to determine whether a sample comes from a population with a known mean. The formula for the t-statistic is:\n",
    "\n",
    "t = (x̄1 - x̄2) / (s√(1/n1 + 1/n2))\n",
    "\n",
    "where x̄1 and x̄2 are the sample means, s is the pooled standard deviation, n1 and n2 are the sample sizes, and √ is the square root symbol. The t-statistic is compared to a t-distribution with n1 + n2 - 2 degrees of freedom to determine the p-value and make a decision about the null hypothesis."
   ]
  },
  {
   "cell_type": "code",
   "execution_count": null,
   "id": "c340593c-bc10-49f7-884a-d3b6074b1962",
   "metadata": {},
   "outputs": [],
   "source": [
    "Q13. A coffee shop owner wants to estimate the average daily revenue for their shop. They take a random\n",
    "sample of 50 days and find the sample mean revenue to be $500 with a standard deviation of $50.\n",
    "Estimate the population mean revenue with a 95% confidence interval."
   ]
  },
  {
   "cell_type": "markdown",
   "id": "1c992aa0-6bb7-4288-96d1-a8f51ceb0ae2",
   "metadata": {},
   "source": [
    "Confidence interval = sample mean ± z* (standard error of the mean)\n",
    "\n",
    "where z* is the critical value for the desired confidence level, and the standard error of the mean is calculated as the sample standard deviation divided by the square root of the sample size.\n",
    "\n",
    "For a 95% confidence level, the z* value is 1.96 (obtained from a standard normal distribution table). Thus, we have:\n",
    "\n",
    "Confidence interval = 500 ± 1.96 * (50 / √50) = (486.14, 513.86)\n",
    "\n",
    "Therefore, we can estimate with 95% confidence that the population mean revenue for the coffee shop is between $486.14 and $513.86."
   ]
  },
  {
   "cell_type": "code",
   "execution_count": null,
   "id": "5d69e3cb-0998-43af-8013-1b8818652f83",
   "metadata": {},
   "outputs": [],
   "source": [
    "Q14. A researcher hypothesizes that a new drug will decrease blood pressure by 10 mmHg. They conduct a\n",
    "clinical trial with 100 patients and find that the sample mean decrease in blood pressure is 8 mmHg with a\n",
    "standard deviation of 3 mmHg. Test the hypothesis with a significance level of 0.05."
   ]
  },
  {
   "cell_type": "markdown",
   "id": "a83cc682-4e6c-412a-9752-8b79aa3d2e29",
   "metadata": {},
   "source": [
    "To test the hypothesis that the new drug decreases blood pressure by 10 mmHg with a significance level of 0.05, we can use a one-sample t-test. The null hypothesis is that the mean decrease in blood pressure is equal to 10 mmHg, and the alternative hypothesis is that the mean decrease in blood pressure is less than 10 mmHg.\n",
    "\n",
    "The test statistic is calculated as:\n",
    "\n",
    "t = (sample mean - hypothesized mean) / (sample standard deviation / √sample size)\n",
    "t = (8 - 10) / (3 / √100) = -4\n",
    "\n",
    "The critical value for a one-tailed test with 99% confidence level and 99 degrees of freedom is -2.326 (obtained from a t-distribution table). Since the calculated t-statistic is less than the critical value, we reject the null hypothesis and conclude that the new drug does decrease blood pressure by less than 10 mmHg."
   ]
  },
  {
   "cell_type": "code",
   "execution_count": null,
   "id": "09c876a8-2ead-470d-b151-52a158d35b7f",
   "metadata": {},
   "outputs": [],
   "source": [
    "Q15. An electronics company produces a certain type of product with a mean weight of 5 pounds and a\n",
    "standard deviation of 0.5 pounds. A random sample of 25 products is taken, and the sample mean weight\n",
    "is found to be 4.8 pounds. Test the hypothesis that the true mean weight of the products is less than 5\n",
    "pounds with a significance level of 0.01."
   ]
  },
  {
   "cell_type": "markdown",
   "id": "e97fb81a-0d3c-4862-a703-d3d6b5617dcc",
   "metadata": {},
   "source": [
    "To test the hypothesis that the true mean weight of the products is less than 5 pounds with a significance level of 0.01, we can use a one-sample t-test. The null hypothesis is that the mean weight of the products is equal to 5 pounds, and the alternative hypothesis is that the mean weight of the products is less than 5 pounds.\n",
    "\n",
    "The test statistic is calculated as:\n",
    "\n",
    "t = (sample mean - hypothesized mean) / (sample standard deviation / √sample size)\n",
    "t = (4.8 - 5) / (0.5 / √25) = -2\n",
    "\n",
    "The critical value for a one-tailed test with 24 degrees of freedom and 99% confidence level is -2.492 (obtained from a t-distribution table). Since the calculated t-statistic is greater than the critical value, we fail to reject the null hypothesis and conclude that there is not enough evidence to suggest that the true mean weight of the products is less than 5 pounds."
   ]
  },
  {
   "cell_type": "code",
   "execution_count": null,
   "id": "9f687c66-cfe6-46b2-9f87-1652018f4590",
   "metadata": {},
   "outputs": [],
   "source": [
    "Q16. Two groups of students are given different study materials to prepare for a test. The first group (n1 =\n",
    "30) has a mean score of 80 with a standard deviation of 10, and the second group (n2 = 40) has a mean\n",
    "score of 75 with a standard deviation of 8. Test the hypothesis that the population means for the two\n",
    "groups are equal with a significance level of 0.01."
   ]
  },
  {
   "cell_type": "markdown",
   "id": "f51dd70f-2249-44f4-91a1-be271a1b88e0",
   "metadata": {},
   "source": [
    " To test the hypothesis that the population means for the two groups are equal with a significance level of 0.01, we can use a two-sample t-test. The null hypothesis is that the population means are equal, and the alternative hypothesis is that they are not equal.\n",
    "\n",
    "The test statistic is calculated as:\n",
    "\n",
    "t = (sample mean difference - hypothesized mean difference) / (pooled standard deviation * √(1/n1 + 1/n2))\n",
    "\n",
    "where sample mean difference is the difference between the sample means, hypothesized mean difference is the hypothesized difference between the population means (which is 0 in this case), and the pooled standard deviation is calculated as:\n",
    "\n",
    "pooled standard deviation = √(((n1 - 1) * s1^2 + (n2 - 1) * s2^2) / (n1 + n2 - 2))"
   ]
  },
  {
   "cell_type": "code",
   "execution_count": null,
   "id": "f324372b-b5d7-4db2-97d4-c2f6f11f001d",
   "metadata": {},
   "outputs": [],
   "source": [
    "\n",
    "Q17. A marketing company wants to estimate the average number of ads watched by viewers during a TV\n",
    "program. They take a random sample of 50 viewers and find that the sample mean is 4 with a standard\n",
    "deviation of 1.5. Estimate the population mean with a 99% confidence interval."
   ]
  },
  {
   "cell_type": "markdown",
   "id": "27030d14-ac5a-417d-a876-3cc7c8ea0e10",
   "metadata": {},
   "source": [
    "To estimate the population mean with a 99% confidence interval, we can use the following formula:\n",
    "\n",
    "Confidence Interval = sample mean ± (critical value) x (standard error)\n",
    "\n",
    "where:\n",
    "\n",
    "sample mean = 4\n",
    "standard deviation = 1.5\n",
    "sample size = 50\n",
    "degree of freedom = sample size - 1 = 49\n",
    "critical value for a 99% confidence interval and a two-tailed test = 2.678 (obtained from a t-distribution table)\n",
    "The standard error can be calculated as follows:\n",
    "\n",
    "standard error = standard deviation / sqrt(sample size) = 1.5 / sqrt(50) = 0.2121\n",
    "\n",
    "Therefore, the confidence interval can be calculated as:\n",
    "\n",
    "Confidence Interval = 4 ± 2.678 x 0.2121 = (3.435, 4.565)\n",
    "\n",
    "Therefore, we can say with 99% confidence that the true population mean number of ads watched by viewers during a TV program lies between 3.435 and 4.565."
   ]
  }
 ],
 "metadata": {
  "kernelspec": {
   "display_name": "Python 3 (ipykernel)",
   "language": "python",
   "name": "python3"
  },
  "language_info": {
   "codemirror_mode": {
    "name": "ipython",
    "version": 3
   },
   "file_extension": ".py",
   "mimetype": "text/x-python",
   "name": "python",
   "nbconvert_exporter": "python",
   "pygments_lexer": "ipython3",
   "version": "3.10.8"
  }
 },
 "nbformat": 4,
 "nbformat_minor": 5
}
