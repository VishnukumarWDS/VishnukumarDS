{
 "cells": [
  {
   "cell_type": "code",
   "execution_count": null,
   "id": "200654c8-f08a-46ce-8da5-6cfccc85def4",
   "metadata": {},
   "outputs": [],
   "source": [
    "Q1. Pearson correlation coefficient is a measure of the linear relationship between two variables. Suppose\n",
    "you have collected data on the amount of time students spend studying for an exam and their final exam\n",
    "scores. Calculate the Pearson correlation coefficient between these two variables and interpret the result.\n"
   ]
  },
  {
   "cell_type": "code",
   "execution_count": null,
   "id": "6946486c-c539-4343-97d5-62f4562641f1",
   "metadata": {},
   "outputs": [],
   "source": [
    "\n",
    "Q1. To calculate the Pearson correlation coefficient between the amount of time students spend studying for an exam and their final exam scores, you need to have pairs of data for each student. Let's assume you have the following data for a sample of 10 students:\n",
    "\n",
    "Student 1: Study Time (hours) = 5, Exam Score = 80\n",
    "Student 2: Study Time (hours) = 3, Exam Score = 70\n",
    "...\n",
    "Student 10: Study Time (hours) = 7, Exam Score = 90\n",
    "\n",
    "You can use the Pearson correlation coefficient formula, which calculates the covariance between the two variables divided by the product of their standard deviations. Here's the step-by-step calculation:\n",
    "\n",
    "Calculate the mean of both variables (study time and exam scores):\n",
    "\n",
    "Mean of Study Time = (5 + 3 + ... + 7) / 10\n",
    "Mean of Exam Scores = (80 + 70 + ... + 90) / 10\n",
    "Calculate the difference from the mean for each data point:\n",
    "\n",
    "Difference from Mean of Study Time = Study Time - Mean of Study Time\n",
    "Difference from Mean of Exam Scores = Exam Score - Mean of Exam Scores\n",
    "Calculate the product of the differences for each data point:\n",
    "\n",
    "Product of Differences = Difference from Mean of Study Time * Difference from Mean of Exam Scores\n",
    "Calculate the sum of the products of differences.\n",
    "\n",
    "Calculate the standard deviation for each variable:\n",
    "\n",
    "Standard Deviation of Study Time = sqrt(sum((Study Time - Mean of Study Time)^2) / (n - 1))\n",
    "Standard Deviation of Exam Scores = sqrt(sum((Exam Score - Mean of Exam Scores)^2) / (n - 1))\n",
    "Calculate the Pearson correlation coefficient:\n",
    "\n",
    "Pearson correlation coefficient = sum(Product of Differences) / ((n - 1) * Standard Deviation of Study Time * Standard Deviation of Exam Scores)\n",
    "Interpreting the result:\n",
    "The Pearson correlation coefficient ranges from -1 to 1. A positive value indicates a positive linear relationship, meaning that as the amount of time spent studying increases, the exam scores tend to increase as well. A negative value indicates a negative linear relationship, suggesting that more studying time is associated with lower exam scores. The magnitude of the coefficient represents the strength of the relationship, with values closer to -1 or 1 indicating a stronger correlation."
   ]
  },
  {
   "cell_type": "code",
   "execution_count": null,
   "id": "a4fce76f-dec6-4691-b0c9-659a836f5b90",
   "metadata": {},
   "outputs": [],
   "source": [
    "Q2. Spearman's rank correlation is a measure of the monotonic relationship between two variables.\n",
    "Suppose you have collected data on the amount of sleep individuals get each night and their overall job\n",
    "satisfaction level on a scale of 1 to 10. Calculate the Spearman's rank correlation between these two\n",
    "variables and interpret the result.\n"
   ]
  },
  {
   "cell_type": "code",
   "execution_count": null,
   "id": "9b14ca70-eaa9-464e-8dd6-ad5d7c05966d",
   "metadata": {},
   "outputs": [],
   "source": [
    "Q2. To calculate the Spearman's rank correlation between the amount of sleep individuals get each night and their overall job satisfaction level, you need to rank the data based on each variable. Let's assume you have the following data for a sample of 10 individuals:\n",
    "\n",
    "Individual 1: Sleep (hours) = 7, Job Satisfaction = 6\n",
    "Individual 2: Sleep (hours) = 8, Job Satisfaction = 8\n",
    "...\n",
    "Individual 10: Sleep (hours) = 6, Job Satisfaction = 4\n",
    "\n",
    "Here's how you can calculate the Spearman's rank correlation:\n",
    "\n",
    "Rank the data for each variable separately, from lowest to highest:\n",
    "\n",
    "Rank the Sleep (hours) variable.\n",
    "Rank the Job Satisfaction variable.\n",
    "Calculate the difference in ranks for each pair of data points:\n",
    "\n",
    "Difference in Ranks = Rank of Sleep (hours) - Rank of Job Satisfaction\n",
    "Calculate the squared difference in ranks for each pair of data points:\n",
    "\n",
    "Squared Difference in Ranks = (Difference in Ranks)^2\n",
    "Calculate the sum of the squared differences in ranks.\n",
    "\n",
    "Calculate the Spearman's rank correlation coefficient:\n",
    "\n",
    "Spearman's rank correlation coefficient = 1 - (6 * sum(Squared Difference in Ranks)) / (n * (n^2 - 1))\n",
    "Interpreting the result:\n",
    "The Spearman's rank correlation coefficient ranges from -1 to 1. A positive value indicates a monotonic increasing relationship, meaning that as the amount of sleep individuals get each night increases, their overall job satisfaction tends to increase as well (but not necessarily in a linear fashion). A negative value indicates a monotonic decreasing relationship. The magnitude of the coefficient represents the strength of the monotonic relationship, with values closer to -1 or 1 indicating a stronger correlation."
   ]
  },
  {
   "cell_type": "code",
   "execution_count": null,
   "id": "27809707-bbca-4346-a85f-bbf22cbed789",
   "metadata": {},
   "outputs": [],
   "source": [
    "Q3. Suppose you are conducting a study to examine the relationship between the number of hours of\n",
    "exercise per week and body mass index (BMI) in a sample of adults. You collected data on both variables\n",
    "for 50 participants. Calculate the Pearson correlation coefficient and the Spearman's rank correlation\n",
    "between these two variables and compare the results.\n"
   ]
  },
  {
   "cell_type": "code",
   "execution_count": null,
   "id": "624168c6-5399-48f7-a4af-55c40f451638",
   "metadata": {},
   "outputs": [],
   "source": [
    "Q3. To calculate both the Pearson correlation coefficient and the Spearman's rank correlation between the number of hours of exercise per week and body mass index (BMI) in a sample of 50 adults, you need to have pairs of data for each participant. Once you have the data, you can follow the same steps outlined in the previous answers to calculate both correlation coefficients. The Pearson correlation coefficient measures the linear relationship between the variables, while the Spearman's rank correlation measures the monotonic relationship."
   ]
  },
  {
   "cell_type": "code",
   "execution_count": null,
   "id": "3d2f9000-4243-4d30-871d-245afc2b5b22",
   "metadata": {},
   "outputs": [],
   "source": [
    "Q4. A researcher is interested in examining the relationship between the number of hours individuals\n",
    "spend watching television per day and their level of physical activity. The researcher collected data on\n",
    "both variables from a sample of 50 participants. Calculate the Pearson correlation coefficient between\n",
    "these two variables."
   ]
  },
  {
   "cell_type": "code",
   "execution_count": null,
   "id": "4ca7e1d8-a331-4e3a-98c5-cd661baf0e16",
   "metadata": {},
   "outputs": [],
   "source": [
    "Q4. Similarly, to calculate the Pearson correlation coefficient between the number of hours individuals spend watching television per day and their level of physical activity, you need pairs of data for each participant. Once you have the data, you can use the same formula as mentioned earlier to calculate the Pearson correlation coefficient. The coefficient will indicate the strength and direction of the linear relationship between the variables."
   ]
  },
  {
   "cell_type": "code",
   "execution_count": null,
   "id": "c82d45f7-d1ac-4ade-8ffa-c3c7b347221b",
   "metadata": {},
   "outputs": [],
   "source": [
    "Q5. A survey was conducted to examine the relationship between age and preference for a particular\n",
    "brand of soft drink. The survey results are shown below:"
   ]
  },
  {
   "cell_type": "code",
   "execution_count": null,
   "id": "b5cbb85f-09f4-4a7f-b30b-24e8e728010b",
   "metadata": {},
   "outputs": [],
   "source": [
    "Age(Years)       Soft drink Preference\n",
    "25                 Coke\n",
    "42                 Pepsi\n",
    "37                 Mountain dew\n",
    "19                 Coke\n",
    "31                 Pepsi\n",
    "28                 Coke\n",
    "\n"
   ]
  },
  {
   "cell_type": "code",
   "execution_count": null,
   "id": "675759ea-1912-46cf-a392-bb1603a6ffa6",
   "metadata": {},
   "outputs": [],
   "source": [
    "To examine the relationship between age and preference for a particular brand of soft drink, we can use a contingency table, which is a table that displays the frequencies or relative frequencies of two categorical variables. In this case, the two variables are age (in years) and soft drink preference.\n",
    "\n",
    "The contingency table for the given survey results is:\n",
    "\n",
    "Age(Years)\tCoke\tPepsi\tMountain Dew\n",
    "19\t1\t0\t0\n",
    "25\t1\t0\t0\n",
    "28\t1\t0\t0\n",
    "31\t0\t1\t0\n",
    "37\t0\t0\t1\n",
    "42\t0\t1\t0\n",
    "We can also compute the marginal frequencies, which are the totals for each row and column:\n",
    "\n",
    "Age(Years)\tCoke\tPepsi\tMountain Dew\tTotal\n",
    "19\t1\t0\t0\t1\n",
    "25\t1\t0\t0\t1\n",
    "28\t1\t0\t0\t1\n",
    "31\t0\t1\t0\t1\n",
    "37\t0\t0\t1\t1\n",
    "42\t0\t1\t0\t1\n",
    "Total\t3\t2\t1\t6\n",
    "From this contingency table, we can compute the conditional frequencies, which are the frequencies of one variable for each category of the other variable. For example, the conditional frequency of Coke preference for the age category 19 years is 1/1 = 1, because there is one person in the survey who is 19 years old and prefers Coke.\n",
    "\n",
    "We can also compute the conditional relative frequencies, which are the conditional frequencies divided by the total frequency of the corresponding category. For example, the conditional relative frequency of Pepsi preference for the age category 31 years is 1/1 = 1, because there is one person in the survey who is 31 years old and prefers Pepsi, and there is one person in the survey who is 31 years old in total.\n",
    "\n",
    "Overall, we can see from the contingency table that there is no clear relationship between age and soft drink preference in this survey. However, it is important to note that the sample size is very small (n=6), so we cannot draw any strong conclusions from this data.\n",
    "\n",
    "\n",
    "\n",
    "\n"
   ]
  },
  {
   "cell_type": "code",
   "execution_count": null,
   "id": "dea5ae3c-e85d-4703-b167-67d6af7f0fd3",
   "metadata": {},
   "outputs": [],
   "source": [
    "Q6. A company is interested in examining the relationship between the number of sales calls made per day\n",
    "and the number of sales made per week. The company collected data on both variables from a sample of\n",
    "30 sales representatives. Calculate the Pearson correlation coefficient between these two variables."
   ]
  },
  {
   "cell_type": "code",
   "execution_count": null,
   "id": "c42ccc22-036f-4fec-950b-003899b7db76",
   "metadata": {},
   "outputs": [],
   "source": [
    "To calculate the Pearson correlation coefficient between the number of sales calls made per day and the number of sales made per week, you would need the actual data for both variables from the sample of 30 sales representatives. Without the specific data points, it is not possible to calculate the correlation coefficient.\n",
    "\n",
    "The Pearson correlation coefficient, denoted as r, measures the strength and direction of the linear relationship between two variables. It ranges from -1 to +1, where -1 indicates a perfect negative linear relationship, +1 indicates a perfect positive linear relationship, and 0 indicates no linear relationship.\n",
    "\n",
    "To calculate the Pearson correlation coefficient, you would typically use a statistical software or spreadsheet program such as Excel. The calculation involves several steps, including calculating the means, variances, and covariance of the two variables.\n",
    "\n",
    "If you have the actual data for the number of sales calls made per day and the number of sales made per week, I can help you calculate the Pearson correlation coefficient. Please provide the data, and I will assist you further."
   ]
  }
 ],
 "metadata": {
  "kernelspec": {
   "display_name": "Python 3 (ipykernel)",
   "language": "python",
   "name": "python3"
  },
  "language_info": {
   "codemirror_mode": {
    "name": "ipython",
    "version": 3
   },
   "file_extension": ".py",
   "mimetype": "text/x-python",
   "name": "python",
   "nbconvert_exporter": "python",
   "pygments_lexer": "ipython3",
   "version": "3.10.8"
  }
 },
 "nbformat": 4,
 "nbformat_minor": 5
}
