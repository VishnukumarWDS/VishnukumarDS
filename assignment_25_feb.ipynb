{
 "cells": [
  {
   "cell_type": "code",
   "execution_count": 2,
   "id": "0289519a-7e88-4064-8b2c-9f25bd880bb9",
   "metadata": {},
   "outputs": [],
   "source": [
    "import pandas as pd\n",
    "course_name = ['Data Science', 'Machine Learning', 'Big Data', 'Data Engineer']\n",
    "duration = [2,3,6,4]\n",
    "df = pd.DataFrame(data = {'course_name' : course_name, 'duration' : duration})"
   ]
  },
  {
   "cell_type": "code",
   "execution_count": 3,
   "id": "f38fd35e-5dac-4b5f-b677-72f6e7502cea",
   "metadata": {},
   "outputs": [
    {
     "data": {
      "text/html": [
       "<div>\n",
       "<style scoped>\n",
       "    .dataframe tbody tr th:only-of-type {\n",
       "        vertical-align: middle;\n",
       "    }\n",
       "\n",
       "    .dataframe tbody tr th {\n",
       "        vertical-align: top;\n",
       "    }\n",
       "\n",
       "    .dataframe thead th {\n",
       "        text-align: right;\n",
       "    }\n",
       "</style>\n",
       "<table border=\"1\" class=\"dataframe\">\n",
       "  <thead>\n",
       "    <tr style=\"text-align: right;\">\n",
       "      <th></th>\n",
       "      <th>course_name</th>\n",
       "      <th>duration</th>\n",
       "    </tr>\n",
       "  </thead>\n",
       "  <tbody>\n",
       "    <tr>\n",
       "      <th>0</th>\n",
       "      <td>Data Science</td>\n",
       "      <td>2</td>\n",
       "    </tr>\n",
       "    <tr>\n",
       "      <th>1</th>\n",
       "      <td>Machine Learning</td>\n",
       "      <td>3</td>\n",
       "    </tr>\n",
       "    <tr>\n",
       "      <th>2</th>\n",
       "      <td>Big Data</td>\n",
       "      <td>6</td>\n",
       "    </tr>\n",
       "    <tr>\n",
       "      <th>3</th>\n",
       "      <td>Data Engineer</td>\n",
       "      <td>4</td>\n",
       "    </tr>\n",
       "  </tbody>\n",
       "</table>\n",
       "</div>"
      ],
      "text/plain": [
       "        course_name  duration\n",
       "0      Data Science         2\n",
       "1  Machine Learning         3\n",
       "2          Big Data         6\n",
       "3     Data Engineer         4"
      ]
     },
     "execution_count": 3,
     "metadata": {},
     "output_type": "execute_result"
    }
   ],
   "source": [
    "df"
   ]
  },
  {
   "cell_type": "code",
   "execution_count": null,
   "id": "6412a391-b49f-4aaf-88ec-1345f0d9bea0",
   "metadata": {},
   "outputs": [],
   "source": [
    "Q1. Write a code to print the data present in the second row of the dataframe, df."
   ]
  },
  {
   "cell_type": "code",
   "execution_count": 6,
   "id": "ce4f41fb-8d9b-4263-9ae9-9422ef8bdd43",
   "metadata": {},
   "outputs": [
    {
     "data": {
      "text/plain": [
       "course_name    Machine Learning\n",
       "duration                      3\n",
       "Name: 1, dtype: object"
      ]
     },
     "execution_count": 6,
     "metadata": {},
     "output_type": "execute_result"
    }
   ],
   "source": [
    "df.iloc[1]"
   ]
  },
  {
   "cell_type": "code",
   "execution_count": null,
   "id": "f552a083-4b1e-430c-ace8-49949a42e435",
   "metadata": {},
   "outputs": [],
   "source": [
    "Q2. What is the difference between the functions loc and iloc in pandas.DataFrame?"
   ]
  },
  {
   "cell_type": "markdown",
   "id": "c8857537-4f7d-40bc-88c3-8ac3e084507b",
   "metadata": {},
   "source": [
    "loc and iloc are two important functions in Pandas DataFrame used to access rows and columns of a DataFrame.\n",
    "\n",
    "loc is used to select rows and columns by label. It takes the row and column labels as arguments, separated by a comma. \n",
    "\n",
    "iloc is used to select rows and columns by integer position. It takes the row and column positions as arguments, separated by a comma."
   ]
  },
  {
   "cell_type": "code",
   "execution_count": null,
   "id": "24e87bc3-e7e6-4e45-8761-8b46d013c94d",
   "metadata": {},
   "outputs": [],
   "source": [
    "Q3. Reindex the given dataframe using a variable, reindex = [3,0,1,2] and store it in the variable, new_df\n",
    "then find the output for both new_df.loc[2] and new_df.iloc[2].\n",
    "Did you observe any difference in both the outputs? If so then explain it."
   ]
  },
  {
   "cell_type": "code",
   "execution_count": 11,
   "id": "fe1d32c2-ed32-422e-a99e-e1b304c3720a",
   "metadata": {},
   "outputs": [
    {
     "data": {
      "text/html": [
       "<div>\n",
       "<style scoped>\n",
       "    .dataframe tbody tr th:only-of-type {\n",
       "        vertical-align: middle;\n",
       "    }\n",
       "\n",
       "    .dataframe tbody tr th {\n",
       "        vertical-align: top;\n",
       "    }\n",
       "\n",
       "    .dataframe thead th {\n",
       "        text-align: right;\n",
       "    }\n",
       "</style>\n",
       "<table border=\"1\" class=\"dataframe\">\n",
       "  <thead>\n",
       "    <tr style=\"text-align: right;\">\n",
       "      <th></th>\n",
       "      <th>course_name</th>\n",
       "      <th>duration</th>\n",
       "    </tr>\n",
       "  </thead>\n",
       "  <tbody>\n",
       "    <tr>\n",
       "      <th>0</th>\n",
       "      <td>Data Science</td>\n",
       "      <td>2</td>\n",
       "    </tr>\n",
       "    <tr>\n",
       "      <th>1</th>\n",
       "      <td>Machine Learning</td>\n",
       "      <td>3</td>\n",
       "    </tr>\n",
       "    <tr>\n",
       "      <th>2</th>\n",
       "      <td>Big Data</td>\n",
       "      <td>6</td>\n",
       "    </tr>\n",
       "    <tr>\n",
       "      <th>3</th>\n",
       "      <td>Data Engineer</td>\n",
       "      <td>4</td>\n",
       "    </tr>\n",
       "  </tbody>\n",
       "</table>\n",
       "</div>"
      ],
      "text/plain": [
       "        course_name  duration\n",
       "0      Data Science         2\n",
       "1  Machine Learning         3\n",
       "2          Big Data         6\n",
       "3     Data Engineer         4"
      ]
     },
     "execution_count": 11,
     "metadata": {},
     "output_type": "execute_result"
    }
   ],
   "source": [
    "df"
   ]
  },
  {
   "cell_type": "code",
   "execution_count": 4,
   "id": "0b2061e6-95b9-4ee9-b78c-b0b899f3d944",
   "metadata": {},
   "outputs": [],
   "source": [
    "reindex=[3,0,1,2] \n",
    "new_df = pd.DataFrame(df, index=reindex) "
   ]
  },
  {
   "cell_type": "code",
   "execution_count": 5,
   "id": "ae4663ba-61ed-43cc-ac87-8d623e09bf40",
   "metadata": {},
   "outputs": [
    {
     "data": {
      "text/html": [
       "<div>\n",
       "<style scoped>\n",
       "    .dataframe tbody tr th:only-of-type {\n",
       "        vertical-align: middle;\n",
       "    }\n",
       "\n",
       "    .dataframe tbody tr th {\n",
       "        vertical-align: top;\n",
       "    }\n",
       "\n",
       "    .dataframe thead th {\n",
       "        text-align: right;\n",
       "    }\n",
       "</style>\n",
       "<table border=\"1\" class=\"dataframe\">\n",
       "  <thead>\n",
       "    <tr style=\"text-align: right;\">\n",
       "      <th></th>\n",
       "      <th>course_name</th>\n",
       "      <th>duration</th>\n",
       "    </tr>\n",
       "  </thead>\n",
       "  <tbody>\n",
       "    <tr>\n",
       "      <th>3</th>\n",
       "      <td>Data Engineer</td>\n",
       "      <td>4</td>\n",
       "    </tr>\n",
       "    <tr>\n",
       "      <th>0</th>\n",
       "      <td>Data Science</td>\n",
       "      <td>2</td>\n",
       "    </tr>\n",
       "    <tr>\n",
       "      <th>1</th>\n",
       "      <td>Machine Learning</td>\n",
       "      <td>3</td>\n",
       "    </tr>\n",
       "    <tr>\n",
       "      <th>2</th>\n",
       "      <td>Big Data</td>\n",
       "      <td>6</td>\n",
       "    </tr>\n",
       "  </tbody>\n",
       "</table>\n",
       "</div>"
      ],
      "text/plain": [
       "        course_name  duration\n",
       "3     Data Engineer         4\n",
       "0      Data Science         2\n",
       "1  Machine Learning         3\n",
       "2          Big Data         6"
      ]
     },
     "execution_count": 5,
     "metadata": {},
     "output_type": "execute_result"
    }
   ],
   "source": [
    "new_df"
   ]
  },
  {
   "cell_type": "code",
   "execution_count": 26,
   "id": "30312b22-44b3-429a-951a-46a5a2c05a80",
   "metadata": {},
   "outputs": [
    {
     "data": {
      "text/plain": [
       "course_name    Big Data\n",
       "duration              6\n",
       "Name: 2, dtype: object"
      ]
     },
     "execution_count": 26,
     "metadata": {},
     "output_type": "execute_result"
    }
   ],
   "source": [
    "new_df.loc[2]"
   ]
  },
  {
   "cell_type": "code",
   "execution_count": 27,
   "id": "beb194fd-2d7b-44eb-bd75-108fd011b9db",
   "metadata": {},
   "outputs": [
    {
     "data": {
      "text/plain": [
       "course_name    Machine Learning\n",
       "duration                      3\n",
       "Name: 1, dtype: object"
      ]
     },
     "execution_count": 27,
     "metadata": {},
     "output_type": "execute_result"
    }
   ],
   "source": [
    "new_df.iloc[2]"
   ]
  },
  {
   "cell_type": "code",
   "execution_count": null,
   "id": "6938cd8a-6912-4130-9d81-796a8c43786c",
   "metadata": {},
   "outputs": [],
   "source": [
    "Yes, it has a lot difference between  Indexlocation and location"
   ]
  },
  {
   "cell_type": "code",
   "execution_count": 6,
   "id": "29b38848-ce7a-419b-931e-724487751641",
   "metadata": {},
   "outputs": [
    {
     "data": {
      "text/html": [
       "<div>\n",
       "<style scoped>\n",
       "    .dataframe tbody tr th:only-of-type {\n",
       "        vertical-align: middle;\n",
       "    }\n",
       "\n",
       "    .dataframe tbody tr th {\n",
       "        vertical-align: top;\n",
       "    }\n",
       "\n",
       "    .dataframe thead th {\n",
       "        text-align: right;\n",
       "    }\n",
       "</style>\n",
       "<table border=\"1\" class=\"dataframe\">\n",
       "  <thead>\n",
       "    <tr style=\"text-align: right;\">\n",
       "      <th></th>\n",
       "      <th>course_name</th>\n",
       "      <th>duration</th>\n",
       "    </tr>\n",
       "  </thead>\n",
       "  <tbody>\n",
       "    <tr>\n",
       "      <th>3</th>\n",
       "      <td>Data Engineer</td>\n",
       "      <td>4</td>\n",
       "    </tr>\n",
       "    <tr>\n",
       "      <th>0</th>\n",
       "      <td>Data Science</td>\n",
       "      <td>2</td>\n",
       "    </tr>\n",
       "    <tr>\n",
       "      <th>1</th>\n",
       "      <td>Machine Learning</td>\n",
       "      <td>3</td>\n",
       "    </tr>\n",
       "    <tr>\n",
       "      <th>2</th>\n",
       "      <td>Big Data</td>\n",
       "      <td>6</td>\n",
       "    </tr>\n",
       "  </tbody>\n",
       "</table>\n",
       "</div>"
      ],
      "text/plain": [
       "        course_name  duration\n",
       "3     Data Engineer         4\n",
       "0      Data Science         2\n",
       "1  Machine Learning         3\n",
       "2          Big Data         6"
      ]
     },
     "execution_count": 6,
     "metadata": {},
     "output_type": "execute_result"
    }
   ],
   "source": [
    "new_df"
   ]
  },
  {
   "cell_type": "code",
   "execution_count": null,
   "id": "eafda13f-d0f2-420b-a604-4cade9177b99",
   "metadata": {},
   "outputs": [],
   "source": [
    "Index_location\n",
    "\n",
    "As we see the above data the data had just renamed the index but actully always index 0 and ends at n\n",
    "it above data is just rename the index as 3,0,1,2\n",
    "\n",
    "As real if we fetch the iloc[2]\n",
    "Actuall  rechanged\n",
    "Index    Index \n",
    "0         3         Data Engineer\t    4     \n",
    "1         0      \tData Science\t    2\n",
    "2         1\t        Machine Learning\t3\n",
    "3         2\t        Big Data\t        6\n"
   ]
  },
  {
   "cell_type": "code",
   "execution_count": null,
   "id": "71f632d8-7d92-4ef1-9ba1-3c51cd843296",
   "metadata": {},
   "outputs": [],
   "source": [
    "Location\n",
    "\n",
    "As we saw above it start with 0 and ends at n in index_location.But, as in \n",
    "location the index start with 1 and ends at n.\n",
    "\n",
    "Actuall  Rechanged\n",
    "location   Index \n",
    "1         3         Data Engineer\t    4     \n",
    "2         0      \tData Science\t    2\n",
    "3         1\t        Machine Learning\t3\n",
    "4         2\t        Big Data\t        6"
   ]
  },
  {
   "cell_type": "code",
   "execution_count": null,
   "id": "dbc90864-bc4d-4178-87b9-d2ea5c7a6016",
   "metadata": {},
   "outputs": [],
   "source": [
    "Q4. Write a code to find the following statistical measurements for the above dataframe df1:\n",
    "(i) mean of each and every column present in the dataframe.\n",
    "(ii) standard deviation of column, ‘column_2’"
   ]
  },
  {
   "cell_type": "code",
   "execution_count": 7,
   "id": "6d0b20f9-7d8b-40f7-9ee0-a3e8324a793f",
   "metadata": {},
   "outputs": [],
   "source": [
    "import pandas as pd\n",
    "import numpy as np\n",
    "columns = ['column_1', 'column_2', 'column_3', 'column_4', 'column_5', 'column_6']\n",
    "indices = [1,2,3,4,5,6]\n",
    "\n",
    "df1 = pd.DataFrame(np.random.rand(6,6), columns = columns, index = indices)"
   ]
  },
  {
   "cell_type": "code",
   "execution_count": 9,
   "id": "b261f258-84bc-4176-b968-e693ae5c13f3",
   "metadata": {},
   "outputs": [
    {
     "data": {
      "text/html": [
       "<div>\n",
       "<style scoped>\n",
       "    .dataframe tbody tr th:only-of-type {\n",
       "        vertical-align: middle;\n",
       "    }\n",
       "\n",
       "    .dataframe tbody tr th {\n",
       "        vertical-align: top;\n",
       "    }\n",
       "\n",
       "    .dataframe thead th {\n",
       "        text-align: right;\n",
       "    }\n",
       "</style>\n",
       "<table border=\"1\" class=\"dataframe\">\n",
       "  <thead>\n",
       "    <tr style=\"text-align: right;\">\n",
       "      <th></th>\n",
       "      <th>column_1</th>\n",
       "      <th>column_2</th>\n",
       "      <th>column_3</th>\n",
       "      <th>column_4</th>\n",
       "      <th>column_5</th>\n",
       "      <th>column_6</th>\n",
       "    </tr>\n",
       "  </thead>\n",
       "  <tbody>\n",
       "    <tr>\n",
       "      <th>1</th>\n",
       "      <td>0.774953</td>\n",
       "      <td>0.066597</td>\n",
       "      <td>0.210176</td>\n",
       "      <td>0.117940</td>\n",
       "      <td>0.187737</td>\n",
       "      <td>0.512489</td>\n",
       "    </tr>\n",
       "    <tr>\n",
       "      <th>2</th>\n",
       "      <td>0.973501</td>\n",
       "      <td>0.065914</td>\n",
       "      <td>0.344291</td>\n",
       "      <td>0.047390</td>\n",
       "      <td>0.875264</td>\n",
       "      <td>0.054116</td>\n",
       "    </tr>\n",
       "    <tr>\n",
       "      <th>3</th>\n",
       "      <td>0.201115</td>\n",
       "      <td>0.514620</td>\n",
       "      <td>0.846943</td>\n",
       "      <td>0.793587</td>\n",
       "      <td>0.720522</td>\n",
       "      <td>0.721330</td>\n",
       "    </tr>\n",
       "    <tr>\n",
       "      <th>4</th>\n",
       "      <td>0.328885</td>\n",
       "      <td>0.591442</td>\n",
       "      <td>0.621215</td>\n",
       "      <td>0.911993</td>\n",
       "      <td>0.979621</td>\n",
       "      <td>0.399976</td>\n",
       "    </tr>\n",
       "    <tr>\n",
       "      <th>5</th>\n",
       "      <td>0.691518</td>\n",
       "      <td>0.411053</td>\n",
       "      <td>0.943492</td>\n",
       "      <td>0.124385</td>\n",
       "      <td>0.942551</td>\n",
       "      <td>0.265320</td>\n",
       "    </tr>\n",
       "    <tr>\n",
       "      <th>6</th>\n",
       "      <td>0.115679</td>\n",
       "      <td>0.496922</td>\n",
       "      <td>0.136793</td>\n",
       "      <td>0.465464</td>\n",
       "      <td>0.543778</td>\n",
       "      <td>0.583823</td>\n",
       "    </tr>\n",
       "  </tbody>\n",
       "</table>\n",
       "</div>"
      ],
      "text/plain": [
       "   column_1  column_2  column_3  column_4  column_5  column_6\n",
       "1  0.774953  0.066597  0.210176  0.117940  0.187737  0.512489\n",
       "2  0.973501  0.065914  0.344291  0.047390  0.875264  0.054116\n",
       "3  0.201115  0.514620  0.846943  0.793587  0.720522  0.721330\n",
       "4  0.328885  0.591442  0.621215  0.911993  0.979621  0.399976\n",
       "5  0.691518  0.411053  0.943492  0.124385  0.942551  0.265320\n",
       "6  0.115679  0.496922  0.136793  0.465464  0.543778  0.583823"
      ]
     },
     "execution_count": 9,
     "metadata": {},
     "output_type": "execute_result"
    }
   ],
   "source": [
    "df1"
   ]
  },
  {
   "cell_type": "code",
   "execution_count": 10,
   "id": "05886401-6c06-4cf2-a3c9-42e58a6d3b32",
   "metadata": {},
   "outputs": [
    {
     "data": {
      "text/html": [
       "<div>\n",
       "<style scoped>\n",
       "    .dataframe tbody tr th:only-of-type {\n",
       "        vertical-align: middle;\n",
       "    }\n",
       "\n",
       "    .dataframe tbody tr th {\n",
       "        vertical-align: top;\n",
       "    }\n",
       "\n",
       "    .dataframe thead th {\n",
       "        text-align: right;\n",
       "    }\n",
       "</style>\n",
       "<table border=\"1\" class=\"dataframe\">\n",
       "  <thead>\n",
       "    <tr style=\"text-align: right;\">\n",
       "      <th></th>\n",
       "      <th>column_1</th>\n",
       "      <th>column_2</th>\n",
       "      <th>column_3</th>\n",
       "      <th>column_4</th>\n",
       "      <th>column_5</th>\n",
       "      <th>column_6</th>\n",
       "    </tr>\n",
       "  </thead>\n",
       "  <tbody>\n",
       "    <tr>\n",
       "      <th>1</th>\n",
       "      <td>0.774953</td>\n",
       "      <td>0.066597</td>\n",
       "      <td>0.210176</td>\n",
       "      <td>0.117940</td>\n",
       "      <td>0.187737</td>\n",
       "      <td>0.512489</td>\n",
       "    </tr>\n",
       "    <tr>\n",
       "      <th>2</th>\n",
       "      <td>0.973501</td>\n",
       "      <td>0.065914</td>\n",
       "      <td>0.344291</td>\n",
       "      <td>0.047390</td>\n",
       "      <td>0.875264</td>\n",
       "      <td>0.054116</td>\n",
       "    </tr>\n",
       "    <tr>\n",
       "      <th>3</th>\n",
       "      <td>0.201115</td>\n",
       "      <td>0.514620</td>\n",
       "      <td>0.846943</td>\n",
       "      <td>0.793587</td>\n",
       "      <td>0.720522</td>\n",
       "      <td>0.721330</td>\n",
       "    </tr>\n",
       "    <tr>\n",
       "      <th>4</th>\n",
       "      <td>0.328885</td>\n",
       "      <td>0.591442</td>\n",
       "      <td>0.621215</td>\n",
       "      <td>0.911993</td>\n",
       "      <td>0.979621</td>\n",
       "      <td>0.399976</td>\n",
       "    </tr>\n",
       "    <tr>\n",
       "      <th>5</th>\n",
       "      <td>0.691518</td>\n",
       "      <td>0.411053</td>\n",
       "      <td>0.943492</td>\n",
       "      <td>0.124385</td>\n",
       "      <td>0.942551</td>\n",
       "      <td>0.265320</td>\n",
       "    </tr>\n",
       "  </tbody>\n",
       "</table>\n",
       "</div>"
      ],
      "text/plain": [
       "   column_1  column_2  column_3  column_4  column_5  column_6\n",
       "1  0.774953  0.066597  0.210176  0.117940  0.187737  0.512489\n",
       "2  0.973501  0.065914  0.344291  0.047390  0.875264  0.054116\n",
       "3  0.201115  0.514620  0.846943  0.793587  0.720522  0.721330\n",
       "4  0.328885  0.591442  0.621215  0.911993  0.979621  0.399976\n",
       "5  0.691518  0.411053  0.943492  0.124385  0.942551  0.265320"
      ]
     },
     "execution_count": 10,
     "metadata": {},
     "output_type": "execute_result"
    }
   ],
   "source": [
    "df1.head()"
   ]
  },
  {
   "cell_type": "code",
   "execution_count": 28,
   "id": "d6124d45-e998-4527-8a68-908d7272f72d",
   "metadata": {},
   "outputs": [],
   "source": [
    "data_ =df1.columns"
   ]
  },
  {
   "cell_type": "code",
   "execution_count": 29,
   "id": "8c97198e-02f6-4770-8c38-da33febc972f",
   "metadata": {},
   "outputs": [
    {
     "data": {
      "text/plain": [
       "Index(['column_1', 'column_2', 'column_3', 'column_4', 'column_5', 'column_6'], dtype='object')"
      ]
     },
     "execution_count": 29,
     "metadata": {},
     "output_type": "execute_result"
    }
   ],
   "source": [
    "data_"
   ]
  },
  {
   "cell_type": "code",
   "execution_count": 38,
   "id": "07b686e8-69dd-41e2-b589-daf5e735583e",
   "metadata": {},
   "outputs": [],
   "source": [
    "column_1_data = df1['column_1']"
   ]
  },
  {
   "cell_type": "code",
   "execution_count": 39,
   "id": "17473bb5-2fe1-4742-a554-dce89772d1f1",
   "metadata": {},
   "outputs": [],
   "source": [
    "column_2_data = df1['column_2']"
   ]
  },
  {
   "cell_type": "code",
   "execution_count": 40,
   "id": "a38565bb-bf7f-4e86-850c-4e741972686a",
   "metadata": {},
   "outputs": [],
   "source": [
    "column_3_data =  df1['column_3']"
   ]
  },
  {
   "cell_type": "code",
   "execution_count": 41,
   "id": "d77a2493-8d14-4316-8d56-9a9d1ed118af",
   "metadata": {},
   "outputs": [],
   "source": [
    "column_4_data =  df1['column_4']"
   ]
  },
  {
   "cell_type": "code",
   "execution_count": 42,
   "id": "3cc7e69b-4cf6-48e1-8a6e-39ae78e55c05",
   "metadata": {},
   "outputs": [],
   "source": [
    "column_5_data =  df1['column_5']"
   ]
  },
  {
   "cell_type": "code",
   "execution_count": 43,
   "id": "e60708c0-c5b6-4f1a-997c-ebeffc6f1994",
   "metadata": {},
   "outputs": [],
   "source": [
    "column_6_data =  df1['column_6']"
   ]
  },
  {
   "cell_type": "code",
   "execution_count": 44,
   "id": "94e4673e-5bfc-4235-9f36-7eb7e780ef27",
   "metadata": {},
   "outputs": [],
   "source": [
    "def mean_of_each(data2):\n",
    "        print(\"The mean of the data: \",data2.mean())\n",
    "        \n",
    "   \n",
    "        \n",
    "        "
   ]
  },
  {
   "cell_type": "code",
   "execution_count": 46,
   "id": "84b23bf5-0514-4297-a51d-e4b492818027",
   "metadata": {},
   "outputs": [
    {
     "name": "stdout",
     "output_type": "stream",
     "text": [
      "The mean of the data:  0.5142749855749982\n"
     ]
    }
   ],
   "source": [
    "mean_of_each(column_1_data)"
   ]
  },
  {
   "cell_type": "code",
   "execution_count": 52,
   "id": "6bf51c48-cb73-478c-ae8a-96b6c16ad34a",
   "metadata": {},
   "outputs": [
    {
     "name": "stdout",
     "output_type": "stream",
     "text": [
      "The mean of the data:  0.3577579030896619\n"
     ]
    }
   ],
   "source": [
    "mean_of_each(column_2_data)"
   ]
  },
  {
   "cell_type": "code",
   "execution_count": 48,
   "id": "b2eaff44-088e-4009-b75a-6cbe332ff09f",
   "metadata": {},
   "outputs": [
    {
     "name": "stdout",
     "output_type": "stream",
     "text": [
      "The mean of the data:  0.5171517506512063\n"
     ]
    }
   ],
   "source": [
    "mean_of_each(column_3_data)"
   ]
  },
  {
   "cell_type": "code",
   "execution_count": 49,
   "id": "516e7373-6600-406f-9dda-f84b16189794",
   "metadata": {},
   "outputs": [
    {
     "name": "stdout",
     "output_type": "stream",
     "text": [
      "The mean of the data:  0.4101265867617707\n"
     ]
    }
   ],
   "source": [
    "mean_of_each(column_4_data)"
   ]
  },
  {
   "cell_type": "code",
   "execution_count": 50,
   "id": "7456a3bb-2749-44b2-ae72-f174c9ed3031",
   "metadata": {},
   "outputs": [
    {
     "name": "stdout",
     "output_type": "stream",
     "text": [
      "The mean of the data:  0.7082454972453488\n"
     ]
    }
   ],
   "source": [
    "mean_of_each(column_5_data)"
   ]
  },
  {
   "cell_type": "code",
   "execution_count": 51,
   "id": "badc8cd5-d962-4ce4-8420-eb25ada997dc",
   "metadata": {},
   "outputs": [
    {
     "name": "stdout",
     "output_type": "stream",
     "text": [
      "The mean of the data:  0.42284223192069764\n"
     ]
    }
   ],
   "source": [
    "mean_of_each(column_6_data)"
   ]
  },
  {
   "cell_type": "code",
   "execution_count": null,
   "id": "478fb9e6-f9ad-4d22-9b6a-0dd359109590",
   "metadata": {},
   "outputs": [],
   "source": [
    "(ii) standard deviation of column, ‘column_2’"
   ]
  },
  {
   "cell_type": "code",
   "execution_count": 55,
   "id": "d40e8083-48a4-488a-af35-f2ca6a9d7db5",
   "metadata": {},
   "outputs": [],
   "source": [
    "std_data_of_column_2 = df1['column_2'].std()"
   ]
  },
  {
   "cell_type": "code",
   "execution_count": 56,
   "id": "c2687a89-7718-4e34-b93d-9f45580ae24c",
   "metadata": {},
   "outputs": [
    {
     "data": {
      "text/plain": [
       "0.23296730576554867"
      ]
     },
     "execution_count": 56,
     "metadata": {},
     "output_type": "execute_result"
    }
   ],
   "source": [
    "std_data_of_column_2"
   ]
  },
  {
   "cell_type": "code",
   "execution_count": null,
   "id": "dbd2eaf9-4426-4c33-ab58-d75b05a42a78",
   "metadata": {},
   "outputs": [],
   "source": [
    "Q5. Replace the data present in the second row of column, ‘column_2’ by a string variable then find the\n",
    "mean of column, column_2.\n",
    "If you are getting errors in executing it then explain why.\n",
    "[Hint: To replace the data use df1.loc[] and equate this to string data of your choice.]"
   ]
  },
  {
   "cell_type": "code",
   "execution_count": 68,
   "id": "d3b9b5b8-8c30-47d2-94dd-ba720f6e5f72",
   "metadata": {},
   "outputs": [
    {
     "data": {
      "text/html": [
       "<div>\n",
       "<style scoped>\n",
       "    .dataframe tbody tr th:only-of-type {\n",
       "        vertical-align: middle;\n",
       "    }\n",
       "\n",
       "    .dataframe tbody tr th {\n",
       "        vertical-align: top;\n",
       "    }\n",
       "\n",
       "    .dataframe thead th {\n",
       "        text-align: right;\n",
       "    }\n",
       "</style>\n",
       "<table border=\"1\" class=\"dataframe\">\n",
       "  <thead>\n",
       "    <tr style=\"text-align: right;\">\n",
       "      <th></th>\n",
       "      <th>column_1</th>\n",
       "      <th>column_2</th>\n",
       "      <th>column_3</th>\n",
       "      <th>column_4</th>\n",
       "      <th>column_5</th>\n",
       "      <th>column_6</th>\n",
       "    </tr>\n",
       "  </thead>\n",
       "  <tbody>\n",
       "    <tr>\n",
       "      <th>1</th>\n",
       "      <td>0.406285</td>\n",
       "      <td>0.406285</td>\n",
       "      <td>0.406285</td>\n",
       "      <td>0.406285</td>\n",
       "      <td>0.406285</td>\n",
       "      <td>0.406285</td>\n",
       "    </tr>\n",
       "    <tr>\n",
       "      <th>2</th>\n",
       "      <td>0.414373</td>\n",
       "      <td>0.414373</td>\n",
       "      <td>0.414373</td>\n",
       "      <td>0.414373</td>\n",
       "      <td>0.414373</td>\n",
       "      <td>0.414373</td>\n",
       "    </tr>\n",
       "    <tr>\n",
       "      <th>3</th>\n",
       "      <td>0.472449</td>\n",
       "      <td>0.472449</td>\n",
       "      <td>0.472449</td>\n",
       "      <td>0.472449</td>\n",
       "      <td>0.472449</td>\n",
       "      <td>0.472449</td>\n",
       "    </tr>\n",
       "    <tr>\n",
       "      <th>4</th>\n",
       "      <td>0.465420</td>\n",
       "      <td>0.465420</td>\n",
       "      <td>0.465420</td>\n",
       "      <td>0.465420</td>\n",
       "      <td>0.465420</td>\n",
       "      <td>0.465420</td>\n",
       "    </tr>\n",
       "    <tr>\n",
       "      <th>5</th>\n",
       "      <td>0.444417</td>\n",
       "      <td>0.444417</td>\n",
       "      <td>0.444417</td>\n",
       "      <td>0.444417</td>\n",
       "      <td>0.444417</td>\n",
       "      <td>0.444417</td>\n",
       "    </tr>\n",
       "    <tr>\n",
       "      <th>6</th>\n",
       "      <td>0.115679</td>\n",
       "      <td>0.496922</td>\n",
       "      <td>0.136793</td>\n",
       "      <td>0.465464</td>\n",
       "      <td>0.543778</td>\n",
       "      <td>0.583823</td>\n",
       "    </tr>\n",
       "  </tbody>\n",
       "</table>\n",
       "</div>"
      ],
      "text/plain": [
       "   column_1  column_2  column_3  column_4  column_5  column_6\n",
       "1  0.406285  0.406285  0.406285  0.406285  0.406285  0.406285\n",
       "2  0.414373  0.414373  0.414373  0.414373  0.414373  0.414373\n",
       "3  0.472449  0.472449  0.472449  0.472449  0.472449  0.472449\n",
       "4  0.465420  0.465420  0.465420  0.465420  0.465420  0.465420\n",
       "5  0.444417  0.444417  0.444417  0.444417  0.444417  0.444417\n",
       "6  0.115679  0.496922  0.136793  0.465464  0.543778  0.583823"
      ]
     },
     "execution_count": 68,
     "metadata": {},
     "output_type": "execute_result"
    }
   ],
   "source": [
    "df1"
   ]
  },
  {
   "cell_type": "code",
   "execution_count": 69,
   "id": "abf104db-7f47-4d4f-867c-2cb8e43ec71b",
   "metadata": {},
   "outputs": [],
   "source": [
    "df1['column_2'] = df1.loc[2]=\"string variable\""
   ]
  },
  {
   "cell_type": "code",
   "execution_count": null,
   "id": "ed753fb1-f3e7-4e16-97e1-da65b4859612",
   "metadata": {},
   "outputs": [],
   "source": [
    "mean_data = df1['column_2'].mean()"
   ]
  },
  {
   "cell_type": "markdown",
   "id": "7449747b-8365-4fdc-8aaa-09daaff8604f",
   "metadata": {},
   "source": [
    "if i  try to replace the data present in the second row of column 'column_2' with a string variable using the code df1.iloc[1,1] = 'string_variable', i will get a TypeError, because iam are trying to assign a string value to a cell that contains a float value."
   ]
  },
  {
   "cell_type": "code",
   "execution_count": null,
   "id": "557bac98-3f10-4cd7-b2b0-78d3633df2ec",
   "metadata": {},
   "outputs": [],
   "source": [
    "Q6. What do you understand about the windows function in pandas and list the types of windows\n",
    "functions?"
   ]
  },
  {
   "cell_type": "markdown",
   "id": "fb87ca68-95d2-45ef-b348-06cd67893631",
   "metadata": {},
   "source": [
    "In pandas, a window function is a way of performing calculations on a subset of a DataFrame or Series defined by a sliding window. It allows us to compute the value for each element in the window based on the values of the neighboring elements within the window.\n",
    "\n",
    "Pandas provides several types of window functions that can be used for data analysis and feature engineering. These include:\n",
    "\n",
    "Rolling window functions: This type of window function is applied to a rolling window of a fixed size that slides over the data. Common examples of rolling window functions include the rolling sum, rolling mean, rolling max, and rolling min.\n",
    "\n",
    "Expanding window functions: This type of window function includes all the previous rows along with the current row. Examples of expanding window functions include the expanding sum, expanding mean, and expanding max.\n",
    "\n",
    "Exponentially-weighted window functions: This type of window function gives more weight to recent values in the window and less weight to older values. Examples of exponentially-weighted window functions include the exponentially-weighted mean and exponentially-weighted standard deviation.\n",
    "\n",
    "Cumulative window functions: This type of window function aggregates the values up to the current row. Examples of cumulative window functions include the cumsum and cumprod functions.\n",
    "\n",
    "Window functions are useful for time series data analysis, feature engineering, and exploratory data analysis. They allow us to easily calculate rolling or expanding statistics, detect trends and anomalies, and perform other types of data transformations."
   ]
  },
  {
   "cell_type": "code",
   "execution_count": null,
   "id": "1a6dc74d-9356-43f7-821b-c12f34e88b70",
   "metadata": {},
   "outputs": [],
   "source": [
    "Q7. Write a code to print only the current month and year at the time of answering this question.\n",
    "[Hint: Use pandas.datetime function]"
   ]
  },
  {
   "cell_type": "code",
   "execution_count": 80,
   "id": "9d955164-1a18-49be-aa38-ce224d288ae3",
   "metadata": {},
   "outputs": [],
   "source": [
    "import pandas as pd\n",
    "import datetime"
   ]
  },
  {
   "cell_type": "code",
   "execution_count": 82,
   "id": "1d00d2bb-c9a4-4b59-a2c0-8cf0fc54f085",
   "metadata": {},
   "outputs": [],
   "source": [
    "month_year = datetime.datetime.now()"
   ]
  },
  {
   "cell_type": "code",
   "execution_count": 90,
   "id": "fe0df589-2f95-4260-9968-c38c857d0e11",
   "metadata": {},
   "outputs": [],
   "source": [
    "current_month=month_year.strftime('%m')"
   ]
  },
  {
   "cell_type": "code",
   "execution_count": 87,
   "id": "c6bc6bfa-ec13-4288-a6ed-0c0ad332e4f7",
   "metadata": {},
   "outputs": [],
   "source": [
    "current_year=month_year.strftime('%Y')"
   ]
  },
  {
   "cell_type": "code",
   "execution_count": 100,
   "id": "8516c093-95c8-4e8f-ac15-94a510164a82",
   "metadata": {},
   "outputs": [],
   "source": [
    "time = datetime.datetime.now()\n",
    "current_time = time.strftime('%H:%M:%S')"
   ]
  },
  {
   "cell_type": "code",
   "execution_count": 101,
   "id": "3f4d9648-e9dd-4fd4-990f-8bbac3e227fc",
   "metadata": {},
   "outputs": [
    {
     "name": "stdout",
     "output_type": "stream",
     "text": [
      "The month is 03 and Year is 2023 and the time is 13:59:49 .\n"
     ]
    }
   ],
   "source": [
    "print(f'The month is {current_month} and Year is {current_year} and the time is {current_time} .')"
   ]
  },
  {
   "cell_type": "code",
   "execution_count": null,
   "id": "f10d1d71-4cb0-4758-bb0f-cb7dfde0c297",
   "metadata": {},
   "outputs": [],
   "source": [
    "Q8. Write a Python program that takes in two dates as input (in the format YYYY-MM-DD) and\n",
    "calculates the difference between them in days, hours, and minutes using Pandas time delta. The\n",
    "program should prompt the user to enter the dates and display the result.\n"
   ]
  },
  {
   "cell_type": "code",
   "execution_count": null,
   "id": "79b3eec2-f245-4e5a-abf9-68403c25101f",
   "metadata": {},
   "outputs": [],
   "source": [
    "import pandas as pd\n",
    "\n",
    "start_date = input(\"Enter start date (YYYY-MM-DD): \")\n",
    "end_date = input(\"Enter end date (YYYY-MM-DD): \")\n",
    "\n",
    "start_datetime = pd.to_datetime(start_date)\n",
    "end_datetime = pd.to_datetime(end_date)\n",
    "\n",
    "timedelta = end_datetime - start_datetime\n",
    "\n",
    "days = timedelta.days\n",
    "hours = timedelta.seconds // 3600\n",
    "minutes = (timedelta.seconds % 3600) // 60\n",
    "\n",
    "print(f\"The difference between {start_date} and {end_date} is:\")\n",
    "print(f\"{days} days, {hours} hours, and {minutes} minutes.\")\n"
   ]
  },
  {
   "cell_type": "code",
   "execution_count": null,
   "id": "86dba79f-3a64-4e0f-94d8-972ef249f591",
   "metadata": {},
   "outputs": [],
   "source": [
    "Q9. Write a Python program that reads a CSV file containing categorical data and converts a specified\n",
    "column to a categorical data type. The program should prompt the user to enter the file path, column\n",
    "name, and category order, and then display the sorted data."
   ]
  },
  {
   "cell_type": "code",
   "execution_count": null,
   "id": "90b06460-faa8-495f-abab-07c0bc8c50cc",
   "metadata": {},
   "outputs": [],
   "source": [
    "import pandas as pd\n",
    "\n",
    "file_path = input(\"Enter CSV file path: \")\n",
    "\n",
    "\n",
    "df = pd.read_csv(file_path)\n",
    "\n",
    "\n",
    "column_name = input(\"Enter column name: \")\n",
    "category_order = input(\"Enter category order (comma-separated list): \").split(\",\")\n",
    "\n",
    "\n",
    "df[column_name] = pd.Categorical(df[column_name], categories=category_order, ordered=True)\n",
    "\n",
    "\n",
    "df_sorted = df.sort_values(by=column_name)\n",
    "\n",
    "\n",
    "print(df_sorted)\n"
   ]
  },
  {
   "cell_type": "code",
   "execution_count": null,
   "id": "86e98d65-69ef-4196-a683-c8b2df3f0194",
   "metadata": {},
   "outputs": [],
   "source": [
    "Q10. Write a Python program that reads a CSV file containing sales data for different products and\n",
    "visualizes the data using a stacked bar chart to show the sales of each product category over time. The\n",
    "program should prompt the user to enter the file path and display the chart."
   ]
  },
  {
   "cell_type": "code",
   "execution_count": null,
   "id": "6454de17-c7dd-465b-bacf-c2e15b4f1e80",
   "metadata": {},
   "outputs": [],
   "source": [
    "import pandas as pd\n",
    "import matplotlib.pyplot as plt\n",
    "\n",
    "file_path = input(\"Enter CSV file path: \")\n",
    "\n",
    "df = pd.read_csv(file_path)\n",
    "\n",
    "df['Date'] = pd.to_datetime(df['Date'])\n",
    "\n",
    "\n",
    "grouped_data = df.groupby(['Date', 'Product Category'])['Sales'].sum().reset_index()\n",
    "\n",
    "pivoted_data = grouped_data.pivot(index='Date', columns='Product Category', values='Sales')\n",
    "\n",
    "\n",
    "pivoted_data.plot(kind='bar', stacked=True)\n",
    "\n",
    "plt.title('Sales by Product Category over Time')\n",
    "plt.xlabel('Date')\n",
    "plt.ylabel('Sales')\n",
    "\n",
    "plt.show()\n"
   ]
  },
  {
   "cell_type": "code",
   "execution_count": null,
   "id": "384c00ca-5005-45a3-90aa-0526b0fe0e98",
   "metadata": {},
   "outputs": [],
   "source": [
    "Q11. You are given a CSV file containing student data that includes the student ID and their test score. Write\n",
    "a Python program that reads the CSV file, calculates the mean, median, and mode of the test scores, and\n",
    "displays the results in a table.\n",
    "The program should do the followingM\n",
    "I Prompt the user to enter the file path of the CSV file containing the student dataR\n",
    "I Read the CSV file into a Pandas DataFrameR\n",
    "I Calculate the mean, median, and mode of the test scores using Pandas toolsR\n",
    "I Display the mean, median, and mode in a table.\n",
    "Assume the CSV file contains the following columnsM\n",
    "I Student ID: The ID of the studentR\n",
    "I Test Score: The score of the student's test.\n",
    "Example usage of the program:\n",
    "Enter the file path of the CSV file containing the student data: student_data.csv\n",
    "+-----------+--------+\n",
    "| Statistic | Value |\n",
    "+-----------+--------+\n",
    "| Mean | 79.6 |\n",
    "| Median | 82 |\n",
    "| Mode | 85, 90 |\n",
    "+-----------+--------+\n",
    "Assume that the CSV file student_data.csv contains the following data:\n",
    "Student ID,Test Score\n",
    "1,85\n",
    "2,90\n",
    "3,80\n",
    "4,75\n",
    "5,85\n",
    "6,82\n",
    "7,78\n",
    "8,85\n",
    "9,90\n",
    "10,85\n",
    "The program should calculate the mean, median, and mode of the test scores and display the results\n",
    "in a table."
   ]
  },
  {
   "cell_type": "code",
   "execution_count": null,
   "id": "048906c6-91a1-4a2a-84fa-aa4cfacfc203",
   "metadata": {},
   "outputs": [],
   "source": [
    "import pandas as pd\n",
    "\n",
    "csv_path = input(\"Enter the file path of the CSV file containing the student data: \")\n",
    "\n",
    "data = pd.read_csv(csv_path)\n",
    "\n",
    "mean = data[\"Test Score\"].mean()\n",
    "median = data[\"Test Score\"].median()\n",
    "mode = data[\"Test Score\"].mode()\n",
    "\n",
    "table_data = {\"Statistic\": [\"Mean\", \"Median\", \"Mode\"],\"Value\": [mean, median, \", \".join(str(x) for x in mode)]}\n",
    "table = pd.DataFrame(table_data)\n",
    "print(table)\n"
   ]
  }
 ],
 "metadata": {
  "kernelspec": {
   "display_name": "Python 3 (ipykernel)",
   "language": "python",
   "name": "python3"
  },
  "language_info": {
   "codemirror_mode": {
    "name": "ipython",
    "version": 3
   },
   "file_extension": ".py",
   "mimetype": "text/x-python",
   "name": "python",
   "nbconvert_exporter": "python",
   "pygments_lexer": "ipython3",
   "version": "3.10.8"
  }
 },
 "nbformat": 4,
 "nbformat_minor": 5
}
