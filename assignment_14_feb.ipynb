{
 "cells": [
  {
   "cell_type": "markdown",
   "id": "a7a3e766-7238-44aa-9e72-3e942a710551",
   "metadata": {},
   "source": [
    "## Assignment 14 feb"
   ]
  },
  {
   "cell_type": "code",
   "execution_count": null,
   "id": "3230d334-7df5-4575-b0b7-10150cfa19ba",
   "metadata": {},
   "outputs": [],
   "source": [
    "Q1. What is multithreading in python? why is it used? Name the module used to handle threads in python"
   ]
  },
  {
   "cell_type": "markdown",
   "id": "498d5cba-92b1-4ef0-89a1-de51fc0987a6",
   "metadata": {},
   "source": [
    "Multithreading in Python is a programming technique that allows a single program to have multiple threads of execution running concurrently. Each thread is an independent flow of execution that can run simultaneously with other threads in the same program.\n",
    "\n",
    "Multithreading is used to achieve concurrency in Python, which allows a program to perform multiple tasks simultaneously. This is particularly useful when a program needs to perform time-consuming operations such as I/O or network operations, where it can switch between threads while waiting for the operation to complete, rather than blocking the main thread of execution.\n",
    "\n",
    "The threading module is used to handle threads in Python. It provides a way to create, manage, and interact with threads in a Python program. The threading module allows you to create and start new threads, control the execution of threads, and communicate between threads using synchronization primitives such as locks, semaphores, and events."
   ]
  },
  {
   "cell_type": "code",
   "execution_count": null,
   "id": "f3dc422c-9285-4deb-819b-377c99a0e366",
   "metadata": {},
   "outputs": [],
   "source": [
    "Q2.Why threading module used? rite the use of the following functions\n",
    "1. activeCount\n",
    "2.currentThread\n",
    "3.enumerate"
   ]
  },
  {
   "cell_type": "markdown",
   "id": "9b509b76-3406-421f-9596-70b910b31354",
   "metadata": {},
   "source": [
    "The threading module in Python is used to create and manage threads of execution within a program. It provides several functions and classes to work with threads. "
   ]
  },
  {
   "cell_type": "markdown",
   "id": "ca4cf43e-e839-45aa-aecb-da1fb08feb39",
   "metadata": {},
   "source": [
    "1.activeCount(): This function returns the number of currently active threads in the program. It includes both daemon and non-daemon threads. The activeCount() function can be useful in debugging or monitoring the execution of a program.\n",
    "\n",
    "2.currentThread(): This function returns a reference to the current thread object. The current thread is the thread that is currently executing the code. This function can be useful when you need to access the properties or methods of the current thread.\n",
    "\n",
    "3.enumerate(): This function returns a list of all active Thread objects in the program. It includes both daemon and non-daemon threads. The list contains Thread objects in the order they were created. The enumerate() function can be useful when you need to iterate over all the active threads in the program and perform some action on each thread."
   ]
  },
  {
   "cell_type": "code",
   "execution_count": null,
   "id": "395985ea-0f01-474e-9614-ec6cc264aa78",
   "metadata": {},
   "outputs": [],
   "source": [
    "Q3. Explain the following functions\n",
    "  1.run\n",
    "  2.start\n",
    "  3.join\n",
    "  4.isAlive"
   ]
  },
  {
   "cell_type": "markdown",
   "id": "58edd64f-7868-437c-aa4f-549d382c7ff1",
   "metadata": {},
   "source": [
    "1.run(): The run() method is the entry point for a thread. When you create a new thread object, you pass a callable object (a function or a method) to its constructor. This callable object is called when the thread is started, and it is executed in the context of the new thread. The run() method contains the code that will be executed in the new thread.\n",
    "\n",
    "2.start(): The start() method is used to start a new thread of execution. It starts the thread's activity by calling the run() method. Once the thread is started, it runs concurrently with other threads in the program.\n",
    "\n",
    "3.join(): The join() method is used to wait for a thread to complete its execution. When you call the join() method on a thread, the calling thread will block until the target thread completes its execution. This is useful when you want to ensure that a thread has finished before continuing with the rest of the program.\n",
    "\n",
    "4.isAlive(): The isAlive() method is used to check if a thread is currently executing. When you call the isAlive() method on a thread, it returns True if the thread is currently executing, and False otherwise. This method can be useful when you need to check the status of a thread before performing some action on it."
   ]
  },
  {
   "cell_type": "code",
   "execution_count": null,
   "id": "062e35f6-87de-4e71-b0fb-c6a863521d8f",
   "metadata": {},
   "outputs": [],
   "source": [
    "Q4.write a python program to create two threads. Thread one must print the list of squares and thread\n",
    "two must print the list of cubes"
   ]
  },
  {
   "cell_type": "code",
   "execution_count": 1,
   "id": "94beeeb4-d20c-4cc0-8d2e-ebea16e3d0f0",
   "metadata": {},
   "outputs": [],
   "source": [
    "import threading"
   ]
  },
  {
   "cell_type": "code",
   "execution_count": 3,
   "id": "9547bf19-dddf-4362-bfb6-e8ed0003c51b",
   "metadata": {},
   "outputs": [
    {
     "name": "stdout",
     "output_type": "stream",
     "text": [
      " Square root of 1 is 1\n",
      " Square root of 2 is 4\n",
      " Square root of 3 is 9\n",
      " Square root of 4 is 16\n",
      " Square root of 5 is 25\n",
      " cube root of 1 is 1\n",
      " cube root of 2 is 8\n",
      " cube root of 3 is 27\n",
      " cube root of 4 is 64\n",
      " cube root of 5 is 125\n",
      "Done\n"
     ]
    }
   ],
   "source": [
    "def print_square():\n",
    "    for i in range(1,6):\n",
    "        print(f\" Square root of {i} is {i*i}\")\n",
    "    \n",
    "def print_cube():\n",
    "    for i in range(1,6):\n",
    "        print(f\" cube root of {i} is {i*i*i}\")\n",
    "        \n",
    "thread1 = threading.Thread(target=print_square)\n",
    "thread2 = threading.Thread(target=print_cube)\n",
    "\n",
    "thread1.start()\n",
    "thread2.start()\n",
    "\n",
    "\n",
    "\n",
    "thread1.join()\n",
    "thread2.join()\n",
    "\n",
    "print(\"Done\")"
   ]
  },
  {
   "cell_type": "code",
   "execution_count": null,
   "id": "a02a0e67-c0e1-40e3-b8d0-e0b399518617",
   "metadata": {},
   "outputs": [],
   "source": [
    "Q5.State advantages and disadvantages of multithreading"
   ]
  },
  {
   "cell_type": "markdown",
   "id": "6cdf8e3a-00a6-459c-88c4-8698dd375fd1",
   "metadata": {},
   "source": [
    "Advantages:\n",
    "\n",
    "Increased performance: Multithreading allows a program to perform multiple tasks simultaneously, which can improve the overall performance of the program.\n",
    "Better resource utilization: By utilizing multiple threads, a program can make better use of available resources such as CPU and memory.\n",
    "Improved responsiveness: Multithreading can make a program more responsive to user input by allowing it to perform non-blocking I/O operations in the background.\n",
    "Modular and organized code: Multithreading allows you to divide a large program into smaller, more manageable parts, each running concurrently in its own thread.\n",
    "\n",
    "\n",
    "Disadvantages:\n",
    "\n",
    "Increased complexity: Multithreaded programs can be more complex and harder to develop and debug compared to single-threaded programs.\n",
    "Synchronization issues: When multiple threads access shared resources such as variables or data structures, synchronization issues such as race conditions and deadlocks can occur.\n",
    "Resource contention: Multiple threads competing for the same resources can lead to resource contention, which can degrade the performance of the program.\n",
    "Overhead: Creating and managing threads can add overhead to the program, which can affect its performance."
   ]
  },
  {
   "cell_type": "code",
   "execution_count": null,
   "id": "dc71a80f-b29c-4382-94fc-1af8083938b5",
   "metadata": {},
   "outputs": [],
   "source": [
    "Q6. Explain deadlocks and race conditions."
   ]
  },
  {
   "cell_type": "markdown",
   "id": "4ccf3fb6-20ec-45af-b8b3-c2bd60500ffa",
   "metadata": {},
   "source": [
    "Deadlocks and race conditions are two common synchronization problems that can occur in multithreaded programs.\n",
    "\n",
    "A deadlock occurs when two or more threads are blocked and waiting for each other to release a resource that they need to proceed. In other words, each thread is holding a resource that the other thread needs, and neither thread can continue until it receives the resource that the other thread is holding. This can result in a situation where the program becomes unresponsive and cannot continue executing.\n",
    "\n",
    "For example, suppose Thread A is holding Resource X and waiting for Resource Y, while Thread B is holding Resource Y and waiting for Resource X. In this case, both threads will be blocked and waiting indefinitely for the other thread to release the resource that they need, resulting in a deadlock.\n",
    "\n",
    "A race condition occurs when two or more threads access a shared resource concurrently, and the final outcome depends on the timing and order of execution of the threads. In other words, the result of the operation depends on which thread finishes first, and this can lead to unpredictable and incorrect behavior.\n",
    "\n",
    "For example, suppose two threads are incrementing a shared variable, x, at the same time. If both threads read the current value of x, increment it, and write the new value back to x, the final value of x will be incorrect because both threads are incrementing from the same starting value. This is a race condition.\n",
    "\n",
    "To avoid deadlocks and race conditions, multithreaded programs need to use appropriate synchronization mechanisms such as locks, semaphores, and condition variables to ensure that threads can access shared resources safely and in a coordinated manner. Additionally, careful design and testing of the program can help identify and prevent these types of synchronization problems."
   ]
  },
  {
   "cell_type": "code",
   "execution_count": null,
   "id": "51a8fc3c-5471-49df-addb-8fe999b001e0",
   "metadata": {},
   "outputs": [],
   "source": []
  },
  {
   "cell_type": "code",
   "execution_count": null,
   "id": "8e469143-b9ec-4eb5-ab94-2e50e7927636",
   "metadata": {},
   "outputs": [],
   "source": []
  }
 ],
 "metadata": {
  "kernelspec": {
   "display_name": "Python 3 (ipykernel)",
   "language": "python",
   "name": "python3"
  },
  "language_info": {
   "codemirror_mode": {
    "name": "ipython",
    "version": 3
   },
   "file_extension": ".py",
   "mimetype": "text/x-python",
   "name": "python",
   "nbconvert_exporter": "python",
   "pygments_lexer": "ipython3",
   "version": "3.10.8"
  }
 },
 "nbformat": 4,
 "nbformat_minor": 5
}
