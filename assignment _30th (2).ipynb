{
 "cells": [
  {
   "cell_type": "markdown",
   "id": "0b8dfd0d-f589-448d-a6d6-ee744d5834ed",
   "metadata": {},
   "source": [
    "# Assignment 2:"
   ]
  },
  {
   "cell_type": "markdown",
   "id": "8bc60989-1556-4250-a20f-c05fbf01ab90",
   "metadata": {},
   "source": [
    "### 1. Write a program to accept percentage from the user and display the grade according to the following criteria:"
   ]
  },
  {
   "cell_type": "code",
   "execution_count": null,
   "id": "0420e563-cd46-44ad-9a8f-6f7c7e5ab44b",
   "metadata": {},
   "outputs": [
    {
     "name": "stdin",
     "output_type": "stream",
     "text": [
      "Enter the percentage 56\n"
     ]
    },
    {
     "name": "stdout",
     "output_type": "stream",
     "text": [
      "The user scored less than 60 and he scored grade : D\n"
     ]
    }
   ],
   "source": [
    "percentage = int(input(\"Enter the percentage\"))\n",
    "\n",
    "if percentage>90:\n",
    "    print(\"The user scored grade: A \")\n",
    "elif percentage>80 and percentage <=90:\n",
    "    print(\"The user scored grade : B\")\n",
    "elif percentage>= 60 and percentage <= 80:\n",
    "    print(\"The user scored grade : C\")\n",
    "else:\n",
    "        if percentage<60:\n",
    "            print(\"The user scored less than 60 and he scored grade : D\")\n",
    "        \n",
    "    "
   ]
  },
  {
   "cell_type": "code",
   "execution_count": null,
   "id": "0eff7f91-6a89-4c90-838b-5fe0d4283897",
   "metadata": {},
   "outputs": [],
   "source": []
  },
  {
   "cell_type": "markdown",
   "id": "3682060e-67ef-4702-8b12-c4ab7b59a46c",
   "metadata": {},
   "source": [
    "### 2. Write a program to accept the cost price of a bike and display the road tax to be paid according to the following criteria:"
   ]
  },
  {
   "cell_type": "code",
   "execution_count": 8,
   "id": "79561a0b-d22d-4dfb-8204-0e9db4da3e24",
   "metadata": {},
   "outputs": [
    {
     "name": "stdin",
     "output_type": "stream",
     "text": [
      "Enter the cost 44000\n"
     ]
    },
    {
     "name": "stdout",
     "output_type": "stream",
     "text": [
      "The road tax to be paid is 22000.0 \n"
     ]
    }
   ],
   "source": [
    "cost_of_bike = int(input(\"Enter the cost\"))\n",
    "\n",
    "if cost_of_bike>100000:\n",
    "    print(f\"The road tax to be paid is {cost_of_bike*0.15} \")\n",
    "elif cost_of_bike>50000 and cost_of_bike<=100000:\n",
    "    print(f\"The road tax to be paid is {cost_of_bike*0.10} \")\n",
    "else:\n",
    "    if cost_of_bike<=50000:\n",
    "        print(f\"The road tax to be paid is {cost_of_bike*0.5} \")\n"
   ]
  },
  {
   "cell_type": "code",
   "execution_count": null,
   "id": "125283e2-61ad-48d7-a769-177279546643",
   "metadata": {},
   "outputs": [],
   "source": []
  },
  {
   "cell_type": "markdown",
   "id": "8053b536-1757-4222-8a4d-fea1001686f7",
   "metadata": {},
   "source": [
    "### 3. Accept any city from the user and display monuments of that city."
   ]
  },
  {
   "cell_type": "code",
   "execution_count": 2,
   "id": "1b7b2d4d-ee1b-4ac2-aba5-31a000097bc6",
   "metadata": {},
   "outputs": [
    {
     "name": "stdin",
     "output_type": "stream",
     "text": [
      "Enter the city name delhi\n"
     ]
    },
    {
     "name": "stdout",
     "output_type": "stream",
     "text": [
      " Red fort\n"
     ]
    }
   ],
   "source": [
    "city = input(\"Enter the city name\")\n",
    "\n",
    "if city.upper() == \"DELHI\":\n",
    "    print(\" Red fort\")\n",
    "elif city.upper() == \"AGRA\":\n",
    "    print(\"Taj Mahal \")\n",
    "elif city.upper() == \"JAIPUR\":\n",
    "    print(\"jai Mahal\")"
   ]
  },
  {
   "cell_type": "code",
   "execution_count": null,
   "id": "df9e7eb7-654d-48b4-a6d8-160f427d8472",
   "metadata": {},
   "outputs": [],
   "source": []
  },
  {
   "cell_type": "markdown",
   "id": "058eb9a9-6791-4db6-acab-bc1694065124",
   "metadata": {},
   "source": [
    "### 4. Check how many times a given number can be divided by 3 before it is less than or equal to 10."
   ]
  },
  {
   "cell_type": "code",
   "execution_count": 19,
   "id": "95fa8b5e-e846-441b-a86d-d73f172d8e7f",
   "metadata": {},
   "outputs": [
    {
     "name": "stdin",
     "output_type": "stream",
     "text": [
      "Enter the number 9\n"
     ]
    },
    {
     "name": "stdout",
     "output_type": "stream",
     "text": [
      "9 can be divided by 3 :  2 times\n"
     ]
    }
   ],
   "source": [
    "\n",
    "count = 0\n",
    "num = int(input(\"Enter the number\"))\n",
    "\n",
    "if num <10 or n==10:\n",
    "    while num % 3 == 0:\n",
    "        count += 1\n",
    "        num = num / 3\n",
    "\n",
    "print(\"9 can be divided by 3 : \", count, \"times\")\n"
   ]
  },
  {
   "cell_type": "code",
   "execution_count": null,
   "id": "a9595b20-e9c8-4904-9bd9-a8c6d23e70ad",
   "metadata": {},
   "outputs": [],
   "source": []
  },
  {
   "cell_type": "markdown",
   "id": "2ace0052-cdd2-48ad-a036-25ed7b0a370b",
   "metadata": {},
   "source": [
    "### 5. Why and When to Use while Loop in Python give a detailed description with example"
   ]
  },
  {
   "cell_type": "raw",
   "id": "961af7ca-8b2b-48e2-927d-a36a5c1523af",
   "metadata": {},
   "source": [
    "Ans: While loop is an controlflow statement and it is used to run an block code untill the conditon is true and \n",
    "it is used when  \n",
    " The number of iteration is unknown.\n",
    " When you want to keep looping until a certain condition is True.\n",
    " When you want to loop through a list of items\n",
    "\n",
    "syntax:\n",
    "    while condition:\n",
    "       # code to be executed\n",
    "       \n",
    "Example:\n",
    "   age = 25\n",
    "   while age<=35:\n",
    "   age=age+1\n",
    "   print(age)"
   ]
  },
  {
   "cell_type": "code",
   "execution_count": 26,
   "id": "98770fa5-7b88-4064-8449-e5f37533d602",
   "metadata": {},
   "outputs": [
    {
     "name": "stdout",
     "output_type": "stream",
     "text": [
      "25\n",
      "26\n",
      "27\n",
      "28\n",
      "29\n",
      "30\n"
     ]
    }
   ],
   "source": [
    "age = 25\n",
    "while age<=30:\n",
    "    print(age)\n",
    "    age=age+1\n",
    "   "
   ]
  },
  {
   "cell_type": "code",
   "execution_count": null,
   "id": "02844bd5-054a-44e2-8a40-111f0ab58146",
   "metadata": {},
   "outputs": [],
   "source": []
  },
  {
   "cell_type": "markdown",
   "id": "732aec8a-f675-4b85-aa32-db3352f8b9fb",
   "metadata": {},
   "source": [
    "### 6.Use nested while loop to print 3 different pattern."
   ]
  },
  {
   "cell_type": "code",
   "execution_count": 4,
   "id": "d526bce4-3429-4a20-9c93-82cdb6a37cda",
   "metadata": {},
   "outputs": [
    {
     "name": "stdout",
     "output_type": "stream",
     "text": [
      "* \n",
      "* * \n",
      "* * * \n",
      "* * * * \n",
      "* * * * * \n"
     ]
    }
   ],
   "source": [
    "\n",
    "# First pattern:\n",
    "i = 1\n",
    "while i <= 5:\n",
    "    j = 1\n",
    "    while j <= i:\n",
    "        print(\"*\", end=\" \")\n",
    "        j += 1\n",
    "    print(\"\")\n",
    "    i += 1\n",
    "\n"
   ]
  },
  {
   "cell_type": "code",
   "execution_count": 3,
   "id": "11d96d12-419b-4e64-9ac2-59eeca011909",
   "metadata": {},
   "outputs": [
    {
     "name": "stdout",
     "output_type": "stream",
     "text": [
      "* * * * * \n",
      "* * * * \n",
      "* * * \n",
      "* * \n",
      "* \n"
     ]
    }
   ],
   "source": [
    "\n",
    "# Second pattern:\n",
    "i = 5\n",
    "while i >= 1:\n",
    "    j = 1\n",
    "    while j <= i:\n",
    "        print(\"*\", end=\" \")\n",
    "        j += 1\n",
    "    print(\"\")\n",
    "    i -= 1\n",
    "\n"
   ]
  },
  {
   "cell_type": "code",
   "execution_count": 2,
   "id": "aa9b85f6-aa0e-4a17-8f53-3572ed2ee1d5",
   "metadata": {},
   "outputs": [
    {
     "name": "stdout",
     "output_type": "stream",
     "text": [
      "* * * * * \n",
      " * * * * \n",
      "  * * * \n",
      "   * * \n",
      "    * \n"
     ]
    }
   ],
   "source": [
    "# Third pattern:\n",
    "i = 5\n",
    "while i >= 1:\n",
    "    spaces = 1\n",
    "    while spaces <= 5-i:\n",
    "        print(\" \", end=\"\")\n",
    "        spaces += 1\n",
    "    stars = 1\n",
    "    while stars <= i:\n",
    "        print(\"*\", end=\" \")\n",
    "        stars += 1\n",
    "    print(\"\")\n",
    "    i -= 1"
   ]
  },
  {
   "cell_type": "code",
   "execution_count": null,
   "id": "cf405368-5d04-4cdc-809d-b07995d2661b",
   "metadata": {},
   "outputs": [],
   "source": []
  },
  {
   "cell_type": "markdown",
   "id": "87757dd1-29b6-45ca-a084-57ff78a18dd4",
   "metadata": {},
   "source": [
    "### 7. Reverse a while loop to display numbers from 10 to 1"
   ]
  },
  {
   "cell_type": "code",
   "execution_count": null,
   "id": "d01f585b-4a51-4be6-a613-73f7be02a274",
   "metadata": {},
   "outputs": [
    {
     "name": "stdout",
     "output_type": "stream",
     "text": [
      "10\n",
      "9\n",
      "8\n",
      "7\n",
      "6\n",
      "5\n",
      "4\n",
      "3\n",
      "2\n",
      "1\n"
     ]
    }
   ],
   "source": [
    "i=10\n",
    "while i>=1:\n",
    "    print(i)\n",
    "    i=i-1"
   ]
  },
  {
   "cell_type": "code",
   "execution_count": null,
   "id": "7f23532e-7f5e-401c-abfa-c12f97925741",
   "metadata": {},
   "outputs": [],
   "source": []
  },
  {
   "cell_type": "markdown",
   "id": "1319d05b-d503-4963-b53e-4a6b7b1a101f",
   "metadata": {},
   "source": [
    "### 8. Reverse a while loop to display numbers from 10 to 1"
   ]
  },
  {
   "cell_type": "code",
   "execution_count": null,
   "id": "b3cc76c3",
   "metadata": {},
   "outputs": [
    {
     "name": "stdout",
     "output_type": "stream",
     "text": [
      "10\n",
      "9\n",
      "8\n",
      "7\n",
      "6\n",
      "5\n",
      "4\n",
      "3\n",
      "2\n",
      "1\n"
     ]
    }
   ],
   "source": [
    "i=10\n",
    "while i>=1:\n",
    "    print(i)\n",
    "    i=i-1"
   ]
  },
  {
   "cell_type": "code",
   "execution_count": null,
   "id": "1ec02f33-f62b-42ca-8407-38b4eb5219c9",
   "metadata": {},
   "outputs": [],
   "source": []
  }
 ],
 "metadata": {
  "kernelspec": {
   "display_name": "Python 3 (ipykernel)",
   "language": "python",
   "name": "python3"
  },
  "language_info": {
   "codemirror_mode": {
    "name": "ipython",
    "version": 3
   },
   "file_extension": ".py",
   "mimetype": "text/x-python",
   "name": "python",
   "nbconvert_exporter": "python",
   "pygments_lexer": "ipython3",
   "version": "3.10.8"
  }
 },
 "nbformat": 4,
 "nbformat_minor": 5
}
