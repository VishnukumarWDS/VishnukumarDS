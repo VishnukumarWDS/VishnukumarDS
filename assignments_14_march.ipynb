{
 "cells": [
  {
   "cell_type": "code",
   "execution_count": null,
   "id": "e67222ef-6869-44c9-ba3d-4d1379a6de6d",
   "metadata": {},
   "outputs": [],
   "source": [
    "Q1. Write a Python function that takes in two arrays of data and calculates the F-value for a variance ratio\n",
    "test. The function should return the F-value and the corresponding p-value for the test.\n"
   ]
  },
  {
   "cell_type": "code",
   "execution_count": null,
   "id": "9e8eeda0-29cc-44bf-bac8-f075b5ff351d",
   "metadata": {},
   "outputs": [],
   "source": [
    "Here's a Python function that takes in two arrays of data and calculates the F-value for a variance ratio test. The function uses the formula F = s1^2/s2^2, where s1^2 is the sample variance of the first array and s2^2 is the sample variance of the second array. The function then calculates the p-value using the F-distribution with degrees of freedom n1-1 and n2-1, where n1 and n2 are the lengths of the two arrays."
   ]
  },
  {
   "cell_type": "code",
   "execution_count": null,
   "id": "2c622382-e6cb-4deb-aba5-1da784b66fea",
   "metadata": {},
   "outputs": [],
   "source": [
    "import numpy as np\n",
    "from scipy.stats import f\n",
    "\n",
    "def variance_ratio_test(arr1, arr2):\n",
    "    n1 = len(arr1)\n",
    "    n2 = len(arr2)\n",
    "    s1_sq = np.var(arr1, ddof=1)\n",
    "    s2_sq = np.var(arr2, ddof=1)\n",
    "    F = s1_sq / s2_sq\n",
    "    p_value = f.cdf(F, n1-1, n2-1)\n",
    "    p_value = min(p_value, 1-p_value) * 2  # two-tailed test\n",
    "    return F, p_value\n"
   ]
  },
  {
   "cell_type": "code",
   "execution_count": null,
   "id": "9a288f50-ea4b-4107-8033-095f73558055",
   "metadata": {},
   "outputs": [],
   "source": [
    "Q2. Given a significance level of 0.05 and the degrees of freedom for the numerator and denominator of an\n",
    "F-distribution, write a Python function that returns the critical F-value for a two-tailed test.\n"
   ]
  },
  {
   "cell_type": "code",
   "execution_count": null,
   "id": "5880f82b-98a7-4aa2-bb86-fe2c66f17539",
   "metadata": {},
   "outputs": [],
   "source": [
    "from scipy.stats import f\n",
    "\n",
    "def critical_f_value(alpha, dfn, dfd):\n",
    "    return f.ppf(alpha/2, dfn, dfd), f.ppf(1-alpha/2, dfn, dfd)\n"
   ]
  },
  {
   "cell_type": "code",
   "execution_count": null,
   "id": "c09ed593-1383-4c13-b7d2-49329bf6fbd7",
   "metadata": {},
   "outputs": [],
   "source": [
    "Q3. Write a Python program that generates random samples from two normal distributions with known variances and uses an F-test to determine if the variances are equal. The program should output the F-\n",
    "value, degrees of freedom, and p-value for the test."
   ]
  },
  {
   "cell_type": "code",
   "execution_count": null,
   "id": "9faacb56-444f-4b25-880d-6e96ee7c421b",
   "metadata": {},
   "outputs": [],
   "source": [
    "import numpy as np\n",
    "from scipy.stats import f\n",
    "\n",
    "def variance_ratio_test(arr1, arr2):\n",
    "    n1 = len(arr1)\n",
    "    n2 = len(arr2)\n",
    "    s1_sq = np.var(arr1, ddof=1)\n",
    "    s2_sq = np.var(arr2, ddof=1)\n",
    "    F = s1_sq / s2_sq\n",
    "    p_value = f.cdf(F, n1-1, n2-1)\n",
    "    p_value = min(p_value, 1-p_value) * 2  # two-tailed test\n",
    "    return F, p_value\n",
    "\n",
    "np.random.seed(12345)  # for reproducibility\n",
    "\n",
    "# Generate two arrays of random numbers from normal distributions with known variances\n",
    "arr1 = np.random.normal(loc=0, scale=1, size=50)\n",
    "arr2 = np.random.normal(loc=0, scale=1.5, size=60)\n",
    "\n",
    "# Calculate the F-value and p\n"
   ]
  },
  {
   "cell_type": "code",
   "execution_count": null,
   "id": "db30d4d9-f229-4208-a41e-ee90e8f97001",
   "metadata": {},
   "outputs": [],
   "source": [
    "Q4.The variances of two populations are known to be 10 and 15. A sample of 12 observations is taken from\n",
    "each population. Conduct an F-test at the 5% significance level to determine if the variances are\n",
    "significantly different.\n"
   ]
  },
  {
   "cell_type": "code",
   "execution_count": null,
   "id": "1eaccc60-c1dc-494f-a703-19f8c6f7f68a",
   "metadata": {},
   "outputs": [],
   "source": [
    "The null hypothesis for the F-test is that the variances are equal, and the alternative hypothesis is that they are not equal. The F-test statistic is calculated as F = s1^2 / s2^2, where s1^2 and s2^2 are the sample variances of the two populations. Under the null hypothesis, the F-test statistic follows an F-distribution with degrees of freedom (df1 = n1 - 1) and (df2 = n2 - 1).\n",
    "\n",
    "Since we know the variances of the two populations, we can calculate the F-test statistic directly as F = 10 / 15 = 0.67. Using an F-distribution table or a calculator, we find that the critical F-value at the 5% significance level with df1=11 and df2=11 is 3.11 (for a two-tailed test).\n",
    "\n",
    "Since the calculated F-value (0.67) is smaller than the critical F-value (3.11), we fail to reject the null hypothesis and conclude that there is not enough evidence to suggest that the variances are significantly different."
   ]
  },
  {
   "cell_type": "code",
   "execution_count": null,
   "id": "8a86f9ec-e591-407a-a86a-99fb0c781279",
   "metadata": {},
   "outputs": [],
   "source": [
    "Q5. A manufacturer claims that the variance of the diameter of a certain product is 0.005. A sample of 25\n",
    "products is taken, and the sample variance is found to be 0.006. Conduct an F-test at the 1% significance\n",
    "level to determine if the claim is justified.\n"
   ]
  },
  {
   "cell_type": "code",
   "execution_count": null,
   "id": "933f0d47-3ab2-4cd5-9af0-6460daae5ab8",
   "metadata": {},
   "outputs": [],
   "source": [
    "The null hypothesis for the F-test is that the population variance is equal to 0.005, and the alternative hypothesis is that it is greater than 0.005. The F-test statistic is calculated as F = s^2 / sigma^2, where s^2 is the sample variance and sigma^2 is the population variance. Under the null hypothesis, the F-test statistic follows an F-distribution with degrees of freedom (df1 = n - 1) and (df2 = infinity).\n",
    "\n",
    "The critical F-value for a one-tailed test at the 1% significance level with df1=24 and df2=infinity is 4.025 (calculated using a calculator or a table). The calculated F-value is F = 0.006 / 0.005 = 1.2.\n",
    "\n",
    "Since the calculated F-value (1.2) is smaller than the critical F-value (4.025), we fail to reject the null hypothesis and conclude that there is not enough evidence to suggest that the population variance is significantly greater than 0.005."
   ]
  },
  {
   "cell_type": "code",
   "execution_count": null,
   "id": "90d44d0c-273e-43b3-824f-918960621e5e",
   "metadata": {},
   "outputs": [],
   "source": [
    "Q6. Write a Python function that takes in the degrees of freedom for the numerator and denominator of an\n",
    "F-distribution and calculates the mean and variance of the distribution. The function should return the\n",
    "mean and variance as a tuple.\n"
   ]
  },
  {
   "cell_type": "code",
   "execution_count": null,
   "id": "404c2cc0-2c12-4d0e-859a-8446221f1741",
   "metadata": {},
   "outputs": [],
   "source": [
    "def f_distribution_stats(df1, df2):\n",
    "    mean = df2 / (df2 - 2)\n",
    "    variance = (2 * df2**2 * (df1 + df2 - 2)) / (df1 * (df2 - 2)**2 * (df2 - 4))\n",
    "    return mean, variance\n"
   ]
  },
  {
   "cell_type": "code",
   "execution_count": null,
   "id": "27c7f933-5718-4133-98ed-fbaaac7f19d2",
   "metadata": {},
   "outputs": [],
   "source": [
    "Q7. A random sample of 10 measurements is taken from a normal population with unknown variance. The\n",
    "sample variance is found to be 25. Another random sample of 15 measurements is taken from another\n",
    "normal population with unknown variance, and the sample variance is found to be 20. Conduct an F-test\n",
    "at the 10% significance level to determine if the variances are significantly different."
   ]
  },
  {
   "cell_type": "code",
   "execution_count": null,
   "id": "6cc38111-a7f4-41a5-8b18-41938c02fb47",
   "metadata": {},
   "outputs": [],
   "source": [
    " The null hypothesis for the F-test is that the variances are equal, and the alternative hypothesis is that they are not equal. The F-test statistic is calculated as F = s1^2 / s2^2, where s1^2 and s2^2 are the sample variances of the two populations. Under the null hypothesis, the F-test statistic follows an F-distribution with degrees of freedom (df1 = n1 - 1) and (df2 = n2 - 1).\n",
    "\n",
    "The critical F-value for a two-tailed test at the 10% significance level with df1=9 and df2=14 is 2.492"
   ]
  },
  {
   "cell_type": "code",
   "execution_count": null,
   "id": "dcbca2dc-fba0-446f-bc0d-64433d17130c",
   "metadata": {},
   "outputs": [],
   "source": [
    "Q8. The following data represent the waiting times in minutes at two different restaurants on a Saturday\n",
    "night: Restaurant A: 24, 25, 28, 23, 22, 20, 27; Restaurant B: 31, 33, 35, 30, 32, 36. Conduct an F-test at the 5%\n",
    "significance level to determine if the variances are significantly different.\n"
   ]
  },
  {
   "cell_type": "code",
   "execution_count": 1,
   "id": "03aa9514-69ca-4296-ab99-f515131f7cb4",
   "metadata": {},
   "outputs": [
    {
     "name": "stdout",
     "output_type": "stream",
     "text": [
      "Sample variance of Restaurant A:  7.80952380952381\n",
      "Sample variance of Restaurant B:  5.366666666666667\n"
     ]
    }
   ],
   "source": [
    "import numpy as np\n",
    "\n",
    "a = np.array([24, 25, 28, 23, 22, 20, 27])\n",
    "b = np.array([31, 33, 35, 30, 32, 36])\n",
    "\n",
    "var_a = np.var(a, ddof=1)\n",
    "var_b = np.var(b, ddof=1)\n",
    "\n",
    "print(\"Sample variance of Restaurant A: \", var_a)\n",
    "print(\"Sample variance of Restaurant B: \", var_b)\n"
   ]
  },
  {
   "cell_type": "code",
   "execution_count": null,
   "id": "d54e7540-5855-480b-b0a5-2733e7baa1dd",
   "metadata": {},
   "outputs": [],
   "source": [
    "F = var_a/var_b\n",
    "df1 = len(a) - 1\n",
    "df2 = len(b) - 1\n",
    "p_value = 1 - stats.f.cdf(F, df1, df2)\n",
    "\n",
    "print(\"F-value: \", F)\n",
    "print(\"Degrees of freedom: \", df1, \",\", df2)\n",
    "print(\"p-value: \", p_value)\n"
   ]
  },
  {
   "cell_type": "code",
   "execution_count": null,
   "id": "342b37e7-16ac-4f82-acaf-55e37678e99f",
   "metadata": {},
   "outputs": [],
   "source": [
    "Q9. The following data represent the test scores of two groups of students: Group A: 80, 85, 90, 92, 87, 83;\n",
    "Group B: 75, 78, 82, 79, 81, 84. Conduct an F-test at the 1% significance level to determine if the variances\n",
    "are significantly different."
   ]
  },
  {
   "cell_type": "code",
   "execution_count": null,
   "id": "00704705-330c-49e9-826a-673503134d82",
   "metadata": {},
   "outputs": [],
   "source": [
    "a = np.array([80, 85, 90, 92, 87, 83])\n",
    "b = np.array([75, 78, 82, 79, 81, 84])\n",
    "\n",
    "var_a = np.var(a, ddof=1)\n",
    "var_b = np.var(b, ddof=1)\n",
    "\n",
    "print(\"Sample variance of Group A: \", var_a)\n",
    "print(\"Sample variance of Group B: \", var_b)\n"
   ]
  },
  {
   "cell_type": "code",
   "execution_count": null,
   "id": "0de3a7fb-4f81-4780-af2e-ab34fb0c5f79",
   "metadata": {},
   "outputs": [],
   "source": [
    "F = var_a/var_b\n",
    "df1 = len(a) - 1\n",
    "df2 = len(b) - 1\n",
    "p_value = 1 - stats.f.cdf(F, df1, df2)\n",
    "\n",
    "print(\"F-value: \", F)\n",
    "print(\"Degrees of freedom: \", df1, \",\", df2)\n",
    "print(\"p-value: \", p_value)\n"
   ]
  }
 ],
 "metadata": {
  "kernelspec": {
   "display_name": "Python 3 (ipykernel)",
   "language": "python",
   "name": "python3"
  },
  "language_info": {
   "codemirror_mode": {
    "name": "ipython",
    "version": 3
   },
   "file_extension": ".py",
   "mimetype": "text/x-python",
   "name": "python",
   "nbconvert_exporter": "python",
   "pygments_lexer": "ipython3",
   "version": "3.10.8"
  }
 },
 "nbformat": 4,
 "nbformat_minor": 5
}
